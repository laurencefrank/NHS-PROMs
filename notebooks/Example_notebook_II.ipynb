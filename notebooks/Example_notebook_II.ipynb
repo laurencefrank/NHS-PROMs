{
 "cells": [
  {
   "cell_type": "markdown",
   "metadata": {},
   "source": [
    "# Get started with your EDA"
   ]
  },
  {
   "cell_type": "markdown",
   "metadata": {},
   "source": [
    "## imports"
   ]
  },
  {
   "cell_type": "code",
   "execution_count": null,
   "metadata": {},
   "outputs": [],
   "source": [
    "import pandas as pd\n",
    "import warnings\n",
    "import re\n",
    "\n",
    "from utils.load_data import load_proms, downcast, structure_name, get_meta, clean_data\n",
    "from utils.data_dictionary import methods, comorbidities"
   ]
  },
  {
   "cell_type": "markdown",
   "metadata": {},
   "source": [
    "## load data\n",
    "General approach is not DRY for the sake of availability of having knee and hip df's always at hand, but also keep it readable (script-wise)."
   ]
  },
  {
   "cell_type": "code",
   "execution_count": null,
   "metadata": {},
   "outputs": [],
   "source": [
    "# load data + rename columns with structired name\n",
    "df_knee_raw=load_proms(part=\"knee\").rename(structure_name, axis=1)\n",
    "df_hip_raw=load_proms(part=\"hip\").rename(structure_name, axis=1)\n",
    "\n",
    "# get df with meta data for each\n",
    "df_knee_meta = get_meta(df_knee_raw.columns)\n",
    "df_hip_meta = get_meta(df_hip_raw.columns)  "
   ]
  },
  {
   "cell_type": "markdown",
   "metadata": {},
   "source": [
    "## basic cleaning"
   ]
  },
  {
   "cell_type": "code",
   "execution_count": null,
   "metadata": {},
   "outputs": [],
   "source": [
    "%%time\n",
    "# clean the data based on meta (all not in range, labels or label \"missing\")\n",
    "# + remove revision rows\n",
    "df_knee_clean = clean_data(df_knee_raw, df_knee_meta)\\\n",
    "                .query(\"t0_revision_flag == 0\")\\\n",
    "                .drop(columns=[\"t0_revision_flag\"])\\\n",
    "                .apply(downcast)\n",
    "df_hip_clean = clean_data(df_hip_raw, df_hip_meta)\\\n",
    "                .query(\"t0_revision_flag == 0\")\\\n",
    "                .drop(columns=[\"t0_revision_flag\"])\\\n",
    "                .apply(downcast)\n",
    "\n",
    "# fill comorbidities mising with 0's as requested\n",
    "cm_cols = [\"t0_\" + cm for cm in comorbidities]\n",
    "df_knee_clean[cm_cols] = df_knee_clean[cm_cols].fillna(0)\n",
    "df_hip_clean[cm_cols] = df_hip_clean[cm_cols].fillna(0)\n",
    "\n",
    "# split train + test set\n",
    "df_knee_train = df_knee_clean.query(\"t0_year != '2019/20'\")\n",
    "df_knee_test = df_knee_clean.query(\"t0_year == '2019/20'\")\n",
    "\n",
    "df_hip_train = df_hip_clean.query(\"t0_year != '2019/20'\")\n",
    "df_hip_test = df_hip_clean.query(\"t0_year == '2019/20'\")"
   ]
  },
  {
   "cell_type": "markdown",
   "metadata": {},
   "source": [
    "## create delta dataframes"
   ]
  },
  {
   "cell_type": "code",
   "execution_count": null,
   "metadata": {},
   "outputs": [],
   "source": [
    "def method_delta(df):\n",
    "    # create MultiIndex\n",
    "    df = df.copy().sort_index(axis=1)\n",
    "    df.columns = pd.MultiIndex.from_frame(\n",
    "        df.columns.str.extract(fr\"^(t[01])_({'|'.join(methods.keys())})?_?(.*)$\"),\n",
    "        names=[\"available\", \"method\", \"feature\"],\n",
    "    )\n",
    "    # select only methods dim and scores + get delta (t1 - t0)\n",
    "    df = df.loc[\n",
    "        :, [(m == m) & (f not in [\"profile\", \"predicted\"]) for t, m, f in df.columns]\n",
    "    ]\n",
    "    df_delta = (df[\"t1\"] - df[\"t0\"])\n",
    "\n",
    "    df_delta.columns = [\"delta_\" + \"_\".join(col) for col in df_delta.columns]\n",
    "    return df_delta\n",
    "\n",
    "df_knee_delta = method_delta(df_knee_train)\n",
    "df_hip_delta = method_delta(df_hip_train)\n",
    "\n",
    "# now you could join them again with the original df ...\n",
    "# eg: df_hip_train.join(df_hip_delta)"
   ]
  },
  {
   "cell_type": "code",
   "execution_count": null,
   "metadata": {},
   "outputs": [],
   "source": []
  }
 ],
 "metadata": {
  "hide_input": false,
  "kernelspec": {
   "display_name": "jads",
   "language": "python",
   "name": "jads"
  },
  "language_info": {
   "codemirror_mode": {
    "name": "ipython",
    "version": 3
   },
   "file_extension": ".py",
   "mimetype": "text/x-python",
   "name": "python",
   "nbconvert_exporter": "python",
   "pygments_lexer": "ipython3",
   "version": "3.8.6"
  },
  "toc": {
   "base_numbering": 1,
   "nav_menu": {},
   "number_sections": true,
   "sideBar": true,
   "skip_h1_title": false,
   "title_cell": "Table of Contents",
   "title_sidebar": "Contents",
   "toc_cell": false,
   "toc_position": {},
   "toc_section_display": true,
   "toc_window_display": false
  }
 },
 "nbformat": 4,
 "nbformat_minor": 4
}
