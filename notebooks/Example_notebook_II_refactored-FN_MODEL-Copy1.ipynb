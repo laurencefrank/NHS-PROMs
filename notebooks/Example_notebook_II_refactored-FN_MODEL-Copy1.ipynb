{
 "cells": [
  {
   "cell_type": "markdown",
   "metadata": {},
   "source": [
    "# Refactored notebook for modelling"
   ]
  },
  {
   "cell_type": "markdown",
   "metadata": {},
   "source": [
    "## imports"
   ]
  },
  {
   "cell_type": "code",
   "execution_count": 1,
   "metadata": {},
   "outputs": [],
   "source": [
    "import sys\n",
    "\n",
    "sys.path.append(\"..\")\n",
    "\n",
    "import numpy as np\n",
    "import pandas as pd\n",
    "import warnings\n",
    "import re\n",
    "\n",
    "from NHS_PROMs.load_data import load_proms, structure_name\n",
    "from NHS_PROMs.preprocess import filter_in_range, filter_in_labels, method_delta\n",
    "from NHS_PROMs.utils import downcast, map_labels\n",
    "from NHS_PROMs.data_dictionary import meta_dict\n",
    "\n",
    "from sklearn.model_selection import train_test_split\n",
    "from sklearn.compose import make_column_selector\n",
    "from sklearn.pipeline import Pipeline, make_pipeline\n",
    "from sklearn.compose import ColumnTransformer, make_column_transformer, make_column_selector\n",
    "from sklearn.preprocessing import OneHotEncoder, StandardScaler\n",
    "from sklearn.neighbors import KNeighborsClassifier\n",
    "from sklearn.metrics import classification_report\n",
    "from sklearn.inspection import permutation_importance\n",
    "from sklearn import set_config\n",
    "set_config(display='diagram')\n",
    "\n",
    "from imblearn.over_sampling import SMOTENC\n",
    "import matplotlib.pyplot as plt\n",
    "import seaborn as sns"
   ]
  },
  {
   "cell_type": "markdown",
   "metadata": {},
   "source": [
    "## load data\n",
    "General approach is not DRY for the sake of availability of having knee and hip df's always at hand, but also keep it readable (script-wise)."
   ]
  },
  {
   "cell_type": "code",
   "execution_count": 2,
   "metadata": {},
   "outputs": [
    {
     "data": {
      "text/html": [
       "<div>\n",
       "<style scoped>\n",
       "    .dataframe tbody tr th:only-of-type {\n",
       "        vertical-align: middle;\n",
       "    }\n",
       "\n",
       "    .dataframe tbody tr th {\n",
       "        vertical-align: top;\n",
       "    }\n",
       "\n",
       "    .dataframe thead th {\n",
       "        text-align: right;\n",
       "    }\n",
       "</style>\n",
       "<table border=\"1\" class=\"dataframe\">\n",
       "  <thead>\n",
       "    <tr style=\"text-align: right;\">\n",
       "      <th></th>\n",
       "      <th>t0_provider_code</th>\n",
       "      <th>t0_procedure</th>\n",
       "      <th>t0_revision_flag</th>\n",
       "      <th>t0_year</th>\n",
       "      <th>t0_age_band</th>\n",
       "      <th>t0_gender</th>\n",
       "      <th>t0_assisted</th>\n",
       "      <th>t0_assisted_by</th>\n",
       "      <th>t0_symptom_period</th>\n",
       "      <th>t0_previous_surgery</th>\n",
       "      <th>...</th>\n",
       "      <th>t1_ohs_transport</th>\n",
       "      <th>t1_ohs_dressing</th>\n",
       "      <th>t1_ohs_shopping</th>\n",
       "      <th>t1_ohs_walking</th>\n",
       "      <th>t1_ohs_limping</th>\n",
       "      <th>t1_ohs_stairs</th>\n",
       "      <th>t1_ohs_standing</th>\n",
       "      <th>t1_ohs_work</th>\n",
       "      <th>t1_ohs_score</th>\n",
       "      <th>t1_ohs_predicted</th>\n",
       "    </tr>\n",
       "  </thead>\n",
       "  <tbody>\n",
       "    <tr>\n",
       "      <th>17474</th>\n",
       "      <td>RBZ</td>\n",
       "      <td>Hip Replacement</td>\n",
       "      <td>0</td>\n",
       "      <td>2016/17</td>\n",
       "      <td>70 to 79</td>\n",
       "      <td>2.0</td>\n",
       "      <td>2</td>\n",
       "      <td>0</td>\n",
       "      <td>2</td>\n",
       "      <td>2</td>\n",
       "      <td>...</td>\n",
       "      <td>4</td>\n",
       "      <td>4</td>\n",
       "      <td>3</td>\n",
       "      <td>4</td>\n",
       "      <td>1</td>\n",
       "      <td>4</td>\n",
       "      <td>4</td>\n",
       "      <td>4</td>\n",
       "      <td>44.0</td>\n",
       "      <td>40.982845</td>\n",
       "    </tr>\n",
       "    <tr>\n",
       "      <th>4888</th>\n",
       "      <td>NT242</td>\n",
       "      <td>Hip Replacement</td>\n",
       "      <td>0</td>\n",
       "      <td>2016/17</td>\n",
       "      <td>70 to 79</td>\n",
       "      <td>1.0</td>\n",
       "      <td>2</td>\n",
       "      <td>0</td>\n",
       "      <td>3</td>\n",
       "      <td>2</td>\n",
       "      <td>...</td>\n",
       "      <td>3</td>\n",
       "      <td>4</td>\n",
       "      <td>4</td>\n",
       "      <td>4</td>\n",
       "      <td>4</td>\n",
       "      <td>4</td>\n",
       "      <td>4</td>\n",
       "      <td>4</td>\n",
       "      <td>47.0</td>\n",
       "      <td>38.347805</td>\n",
       "    </tr>\n",
       "    <tr>\n",
       "      <th>19708</th>\n",
       "      <td>RW6</td>\n",
       "      <td>Hip Replacement</td>\n",
       "      <td>0</td>\n",
       "      <td>2019/20</td>\n",
       "      <td>70 to 79</td>\n",
       "      <td>2.0</td>\n",
       "      <td>2</td>\n",
       "      <td>0</td>\n",
       "      <td>2</td>\n",
       "      <td>2</td>\n",
       "      <td>...</td>\n",
       "      <td>1</td>\n",
       "      <td>0</td>\n",
       "      <td>2</td>\n",
       "      <td>4</td>\n",
       "      <td>1</td>\n",
       "      <td>2</td>\n",
       "      <td>2</td>\n",
       "      <td>2</td>\n",
       "      <td>23.0</td>\n",
       "      <td>36.398392</td>\n",
       "    </tr>\n",
       "  </tbody>\n",
       "</table>\n",
       "<p>3 rows × 81 columns</p>\n",
       "</div>"
      ],
      "text/plain": [
       "      t0_provider_code     t0_procedure  t0_revision_flag  t0_year  \\\n",
       "17474              RBZ  Hip Replacement                 0  2016/17   \n",
       "4888             NT242  Hip Replacement                 0  2016/17   \n",
       "19708              RW6  Hip Replacement                 0  2019/20   \n",
       "\n",
       "      t0_age_band  t0_gender  t0_assisted  t0_assisted_by  t0_symptom_period  \\\n",
       "17474    70 to 79        2.0            2               0                  2   \n",
       "4888     70 to 79        1.0            2               0                  3   \n",
       "19708    70 to 79        2.0            2               0                  2   \n",
       "\n",
       "       t0_previous_surgery  ...  t1_ohs_transport  t1_ohs_dressing  \\\n",
       "17474                    2  ...                 4                4   \n",
       "4888                     2  ...                 3                4   \n",
       "19708                    2  ...                 1                0   \n",
       "\n",
       "       t1_ohs_shopping  t1_ohs_walking  t1_ohs_limping  t1_ohs_stairs  \\\n",
       "17474                3               4               1              4   \n",
       "4888                 4               4               4              4   \n",
       "19708                2               4               1              2   \n",
       "\n",
       "       t1_ohs_standing  t1_ohs_work  t1_ohs_score  t1_ohs_predicted  \n",
       "17474                4            4          44.0         40.982845  \n",
       "4888                 4            4          47.0         38.347805  \n",
       "19708                2            2          23.0         36.398392  \n",
       "\n",
       "[3 rows x 81 columns]"
      ]
     },
     "execution_count": 2,
     "metadata": {},
     "output_type": "execute_result"
    }
   ],
   "source": [
    "# load data + rename columns with structired name\n",
    "# df_knee_raw = load_proms(part=\"knee\").apply(downcast).rename(structure_name, axis=1)\n",
    "df_hip_raw = load_proms(part=\"hip\").apply(downcast).rename(structure_name, axis=1)\n",
    "\n",
    "# get meta data for each\n",
    "full_meta = {t + k: v for k, v in meta_dict.items() for t in [\"t0_\", \"t1_\"]}\n",
    "hip_meta = {k: v for k, v in full_meta.items() if k in df_hip_raw.columns}\n",
    "\n",
    "df_hip_raw.sample(3)"
   ]
  },
  {
   "cell_type": "markdown",
   "metadata": {},
   "source": [
    "## basic cleaning"
   ]
  },
  {
   "cell_type": "code",
   "execution_count": 3,
   "metadata": {},
   "outputs": [],
   "source": [
    "endings = (\n",
    "    \"code\",\n",
    "    \"procedure\",\n",
    "    \"revision_flag\",\n",
    "    \"assisted_by\",\n",
    "    \"profile\",\n",
    "    \"predicted\",\n",
    ")\n",
    "cols2drop = [c for c in df_hip_raw.columns if c.endswith(endings)]"
   ]
  },
  {
   "cell_type": "code",
   "execution_count": 4,
   "metadata": {
    "scrolled": false
   },
   "outputs": [
    {
     "name": "stdout",
     "output_type": "stream",
     "text": [
      "CPU times: user 801 ms, sys: 65.4 ms, total: 867 ms\n",
      "Wall time: 891 ms\n"
     ]
    },
    {
     "data": {
      "text/html": [
       "<div>\n",
       "<style scoped>\n",
       "    .dataframe tbody tr th:only-of-type {\n",
       "        vertical-align: middle;\n",
       "    }\n",
       "\n",
       "    .dataframe tbody tr th {\n",
       "        vertical-align: top;\n",
       "    }\n",
       "\n",
       "    .dataframe thead th {\n",
       "        text-align: right;\n",
       "    }\n",
       "</style>\n",
       "<table border=\"1\" class=\"dataframe\">\n",
       "  <thead>\n",
       "    <tr style=\"text-align: right;\">\n",
       "      <th></th>\n",
       "      <th>t0_year</th>\n",
       "      <th>t0_age_band</th>\n",
       "      <th>t0_gender</th>\n",
       "      <th>t0_assisted</th>\n",
       "      <th>t0_symptom_period</th>\n",
       "      <th>t0_previous_surgery</th>\n",
       "      <th>t0_living_arrangements</th>\n",
       "      <th>t0_disability</th>\n",
       "      <th>t0_heart_disease</th>\n",
       "      <th>t0_high_bp</th>\n",
       "      <th>...</th>\n",
       "      <th>t1_ohs_washing</th>\n",
       "      <th>t1_ohs_transport</th>\n",
       "      <th>t1_ohs_dressing</th>\n",
       "      <th>t1_ohs_shopping</th>\n",
       "      <th>t1_ohs_walking</th>\n",
       "      <th>t1_ohs_limping</th>\n",
       "      <th>t1_ohs_stairs</th>\n",
       "      <th>t1_ohs_standing</th>\n",
       "      <th>t1_ohs_work</th>\n",
       "      <th>t1_ohs_score</th>\n",
       "    </tr>\n",
       "  </thead>\n",
       "  <tbody>\n",
       "    <tr>\n",
       "      <th>2242</th>\n",
       "      <td>April 2019 - April 2020</td>\n",
       "      <td>NaN</td>\n",
       "      <td>NaN</td>\n",
       "      <td>no</td>\n",
       "      <td>1 to 5 years</td>\n",
       "      <td>no</td>\n",
       "      <td>alone</td>\n",
       "      <td>yes</td>\n",
       "      <td>missing</td>\n",
       "      <td>missing</td>\n",
       "      <td>...</td>\n",
       "      <td>rarely/never</td>\n",
       "      <td>rarely/never</td>\n",
       "      <td>sometimes or just at first</td>\n",
       "      <td>rarely/never</td>\n",
       "      <td>rarely/never</td>\n",
       "      <td>rarely/never</td>\n",
       "      <td>rarely/never</td>\n",
       "      <td>sometimes or just at first</td>\n",
       "      <td>sometimes or just at first</td>\n",
       "      <td>43.0</td>\n",
       "    </tr>\n",
       "    <tr>\n",
       "      <th>4794</th>\n",
       "      <td>April 2016 - April 2017</td>\n",
       "      <td>70 to 79</td>\n",
       "      <td>male</td>\n",
       "      <td>yes</td>\n",
       "      <td>1 to 5 years</td>\n",
       "      <td>no</td>\n",
       "      <td>with partner / spouse / family / friends</td>\n",
       "      <td>no</td>\n",
       "      <td>missing</td>\n",
       "      <td>missing</td>\n",
       "      <td>...</td>\n",
       "      <td>rarely/never</td>\n",
       "      <td>rarely/never</td>\n",
       "      <td>sometimes or just at first</td>\n",
       "      <td>rarely/never</td>\n",
       "      <td>rarely/never</td>\n",
       "      <td>rarely/never</td>\n",
       "      <td>rarely/never</td>\n",
       "      <td>rarely/never</td>\n",
       "      <td>rarely/never</td>\n",
       "      <td>47.0</td>\n",
       "    </tr>\n",
       "    <tr>\n",
       "      <th>19571</th>\n",
       "      <td>April 2018 - April 2019</td>\n",
       "      <td>70 to 79</td>\n",
       "      <td>male</td>\n",
       "      <td>no</td>\n",
       "      <td>6 to 10 years</td>\n",
       "      <td>no</td>\n",
       "      <td>with partner / spouse / family / friends</td>\n",
       "      <td>yes</td>\n",
       "      <td>missing</td>\n",
       "      <td>missing</td>\n",
       "      <td>...</td>\n",
       "      <td>sometimes or just at first</td>\n",
       "      <td>sometimes or just at first</td>\n",
       "      <td>sometimes or just at first</td>\n",
       "      <td>most of the time</td>\n",
       "      <td>sometimes or just at first</td>\n",
       "      <td>rarely/never</td>\n",
       "      <td>sometimes or just at first</td>\n",
       "      <td>sometimes or just at first</td>\n",
       "      <td>sometimes or just at first</td>\n",
       "      <td>32.0</td>\n",
       "    </tr>\n",
       "  </tbody>\n",
       "</table>\n",
       "<p>3 rows × 71 columns</p>\n",
       "</div>"
      ],
      "text/plain": [
       "                       t0_year t0_age_band t0_gender t0_assisted  \\\n",
       "2242   April 2019 - April 2020         NaN       NaN          no   \n",
       "4794   April 2016 - April 2017    70 to 79      male         yes   \n",
       "19571  April 2018 - April 2019    70 to 79      male          no   \n",
       "\n",
       "      t0_symptom_period t0_previous_surgery  \\\n",
       "2242       1 to 5 years                  no   \n",
       "4794       1 to 5 years                  no   \n",
       "19571     6 to 10 years                  no   \n",
       "\n",
       "                         t0_living_arrangements t0_disability  \\\n",
       "2242                                      alone           yes   \n",
       "4794   with partner / spouse / family / friends            no   \n",
       "19571  with partner / spouse / family / friends           yes   \n",
       "\n",
       "      t0_heart_disease t0_high_bp  ...              t1_ohs_washing  \\\n",
       "2242           missing    missing  ...                rarely/never   \n",
       "4794           missing    missing  ...                rarely/never   \n",
       "19571          missing    missing  ...  sometimes or just at first   \n",
       "\n",
       "                 t1_ohs_transport             t1_ohs_dressing  \\\n",
       "2242                 rarely/never  sometimes or just at first   \n",
       "4794                 rarely/never  sometimes or just at first   \n",
       "19571  sometimes or just at first  sometimes or just at first   \n",
       "\n",
       "        t1_ohs_shopping              t1_ohs_walking t1_ohs_limping  \\\n",
       "2242       rarely/never                rarely/never   rarely/never   \n",
       "4794       rarely/never                rarely/never   rarely/never   \n",
       "19571  most of the time  sometimes or just at first   rarely/never   \n",
       "\n",
       "                    t1_ohs_stairs             t1_ohs_standing  \\\n",
       "2242                 rarely/never  sometimes or just at first   \n",
       "4794                 rarely/never                rarely/never   \n",
       "19571  sometimes or just at first  sometimes or just at first   \n",
       "\n",
       "                      t1_ohs_work t1_ohs_score  \n",
       "2242   sometimes or just at first         43.0  \n",
       "4794                 rarely/never         47.0  \n",
       "19571  sometimes or just at first         32.0  \n",
       "\n",
       "[3 rows x 71 columns]"
      ]
     },
     "execution_count": 4,
     "metadata": {},
     "output_type": "execute_result"
    }
   ],
   "source": [
    "%%time\n",
    "df_hip_clean = (\n",
    "    df_hip_raw.apply(lambda s: filter_in_range(s, **hip_meta[s.name]))\n",
    "    .apply(lambda s: filter_in_labels(s, **hip_meta[s.name]))\n",
    "    .apply(lambda s: map_labels(s, **hip_meta[s.name]))\n",
    "    .query(\"t0_revision_flag == 'no revision'\")\n",
    "    .drop(columns=cols2drop)\n",
    "    #     .replace(\"missing\", np.nan)\n",
    ")\n",
    "\n",
    "df_hip_clean.sample(3)"
   ]
  },
  {
   "cell_type": "markdown",
   "metadata": {},
   "source": [
    "## split data"
   ]
  },
  {
   "cell_type": "code",
   "execution_count": 5,
   "metadata": {},
   "outputs": [
    {
     "data": {
      "text/html": [
       "<div>\n",
       "<style scoped>\n",
       "    .dataframe tbody tr th:only-of-type {\n",
       "        vertical-align: middle;\n",
       "    }\n",
       "\n",
       "    .dataframe tbody tr th {\n",
       "        vertical-align: top;\n",
       "    }\n",
       "\n",
       "    .dataframe thead th {\n",
       "        text-align: right;\n",
       "    }\n",
       "</style>\n",
       "<table border=\"1\" class=\"dataframe\">\n",
       "  <thead>\n",
       "    <tr style=\"text-align: right;\">\n",
       "      <th></th>\n",
       "      <th>t0_year</th>\n",
       "      <th>t0_age_band</th>\n",
       "      <th>t0_gender</th>\n",
       "      <th>t0_assisted</th>\n",
       "      <th>t0_symptom_period</th>\n",
       "      <th>t0_previous_surgery</th>\n",
       "      <th>t0_living_arrangements</th>\n",
       "      <th>t0_disability</th>\n",
       "      <th>t0_heart_disease</th>\n",
       "      <th>t0_high_bp</th>\n",
       "      <th>...</th>\n",
       "      <th>t1_ohs_washing</th>\n",
       "      <th>t1_ohs_transport</th>\n",
       "      <th>t1_ohs_dressing</th>\n",
       "      <th>t1_ohs_shopping</th>\n",
       "      <th>t1_ohs_walking</th>\n",
       "      <th>t1_ohs_limping</th>\n",
       "      <th>t1_ohs_stairs</th>\n",
       "      <th>t1_ohs_standing</th>\n",
       "      <th>t1_ohs_work</th>\n",
       "      <th>t1_ohs_score</th>\n",
       "    </tr>\n",
       "  </thead>\n",
       "  <tbody>\n",
       "    <tr>\n",
       "      <th>9889</th>\n",
       "      <td>April 2016 - April 2017</td>\n",
       "      <td>80 to 89</td>\n",
       "      <td>female</td>\n",
       "      <td>yes</td>\n",
       "      <td>1 to 5 years</td>\n",
       "      <td>no</td>\n",
       "      <td>with partner / spouse / family / friends</td>\n",
       "      <td>no</td>\n",
       "      <td>missing</td>\n",
       "      <td>missing</td>\n",
       "      <td>...</td>\n",
       "      <td>rarely/never</td>\n",
       "      <td>rarely/never</td>\n",
       "      <td>sometimes or just at first</td>\n",
       "      <td>sometimes or just at first</td>\n",
       "      <td>rarely/never</td>\n",
       "      <td>rarely/never</td>\n",
       "      <td>rarely/never</td>\n",
       "      <td>rarely/never</td>\n",
       "      <td>rarely/never</td>\n",
       "      <td>44.0</td>\n",
       "    </tr>\n",
       "    <tr>\n",
       "      <th>9993</th>\n",
       "      <td>April 2019 - April 2020</td>\n",
       "      <td>70 to 79</td>\n",
       "      <td>female</td>\n",
       "      <td>no</td>\n",
       "      <td>6 to 10 years</td>\n",
       "      <td>no</td>\n",
       "      <td>with partner / spouse / family / friends</td>\n",
       "      <td>yes</td>\n",
       "      <td>missing</td>\n",
       "      <td>yes</td>\n",
       "      <td>...</td>\n",
       "      <td>often, not just at first</td>\n",
       "      <td>often, not just at first</td>\n",
       "      <td>often, not just at first</td>\n",
       "      <td>sometimes or just at first</td>\n",
       "      <td>most of the time</td>\n",
       "      <td>all of the time</td>\n",
       "      <td>often, not just at first</td>\n",
       "      <td>sometimes or just at first</td>\n",
       "      <td>often, not just at first</td>\n",
       "      <td>24.0</td>\n",
       "    </tr>\n",
       "    <tr>\n",
       "      <th>15248</th>\n",
       "      <td>April 2018 - April 2019</td>\n",
       "      <td>70 to 79</td>\n",
       "      <td>female</td>\n",
       "      <td>no</td>\n",
       "      <td>1 to 5 years</td>\n",
       "      <td>no</td>\n",
       "      <td>alone</td>\n",
       "      <td>no</td>\n",
       "      <td>missing</td>\n",
       "      <td>yes</td>\n",
       "      <td>...</td>\n",
       "      <td>rarely/never</td>\n",
       "      <td>rarely/never</td>\n",
       "      <td>rarely/never</td>\n",
       "      <td>rarely/never</td>\n",
       "      <td>rarely/never</td>\n",
       "      <td>sometimes or just at first</td>\n",
       "      <td>rarely/never</td>\n",
       "      <td>rarely/never</td>\n",
       "      <td>rarely/never</td>\n",
       "      <td>47.0</td>\n",
       "    </tr>\n",
       "  </tbody>\n",
       "</table>\n",
       "<p>3 rows × 71 columns</p>\n",
       "</div>"
      ],
      "text/plain": [
       "                       t0_year t0_age_band t0_gender t0_assisted  \\\n",
       "9889   April 2016 - April 2017    80 to 89    female         yes   \n",
       "9993   April 2019 - April 2020    70 to 79    female          no   \n",
       "15248  April 2018 - April 2019    70 to 79    female          no   \n",
       "\n",
       "      t0_symptom_period t0_previous_surgery  \\\n",
       "9889       1 to 5 years                  no   \n",
       "9993      6 to 10 years                  no   \n",
       "15248      1 to 5 years                  no   \n",
       "\n",
       "                         t0_living_arrangements t0_disability  \\\n",
       "9889   with partner / spouse / family / friends            no   \n",
       "9993   with partner / spouse / family / friends           yes   \n",
       "15248                                     alone            no   \n",
       "\n",
       "      t0_heart_disease t0_high_bp  ...            t1_ohs_washing  \\\n",
       "9889           missing    missing  ...              rarely/never   \n",
       "9993           missing        yes  ...  often, not just at first   \n",
       "15248          missing        yes  ...              rarely/never   \n",
       "\n",
       "               t1_ohs_transport             t1_ohs_dressing  \\\n",
       "9889               rarely/never  sometimes or just at first   \n",
       "9993   often, not just at first    often, not just at first   \n",
       "15248              rarely/never                rarely/never   \n",
       "\n",
       "                  t1_ohs_shopping    t1_ohs_walking  \\\n",
       "9889   sometimes or just at first      rarely/never   \n",
       "9993   sometimes or just at first  most of the time   \n",
       "15248                rarely/never      rarely/never   \n",
       "\n",
       "                   t1_ohs_limping             t1_ohs_stairs  \\\n",
       "9889                 rarely/never              rarely/never   \n",
       "9993              all of the time  often, not just at first   \n",
       "15248  sometimes or just at first              rarely/never   \n",
       "\n",
       "                  t1_ohs_standing               t1_ohs_work t1_ohs_score  \n",
       "9889                 rarely/never              rarely/never         44.0  \n",
       "9993   sometimes or just at first  often, not just at first         24.0  \n",
       "15248                rarely/never              rarely/never         47.0  \n",
       "\n",
       "[3 rows x 71 columns]"
      ]
     },
     "execution_count": 5,
     "metadata": {},
     "output_type": "execute_result"
    }
   ],
   "source": [
    "#split train + test set\n",
    "# df_knee_seen = df_knee_clean.query(\"t0_year != '2019/20'\")\n",
    "# df_knee_unseen = df_knee_clean.query(\"t0_year == '2019/20'\")\n",
    "\n",
    "df_hip = df_hip_clean.query(\"t0_year != '2019/20'\")\n",
    "df_hip_unseen = df_hip_clean.query(\"t0_year == '2019/20'\")\n",
    "\n",
    "df_hip.sample(3)"
   ]
  },
  {
   "cell_type": "markdown",
   "metadata": {},
   "source": [
    "## create delta dataframes"
   ]
  },
  {
   "cell_type": "code",
   "execution_count": 6,
   "metadata": {},
   "outputs": [
    {
     "data": {
      "text/html": [
       "<div>\n",
       "<style scoped>\n",
       "    .dataframe tbody tr th:only-of-type {\n",
       "        vertical-align: middle;\n",
       "    }\n",
       "\n",
       "    .dataframe tbody tr th {\n",
       "        vertical-align: top;\n",
       "    }\n",
       "\n",
       "    .dataframe thead th {\n",
       "        text-align: right;\n",
       "    }\n",
       "</style>\n",
       "<table border=\"1\" class=\"dataframe\">\n",
       "  <thead>\n",
       "    <tr style=\"text-align: right;\">\n",
       "      <th></th>\n",
       "      <th>t0_year</th>\n",
       "      <th>t0_age_band</th>\n",
       "      <th>t0_gender</th>\n",
       "      <th>t0_assisted</th>\n",
       "      <th>t0_symptom_period</th>\n",
       "      <th>t0_previous_surgery</th>\n",
       "      <th>t0_living_arrangements</th>\n",
       "      <th>t0_disability</th>\n",
       "      <th>t0_heart_disease</th>\n",
       "      <th>t0_high_bp</th>\n",
       "      <th>...</th>\n",
       "      <th>delta_ohs_pain</th>\n",
       "      <th>delta_ohs_score</th>\n",
       "      <th>delta_ohs_shopping</th>\n",
       "      <th>delta_ohs_stairs</th>\n",
       "      <th>delta_ohs_standing</th>\n",
       "      <th>delta_ohs_sudden_pain</th>\n",
       "      <th>delta_ohs_transport</th>\n",
       "      <th>delta_ohs_walking</th>\n",
       "      <th>delta_ohs_washing</th>\n",
       "      <th>delta_ohs_work</th>\n",
       "    </tr>\n",
       "  </thead>\n",
       "  <tbody>\n",
       "    <tr>\n",
       "      <th>18742</th>\n",
       "      <td>April 2019 - April 2020</td>\n",
       "      <td>70 to 79</td>\n",
       "      <td>female</td>\n",
       "      <td>no</td>\n",
       "      <td>6 to 10 years</td>\n",
       "      <td>no</td>\n",
       "      <td>alone</td>\n",
       "      <td>yes</td>\n",
       "      <td>yes</td>\n",
       "      <td>missing</td>\n",
       "      <td>...</td>\n",
       "      <td>4</td>\n",
       "      <td>19.0</td>\n",
       "      <td>0</td>\n",
       "      <td>0</td>\n",
       "      <td>2</td>\n",
       "      <td>2</td>\n",
       "      <td>1</td>\n",
       "      <td>2</td>\n",
       "      <td>0</td>\n",
       "      <td>2</td>\n",
       "    </tr>\n",
       "    <tr>\n",
       "      <th>21670</th>\n",
       "      <td>April 2016 - April 2017</td>\n",
       "      <td>60 to 69</td>\n",
       "      <td>female</td>\n",
       "      <td>no</td>\n",
       "      <td>less than 1 year</td>\n",
       "      <td>no</td>\n",
       "      <td>alone</td>\n",
       "      <td>yes</td>\n",
       "      <td>missing</td>\n",
       "      <td>missing</td>\n",
       "      <td>...</td>\n",
       "      <td>4</td>\n",
       "      <td>34.0</td>\n",
       "      <td>3</td>\n",
       "      <td>3</td>\n",
       "      <td>3</td>\n",
       "      <td>3</td>\n",
       "      <td>2</td>\n",
       "      <td>0</td>\n",
       "      <td>3</td>\n",
       "      <td>4</td>\n",
       "    </tr>\n",
       "    <tr>\n",
       "      <th>9521</th>\n",
       "      <td>April 2017 - April 2018</td>\n",
       "      <td>80 to 89</td>\n",
       "      <td>female</td>\n",
       "      <td>no</td>\n",
       "      <td>less than 1 year</td>\n",
       "      <td>no</td>\n",
       "      <td>alone</td>\n",
       "      <td>yes</td>\n",
       "      <td>missing</td>\n",
       "      <td>yes</td>\n",
       "      <td>...</td>\n",
       "      <td>3</td>\n",
       "      <td>30.0</td>\n",
       "      <td>3</td>\n",
       "      <td>2</td>\n",
       "      <td>3</td>\n",
       "      <td>3</td>\n",
       "      <td>1</td>\n",
       "      <td>4</td>\n",
       "      <td>2</td>\n",
       "      <td>1</td>\n",
       "    </tr>\n",
       "    <tr>\n",
       "      <th>18893</th>\n",
       "      <td>April 2017 - April 2018</td>\n",
       "      <td>80 to 89</td>\n",
       "      <td>female</td>\n",
       "      <td>no</td>\n",
       "      <td>6 to 10 years</td>\n",
       "      <td>no</td>\n",
       "      <td>alone</td>\n",
       "      <td>yes</td>\n",
       "      <td>missing</td>\n",
       "      <td>missing</td>\n",
       "      <td>...</td>\n",
       "      <td>4</td>\n",
       "      <td>28.0</td>\n",
       "      <td>2</td>\n",
       "      <td>2</td>\n",
       "      <td>3</td>\n",
       "      <td>3</td>\n",
       "      <td>1</td>\n",
       "      <td>1</td>\n",
       "      <td>1</td>\n",
       "      <td>3</td>\n",
       "    </tr>\n",
       "    <tr>\n",
       "      <th>35169</th>\n",
       "      <td>April 2016 - April 2017</td>\n",
       "      <td>70 to 79</td>\n",
       "      <td>male</td>\n",
       "      <td>no</td>\n",
       "      <td>1 to 5 years</td>\n",
       "      <td>no</td>\n",
       "      <td>with partner / spouse / family / friends</td>\n",
       "      <td>yes</td>\n",
       "      <td>yes</td>\n",
       "      <td>yes</td>\n",
       "      <td>...</td>\n",
       "      <td>3</td>\n",
       "      <td>20.0</td>\n",
       "      <td>0</td>\n",
       "      <td>2</td>\n",
       "      <td>1</td>\n",
       "      <td>1</td>\n",
       "      <td>2</td>\n",
       "      <td>2</td>\n",
       "      <td>1</td>\n",
       "      <td>2</td>\n",
       "    </tr>\n",
       "  </tbody>\n",
       "</table>\n",
       "<p>5 rows × 91 columns</p>\n",
       "</div>"
      ],
      "text/plain": [
       "                       t0_year t0_age_band t0_gender t0_assisted  \\\n",
       "18742  April 2019 - April 2020    70 to 79    female          no   \n",
       "21670  April 2016 - April 2017    60 to 69    female          no   \n",
       "9521   April 2017 - April 2018    80 to 89    female          no   \n",
       "18893  April 2017 - April 2018    80 to 89    female          no   \n",
       "35169  April 2016 - April 2017    70 to 79      male          no   \n",
       "\n",
       "      t0_symptom_period t0_previous_surgery  \\\n",
       "18742     6 to 10 years                  no   \n",
       "21670  less than 1 year                  no   \n",
       "9521   less than 1 year                  no   \n",
       "18893     6 to 10 years                  no   \n",
       "35169      1 to 5 years                  no   \n",
       "\n",
       "                         t0_living_arrangements t0_disability  \\\n",
       "18742                                     alone           yes   \n",
       "21670                                     alone           yes   \n",
       "9521                                      alone           yes   \n",
       "18893                                     alone           yes   \n",
       "35169  with partner / spouse / family / friends           yes   \n",
       "\n",
       "      t0_heart_disease t0_high_bp  ... delta_ohs_pain delta_ohs_score  \\\n",
       "18742              yes    missing  ...              4            19.0   \n",
       "21670          missing    missing  ...              4            34.0   \n",
       "9521           missing        yes  ...              3            30.0   \n",
       "18893          missing    missing  ...              4            28.0   \n",
       "35169              yes        yes  ...              3            20.0   \n",
       "\n",
       "      delta_ohs_shopping delta_ohs_stairs delta_ohs_standing  \\\n",
       "18742                  0                0                  2   \n",
       "21670                  3                3                  3   \n",
       "9521                   3                2                  3   \n",
       "18893                  2                2                  3   \n",
       "35169                  0                2                  1   \n",
       "\n",
       "      delta_ohs_sudden_pain delta_ohs_transport delta_ohs_walking  \\\n",
       "18742                     2                   1                 2   \n",
       "21670                     3                   2                 0   \n",
       "9521                      3                   1                 4   \n",
       "18893                     3                   1                 1   \n",
       "35169                     1                   2                 2   \n",
       "\n",
       "      delta_ohs_washing delta_ohs_work  \n",
       "18742                 0              2  \n",
       "21670                 3              4  \n",
       "9521                  2              1  \n",
       "18893                 1              3  \n",
       "35169                 1              2  \n",
       "\n",
       "[5 rows x 91 columns]"
      ]
     },
     "execution_count": 6,
     "metadata": {},
     "output_type": "execute_result"
    }
   ],
   "source": [
    "df_org = df_hip_clean.apply(\n",
    "    lambda s: map_labels(s, backwards=True, **hip_meta[s.name])\n",
    ").apply(np.asarray)\n",
    "\n",
    "# df_knee_delta = method_delta(df_knee_train)\n",
    "df_hip_delta = method_delta(df_org)\n",
    "\n",
    "# now you could join them again with the original df ...\n",
    "# eg: df_hip_clean.join(df_hip_delta)\n",
    "df_hip_clean = df_hip_clean.join(df_hip_delta)\n",
    "df_hip_clean.sample(5)"
   ]
  },
  {
   "cell_type": "code",
   "execution_count": 7,
   "metadata": {},
   "outputs": [
    {
     "name": "stdout",
     "output_type": "stream",
     "text": [
      "<class 'pandas.core.frame.DataFrame'>\n",
      "Int64Index: 476485 entries, 0 to 44240\n",
      "Data columns (total 91 columns):\n",
      " #   Column                  Non-Null Count   Dtype   \n",
      "---  ------                  --------------   -----   \n",
      " 0   t0_year                 476485 non-null  category\n",
      " 1   t0_age_band             427774 non-null  category\n",
      " 2   t0_gender               427774 non-null  category\n",
      " 3   t0_assisted             476485 non-null  category\n",
      " 4   t0_symptom_period       476485 non-null  category\n",
      " 5   t0_previous_surgery     476485 non-null  category\n",
      " 6   t0_living_arrangements  476485 non-null  category\n",
      " 7   t0_disability           476485 non-null  category\n",
      " 8   t0_heart_disease        476485 non-null  category\n",
      " 9   t0_high_bp              476485 non-null  category\n",
      " 10  t0_stroke               476485 non-null  category\n",
      " 11  t0_circulation          476485 non-null  category\n",
      " 12  t0_lung_disease         476485 non-null  category\n",
      " 13  t0_diabetes             476485 non-null  category\n",
      " 14  t0_kidney_disease       476485 non-null  category\n",
      " 15  t0_nervous_system       476485 non-null  category\n",
      " 16  t0_liver_disease        476485 non-null  category\n",
      " 17  t0_cancer               476485 non-null  category\n",
      " 18  t0_depression           476485 non-null  category\n",
      " 19  t0_arthritis            476485 non-null  category\n",
      " 20  t0_eq5d_mobility        476485 non-null  category\n",
      " 21  t0_eq5d_self_care       476485 non-null  category\n",
      " 22  t0_eq5d_activity        476485 non-null  category\n",
      " 23  t0_eq5d_discomfort      476485 non-null  category\n",
      " 24  t0_eq5d_anxiety         476485 non-null  category\n",
      " 25  t0_eq5d_score           449559 non-null  float32 \n",
      " 26  t1_assisted             476485 non-null  category\n",
      " 27  t1_living_arrangements  476485 non-null  category\n",
      " 28  t1_disability           476485 non-null  category\n",
      " 29  t1_eq5d_mobility        476485 non-null  category\n",
      " 30  t1_eq5d_self_care       476485 non-null  category\n",
      " 31  t1_eq5d_activity        476485 non-null  category\n",
      " 32  t1_eq5d_discomfort      476485 non-null  category\n",
      " 33  t1_eq5d_anxiety         476485 non-null  category\n",
      " 34  t1_satisfaction         476485 non-null  category\n",
      " 35  t1_success              476485 non-null  category\n",
      " 36  t1_allergy              476485 non-null  category\n",
      " 37  t1_bleeding             476485 non-null  category\n",
      " 38  t1_wound                476485 non-null  category\n",
      " 39  t1_urine                476485 non-null  category\n",
      " 40  t1_further_surgery      476485 non-null  category\n",
      " 41  t1_readmitted           476485 non-null  category\n",
      " 42  t1_eq5d_score           456700 non-null  float32 \n",
      " 43  t0_eqvas_score          433667 non-null  float64 \n",
      " 44  t1_eqvas_score          453886 non-null  float64 \n",
      " 45  t0_ohs_pain             476485 non-null  category\n",
      " 46  t0_ohs_sudden_pain      476485 non-null  category\n",
      " 47  t0_ohs_night_pain       476485 non-null  category\n",
      " 48  t0_ohs_washing          476485 non-null  category\n",
      " 49  t0_ohs_transport        476485 non-null  category\n",
      " 50  t0_ohs_dressing         476485 non-null  category\n",
      " 51  t0_ohs_shopping         476485 non-null  category\n",
      " 52  t0_ohs_walking          476485 non-null  category\n",
      " 53  t0_ohs_limping          476485 non-null  category\n",
      " 54  t0_ohs_stairs           476485 non-null  category\n",
      " 55  t0_ohs_standing         476485 non-null  category\n",
      " 56  t0_ohs_work             476485 non-null  category\n",
      " 57  t0_ohs_score            471275 non-null  float32 \n",
      " 58  t1_ohs_pain             476485 non-null  category\n",
      " 59  t1_ohs_sudden_pain      476485 non-null  category\n",
      " 60  t1_ohs_night_pain       476485 non-null  category\n",
      " 61  t1_ohs_washing          476485 non-null  category\n",
      " 62  t1_ohs_transport        476485 non-null  category\n",
      " 63  t1_ohs_dressing         476485 non-null  category\n",
      " 64  t1_ohs_shopping         476485 non-null  category\n",
      " 65  t1_ohs_walking          476485 non-null  category\n",
      " 66  t1_ohs_limping          476485 non-null  category\n",
      " 67  t1_ohs_stairs           476485 non-null  category\n",
      " 68  t1_ohs_standing         476485 non-null  category\n",
      " 69  t1_ohs_work             476485 non-null  category\n",
      " 70  t1_ohs_score            471386 non-null  float32 \n",
      " 71  delta_eq5d_activity     476485 non-null  int64   \n",
      " 72  delta_eq5d_anxiety      476485 non-null  int64   \n",
      " 73  delta_eq5d_discomfort   476485 non-null  int64   \n",
      " 74  delta_eq5d_mobility     476485 non-null  int64   \n",
      " 75  delta_eq5d_score        431728 non-null  float32 \n",
      " 76  delta_eq5d_self_care    476485 non-null  int64   \n",
      " 77  delta_eqvas_score       414974 non-null  float64 \n",
      " 78  delta_ohs_dressing      476485 non-null  int64   \n",
      " 79  delta_ohs_limping       476485 non-null  int64   \n",
      " 80  delta_ohs_night_pain    476485 non-null  int64   \n",
      " 81  delta_ohs_pain          476485 non-null  int64   \n",
      " 82  delta_ohs_score         466320 non-null  float32 \n",
      " 83  delta_ohs_shopping      476485 non-null  int64   \n",
      " 84  delta_ohs_stairs        476485 non-null  int64   \n",
      " 85  delta_ohs_standing      476485 non-null  int64   \n",
      " 86  delta_ohs_sudden_pain   476485 non-null  int64   \n",
      " 87  delta_ohs_transport     476485 non-null  int64   \n",
      " 88  delta_ohs_walking       476485 non-null  int64   \n",
      " 89  delta_ohs_washing       476485 non-null  int64   \n",
      " 90  delta_ohs_work          476485 non-null  int64   \n",
      "dtypes: category(65), float32(6), float64(3), int64(17)\n",
      "memory usage: 116.8 MB\n"
     ]
    }
   ],
   "source": [
    "df_hip_clean.info()"
   ]
  },
  {
   "cell_type": "markdown",
   "metadata": {},
   "source": [
    "## Make feature set"
   ]
  },
  {
   "cell_type": "code",
   "execution_count": 8,
   "metadata": {},
   "outputs": [
    {
     "name": "stdout",
     "output_type": "stream",
     "text": [
      "103346 after possible total dropna\n"
     ]
    },
    {
     "data": {
      "text/plain": [
       "t0_age_band          0.089507\n",
       "t0_gender            0.089507\n",
       "t0_eqvas_score       0.089385\n",
       "t0_eq5d_score        0.056014\n",
       "t1_eqvas_score       0.047734\n",
       "t1_eq5d_score        0.042082\n",
       "t0_ohs_score         0.010959\n",
       "t1_ohs_score         0.010908\n",
       "t0_eq5d_mobility     0.000000\n",
       "t0_eq5d_self_care    0.000000\n",
       "dtype: float64"
      ]
     },
     "execution_count": 8,
     "metadata": {},
     "output_type": "execute_result"
    }
   ],
   "source": [
    "# print(len(df_hip), \"original\")\n",
    "print(len(df_hip.dropna()), \"after possible total dropna\")\n",
    "(df_hip.isna().sum() / len(df_hip)).sort_values(ascending=False).head(10)"
   ]
  },
  {
   "cell_type": "code",
   "execution_count": 9,
   "metadata": {},
   "outputs": [
    {
     "name": "stdout",
     "output_type": "stream",
     "text": [
      "139251 original\n",
      "113818 after dropna on numerical\n"
     ]
    },
    {
     "data": {
      "text/plain": [
       "t0_age_band           0.092007\n",
       "t0_gender             0.092007\n",
       "t1_ohs_score          0.000000\n",
       "t1_assisted           0.000000\n",
       "t0_eq5d_mobility      0.000000\n",
       "t0_eq5d_self_care     0.000000\n",
       "t0_eq5d_activity      0.000000\n",
       "t0_eq5d_discomfort    0.000000\n",
       "t0_eq5d_anxiety       0.000000\n",
       "t0_eq5d_score         0.000000\n",
       "dtype: float64"
      ]
     },
     "execution_count": 9,
     "metadata": {},
     "output_type": "execute_result"
    }
   ],
   "source": [
    "# remove NaNs from non categorical/ordinal columns (numerical)\n",
    "print(len(df_hip), \"original\")\n",
    "num_cols = df_hip.select_dtypes(exclude=\"category\").columns\n",
    "df_hip = df_hip.dropna(subset=num_cols)\n",
    "\n",
    "print(len(df_hip), \"after dropna on numerical\")\n",
    "(df_hip.isna().sum() / len(df_hip)).sort_values(ascending=False).head(10)"
   ]
  },
  {
   "cell_type": "code",
   "execution_count": 10,
   "metadata": {},
   "outputs": [],
   "source": [
    "# # Buggy: TO DO ...\n",
    "# # s = df_hip[\"t0_age_band\"]\n",
    "\n",
    "# # def fillna(s, value):\n",
    "# #     if s.dtype == \"category\":\n",
    "# #         print(\"is cat\")\n",
    "# #         if value not in s.dtype.categories:\n",
    "# #             print(value, \"not in cats\")\n",
    "# #             display(s.dtype)\n",
    "# #             display(s.dtype.add_categories(value))\n",
    "# #             s.add_categories(value, inplace=True)\n",
    "# #             display(s.dtype)\n",
    "# #     return s.fillna(value)\n",
    "\n",
    "# # fillna(s, \"missing\")\n",
    "\n",
    "# # status before\n",
    "# display((df_hip.isna().sum() / len(df_hip)).sort_values(ascending=False).head(10))\n",
    "# print(len(df_hip), \"original\")\n",
    "\n",
    "# # remove NaNs from non categorical/ordinal columns (numerical)\n",
    "# num_cols = df_hip.select_dtypes(include=\"number\").columns\n",
    "# df_hip = df_hip.dropna(subset=num_cols).fillna(\"missing\")\n",
    "# print(len(df_hip), \"after dropna on numerical\")"
   ]
  },
  {
   "cell_type": "markdown",
   "metadata": {},
   "source": [
    "## Create Y"
   ]
  },
  {
   "cell_type": "markdown",
   "metadata": {},
   "source": [
    "### First Y: success anchor for OHS"
   ]
  },
  {
   "cell_type": "code",
   "execution_count": 11,
   "metadata": {},
   "outputs": [
    {
     "data": {
      "text/plain": [
       "much better        412751\n",
       "a little better     37004\n",
       "about the same       9882\n",
       "missing              6851\n",
       "a little worse       5559\n",
       "much worse           4438\n",
       "Name: t1_success, dtype: int64"
      ]
     },
     "execution_count": 11,
     "metadata": {},
     "output_type": "execute_result"
    }
   ],
   "source": [
    "df_hip_clean['t1_success'].value_counts()"
   ]
  },
  {
   "cell_type": "code",
   "execution_count": 12,
   "metadata": {},
   "outputs": [
    {
     "data": {
      "image/png": "[encoded data removed]",
      "text/plain": [
       "<Figure size 1080x432 with 3 Axes>"
      ]
     },
     "metadata": {
      "needs_background": "light"
     },
     "output_type": "display_data"
    }
   ],
   "source": [
    "fig, ax = plt.subplots(1, 2, figsize=(15,6))\n",
    "sns.heatmap(pd.crosstab([df_hip_clean[\"t1_satisfaction\"]], [df_hip_clean[\"t1_success\"]]), cmap=\"coolwarm\", annot=True, cbar=True, fmt='g', ax=ax[0])\n",
    "sns.heatmap(pd.crosstab([df_hip_clean[\"t1_satisfaction\"]], [df_hip_clean[\"t1_success\"]], margins=True), cmap='coolwarm', annot=True, fmt='g', cbar=False, ax=ax[1])\n",
    "sns.set(font_scale=1.5)"
   ]
  },
  {
   "cell_type": "code",
   "execution_count": 13,
   "metadata": {},
   "outputs": [
    {
     "data": {
      "text/plain": [
       "0    466488\n",
       "1      9997\n",
       "Name: success_recode, dtype: int64"
      ]
     },
     "execution_count": 13,
     "metadata": {},
     "output_type": "execute_result"
    }
   ],
   "source": [
    "def success_rec(recode):\n",
    "    if recode == 'a little worse':\n",
    "        return 1\n",
    "    elif recode == 'much worse':\n",
    "        return 1\n",
    "#     elif recode == 'about the same':\n",
    "#         return 1\n",
    "    else:\n",
    "        return 0\n",
    "    \n",
    "df_hip_clean['success_recode'] = df_hip_clean['t1_success'].apply(success_rec)\n",
    "df_hip_clean['success_recode'].value_counts(sort=False)"
   ]
  },
  {
   "cell_type": "code",
   "execution_count": 14,
   "metadata": {},
   "outputs": [
    {
     "data": {
      "text/plain": [
       "<Figure size 1080x576 with 0 Axes>"
      ]
     },
     "metadata": {},
     "output_type": "display_data"
    },
    {
     "data": {
      "image/png": "[encoded data removed]",
      "text/plain": [
       "<Figure size 503.7x360 with 1 Axes>"
      ]
     },
     "metadata": {},
     "output_type": "display_data"
    }
   ],
   "source": [
    "plt.figure(figsize=(15,8))\n",
    "sns.displot(df_hip_clean, x=\"delta_ohs_score\", hue='success_recode', alpha=.5, kind=\"kde\", common_norm=False);"
   ]
  },
  {
   "cell_type": "code",
   "execution_count": 15,
   "metadata": {},
   "outputs": [
    {
     "data": {
      "image/png": "[encoded data removed]",
      "text/plain": [
       "<Figure size 504x360 with 1 Axes>"
      ]
     },
     "metadata": {},
     "output_type": "display_data"
    }
   ],
   "source": [
    "fig, ax = plt.subplots(figsize=(7,5))\n",
    "fig = sns.boxplot(x=df_hip_clean[\"success_recode\"], y=df_hip_clean['delta_ohs_score'], data=df_hip_clean)"
   ]
  },
  {
   "cell_type": "code",
   "execution_count": 16,
   "metadata": {},
   "outputs": [],
   "source": [
    "df_hip_clean['diff_ohs'] = df_hip_clean['t1_ohs_score'] - df_hip_clean['t0_ohs_score']"
   ]
  },
  {
   "cell_type": "code",
   "execution_count": 24,
   "metadata": {},
   "outputs": [
    {
     "data": {
      "text/html": [
       "<div>\n",
       "<style scoped>\n",
       "    .dataframe tbody tr th:only-of-type {\n",
       "        vertical-align: middle;\n",
       "    }\n",
       "\n",
       "    .dataframe tbody tr th {\n",
       "        vertical-align: top;\n",
       "    }\n",
       "\n",
       "    .dataframe thead th {\n",
       "        text-align: right;\n",
       "    }\n",
       "</style>\n",
       "<table border=\"1\" class=\"dataframe\">\n",
       "  <thead>\n",
       "    <tr style=\"text-align: right;\">\n",
       "      <th></th>\n",
       "      <th>t0_eq5d_score</th>\n",
       "      <th>t1_eq5d_score</th>\n",
       "      <th>t0_eqvas_score</th>\n",
       "      <th>t1_eqvas_score</th>\n",
       "      <th>t0_ohs_score</th>\n",
       "      <th>t1_ohs_score</th>\n",
       "      <th>delta_eq5d_activity</th>\n",
       "      <th>delta_eq5d_anxiety</th>\n",
       "      <th>delta_eq5d_discomfort</th>\n",
       "      <th>delta_eq5d_mobility</th>\n",
       "      <th>...</th>\n",
       "      <th>delta_ohs_stairs</th>\n",
       "      <th>delta_ohs_standing</th>\n",
       "      <th>delta_ohs_sudden_pain</th>\n",
       "      <th>delta_ohs_transport</th>\n",
       "      <th>delta_ohs_walking</th>\n",
       "      <th>delta_ohs_washing</th>\n",
       "      <th>delta_ohs_work</th>\n",
       "      <th>success_recode</th>\n",
       "      <th>diff_ohs</th>\n",
       "      <th>REL_diff_ohs</th>\n",
       "    </tr>\n",
       "  </thead>\n",
       "  <tbody>\n",
       "    <tr>\n",
       "      <th>count</th>\n",
       "      <td>449559.000000</td>\n",
       "      <td>456700.000000</td>\n",
       "      <td>433667.000000</td>\n",
       "      <td>453886.000000</td>\n",
       "      <td>471275.000000</td>\n",
       "      <td>471386.000000</td>\n",
       "      <td>476485.000000</td>\n",
       "      <td>476485.000000</td>\n",
       "      <td>476485.000000</td>\n",
       "      <td>476485.000000</td>\n",
       "      <td>...</td>\n",
       "      <td>476485.000000</td>\n",
       "      <td>476485.000000</td>\n",
       "      <td>476485.000000</td>\n",
       "      <td>476485.000000</td>\n",
       "      <td>476485.000000</td>\n",
       "      <td>476485.000000</td>\n",
       "      <td>476485.000000</td>\n",
       "      <td>476485.000000</td>\n",
       "      <td>466320.000000</td>\n",
       "      <td>4.663200e+05</td>\n",
       "    </tr>\n",
       "    <tr>\n",
       "      <th>mean</th>\n",
       "      <td>0.344635</td>\n",
       "      <td>0.805906</td>\n",
       "      <td>63.665252</td>\n",
       "      <td>77.817741</td>\n",
       "      <td>17.620415</td>\n",
       "      <td>40.119644</td>\n",
       "      <td>-0.784789</td>\n",
       "      <td>-0.394783</td>\n",
       "      <td>-1.064371</td>\n",
       "      <td>-0.639628</td>\n",
       "      <td>...</td>\n",
       "      <td>1.460199</td>\n",
       "      <td>1.787930</td>\n",
       "      <td>2.125847</td>\n",
       "      <td>1.516984</td>\n",
       "      <td>1.580805</td>\n",
       "      <td>1.332890</td>\n",
       "      <td>2.100687</td>\n",
       "      <td>0.020981</td>\n",
       "      <td>22.478149</td>\n",
       "      <td>inf</td>\n",
       "    </tr>\n",
       "    <tr>\n",
       "      <th>std</th>\n",
       "      <td>0.321647</td>\n",
       "      <td>0.237274</td>\n",
       "      <td>22.400781</td>\n",
       "      <td>17.650879</td>\n",
       "      <td>8.071167</td>\n",
       "      <td>8.413555</td>\n",
       "      <td>1.756134</td>\n",
       "      <td>1.905852</td>\n",
       "      <td>1.897647</td>\n",
       "      <td>1.728203</td>\n",
       "      <td>...</td>\n",
       "      <td>1.337954</td>\n",
       "      <td>1.325185</td>\n",
       "      <td>1.597263</td>\n",
       "      <td>1.260686</td>\n",
       "      <td>1.580289</td>\n",
       "      <td>1.129417</td>\n",
       "      <td>1.417239</td>\n",
       "      <td>0.143320</td>\n",
       "      <td>9.883778</td>\n",
       "      <td>NaN</td>\n",
       "    </tr>\n",
       "    <tr>\n",
       "      <th>min</th>\n",
       "      <td>-0.594000</td>\n",
       "      <td>-0.594000</td>\n",
       "      <td>0.000000</td>\n",
       "      <td>0.000000</td>\n",
       "      <td>0.000000</td>\n",
       "      <td>0.000000</td>\n",
       "      <td>-8.000000</td>\n",
       "      <td>-8.000000</td>\n",
       "      <td>-8.000000</td>\n",
       "      <td>-8.000000</td>\n",
       "      <td>...</td>\n",
       "      <td>-9.000000</td>\n",
       "      <td>-9.000000</td>\n",
       "      <td>-9.000000</td>\n",
       "      <td>-9.000000</td>\n",
       "      <td>-9.000000</td>\n",
       "      <td>-9.000000</td>\n",
       "      <td>-9.000000</td>\n",
       "      <td>0.000000</td>\n",
       "      <td>-40.000000</td>\n",
       "      <td>-1.000000e+00</td>\n",
       "    </tr>\n",
       "    <tr>\n",
       "      <th>25%</th>\n",
       "      <td>0.055000</td>\n",
       "      <td>0.691000</td>\n",
       "      <td>50.000000</td>\n",
       "      <td>70.000000</td>\n",
       "      <td>12.000000</td>\n",
       "      <td>36.000000</td>\n",
       "      <td>-1.000000</td>\n",
       "      <td>-1.000000</td>\n",
       "      <td>-1.000000</td>\n",
       "      <td>-1.000000</td>\n",
       "      <td>...</td>\n",
       "      <td>1.000000</td>\n",
       "      <td>1.000000</td>\n",
       "      <td>1.000000</td>\n",
       "      <td>1.000000</td>\n",
       "      <td>1.000000</td>\n",
       "      <td>1.000000</td>\n",
       "      <td>1.000000</td>\n",
       "      <td>0.000000</td>\n",
       "      <td>16.000000</td>\n",
       "      <td>7.333333e-01</td>\n",
       "    </tr>\n",
       "    <tr>\n",
       "      <th>50%</th>\n",
       "      <td>0.516000</td>\n",
       "      <td>0.848000</td>\n",
       "      <td>70.000000</td>\n",
       "      <td>80.000000</td>\n",
       "      <td>17.000000</td>\n",
       "      <td>43.000000</td>\n",
       "      <td>-1.000000</td>\n",
       "      <td>0.000000</td>\n",
       "      <td>-1.000000</td>\n",
       "      <td>-1.000000</td>\n",
       "      <td>...</td>\n",
       "      <td>2.000000</td>\n",
       "      <td>2.000000</td>\n",
       "      <td>2.000000</td>\n",
       "      <td>2.000000</td>\n",
       "      <td>2.000000</td>\n",
       "      <td>1.000000</td>\n",
       "      <td>2.000000</td>\n",
       "      <td>0.000000</td>\n",
       "      <td>23.000000</td>\n",
       "      <td>1.333333e+00</td>\n",
       "    </tr>\n",
       "    <tr>\n",
       "      <th>75%</th>\n",
       "      <td>0.656000</td>\n",
       "      <td>1.000000</td>\n",
       "      <td>80.000000</td>\n",
       "      <td>90.000000</td>\n",
       "      <td>23.000000</td>\n",
       "      <td>47.000000</td>\n",
       "      <td>0.000000</td>\n",
       "      <td>0.000000</td>\n",
       "      <td>-1.000000</td>\n",
       "      <td>0.000000</td>\n",
       "      <td>...</td>\n",
       "      <td>2.000000</td>\n",
       "      <td>3.000000</td>\n",
       "      <td>3.000000</td>\n",
       "      <td>2.000000</td>\n",
       "      <td>2.000000</td>\n",
       "      <td>2.000000</td>\n",
       "      <td>3.000000</td>\n",
       "      <td>0.000000</td>\n",
       "      <td>30.000000</td>\n",
       "      <td>2.363636e+00</td>\n",
       "    </tr>\n",
       "    <tr>\n",
       "      <th>max</th>\n",
       "      <td>1.000000</td>\n",
       "      <td>1.000000</td>\n",
       "      <td>100.000000</td>\n",
       "      <td>100.000000</td>\n",
       "      <td>48.000000</td>\n",
       "      <td>48.000000</td>\n",
       "      <td>8.000000</td>\n",
       "      <td>8.000000</td>\n",
       "      <td>8.000000</td>\n",
       "      <td>8.000000</td>\n",
       "      <td>...</td>\n",
       "      <td>9.000000</td>\n",
       "      <td>9.000000</td>\n",
       "      <td>9.000000</td>\n",
       "      <td>9.000000</td>\n",
       "      <td>9.000000</td>\n",
       "      <td>9.000000</td>\n",
       "      <td>9.000000</td>\n",
       "      <td>1.000000</td>\n",
       "      <td>48.000000</td>\n",
       "      <td>inf</td>\n",
       "    </tr>\n",
       "  </tbody>\n",
       "</table>\n",
       "<p>8 rows × 29 columns</p>\n",
       "</div>"
      ],
      "text/plain": [
       "       t0_eq5d_score  t1_eq5d_score  t0_eqvas_score  t1_eqvas_score  \\\n",
       "count  449559.000000  456700.000000   433667.000000   453886.000000   \n",
       "mean        0.344635       0.805906       63.665252       77.817741   \n",
       "std         0.321647       0.237274       22.400781       17.650879   \n",
       "min        -0.594000      -0.594000        0.000000        0.000000   \n",
       "25%         0.055000       0.691000       50.000000       70.000000   \n",
       "50%         0.516000       0.848000       70.000000       80.000000   \n",
       "75%         0.656000       1.000000       80.000000       90.000000   \n",
       "max         1.000000       1.000000      100.000000      100.000000   \n",
       "\n",
       "        t0_ohs_score   t1_ohs_score  delta_eq5d_activity  delta_eq5d_anxiety  \\\n",
       "count  471275.000000  471386.000000        476485.000000       476485.000000   \n",
       "mean       17.620415      40.119644            -0.784789           -0.394783   \n",
       "std         8.071167       8.413555             1.756134            1.905852   \n",
       "min         0.000000       0.000000            -8.000000           -8.000000   \n",
       "25%        12.000000      36.000000            -1.000000           -1.000000   \n",
       "50%        17.000000      43.000000            -1.000000            0.000000   \n",
       "75%        23.000000      47.000000             0.000000            0.000000   \n",
       "max        48.000000      48.000000             8.000000            8.000000   \n",
       "\n",
       "       delta_eq5d_discomfort  delta_eq5d_mobility  ...  delta_ohs_stairs  \\\n",
       "count          476485.000000        476485.000000  ...     476485.000000   \n",
       "mean               -1.064371            -0.639628  ...          1.460199   \n",
       "std                 1.897647             1.728203  ...          1.337954   \n",
       "min                -8.000000            -8.000000  ...         -9.000000   \n",
       "25%                -1.000000            -1.000000  ...          1.000000   \n",
       "50%                -1.000000            -1.000000  ...          2.000000   \n",
       "75%                -1.000000             0.000000  ...          2.000000   \n",
       "max                 8.000000             8.000000  ...          9.000000   \n",
       "\n",
       "       delta_ohs_standing  delta_ohs_sudden_pain  delta_ohs_transport  \\\n",
       "count       476485.000000          476485.000000        476485.000000   \n",
       "mean             1.787930               2.125847             1.516984   \n",
       "std              1.325185               1.597263             1.260686   \n",
       "min             -9.000000              -9.000000            -9.000000   \n",
       "25%              1.000000               1.000000             1.000000   \n",
       "50%              2.000000               2.000000             2.000000   \n",
       "75%              3.000000               3.000000             2.000000   \n",
       "max              9.000000               9.000000             9.000000   \n",
       "\n",
       "       delta_ohs_walking  delta_ohs_washing  delta_ohs_work  success_recode  \\\n",
       "count      476485.000000      476485.000000   476485.000000   476485.000000   \n",
       "mean            1.580805           1.332890        2.100687        0.020981   \n",
       "std             1.580289           1.129417        1.417239        0.143320   \n",
       "min            -9.000000          -9.000000       -9.000000        0.000000   \n",
       "25%             1.000000           1.000000        1.000000        0.000000   \n",
       "50%             2.000000           1.000000        2.000000        0.000000   \n",
       "75%             2.000000           2.000000        3.000000        0.000000   \n",
       "max             9.000000           9.000000        9.000000        1.000000   \n",
       "\n",
       "            diff_ohs  REL_diff_ohs  \n",
       "count  466320.000000  4.663200e+05  \n",
       "mean       22.478149           inf  \n",
       "std         9.883778           NaN  \n",
       "min       -40.000000 -1.000000e+00  \n",
       "25%        16.000000  7.333333e-01  \n",
       "50%        23.000000  1.333333e+00  \n",
       "75%        30.000000  2.363636e+00  \n",
       "max        48.000000           inf  \n",
       "\n",
       "[8 rows x 29 columns]"
      ]
     },
     "execution_count": 24,
     "metadata": {},
     "output_type": "execute_result"
    }
   ],
   "source": [
    "df_hip_clean['REL_diff_ohs'] = (df_hip_clean['diff_ohs'] / df_hip_clean['t0_ohs_score'])\n",
    "df_hip_clean.describe()"
   ]
  },
  {
   "cell_type": "code",
   "execution_count": 28,
   "metadata": {
    "scrolled": true
   },
   "outputs": [
    {
     "data": {
      "text/plain": [
       "0        0.894737\n",
       "0        0.894737\n",
       "0        0.894737\n",
       "0        0.894737\n",
       "0        0.629630\n",
       "           ...   \n",
       "44236    0.370370\n",
       "44237   -0.052632\n",
       "44238    0.869565\n",
       "44239    1.047619\n",
       "44240    2.615385\n",
       "Name: REL_diff_ohs, Length: 476485, dtype: float32"
      ]
     },
     "execution_count": 28,
     "metadata": {},
     "output_type": "execute_result"
    }
   ],
   "source": [
    "df_hip_clean['REL_diff_ohs'].replace([np.inf, -np.inf], np.nan)"
   ]
  },
  {
   "cell_type": "code",
   "execution_count": 42,
   "metadata": {},
   "outputs": [
    {
     "ename": "ValueError",
     "evalue": "No axis named 1 for object type Series",
     "output_type": "error",
     "traceback": [
      "\u001b[0;31m---------------------------------------------------------------------------\u001b[0m",
      "\u001b[0;31mKeyError\u001b[0m                                  Traceback (most recent call last)",
      "\u001b[0;32m/opt/anaconda3/envs/jads/lib/python3.8/site-packages/pandas/core/generic.py\u001b[0m in \u001b[0;36m_get_axis_number\u001b[0;34m(cls, axis)\u001b[0m\n\u001b[1;32m    367\u001b[0m         \u001b[0;32mtry\u001b[0m\u001b[0;34m:\u001b[0m\u001b[0;34m\u001b[0m\u001b[0;34m\u001b[0m\u001b[0m\n\u001b[0;32m--> 368\u001b[0;31m             \u001b[0;32mreturn\u001b[0m \u001b[0mcls\u001b[0m\u001b[0;34m.\u001b[0m\u001b[0m_AXIS_TO_AXIS_NUMBER\u001b[0m\u001b[0;34m[\u001b[0m\u001b[0maxis\u001b[0m\u001b[0;34m]\u001b[0m\u001b[0;34m\u001b[0m\u001b[0;34m\u001b[0m\u001b[0m\n\u001b[0m\u001b[1;32m    369\u001b[0m         \u001b[0;32mexcept\u001b[0m \u001b[0mKeyError\u001b[0m\u001b[0;34m:\u001b[0m\u001b[0;34m\u001b[0m\u001b[0;34m\u001b[0m\u001b[0m\n",
      "\u001b[0;31mKeyError\u001b[0m: 1",
      "\nDuring handling of the above exception, another exception occurred:\n",
      "\u001b[0;31mValueError\u001b[0m                                Traceback (most recent call last)",
      "\u001b[0;32m<ipython-input-42-32cb39ba6b3c>\u001b[0m in \u001b[0;36m<module>\u001b[0;34m\u001b[0m\n\u001b[0;32m----> 1\u001b[0;31m \u001b[0mdf_hip_clean\u001b[0m\u001b[0;34m[\u001b[0m\u001b[0;34m'REL_diff_ohs1'\u001b[0m\u001b[0;34m]\u001b[0m \u001b[0;34m=\u001b[0m \u001b[0mdf_hip_clean\u001b[0m\u001b[0;34m[\u001b[0m\u001b[0;34m'REL_diff_ohs'\u001b[0m\u001b[0;34m]\u001b[0m\u001b[0;34m.\u001b[0m\u001b[0mreplace\u001b[0m\u001b[0;34m(\u001b[0m\u001b[0;34m[\u001b[0m\u001b[0mnp\u001b[0m\u001b[0;34m.\u001b[0m\u001b[0minf\u001b[0m\u001b[0;34m,\u001b[0m \u001b[0;34m-\u001b[0m\u001b[0mnp\u001b[0m\u001b[0;34m.\u001b[0m\u001b[0minf\u001b[0m\u001b[0;34m]\u001b[0m\u001b[0;34m,\u001b[0m \u001b[0mnp\u001b[0m\u001b[0;34m.\u001b[0m\u001b[0mnan\u001b[0m\u001b[0;34m)\u001b[0m\u001b[0;34m.\u001b[0m\u001b[0mdropna\u001b[0m\u001b[0;34m(\u001b[0m\u001b[0maxis\u001b[0m\u001b[0;34m=\u001b[0m\u001b[0;36m1\u001b[0m\u001b[0;34m)\u001b[0m\u001b[0;34m\u001b[0m\u001b[0;34m\u001b[0m\u001b[0m\n\u001b[0m",
      "\u001b[0;32m/opt/anaconda3/envs/jads/lib/python3.8/site-packages/pandas/core/series.py\u001b[0m in \u001b[0;36mdropna\u001b[0;34m(self, axis, inplace, how)\u001b[0m\n\u001b[1;32m   4893\u001b[0m         \u001b[0minplace\u001b[0m \u001b[0;34m=\u001b[0m \u001b[0mvalidate_bool_kwarg\u001b[0m\u001b[0;34m(\u001b[0m\u001b[0minplace\u001b[0m\u001b[0;34m,\u001b[0m \u001b[0;34m\"inplace\"\u001b[0m\u001b[0;34m)\u001b[0m\u001b[0;34m\u001b[0m\u001b[0;34m\u001b[0m\u001b[0m\n\u001b[1;32m   4894\u001b[0m         \u001b[0;31m# Validate the axis parameter\u001b[0m\u001b[0;34m\u001b[0m\u001b[0;34m\u001b[0m\u001b[0;34m\u001b[0m\u001b[0m\n\u001b[0;32m-> 4895\u001b[0;31m         \u001b[0mself\u001b[0m\u001b[0;34m.\u001b[0m\u001b[0m_get_axis_number\u001b[0m\u001b[0;34m(\u001b[0m\u001b[0maxis\u001b[0m \u001b[0;32mor\u001b[0m \u001b[0;36m0\u001b[0m\u001b[0;34m)\u001b[0m\u001b[0;34m\u001b[0m\u001b[0;34m\u001b[0m\u001b[0m\n\u001b[0m\u001b[1;32m   4896\u001b[0m \u001b[0;34m\u001b[0m\u001b[0m\n\u001b[1;32m   4897\u001b[0m         \u001b[0;32mif\u001b[0m \u001b[0mself\u001b[0m\u001b[0;34m.\u001b[0m\u001b[0m_can_hold_na\u001b[0m\u001b[0;34m:\u001b[0m\u001b[0;34m\u001b[0m\u001b[0;34m\u001b[0m\u001b[0m\n",
      "\u001b[0;32m/opt/anaconda3/envs/jads/lib/python3.8/site-packages/pandas/core/generic.py\u001b[0m in \u001b[0;36m_get_axis_number\u001b[0;34m(cls, axis)\u001b[0m\n\u001b[1;32m    368\u001b[0m             \u001b[0;32mreturn\u001b[0m \u001b[0mcls\u001b[0m\u001b[0;34m.\u001b[0m\u001b[0m_AXIS_TO_AXIS_NUMBER\u001b[0m\u001b[0;34m[\u001b[0m\u001b[0maxis\u001b[0m\u001b[0;34m]\u001b[0m\u001b[0;34m\u001b[0m\u001b[0;34m\u001b[0m\u001b[0m\n\u001b[1;32m    369\u001b[0m         \u001b[0;32mexcept\u001b[0m \u001b[0mKeyError\u001b[0m\u001b[0;34m:\u001b[0m\u001b[0;34m\u001b[0m\u001b[0;34m\u001b[0m\u001b[0m\n\u001b[0;32m--> 370\u001b[0;31m             \u001b[0;32mraise\u001b[0m \u001b[0mValueError\u001b[0m\u001b[0;34m(\u001b[0m\u001b[0;34mf\"No axis named {axis} for object type {cls.__name__}\"\u001b[0m\u001b[0;34m)\u001b[0m\u001b[0;34m\u001b[0m\u001b[0;34m\u001b[0m\u001b[0m\n\u001b[0m\u001b[1;32m    371\u001b[0m \u001b[0;34m\u001b[0m\u001b[0m\n\u001b[1;32m    372\u001b[0m     \u001b[0;34m@\u001b[0m\u001b[0mclassmethod\u001b[0m\u001b[0;34m\u001b[0m\u001b[0;34m\u001b[0m\u001b[0m\n",
      "\u001b[0;31mValueError\u001b[0m: No axis named 1 for object type Series"
     ]
    }
   ],
   "source": [
    "df_hip_clean['REL_diff_ohs1'] = df_hip_clean['REL_diff_ohs'].replace([np.inf, -np.inf], np.nan).dropna(axis=1)"
   ]
  },
  {
   "cell_type": "code",
   "execution_count": 37,
   "metadata": {},
   "outputs": [],
   "source": [
    "yscaler = ['t0_ohs_score', 'REL_diff_ohs']"
   ]
  },
  {
   "cell_type": "code",
   "execution_count": 38,
   "metadata": {},
   "outputs": [
    {
     "ename": "ValueError",
     "evalue": "Input contains infinity or a value too large for dtype('float32').",
     "output_type": "error",
     "traceback": [
      "\u001b[0;31m---------------------------------------------------------------------------\u001b[0m",
      "\u001b[0;31mValueError\u001b[0m                                Traceback (most recent call last)",
      "\u001b[0;32m<ipython-input-38-7341e57ab912>\u001b[0m in \u001b[0;36m<module>\u001b[0;34m\u001b[0m\n\u001b[1;32m      1\u001b[0m \u001b[0;32mfrom\u001b[0m \u001b[0msklearn\u001b[0m\u001b[0;34m.\u001b[0m\u001b[0mpreprocessing\u001b[0m \u001b[0;32mimport\u001b[0m \u001b[0mStandardScaler\u001b[0m\u001b[0;34m\u001b[0m\u001b[0;34m\u001b[0m\u001b[0m\n\u001b[1;32m      2\u001b[0m \u001b[0mscaler\u001b[0m \u001b[0;34m=\u001b[0m \u001b[0mStandardScaler\u001b[0m\u001b[0;34m(\u001b[0m\u001b[0;34m)\u001b[0m\u001b[0;34m\u001b[0m\u001b[0;34m\u001b[0m\u001b[0m\n\u001b[0;32m----> 3\u001b[0;31m \u001b[0mdf_hip_clean\u001b[0m\u001b[0;34m[\u001b[0m\u001b[0myscaler\u001b[0m\u001b[0;34m]\u001b[0m \u001b[0;34m=\u001b[0m \u001b[0mscaler\u001b[0m\u001b[0;34m.\u001b[0m\u001b[0mfit_transform\u001b[0m\u001b[0;34m(\u001b[0m\u001b[0mdf_hip_clean\u001b[0m\u001b[0;34m[\u001b[0m\u001b[0myscaler\u001b[0m\u001b[0;34m]\u001b[0m\u001b[0;34m)\u001b[0m\u001b[0;34m\u001b[0m\u001b[0;34m\u001b[0m\u001b[0m\n\u001b[0m",
      "\u001b[0;32m/opt/anaconda3/envs/jads/lib/python3.8/site-packages/sklearn/base.py\u001b[0m in \u001b[0;36mfit_transform\u001b[0;34m(self, X, y, **fit_params)\u001b[0m\n\u001b[1;32m    697\u001b[0m         \u001b[0;32mif\u001b[0m \u001b[0my\u001b[0m \u001b[0;32mis\u001b[0m \u001b[0;32mNone\u001b[0m\u001b[0;34m:\u001b[0m\u001b[0;34m\u001b[0m\u001b[0;34m\u001b[0m\u001b[0m\n\u001b[1;32m    698\u001b[0m             \u001b[0;31m# fit method of arity 1 (unsupervised transformation)\u001b[0m\u001b[0;34m\u001b[0m\u001b[0;34m\u001b[0m\u001b[0;34m\u001b[0m\u001b[0m\n\u001b[0;32m--> 699\u001b[0;31m             \u001b[0;32mreturn\u001b[0m \u001b[0mself\u001b[0m\u001b[0;34m.\u001b[0m\u001b[0mfit\u001b[0m\u001b[0;34m(\u001b[0m\u001b[0mX\u001b[0m\u001b[0;34m,\u001b[0m \u001b[0;34m**\u001b[0m\u001b[0mfit_params\u001b[0m\u001b[0;34m)\u001b[0m\u001b[0;34m.\u001b[0m\u001b[0mtransform\u001b[0m\u001b[0;34m(\u001b[0m\u001b[0mX\u001b[0m\u001b[0;34m)\u001b[0m\u001b[0;34m\u001b[0m\u001b[0;34m\u001b[0m\u001b[0m\n\u001b[0m\u001b[1;32m    700\u001b[0m         \u001b[0;32melse\u001b[0m\u001b[0;34m:\u001b[0m\u001b[0;34m\u001b[0m\u001b[0;34m\u001b[0m\u001b[0m\n\u001b[1;32m    701\u001b[0m             \u001b[0;31m# fit method of arity 2 (supervised transformation)\u001b[0m\u001b[0;34m\u001b[0m\u001b[0;34m\u001b[0m\u001b[0;34m\u001b[0m\u001b[0m\n",
      "\u001b[0;32m/opt/anaconda3/envs/jads/lib/python3.8/site-packages/sklearn/preprocessing/_data.py\u001b[0m in \u001b[0;36mfit\u001b[0;34m(self, X, y, sample_weight)\u001b[0m\n\u001b[1;32m    728\u001b[0m         \u001b[0;31m# Reset internal state before fitting\u001b[0m\u001b[0;34m\u001b[0m\u001b[0;34m\u001b[0m\u001b[0;34m\u001b[0m\u001b[0m\n\u001b[1;32m    729\u001b[0m         \u001b[0mself\u001b[0m\u001b[0;34m.\u001b[0m\u001b[0m_reset\u001b[0m\u001b[0;34m(\u001b[0m\u001b[0;34m)\u001b[0m\u001b[0;34m\u001b[0m\u001b[0;34m\u001b[0m\u001b[0m\n\u001b[0;32m--> 730\u001b[0;31m         \u001b[0;32mreturn\u001b[0m \u001b[0mself\u001b[0m\u001b[0;34m.\u001b[0m\u001b[0mpartial_fit\u001b[0m\u001b[0;34m(\u001b[0m\u001b[0mX\u001b[0m\u001b[0;34m,\u001b[0m \u001b[0my\u001b[0m\u001b[0;34m,\u001b[0m \u001b[0msample_weight\u001b[0m\u001b[0;34m)\u001b[0m\u001b[0;34m\u001b[0m\u001b[0;34m\u001b[0m\u001b[0m\n\u001b[0m\u001b[1;32m    731\u001b[0m \u001b[0;34m\u001b[0m\u001b[0m\n\u001b[1;32m    732\u001b[0m     \u001b[0;32mdef\u001b[0m \u001b[0mpartial_fit\u001b[0m\u001b[0;34m(\u001b[0m\u001b[0mself\u001b[0m\u001b[0;34m,\u001b[0m \u001b[0mX\u001b[0m\u001b[0;34m,\u001b[0m \u001b[0my\u001b[0m\u001b[0;34m=\u001b[0m\u001b[0;32mNone\u001b[0m\u001b[0;34m,\u001b[0m \u001b[0msample_weight\u001b[0m\u001b[0;34m=\u001b[0m\u001b[0;32mNone\u001b[0m\u001b[0;34m)\u001b[0m\u001b[0;34m:\u001b[0m\u001b[0;34m\u001b[0m\u001b[0;34m\u001b[0m\u001b[0m\n",
      "\u001b[0;32m/opt/anaconda3/envs/jads/lib/python3.8/site-packages/sklearn/preprocessing/_data.py\u001b[0m in \u001b[0;36mpartial_fit\u001b[0;34m(self, X, y, sample_weight)\u001b[0m\n\u001b[1;32m    764\u001b[0m         \"\"\"\n\u001b[1;32m    765\u001b[0m         \u001b[0mfirst_call\u001b[0m \u001b[0;34m=\u001b[0m \u001b[0;32mnot\u001b[0m \u001b[0mhasattr\u001b[0m\u001b[0;34m(\u001b[0m\u001b[0mself\u001b[0m\u001b[0;34m,\u001b[0m \u001b[0;34m\"n_samples_seen_\"\u001b[0m\u001b[0;34m)\u001b[0m\u001b[0;34m\u001b[0m\u001b[0;34m\u001b[0m\u001b[0m\n\u001b[0;32m--> 766\u001b[0;31m         X = self._validate_data(X, accept_sparse=('csr', 'csc'),\n\u001b[0m\u001b[1;32m    767\u001b[0m                                 \u001b[0mestimator\u001b[0m\u001b[0;34m=\u001b[0m\u001b[0mself\u001b[0m\u001b[0;34m,\u001b[0m \u001b[0mdtype\u001b[0m\u001b[0;34m=\u001b[0m\u001b[0mFLOAT_DTYPES\u001b[0m\u001b[0;34m,\u001b[0m\u001b[0;34m\u001b[0m\u001b[0;34m\u001b[0m\u001b[0m\n\u001b[1;32m    768\u001b[0m                                 force_all_finite='allow-nan', reset=first_call)\n",
      "\u001b[0;32m/opt/anaconda3/envs/jads/lib/python3.8/site-packages/sklearn/base.py\u001b[0m in \u001b[0;36m_validate_data\u001b[0;34m(self, X, y, reset, validate_separately, **check_params)\u001b[0m\n\u001b[1;32m    419\u001b[0m             \u001b[0mout\u001b[0m \u001b[0;34m=\u001b[0m \u001b[0mX\u001b[0m\u001b[0;34m\u001b[0m\u001b[0;34m\u001b[0m\u001b[0m\n\u001b[1;32m    420\u001b[0m         \u001b[0;32melif\u001b[0m \u001b[0misinstance\u001b[0m\u001b[0;34m(\u001b[0m\u001b[0my\u001b[0m\u001b[0;34m,\u001b[0m \u001b[0mstr\u001b[0m\u001b[0;34m)\u001b[0m \u001b[0;32mand\u001b[0m \u001b[0my\u001b[0m \u001b[0;34m==\u001b[0m \u001b[0;34m'no_validation'\u001b[0m\u001b[0;34m:\u001b[0m\u001b[0;34m\u001b[0m\u001b[0;34m\u001b[0m\u001b[0m\n\u001b[0;32m--> 421\u001b[0;31m             \u001b[0mX\u001b[0m \u001b[0;34m=\u001b[0m \u001b[0mcheck_array\u001b[0m\u001b[0;34m(\u001b[0m\u001b[0mX\u001b[0m\u001b[0;34m,\u001b[0m \u001b[0;34m**\u001b[0m\u001b[0mcheck_params\u001b[0m\u001b[0;34m)\u001b[0m\u001b[0;34m\u001b[0m\u001b[0;34m\u001b[0m\u001b[0m\n\u001b[0m\u001b[1;32m    422\u001b[0m             \u001b[0mout\u001b[0m \u001b[0;34m=\u001b[0m \u001b[0mX\u001b[0m\u001b[0;34m\u001b[0m\u001b[0;34m\u001b[0m\u001b[0m\n\u001b[1;32m    423\u001b[0m         \u001b[0;32melse\u001b[0m\u001b[0;34m:\u001b[0m\u001b[0;34m\u001b[0m\u001b[0;34m\u001b[0m\u001b[0m\n",
      "\u001b[0;32m/opt/anaconda3/envs/jads/lib/python3.8/site-packages/sklearn/utils/validation.py\u001b[0m in \u001b[0;36minner_f\u001b[0;34m(*args, **kwargs)\u001b[0m\n\u001b[1;32m     61\u001b[0m             \u001b[0mextra_args\u001b[0m \u001b[0;34m=\u001b[0m \u001b[0mlen\u001b[0m\u001b[0;34m(\u001b[0m\u001b[0margs\u001b[0m\u001b[0;34m)\u001b[0m \u001b[0;34m-\u001b[0m \u001b[0mlen\u001b[0m\u001b[0;34m(\u001b[0m\u001b[0mall_args\u001b[0m\u001b[0;34m)\u001b[0m\u001b[0;34m\u001b[0m\u001b[0;34m\u001b[0m\u001b[0m\n\u001b[1;32m     62\u001b[0m             \u001b[0;32mif\u001b[0m \u001b[0mextra_args\u001b[0m \u001b[0;34m<=\u001b[0m \u001b[0;36m0\u001b[0m\u001b[0;34m:\u001b[0m\u001b[0;34m\u001b[0m\u001b[0;34m\u001b[0m\u001b[0m\n\u001b[0;32m---> 63\u001b[0;31m                 \u001b[0;32mreturn\u001b[0m \u001b[0mf\u001b[0m\u001b[0;34m(\u001b[0m\u001b[0;34m*\u001b[0m\u001b[0margs\u001b[0m\u001b[0;34m,\u001b[0m \u001b[0;34m**\u001b[0m\u001b[0mkwargs\u001b[0m\u001b[0;34m)\u001b[0m\u001b[0;34m\u001b[0m\u001b[0;34m\u001b[0m\u001b[0m\n\u001b[0m\u001b[1;32m     64\u001b[0m \u001b[0;34m\u001b[0m\u001b[0m\n\u001b[1;32m     65\u001b[0m             \u001b[0;31m# extra_args > 0\u001b[0m\u001b[0;34m\u001b[0m\u001b[0;34m\u001b[0m\u001b[0;34m\u001b[0m\u001b[0m\n",
      "\u001b[0;32m/opt/anaconda3/envs/jads/lib/python3.8/site-packages/sklearn/utils/validation.py\u001b[0m in \u001b[0;36mcheck_array\u001b[0;34m(array, accept_sparse, accept_large_sparse, dtype, order, copy, force_all_finite, ensure_2d, allow_nd, ensure_min_samples, ensure_min_features, estimator)\u001b[0m\n\u001b[1;32m    661\u001b[0m \u001b[0;34m\u001b[0m\u001b[0m\n\u001b[1;32m    662\u001b[0m         \u001b[0;32mif\u001b[0m \u001b[0mforce_all_finite\u001b[0m\u001b[0;34m:\u001b[0m\u001b[0;34m\u001b[0m\u001b[0;34m\u001b[0m\u001b[0m\n\u001b[0;32m--> 663\u001b[0;31m             _assert_all_finite(array,\n\u001b[0m\u001b[1;32m    664\u001b[0m                                allow_nan=force_all_finite == 'allow-nan')\n\u001b[1;32m    665\u001b[0m \u001b[0;34m\u001b[0m\u001b[0m\n",
      "\u001b[0;32m/opt/anaconda3/envs/jads/lib/python3.8/site-packages/sklearn/utils/validation.py\u001b[0m in \u001b[0;36m_assert_all_finite\u001b[0;34m(X, allow_nan, msg_dtype)\u001b[0m\n\u001b[1;32m    101\u001b[0m                 not allow_nan and not np.isfinite(X).all()):\n\u001b[1;32m    102\u001b[0m             \u001b[0mtype_err\u001b[0m \u001b[0;34m=\u001b[0m \u001b[0;34m'infinity'\u001b[0m \u001b[0;32mif\u001b[0m \u001b[0mallow_nan\u001b[0m \u001b[0;32melse\u001b[0m \u001b[0;34m'NaN, infinity'\u001b[0m\u001b[0;34m\u001b[0m\u001b[0;34m\u001b[0m\u001b[0m\n\u001b[0;32m--> 103\u001b[0;31m             raise ValueError(\n\u001b[0m\u001b[1;32m    104\u001b[0m                     \u001b[0mmsg_err\u001b[0m\u001b[0;34m.\u001b[0m\u001b[0mformat\u001b[0m\u001b[0;34m\u001b[0m\u001b[0;34m\u001b[0m\u001b[0m\n\u001b[1;32m    105\u001b[0m                     (type_err,\n",
      "\u001b[0;31mValueError\u001b[0m: Input contains infinity or a value too large for dtype('float32')."
     ]
    }
   ],
   "source": [
    "from sklearn.preprocessing import StandardScaler\n",
    "scaler = StandardScaler()\n",
    "df_hip_clean[yscaler] = scaler.fit_transform(df_hip_clean[yscaler])"
   ]
  },
  {
   "cell_type": "code",
   "execution_count": 34,
   "metadata": {
    "scrolled": true
   },
   "outputs": [
    {
     "data": {
      "image/png": "[encoded data removed]",
      "text/plain": [
       "<Figure size 504x360 with 1 Axes>"
      ]
     },
     "metadata": {},
     "output_type": "display_data"
    }
   ],
   "source": [
    "fig, ax = plt.subplots(figsize=(7,5))\n",
    "fig = sns.boxplot(x=df_hip_clean[\"success_recode\"], y=df_hip_clean['REL_diff_ohs'], data=df_hip_clean)"
   ]
  },
  {
   "cell_type": "code",
   "execution_count": null,
   "metadata": {},
   "outputs": [],
   "source": [
    "plt.figure(figsize=(15,8))\n",
    "sns.displot(df_hip_clean, x=\"diff_ohs\", hue='success_recode', alpha=.5, kind=\"kde\", common_norm=False);"
   ]
  },
  {
   "cell_type": "code",
   "execution_count": null,
   "metadata": {
    "scrolled": true
   },
   "outputs": [],
   "source": [
    "sns.pairplot(data=df_hip_clean[['t0_ohs_score','t1_ohs_score', 'success_recode']],hue='success_recode', palette=\"coolwarm\", corner=True);"
   ]
  },
  {
   "cell_type": "code",
   "execution_count": null,
   "metadata": {
    "scrolled": true
   },
   "outputs": [],
   "source": [
    "fig, ax = plt.subplots(figsize=(7,5))\n",
    "fig = sns.boxplot(x=df_hip_clean[\"success_recode\"], y=df_hip_clean['diff_ohs'], data=df_hip_clean)"
   ]
  },
  {
   "cell_type": "code",
   "execution_count": null,
   "metadata": {},
   "outputs": [],
   "source": [
    "df_hip_clean['diff_ohs'].groupby(df_hip_clean['success_recode']).mean()"
   ]
  },
  {
   "cell_type": "code",
   "execution_count": null,
   "metadata": {},
   "outputs": [],
   "source": [
    "# def success_rec(recode):\n",
    "#     if recode == 'a little worse':\n",
    "#         return 1\n",
    "#     elif recode == 'much worse':\n",
    "#         return 1\n",
    "# #     elif recode == 'about the same':\n",
    "# #         return 1\n",
    "#     else:\n",
    "#         return 0\n",
    "    \n",
    "# df_hip['success_recode'] = df_hip['t1_success'].apply(success_rec)\n",
    "# df_hip['success_recode'].value_counts(sort=False)"
   ]
  },
  {
   "cell_type": "code",
   "execution_count": null,
   "metadata": {},
   "outputs": [],
   "source": [
    "df_hip = df_hip.dropna().sample(10_000) # dirty drop for the sake of testing pl\n",
    "\n",
    "# create x, y\n",
    "X = df_hip.filter(regex=\"t0\")\n",
    "y = (df_hip[\"t1_ohs_score\"] - df_hip[\"t0_ohs_score\"] <= 3).astype(int) # hip <= 3\n",
    "# y = (df_hip[\"success_recode\"] == 1).astype(int) # hip <= 3\n",
    "\n",
    "# create train, test\n",
    "X_train, X_test, y_train, y_test = train_test_split(\n",
    "    X, y, test_size=0.33, random_state=42, stratify=y\n",
    ")"
   ]
  },
  {
   "cell_type": "markdown",
   "metadata": {},
   "source": [
    "## show OHE"
   ]
  },
  {
   "cell_type": "code",
   "execution_count": null,
   "metadata": {},
   "outputs": [],
   "source": [
    "# example to show it works\n",
    "OHE = OneHotEncoder(sparse=False, dtype=\"uint8\")\n",
    "OHE.fit(X_train)\n",
    "\n",
    "pd.DataFrame(\n",
    "    data=OHE.transform(X_train),\n",
    "    index=X_train.index,\n",
    "    columns=OHE.get_feature_names(X_train.columns),\n",
    ")"
   ]
  },
  {
   "cell_type": "markdown",
   "metadata": {},
   "source": [
    "## make balanced"
   ]
  },
  {
   "cell_type": "code",
   "execution_count": null,
   "metadata": {},
   "outputs": [],
   "source": [
    "print(\"before:\")\n",
    "display(y_train.value_counts())\n",
    "\n",
    "cat_cols = X_train.dtypes == \"category\"\n",
    "\n",
    "resampler = SMOTENC(categorical_features=cat_cols.values)\n",
    "X_train_balanced, y_train_balanced = resampler.fit_resample(X_train, y_train)\n",
    "\n",
    "print(\"after:\")\n",
    "display(y_train_balanced.value_counts())"
   ]
  },
  {
   "cell_type": "markdown",
   "metadata": {},
   "source": [
    "## make + train a simple pipeline"
   ]
  },
  {
   "cell_type": "code",
   "execution_count": null,
   "metadata": {},
   "outputs": [],
   "source": [
    "from sklearn.ensemble import AdaBoostClassifier"
   ]
  },
  {
   "cell_type": "code",
   "execution_count": null,
   "metadata": {},
   "outputs": [],
   "source": [
    "# make the pipeline\n",
    "ct = make_column_transformer(\n",
    "    (OneHotEncoder(), make_column_selector(dtype_include=\"category\")),\n",
    "    (StandardScaler(), make_column_selector(dtype_include=\"number\")),\n",
    ") \n",
    "\n",
    "pl = make_pipeline(ct, AdaBoostClassifier())\n",
    "\n",
    "# train the pipeline/model\n",
    "pl.fit(X_train_balanced, y_train_balanced)"
   ]
  },
  {
   "cell_type": "markdown",
   "metadata": {},
   "source": [
    "## predict + evaluate"
   ]
  },
  {
   "cell_type": "code",
   "execution_count": null,
   "metadata": {},
   "outputs": [],
   "source": [
    "# make prediction\n",
    "y_hat = pl.predict(X_test.head(500))\n",
    "\n",
    "# evaluate\n",
    "print(classification_report(y_test.head(500), y_hat))"
   ]
  },
  {
   "cell_type": "markdown",
   "metadata": {},
   "source": [
    "## extract feature names pl"
   ]
  },
  {
   "cell_type": "code",
   "execution_count": null,
   "metadata": {},
   "outputs": [],
   "source": [
    "# get the feature names from pipeline\n",
    "def get_feature_names(sklobj, feature_names=[]):\n",
    "\n",
    "    if isinstance(sklobj, Pipeline):\n",
    "        for name, step in sklobj.steps:\n",
    "            get_feature_names(step, feature_names)\n",
    "    elif isinstance(sklobj, ColumnTransformer):\n",
    "        for name, transformer, columns in sklobj.transformers_:\n",
    "            feature_names += get_feature_names(transformer, columns)\n",
    "    elif isinstance(sklobj, OneHotEncoder):\n",
    "        feature_names = sklobj.get_feature_names(feature_names).tolist()\n",
    "    elif isinstance(sklobj, str):\n",
    "        if sklobj == \"passthrough\":\n",
    "            pass\n",
    "        elif sklobj == \"drop\":\n",
    "            feature_names = []\n",
    "            \n",
    "    return feature_names"
   ]
  },
  {
   "cell_type": "code",
   "execution_count": null,
   "metadata": {
    "scrolled": false
   },
   "outputs": [],
   "source": [
    "get_feature_names(pl)"
   ]
  },
  {
   "cell_type": "code",
   "execution_count": null,
   "metadata": {},
   "outputs": [],
   "source": [
    "# # this is slow ...\n",
    "# r = permutation_importance(pl, X_train.head(1_000), y_train.head(1_000), n_repeats=2, random_state=0)\n",
    "\n",
    "# feature_names = get_feature_names(pl)\n",
    "\n",
    "# for i in r.importances_mean.argsort()[::-1]:\n",
    "#     if r.importances_mean[i] - 2 * r.importances_std[i] > 0:\n",
    "#         print(f\"{feature_names[i]:<8}\"\n",
    "#         f\"{r.importances_mean[i]:.3f}\"\n",
    "#         f\" +/- {r.importances_std[i]:.3f}\")"
   ]
  },
  {
   "cell_type": "markdown",
   "metadata": {},
   "source": [
    "## a more advanced pipeline"
   ]
  },
  {
   "cell_type": "code",
   "execution_count": null,
   "metadata": {},
   "outputs": [],
   "source": [
    "# TO DO ..."
   ]
  },
  {
   "cell_type": "markdown",
   "metadata": {},
   "source": [
    "## debug issue"
   ]
  },
  {
   "cell_type": "code",
   "execution_count": null,
   "metadata": {},
   "outputs": [],
   "source": [
    "data = list(\"abcebdebca\")\n",
    "categories = list(\"abcd\")"
   ]
  },
  {
   "cell_type": "code",
   "execution_count": null,
   "metadata": {},
   "outputs": [],
   "source": [
    "cats = pd.Categorical(data, categories=categories, ordered=True)\n",
    "s1 = pd.Series(cats)\n",
    "\n",
    "display(s1)\n",
    "s1.cat.categories"
   ]
  },
  {
   "cell_type": "code",
   "execution_count": null,
   "metadata": {},
   "outputs": [],
   "source": [
    "from pandas.api.types import CategoricalDtype\n",
    "cat_type = CategoricalDtype(categories=categories, ordered=True)\n",
    "s2 = pd.Series(data).astype(cat_type)\n",
    "\n",
    "display(s2)\n",
    "s2.cat.categories"
   ]
  },
  {
   "cell_type": "code",
   "execution_count": null,
   "metadata": {},
   "outputs": [],
   "source": [
    "s3 = pd.Series(data).astype(\"category\")\n",
    "\n",
    "display(s3)\n",
    "s3.cat.categories"
   ]
  },
  {
   "cell_type": "code",
   "execution_count": null,
   "metadata": {},
   "outputs": [],
   "source": []
  }
 ],
 "metadata": {
  "hide_input": false,
  "kernelspec": {
   "display_name": "Python [conda env:jads]",
   "language": "python",
   "name": "conda-env-jads-py"
  },
  "language_info": {
   "codemirror_mode": {
    "name": "ipython",
    "version": 3
   },
   "file_extension": ".py",
   "mimetype": "text/x-python",
   "name": "python",
   "nbconvert_exporter": "python",
   "pygments_lexer": "ipython3",
   "version": "3.8.8"
  },
  "toc": {
   "base_numbering": 1,
   "nav_menu": {},
   "number_sections": true,
   "sideBar": true,
   "skip_h1_title": false,
   "title_cell": "Table of Contents",
   "title_sidebar": "Contents",
   "toc_cell": false,
   "toc_position": {},
   "toc_section_display": true,
   "toc_window_display": true
  },
  "varInspector": {
   "cols": {
    "lenName": 16,
    "lenType": 16,
    "lenVar": 40
   },
   "kernels_config": {
    "python": {
     "delete_cmd_postfix": "",
     "delete_cmd_prefix": "del ",
     "library": "var_list.py",
     "varRefreshCmd": "print(var_dic_list())"
    },
    "r": {
     "delete_cmd_postfix": ") ",
     "delete_cmd_prefix": "rm(",
     "library": "var_list.r",
     "varRefreshCmd": "cat(var_dic_list()) "
    }
   },
   "types_to_exclude": [
    "module",
    "function",
    "builtin_function_or_method",
    "instance",
    "_Feature"
   ],
   "window_display": false
  }
 },
 "nbformat": 4,
 "nbformat_minor": 4
}
