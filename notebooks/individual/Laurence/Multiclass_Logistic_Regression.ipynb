{
 "cells": [
  {
   "cell_type": "markdown",
   "metadata": {},
   "source": [
    "# Refactored notebook for modelling"
   ]
  },
  {
   "cell_type": "markdown",
   "metadata": {},
   "source": [
    "## imports"
   ]
  },
  {
   "cell_type": "code",
   "execution_count": 170,
   "metadata": {},
   "outputs": [],
   "source": [
    "import sys\n",
    "\n",
    "sys.path.append(\"..\")\n",
    "\n",
    "import numpy as np\n",
    "import pandas as pd\n",
    "import warnings\n",
    "import re\n",
    "\n",
    "from NHS_PROMs.load_data import load_proms, structure_name\n",
    "from NHS_PROMs.preprocess import filter_in_range, filter_in_labels, method_delta\n",
    "from NHS_PROMs.utils import downcast, map_labels\n",
    "from NHS_PROMs.data_dictionary import meta_dict\n",
    "\n",
    "import matplotlib as mpl\n",
    "import matplotlib.pyplot as plt\n",
    "import seaborn as sns\n",
    "\n",
    "import statsmodels.api as sm\n",
    "import statsmodels.formula.api as smf\n",
    "\n",
    "from sklearn.linear_model import LogisticRegression\n",
    "from sklearn.model_selection import train_test_split\n",
    "from sklearn.compose import make_column_selector\n",
    "from sklearn.pipeline import Pipeline, make_pipeline\n",
    "from sklearn.compose import ColumnTransformer, make_column_transformer, make_column_selector\n",
    "from sklearn.preprocessing import OneHotEncoder, StandardScaler\n",
    "from sklearn.neighbors import KNeighborsClassifier\n",
    "from sklearn.metrics import classification_report, confusion_matrix, plot_confusion_matrix\n",
    "from sklearn.inspection import permutation_importance\n",
    "from sklearn import set_config\n",
    "set_config(display='diagram')\n",
    "\n",
    "pd.set_option('precision', 2) # 2 decimal places\n",
    "pd.set_option('display.max_rows', 20)\n",
    "pd.set_option('display.max_columns', 30)\n",
    "pd.set_option('display.width', 100) # wide windows\n",
    "\n",
    "#from imblearn.over_sampling import SMOTENC\n",
    "\n",
    "SEED = 888\n"
   ]
  },
  {
   "cell_type": "markdown",
   "metadata": {},
   "source": [
    "## load data\n",
    "General approach is not DRY for the sake of availability of having knee and hip df's always at hand, but also keep it readable (script-wise)."
   ]
  },
  {
   "cell_type": "code",
   "execution_count": 171,
   "metadata": {},
   "outputs": [
    {
     "data": {
      "text/html": [
       "<div>\n",
       "<style scoped>\n",
       "    .dataframe tbody tr th:only-of-type {\n",
       "        vertical-align: middle;\n",
       "    }\n",
       "\n",
       "    .dataframe tbody tr th {\n",
       "        vertical-align: top;\n",
       "    }\n",
       "\n",
       "    .dataframe thead th {\n",
       "        text-align: right;\n",
       "    }\n",
       "</style>\n",
       "<table border=\"1\" class=\"dataframe\">\n",
       "  <thead>\n",
       "    <tr style=\"text-align: right;\">\n",
       "      <th></th>\n",
       "      <th>t0_provider_code</th>\n",
       "      <th>t0_procedure</th>\n",
       "      <th>t0_revision_flag</th>\n",
       "      <th>t0_year</th>\n",
       "      <th>t0_age_band</th>\n",
       "      <th>t0_gender</th>\n",
       "      <th>t0_assisted</th>\n",
       "      <th>t0_assisted_by</th>\n",
       "      <th>t0_symptom_period</th>\n",
       "      <th>t0_previous_surgery</th>\n",
       "      <th>t0_living_arrangements</th>\n",
       "      <th>t0_disability</th>\n",
       "      <th>t0_heart_disease</th>\n",
       "      <th>t0_high_bp</th>\n",
       "      <th>t0_stroke</th>\n",
       "      <th>...</th>\n",
       "      <th>t0_ohs_score</th>\n",
       "      <th>t1_ohs_pain</th>\n",
       "      <th>t1_ohs_sudden_pain</th>\n",
       "      <th>t1_ohs_night_pain</th>\n",
       "      <th>t1_ohs_washing</th>\n",
       "      <th>t1_ohs_transport</th>\n",
       "      <th>t1_ohs_dressing</th>\n",
       "      <th>t1_ohs_shopping</th>\n",
       "      <th>t1_ohs_walking</th>\n",
       "      <th>t1_ohs_limping</th>\n",
       "      <th>t1_ohs_stairs</th>\n",
       "      <th>t1_ohs_standing</th>\n",
       "      <th>t1_ohs_work</th>\n",
       "      <th>t1_ohs_score</th>\n",
       "      <th>t1_ohs_predicted</th>\n",
       "    </tr>\n",
       "  </thead>\n",
       "  <tbody>\n",
       "    <tr>\n",
       "      <th>23800</th>\n",
       "      <td>RL1</td>\n",
       "      <td>Hip Replacement</td>\n",
       "      <td>0</td>\n",
       "      <td>2017/18</td>\n",
       "      <td>70 to 79</td>\n",
       "      <td>2.0</td>\n",
       "      <td>1</td>\n",
       "      <td>0</td>\n",
       "      <td>3</td>\n",
       "      <td>2</td>\n",
       "      <td>2</td>\n",
       "      <td>2</td>\n",
       "      <td>9</td>\n",
       "      <td>1</td>\n",
       "      <td>9</td>\n",
       "      <td>...</td>\n",
       "      <td>6.0</td>\n",
       "      <td>3</td>\n",
       "      <td>4</td>\n",
       "      <td>4</td>\n",
       "      <td>4</td>\n",
       "      <td>3</td>\n",
       "      <td>4</td>\n",
       "      <td>4</td>\n",
       "      <td>4</td>\n",
       "      <td>4</td>\n",
       "      <td>4</td>\n",
       "      <td>4</td>\n",
       "      <td>4</td>\n",
       "      <td>46.0</td>\n",
       "      <td>35.78</td>\n",
       "    </tr>\n",
       "    <tr>\n",
       "      <th>9498</th>\n",
       "      <td>RAS</td>\n",
       "      <td>Hip Replacement</td>\n",
       "      <td>0</td>\n",
       "      <td>2019/20</td>\n",
       "      <td>80 to 89</td>\n",
       "      <td>2.0</td>\n",
       "      <td>2</td>\n",
       "      <td>0</td>\n",
       "      <td>2</td>\n",
       "      <td>2</td>\n",
       "      <td>2</td>\n",
       "      <td>1</td>\n",
       "      <td>1</td>\n",
       "      <td>1</td>\n",
       "      <td>9</td>\n",
       "      <td>...</td>\n",
       "      <td>18.0</td>\n",
       "      <td>4</td>\n",
       "      <td>4</td>\n",
       "      <td>4</td>\n",
       "      <td>4</td>\n",
       "      <td>4</td>\n",
       "      <td>4</td>\n",
       "      <td>3</td>\n",
       "      <td>4</td>\n",
       "      <td>4</td>\n",
       "      <td>3</td>\n",
       "      <td>4</td>\n",
       "      <td>3</td>\n",
       "      <td>45.0</td>\n",
       "      <td>34.49</td>\n",
       "    </tr>\n",
       "    <tr>\n",
       "      <th>10492</th>\n",
       "      <td>NV323</td>\n",
       "      <td>Hip Replacement</td>\n",
       "      <td>0</td>\n",
       "      <td>2016/17</td>\n",
       "      <td>50 to 59</td>\n",
       "      <td>1.0</td>\n",
       "      <td>2</td>\n",
       "      <td>0</td>\n",
       "      <td>3</td>\n",
       "      <td>2</td>\n",
       "      <td>1</td>\n",
       "      <td>2</td>\n",
       "      <td>9</td>\n",
       "      <td>1</td>\n",
       "      <td>9</td>\n",
       "      <td>...</td>\n",
       "      <td>23.0</td>\n",
       "      <td>3</td>\n",
       "      <td>3</td>\n",
       "      <td>4</td>\n",
       "      <td>4</td>\n",
       "      <td>4</td>\n",
       "      <td>4</td>\n",
       "      <td>4</td>\n",
       "      <td>4</td>\n",
       "      <td>4</td>\n",
       "      <td>4</td>\n",
       "      <td>4</td>\n",
       "      <td>4</td>\n",
       "      <td>46.0</td>\n",
       "      <td>42.16</td>\n",
       "    </tr>\n",
       "  </tbody>\n",
       "</table>\n",
       "<p>3 rows × 81 columns</p>\n",
       "</div>"
      ],
      "text/plain": [
       "      t0_provider_code     t0_procedure  t0_revision_flag  t0_year t0_age_band  t0_gender  \\\n",
       "23800              RL1  Hip Replacement                 0  2017/18    70 to 79        2.0   \n",
       "9498               RAS  Hip Replacement                 0  2019/20    80 to 89        2.0   \n",
       "10492            NV323  Hip Replacement                 0  2016/17    50 to 59        1.0   \n",
       "\n",
       "       t0_assisted  t0_assisted_by  t0_symptom_period  t0_previous_surgery  \\\n",
       "23800            1               0                  3                    2   \n",
       "9498             2               0                  2                    2   \n",
       "10492            2               0                  3                    2   \n",
       "\n",
       "       t0_living_arrangements  t0_disability  t0_heart_disease  t0_high_bp  t0_stroke  ...  \\\n",
       "23800                       2              2                 9           1          9  ...   \n",
       "9498                        2              1                 1           1          9  ...   \n",
       "10492                       1              2                 9           1          9  ...   \n",
       "\n",
       "       t0_ohs_score  t1_ohs_pain  t1_ohs_sudden_pain  t1_ohs_night_pain  t1_ohs_washing  \\\n",
       "23800           6.0            3                   4                  4               4   \n",
       "9498           18.0            4                   4                  4               4   \n",
       "10492          23.0            3                   3                  4               4   \n",
       "\n",
       "       t1_ohs_transport  t1_ohs_dressing  t1_ohs_shopping  t1_ohs_walking  t1_ohs_limping  \\\n",
       "23800                 3                4                4               4               4   \n",
       "9498                  4                4                3               4               4   \n",
       "10492                 4                4                4               4               4   \n",
       "\n",
       "       t1_ohs_stairs  t1_ohs_standing  t1_ohs_work  t1_ohs_score  t1_ohs_predicted  \n",
       "23800              4                4            4          46.0             35.78  \n",
       "9498               3                4            3          45.0             34.49  \n",
       "10492              4                4            4          46.0             42.16  \n",
       "\n",
       "[3 rows x 81 columns]"
      ]
     },
     "execution_count": 171,
     "metadata": {},
     "output_type": "execute_result"
    }
   ],
   "source": [
    "# load data + rename columns with structired name\n",
    "# df_knee_raw = load_proms(part=\"knee\").apply(downcast).rename(structure_name, axis=1)\n",
    "df_hip_raw = load_proms(part=\"hip\").apply(downcast).rename(structure_name, axis=1)\n",
    "\n",
    "# get meta data for each\n",
    "full_meta = {t + k: v for k, v in meta_dict.items() for t in [\"t0_\", \"t1_\"]}\n",
    "hip_meta = {k: v for k, v in full_meta.items() if k in df_hip_raw.columns}\n",
    "\n",
    "df_hip_raw.sample(3)"
   ]
  },
  {
   "cell_type": "markdown",
   "metadata": {},
   "source": [
    "## basic cleaning"
   ]
  },
  {
   "cell_type": "code",
   "execution_count": 172,
   "metadata": {},
   "outputs": [],
   "source": [
    "endings = (\n",
    "    \"code\",\n",
    "    \"procedure\",\n",
    "    \"revision_flag\",\n",
    "    \"assisted_by\",\n",
    "    \"profile\",\n",
    "    \"predicted\",\n",
    ")\n",
    "cols2drop = [c for c in df_hip_raw.columns if c.endswith(endings)]"
   ]
  },
  {
   "cell_type": "code",
   "execution_count": 173,
   "metadata": {
    "scrolled": false
   },
   "outputs": [
    {
     "name": "stdout",
     "output_type": "stream",
     "text": [
      "CPU times: user 802 ms, sys: 117 ms, total: 918 ms\n",
      "Wall time: 1 s\n"
     ]
    },
    {
     "data": {
      "text/html": [
       "<div>\n",
       "<style scoped>\n",
       "    .dataframe tbody tr th:only-of-type {\n",
       "        vertical-align: middle;\n",
       "    }\n",
       "\n",
       "    .dataframe tbody tr th {\n",
       "        vertical-align: top;\n",
       "    }\n",
       "\n",
       "    .dataframe thead th {\n",
       "        text-align: right;\n",
       "    }\n",
       "</style>\n",
       "<table border=\"1\" class=\"dataframe\">\n",
       "  <thead>\n",
       "    <tr style=\"text-align: right;\">\n",
       "      <th></th>\n",
       "      <th>t0_year</th>\n",
       "      <th>t0_age_band</th>\n",
       "      <th>t0_gender</th>\n",
       "      <th>t0_assisted</th>\n",
       "      <th>t0_symptom_period</th>\n",
       "      <th>t0_previous_surgery</th>\n",
       "      <th>t0_living_arrangements</th>\n",
       "      <th>t0_disability</th>\n",
       "      <th>t0_heart_disease</th>\n",
       "      <th>t0_high_bp</th>\n",
       "      <th>t0_stroke</th>\n",
       "      <th>t0_circulation</th>\n",
       "      <th>t0_lung_disease</th>\n",
       "      <th>t0_diabetes</th>\n",
       "      <th>t0_kidney_disease</th>\n",
       "      <th>...</th>\n",
       "      <th>t0_ohs_work</th>\n",
       "      <th>t0_ohs_score</th>\n",
       "      <th>t1_ohs_pain</th>\n",
       "      <th>t1_ohs_sudden_pain</th>\n",
       "      <th>t1_ohs_night_pain</th>\n",
       "      <th>t1_ohs_washing</th>\n",
       "      <th>t1_ohs_transport</th>\n",
       "      <th>t1_ohs_dressing</th>\n",
       "      <th>t1_ohs_shopping</th>\n",
       "      <th>t1_ohs_walking</th>\n",
       "      <th>t1_ohs_limping</th>\n",
       "      <th>t1_ohs_stairs</th>\n",
       "      <th>t1_ohs_standing</th>\n",
       "      <th>t1_ohs_work</th>\n",
       "      <th>t1_ohs_score</th>\n",
       "    </tr>\n",
       "  </thead>\n",
       "  <tbody>\n",
       "    <tr>\n",
       "      <th>11406</th>\n",
       "      <td>April 2017 - April 2018</td>\n",
       "      <td>70 to 79</td>\n",
       "      <td>female</td>\n",
       "      <td>no</td>\n",
       "      <td>1 to 5 years</td>\n",
       "      <td>no</td>\n",
       "      <td>alone</td>\n",
       "      <td>yes</td>\n",
       "      <td>missing</td>\n",
       "      <td>yes</td>\n",
       "      <td>missing</td>\n",
       "      <td>missing</td>\n",
       "      <td>missing</td>\n",
       "      <td>missing</td>\n",
       "      <td>missing</td>\n",
       "      <td>...</td>\n",
       "      <td>all of the time</td>\n",
       "      <td>9.0</td>\n",
       "      <td>rarely/never</td>\n",
       "      <td>rarely/never</td>\n",
       "      <td>rarely/never</td>\n",
       "      <td>rarely/never</td>\n",
       "      <td>rarely/never</td>\n",
       "      <td>rarely/never</td>\n",
       "      <td>rarely/never</td>\n",
       "      <td>rarely/never</td>\n",
       "      <td>rarely/never</td>\n",
       "      <td>rarely/never</td>\n",
       "      <td>rarely/never</td>\n",
       "      <td>rarely/never</td>\n",
       "      <td>48.0</td>\n",
       "    </tr>\n",
       "    <tr>\n",
       "      <th>20391</th>\n",
       "      <td>April 2016 - April 2017</td>\n",
       "      <td>70 to 79</td>\n",
       "      <td>female</td>\n",
       "      <td>no</td>\n",
       "      <td>1 to 5 years</td>\n",
       "      <td>no</td>\n",
       "      <td>alone</td>\n",
       "      <td>missing</td>\n",
       "      <td>missing</td>\n",
       "      <td>yes</td>\n",
       "      <td>missing</td>\n",
       "      <td>missing</td>\n",
       "      <td>missing</td>\n",
       "      <td>missing</td>\n",
       "      <td>missing</td>\n",
       "      <td>...</td>\n",
       "      <td>often, not just at first</td>\n",
       "      <td>20.0</td>\n",
       "      <td>rarely/never</td>\n",
       "      <td>rarely/never</td>\n",
       "      <td>often, not just at first</td>\n",
       "      <td>often, not just at first</td>\n",
       "      <td>often, not just at first</td>\n",
       "      <td>often, not just at first</td>\n",
       "      <td>rarely/never</td>\n",
       "      <td>rarely/never</td>\n",
       "      <td>most of the time</td>\n",
       "      <td>rarely/never</td>\n",
       "      <td>rarely/never</td>\n",
       "      <td>often, not just at first</td>\n",
       "      <td>35.0</td>\n",
       "    </tr>\n",
       "    <tr>\n",
       "      <th>2001</th>\n",
       "      <td>April 2018 - April 2019</td>\n",
       "      <td>NaN</td>\n",
       "      <td>NaN</td>\n",
       "      <td>no</td>\n",
       "      <td>1 to 5 years</td>\n",
       "      <td>no</td>\n",
       "      <td>alone</td>\n",
       "      <td>yes</td>\n",
       "      <td>missing</td>\n",
       "      <td>yes</td>\n",
       "      <td>missing</td>\n",
       "      <td>missing</td>\n",
       "      <td>missing</td>\n",
       "      <td>missing</td>\n",
       "      <td>missing</td>\n",
       "      <td>...</td>\n",
       "      <td>most of the time</td>\n",
       "      <td>14.0</td>\n",
       "      <td>often, not just at first</td>\n",
       "      <td>missing</td>\n",
       "      <td>missing</td>\n",
       "      <td>sometimes or just at first</td>\n",
       "      <td>missing</td>\n",
       "      <td>missing</td>\n",
       "      <td>missing</td>\n",
       "      <td>missing</td>\n",
       "      <td>missing</td>\n",
       "      <td>missing</td>\n",
       "      <td>missing</td>\n",
       "      <td>missing</td>\n",
       "      <td>NaN</td>\n",
       "    </tr>\n",
       "  </tbody>\n",
       "</table>\n",
       "<p>3 rows × 71 columns</p>\n",
       "</div>"
      ],
      "text/plain": [
       "                       t0_year t0_age_band t0_gender t0_assisted t0_symptom_period  \\\n",
       "11406  April 2017 - April 2018    70 to 79    female          no      1 to 5 years   \n",
       "20391  April 2016 - April 2017    70 to 79    female          no      1 to 5 years   \n",
       "2001   April 2018 - April 2019         NaN       NaN          no      1 to 5 years   \n",
       "\n",
       "      t0_previous_surgery t0_living_arrangements t0_disability t0_heart_disease t0_high_bp  \\\n",
       "11406                  no                  alone           yes          missing        yes   \n",
       "20391                  no                  alone       missing          missing        yes   \n",
       "2001                   no                  alone           yes          missing        yes   \n",
       "\n",
       "      t0_stroke t0_circulation t0_lung_disease t0_diabetes t0_kidney_disease  ...  \\\n",
       "11406   missing        missing         missing     missing           missing  ...   \n",
       "20391   missing        missing         missing     missing           missing  ...   \n",
       "2001    missing        missing         missing     missing           missing  ...   \n",
       "\n",
       "                    t0_ohs_work t0_ohs_score               t1_ohs_pain t1_ohs_sudden_pain  \\\n",
       "11406           all of the time          9.0              rarely/never       rarely/never   \n",
       "20391  often, not just at first         20.0              rarely/never       rarely/never   \n",
       "2001           most of the time         14.0  often, not just at first            missing   \n",
       "\n",
       "              t1_ohs_night_pain              t1_ohs_washing          t1_ohs_transport  \\\n",
       "11406              rarely/never                rarely/never              rarely/never   \n",
       "20391  often, not just at first    often, not just at first  often, not just at first   \n",
       "2001                    missing  sometimes or just at first                   missing   \n",
       "\n",
       "                t1_ohs_dressing t1_ohs_shopping t1_ohs_walking    t1_ohs_limping t1_ohs_stairs  \\\n",
       "11406              rarely/never    rarely/never   rarely/never      rarely/never  rarely/never   \n",
       "20391  often, not just at first    rarely/never   rarely/never  most of the time  rarely/never   \n",
       "2001                    missing         missing        missing           missing       missing   \n",
       "\n",
       "      t1_ohs_standing               t1_ohs_work t1_ohs_score  \n",
       "11406    rarely/never              rarely/never         48.0  \n",
       "20391    rarely/never  often, not just at first         35.0  \n",
       "2001          missing                   missing          NaN  \n",
       "\n",
       "[3 rows x 71 columns]"
      ]
     },
     "execution_count": 173,
     "metadata": {},
     "output_type": "execute_result"
    }
   ],
   "source": [
    "%%time\n",
    "df_hip_clean = (\n",
    "    df_hip_raw.apply(lambda s: filter_in_range(s, **hip_meta[s.name]))\n",
    "    .apply(lambda s: filter_in_labels(s, **hip_meta[s.name]))\n",
    "    .apply(lambda s: map_labels(s, **hip_meta[s.name]))\n",
    "    .query(\"t0_revision_flag == 'no revision'\")\n",
    "    .drop(columns=cols2drop)\n",
    "    #     .replace(\"missing\", np.nan)\n",
    ")\n",
    "\n",
    "df_hip_clean.sample(3)"
   ]
  },
  {
   "cell_type": "markdown",
   "metadata": {},
   "source": [
    "## split data"
   ]
  },
  {
   "cell_type": "code",
   "execution_count": 174,
   "metadata": {},
   "outputs": [
    {
     "data": {
      "text/html": [
       "<div>\n",
       "<style scoped>\n",
       "    .dataframe tbody tr th:only-of-type {\n",
       "        vertical-align: middle;\n",
       "    }\n",
       "\n",
       "    .dataframe tbody tr th {\n",
       "        vertical-align: top;\n",
       "    }\n",
       "\n",
       "    .dataframe thead th {\n",
       "        text-align: right;\n",
       "    }\n",
       "</style>\n",
       "<table border=\"1\" class=\"dataframe\">\n",
       "  <thead>\n",
       "    <tr style=\"text-align: right;\">\n",
       "      <th></th>\n",
       "      <th>t0_year</th>\n",
       "      <th>t0_age_band</th>\n",
       "      <th>t0_gender</th>\n",
       "      <th>t0_assisted</th>\n",
       "      <th>t0_symptom_period</th>\n",
       "      <th>t0_previous_surgery</th>\n",
       "      <th>t0_living_arrangements</th>\n",
       "      <th>t0_disability</th>\n",
       "      <th>t0_heart_disease</th>\n",
       "      <th>t0_high_bp</th>\n",
       "      <th>t0_stroke</th>\n",
       "      <th>t0_circulation</th>\n",
       "      <th>t0_lung_disease</th>\n",
       "      <th>t0_diabetes</th>\n",
       "      <th>t0_kidney_disease</th>\n",
       "      <th>...</th>\n",
       "      <th>t0_ohs_work</th>\n",
       "      <th>t0_ohs_score</th>\n",
       "      <th>t1_ohs_pain</th>\n",
       "      <th>t1_ohs_sudden_pain</th>\n",
       "      <th>t1_ohs_night_pain</th>\n",
       "      <th>t1_ohs_washing</th>\n",
       "      <th>t1_ohs_transport</th>\n",
       "      <th>t1_ohs_dressing</th>\n",
       "      <th>t1_ohs_shopping</th>\n",
       "      <th>t1_ohs_walking</th>\n",
       "      <th>t1_ohs_limping</th>\n",
       "      <th>t1_ohs_stairs</th>\n",
       "      <th>t1_ohs_standing</th>\n",
       "      <th>t1_ohs_work</th>\n",
       "      <th>t1_ohs_score</th>\n",
       "    </tr>\n",
       "  </thead>\n",
       "  <tbody>\n",
       "    <tr>\n",
       "      <th>26822</th>\n",
       "      <td>April 2017 - April 2018</td>\n",
       "      <td>70 to 79</td>\n",
       "      <td>male</td>\n",
       "      <td>no</td>\n",
       "      <td>1 to 5 years</td>\n",
       "      <td>no</td>\n",
       "      <td>with partner / spouse / family / friends</td>\n",
       "      <td>yes</td>\n",
       "      <td>missing</td>\n",
       "      <td>missing</td>\n",
       "      <td>missing</td>\n",
       "      <td>missing</td>\n",
       "      <td>missing</td>\n",
       "      <td>missing</td>\n",
       "      <td>missing</td>\n",
       "      <td>...</td>\n",
       "      <td>most of the time</td>\n",
       "      <td>15.0</td>\n",
       "      <td>often, not just at first</td>\n",
       "      <td>most of the time</td>\n",
       "      <td>most of the time</td>\n",
       "      <td>often, not just at first</td>\n",
       "      <td>most of the time</td>\n",
       "      <td>most of the time</td>\n",
       "      <td>often, not just at first</td>\n",
       "      <td>rarely/never</td>\n",
       "      <td>most of the time</td>\n",
       "      <td>often, not just at first</td>\n",
       "      <td>often, not just at first</td>\n",
       "      <td>often, not just at first</td>\n",
       "      <td>21.0</td>\n",
       "    </tr>\n",
       "    <tr>\n",
       "      <th>16960</th>\n",
       "      <td>April 2019 - April 2020</td>\n",
       "      <td>80 to 89</td>\n",
       "      <td>female</td>\n",
       "      <td>no</td>\n",
       "      <td>1 to 5 years</td>\n",
       "      <td>no</td>\n",
       "      <td>alone</td>\n",
       "      <td>yes</td>\n",
       "      <td>missing</td>\n",
       "      <td>yes</td>\n",
       "      <td>missing</td>\n",
       "      <td>missing</td>\n",
       "      <td>missing</td>\n",
       "      <td>missing</td>\n",
       "      <td>missing</td>\n",
       "      <td>...</td>\n",
       "      <td>often, not just at first</td>\n",
       "      <td>19.0</td>\n",
       "      <td>rarely/never</td>\n",
       "      <td>rarely/never</td>\n",
       "      <td>rarely/never</td>\n",
       "      <td>rarely/never</td>\n",
       "      <td>rarely/never</td>\n",
       "      <td>rarely/never</td>\n",
       "      <td>rarely/never</td>\n",
       "      <td>rarely/never</td>\n",
       "      <td>rarely/never</td>\n",
       "      <td>rarely/never</td>\n",
       "      <td>rarely/never</td>\n",
       "      <td>rarely/never</td>\n",
       "      <td>48.0</td>\n",
       "    </tr>\n",
       "    <tr>\n",
       "      <th>30470</th>\n",
       "      <td>April 2016 - April 2017</td>\n",
       "      <td>80 to 89</td>\n",
       "      <td>male</td>\n",
       "      <td>no</td>\n",
       "      <td>less than 1 year</td>\n",
       "      <td>no</td>\n",
       "      <td>with partner / spouse / family / friends</td>\n",
       "      <td>yes</td>\n",
       "      <td>missing</td>\n",
       "      <td>yes</td>\n",
       "      <td>missing</td>\n",
       "      <td>missing</td>\n",
       "      <td>yes</td>\n",
       "      <td>missing</td>\n",
       "      <td>missing</td>\n",
       "      <td>...</td>\n",
       "      <td>often, not just at first</td>\n",
       "      <td>21.0</td>\n",
       "      <td>rarely/never</td>\n",
       "      <td>rarely/never</td>\n",
       "      <td>often, not just at first</td>\n",
       "      <td>rarely/never</td>\n",
       "      <td>rarely/never</td>\n",
       "      <td>sometimes or just at first</td>\n",
       "      <td>sometimes or just at first</td>\n",
       "      <td>rarely/never</td>\n",
       "      <td>sometimes or just at first</td>\n",
       "      <td>often, not just at first</td>\n",
       "      <td>sometimes or just at first</td>\n",
       "      <td>rarely/never</td>\n",
       "      <td>40.0</td>\n",
       "    </tr>\n",
       "  </tbody>\n",
       "</table>\n",
       "<p>3 rows × 71 columns</p>\n",
       "</div>"
      ],
      "text/plain": [
       "                       t0_year t0_age_band t0_gender t0_assisted t0_symptom_period  \\\n",
       "26822  April 2017 - April 2018    70 to 79      male          no      1 to 5 years   \n",
       "16960  April 2019 - April 2020    80 to 89    female          no      1 to 5 years   \n",
       "30470  April 2016 - April 2017    80 to 89      male          no  less than 1 year   \n",
       "\n",
       "      t0_previous_surgery                    t0_living_arrangements t0_disability  \\\n",
       "26822                  no  with partner / spouse / family / friends           yes   \n",
       "16960                  no                                     alone           yes   \n",
       "30470                  no  with partner / spouse / family / friends           yes   \n",
       "\n",
       "      t0_heart_disease t0_high_bp t0_stroke t0_circulation t0_lung_disease t0_diabetes  \\\n",
       "26822          missing    missing   missing        missing         missing     missing   \n",
       "16960          missing        yes   missing        missing         missing     missing   \n",
       "30470          missing        yes   missing        missing             yes     missing   \n",
       "\n",
       "      t0_kidney_disease  ...               t0_ohs_work t0_ohs_score               t1_ohs_pain  \\\n",
       "26822           missing  ...          most of the time         15.0  often, not just at first   \n",
       "16960           missing  ...  often, not just at first         19.0              rarely/never   \n",
       "30470           missing  ...  often, not just at first         21.0              rarely/never   \n",
       "\n",
       "      t1_ohs_sudden_pain         t1_ohs_night_pain            t1_ohs_washing  t1_ohs_transport  \\\n",
       "26822   most of the time          most of the time  often, not just at first  most of the time   \n",
       "16960       rarely/never              rarely/never              rarely/never      rarely/never   \n",
       "30470       rarely/never  often, not just at first              rarely/never      rarely/never   \n",
       "\n",
       "                  t1_ohs_dressing             t1_ohs_shopping t1_ohs_walking  \\\n",
       "26822            most of the time    often, not just at first   rarely/never   \n",
       "16960                rarely/never                rarely/never   rarely/never   \n",
       "30470  sometimes or just at first  sometimes or just at first   rarely/never   \n",
       "\n",
       "                   t1_ohs_limping             t1_ohs_stairs             t1_ohs_standing  \\\n",
       "26822            most of the time  often, not just at first    often, not just at first   \n",
       "16960                rarely/never              rarely/never                rarely/never   \n",
       "30470  sometimes or just at first  often, not just at first  sometimes or just at first   \n",
       "\n",
       "                    t1_ohs_work t1_ohs_score  \n",
       "26822  often, not just at first         21.0  \n",
       "16960              rarely/never         48.0  \n",
       "30470              rarely/never         40.0  \n",
       "\n",
       "[3 rows x 71 columns]"
      ]
     },
     "execution_count": 174,
     "metadata": {},
     "output_type": "execute_result"
    }
   ],
   "source": [
    "# split train + test set\n",
    "# df_knee_seen = df_knee_clean.query(\"t0_year != '2019/20'\")\n",
    "# df_knee_unseen = df_knee_clean.query(\"t0_year == '2019/20'\")\n",
    "\n",
    "df_hip = df_hip_clean.query(\"t0_year != '2019/20'\")\n",
    "df_hip_unseen = df_hip_clean.query(\"t0_year == '2019/20'\")\n",
    "\n",
    "df_hip.sample(3)"
   ]
  },
  {
   "cell_type": "code",
   "execution_count": 175,
   "metadata": {},
   "outputs": [],
   "source": [
    "#df_hip.info()"
   ]
  },
  {
   "cell_type": "markdown",
   "metadata": {},
   "source": [
    "## create delta dataframes"
   ]
  },
  {
   "cell_type": "code",
   "execution_count": 176,
   "metadata": {},
   "outputs": [],
   "source": [
    "# df_org = df_hip_seen.apply(\n",
    "#     lambda s: map_labels(s, backwards=True, **hip_meta[s.name])\n",
    "# ).apply(np.asarray)\n",
    "\n",
    "# # df_knee_delta = method_delta(df_knee_train)\n",
    "# df_hip_delta = method_delta(df_org)\n",
    "\n",
    "# # now you could join them again with the original df ...\n",
    "# # eg: df_hip_train.join(df_hip_delta)\n",
    "# df_hip_delta.sample(5)"
   ]
  },
  {
   "cell_type": "markdown",
   "metadata": {},
   "source": [
    "## Make feature set"
   ]
  },
  {
   "cell_type": "code",
   "execution_count": 177,
   "metadata": {},
   "outputs": [
    {
     "name": "stdout",
     "output_type": "stream",
     "text": [
      "139251 original\n",
      "103346 after possible total dropna\n"
     ]
    },
    {
     "data": {
      "text/plain": [
       "t0_age_band          0.09\n",
       "t0_gender            0.09\n",
       "t0_eqvas_score       0.09\n",
       "t0_eq5d_score        0.06\n",
       "t1_eqvas_score       0.05\n",
       "t1_eq5d_score        0.04\n",
       "t0_ohs_score         0.01\n",
       "t1_ohs_score         0.01\n",
       "t0_eq5d_mobility     0.00\n",
       "t0_eq5d_self_care    0.00\n",
       "dtype: float64"
      ]
     },
     "execution_count": 177,
     "metadata": {},
     "output_type": "execute_result"
    }
   ],
   "source": [
    "print(len(df_hip), \"original\")\n",
    "print(len(df_hip.dropna()), \"after possible total dropna\")\n",
    "(df_hip.isna().sum() / len(df_hip)).sort_values(ascending=False).head(10)"
   ]
  },
  {
   "cell_type": "code",
   "execution_count": 178,
   "metadata": {},
   "outputs": [
    {
     "name": "stdout",
     "output_type": "stream",
     "text": [
      "139251 original\n",
      "113818 after dropna on numerical\n"
     ]
    },
    {
     "data": {
      "text/plain": [
       "t0_age_band           0.09\n",
       "t0_gender             0.09\n",
       "t1_ohs_score          0.00\n",
       "t1_assisted           0.00\n",
       "t0_eq5d_mobility      0.00\n",
       "t0_eq5d_self_care     0.00\n",
       "t0_eq5d_activity      0.00\n",
       "t0_eq5d_discomfort    0.00\n",
       "t0_eq5d_anxiety       0.00\n",
       "t0_eq5d_score         0.00\n",
       "dtype: float64"
      ]
     },
     "execution_count": 178,
     "metadata": {},
     "output_type": "execute_result"
    }
   ],
   "source": [
    "# remove NaNs from non categorical/ordinal columns (numerical)\n",
    "print(len(df_hip), \"original\")\n",
    "num_cols = df_hip.select_dtypes(exclude=\"category\").columns\n",
    "df_hip = df_hip.dropna(subset=num_cols)\n",
    "\n",
    "print(len(df_hip), \"after dropna on numerical\")\n",
    "(df_hip.isna().sum() / len(df_hip)).sort_values(ascending=False).head(10)"
   ]
  },
  {
   "cell_type": "code",
   "execution_count": 179,
   "metadata": {},
   "outputs": [
    {
     "data": {
      "text/plain": [
       "Index(['t0_year', 't0_age_band', 't0_gender', 't0_assisted', 't0_symptom_period',\n",
       "       't0_previous_surgery', 't0_living_arrangements', 't0_disability', 't0_heart_disease',\n",
       "       't0_high_bp', 't0_stroke', 't0_circulation', 't0_lung_disease', 't0_diabetes',\n",
       "       't0_kidney_disease', 't0_nervous_system', 't0_liver_disease', 't0_cancer', 't0_depression',\n",
       "       't0_arthritis', 't0_eq5d_mobility', 't0_eq5d_self_care', 't0_eq5d_activity',\n",
       "       't0_eq5d_discomfort', 't0_eq5d_anxiety', 't0_eq5d_score', 't1_assisted',\n",
       "       't1_living_arrangements', 't1_disability', 't1_eq5d_mobility', 't1_eq5d_self_care',\n",
       "       't1_eq5d_activity', 't1_eq5d_discomfort', 't1_eq5d_anxiety', 't1_satisfaction',\n",
       "       't1_success', 't1_allergy', 't1_bleeding', 't1_wound', 't1_urine', 't1_further_surgery',\n",
       "       't1_readmitted', 't1_eq5d_score', 't0_eqvas_score', 't1_eqvas_score', 't0_ohs_pain',\n",
       "       't0_ohs_sudden_pain', 't0_ohs_night_pain', 't0_ohs_washing', 't0_ohs_transport',\n",
       "       't0_ohs_dressing', 't0_ohs_shopping', 't0_ohs_walking', 't0_ohs_limping', 't0_ohs_stairs',\n",
       "       't0_ohs_standing', 't0_ohs_work', 't0_ohs_score', 't1_ohs_pain', 't1_ohs_sudden_pain',\n",
       "       't1_ohs_night_pain', 't1_ohs_washing', 't1_ohs_transport', 't1_ohs_dressing',\n",
       "       't1_ohs_shopping', 't1_ohs_walking', 't1_ohs_limping', 't1_ohs_stairs', 't1_ohs_standing',\n",
       "       't1_ohs_work', 't1_ohs_score'],\n",
       "      dtype='object')"
      ]
     },
     "execution_count": 179,
     "metadata": {},
     "output_type": "execute_result"
    }
   ],
   "source": [
    "#df_hip.info()\n",
    "df_hip.keys()"
   ]
  },
  {
   "cell_type": "markdown",
   "metadata": {},
   "source": [
    "### Construct y variable with arthritis severity categories\n",
    "\n",
    "Based on the Q-scores, patients can be classified in 4 arthritis severity classes: \n",
    "\n",
    "0 - 19 = severe arthritis\n",
    "\n",
    "20 - 29 = moderate arthritis\n",
    "\n",
    "30 - 39 = mild-to-moderate arthritis\n",
    "\n",
    "40 - 48 = satisfactory joint function"
   ]
  },
  {
   "cell_type": "code",
   "execution_count": 180,
   "metadata": {},
   "outputs": [],
   "source": [
    "df_hip[\"arthritis_cat_t0\"] = pd.cut(df_hip.t0_ohs_score,\n",
    "                                     bins=[0,19,29,39,48],\n",
    "       labels=['severe','moderate','mild','satisfactory'])\n",
    "\n",
    "df_hip[\"arthritis_3cat_t0\"] = pd.cut(df_hip.t0_ohs_score,\n",
    "                                     bins=[0,19,29,48],\n",
    "       labels=['severe','moderate','mild-satisfactory'])"
   ]
  },
  {
   "cell_type": "code",
   "execution_count": 181,
   "metadata": {},
   "outputs": [
    {
     "data": {
      "text/plain": [
       "severe          60.49\n",
       "moderate        30.84\n",
       "mild             8.11\n",
       "satisfactory     0.49\n",
       "Name: arthritis_cat_t0, dtype: float64"
      ]
     },
     "execution_count": 181,
     "metadata": {},
     "output_type": "execute_result"
    }
   ],
   "source": [
    "(df_hip.arthritis_cat_t0.value_counts() / len(df_hip.arthritis_cat_t0)*100)"
   ]
  },
  {
   "cell_type": "code",
   "execution_count": 182,
   "metadata": {},
   "outputs": [
    {
     "data": {
      "text/plain": [
       "severe               60.49\n",
       "moderate             30.84\n",
       "mild-satisfactory     8.60\n",
       "Name: arthritis_3cat_t0, dtype: float64"
      ]
     },
     "execution_count": 182,
     "metadata": {},
     "output_type": "execute_result"
    }
   ],
   "source": [
    "(df_hip.arthritis_3cat_t0.value_counts() / len(df_hip.arthritis_3cat_t0)*100)"
   ]
  },
  {
   "cell_type": "code",
   "execution_count": 183,
   "metadata": {},
   "outputs": [],
   "source": [
    "df_hip[\"arthritis_cat_t1\"] = pd.cut(df_hip.t1_ohs_score,\n",
    "                                     bins=[0,19,29,39,48],\n",
    "       labels=['severe','moderate','mild','satisfactory'])"
   ]
  },
  {
   "cell_type": "code",
   "execution_count": 184,
   "metadata": {},
   "outputs": [
    {
     "data": {
      "text/plain": [
       "satisfactory    65.89\n",
       "mild            22.46\n",
       "moderate         8.45\n",
       "severe           3.20\n",
       "Name: arthritis_cat_t1, dtype: float64"
      ]
     },
     "execution_count": 184,
     "metadata": {},
     "output_type": "execute_result"
    }
   ],
   "source": [
    "(df_hip.arthritis_cat_t1.value_counts() / len(df_hip.arthritis_cat_t1)*100)"
   ]
  },
  {
   "cell_type": "code",
   "execution_count": 185,
   "metadata": {},
   "outputs": [
    {
     "data": {
      "image/png": "[encoded data removed]",
      "text/plain": [
       "<Figure size 432x288 with 2 Axes>"
      ]
     },
     "metadata": {
      "needs_background": "light"
     },
     "output_type": "display_data"
    }
   ],
   "source": [
    "fig, ax = plt.subplots(1, 2)\n",
    "sns.countplot(x=df_hip.arthritis_cat_t0, ax=ax[0])\n",
    "sns.countplot(x=df_hip.arthritis_cat_t1, ax=ax[1])\n",
    "plt.show()"
   ]
  },
  {
   "cell_type": "code",
   "execution_count": 186,
   "metadata": {},
   "outputs": [
    {
     "data": {
      "text/html": [
       "<div>\n",
       "<style scoped>\n",
       "    .dataframe tbody tr th:only-of-type {\n",
       "        vertical-align: middle;\n",
       "    }\n",
       "\n",
       "    .dataframe tbody tr th {\n",
       "        vertical-align: top;\n",
       "    }\n",
       "\n",
       "    .dataframe thead th {\n",
       "        text-align: right;\n",
       "    }\n",
       "</style>\n",
       "<table border=\"1\" class=\"dataframe\">\n",
       "  <thead>\n",
       "    <tr style=\"text-align: right;\">\n",
       "      <th>arthritis_cat_t1</th>\n",
       "      <th>severe</th>\n",
       "      <th>moderate</th>\n",
       "      <th>mild</th>\n",
       "      <th>satisfactory</th>\n",
       "    </tr>\n",
       "    <tr>\n",
       "      <th>arthritis_cat_t0</th>\n",
       "      <th></th>\n",
       "      <th></th>\n",
       "      <th></th>\n",
       "      <th></th>\n",
       "    </tr>\n",
       "  </thead>\n",
       "  <tbody>\n",
       "    <tr>\n",
       "      <th>severe</th>\n",
       "      <td>3144</td>\n",
       "      <td>7649</td>\n",
       "      <td>17689</td>\n",
       "      <td>40359</td>\n",
       "    </tr>\n",
       "    <tr>\n",
       "      <th>moderate</th>\n",
       "      <td>427</td>\n",
       "      <td>1695</td>\n",
       "      <td>6588</td>\n",
       "      <td>26394</td>\n",
       "    </tr>\n",
       "    <tr>\n",
       "      <th>mild</th>\n",
       "      <td>48</td>\n",
       "      <td>246</td>\n",
       "      <td>1212</td>\n",
       "      <td>7728</td>\n",
       "    </tr>\n",
       "    <tr>\n",
       "      <th>satisfactory</th>\n",
       "      <td>3</td>\n",
       "      <td>10</td>\n",
       "      <td>45</td>\n",
       "      <td>499</td>\n",
       "    </tr>\n",
       "  </tbody>\n",
       "</table>\n",
       "</div>"
      ],
      "text/plain": [
       "arthritis_cat_t1  severe  moderate   mild  satisfactory\n",
       "arthritis_cat_t0                                       \n",
       "severe              3144      7649  17689         40359\n",
       "moderate             427      1695   6588         26394\n",
       "mild                  48       246   1212          7728\n",
       "satisfactory           3        10     45           499"
      ]
     },
     "execution_count": 186,
     "metadata": {},
     "output_type": "execute_result"
    }
   ],
   "source": [
    "table = pd.crosstab(df_hip[\"arthritis_cat_t0\"], df_hip[\"arthritis_cat_t1\"])\n",
    "table"
   ]
  },
  {
   "cell_type": "markdown",
   "metadata": {},
   "source": [
    "### Severity categories imbalanced\n",
    "\n",
    "At t0 there are, as expected, few patients in the \"satisfactory\" and the \"mild\" categories. After operation, the pattern reverses, most patients are in the \"satisfactory\" and \"mild\" category and a small number of few remain in the \"severe\" and \"moderate\" category.\n",
    "\n",
    "To avoid an extremely imbalanced Y-variable, we combine the categories \"severe\" and \"mild\" at t1 into one category."
   ]
  },
  {
   "cell_type": "code",
   "execution_count": 187,
   "metadata": {},
   "outputs": [],
   "source": [
    "df_hip[\"arthritis_3cat_t1\"] = pd.cut(df_hip.t1_ohs_score,\n",
    "                                     bins=[0,29,39,48],\n",
    "       labels=['severe-moderate','mild','satisfactory'])"
   ]
  },
  {
   "cell_type": "code",
   "execution_count": 188,
   "metadata": {},
   "outputs": [
    {
     "data": {
      "text/plain": [
       "satisfactory       65.89\n",
       "mild               22.46\n",
       "severe-moderate    11.65\n",
       "Name: arthritis_3cat_t1, dtype: float64"
      ]
     },
     "execution_count": 188,
     "metadata": {},
     "output_type": "execute_result"
    }
   ],
   "source": [
    "(df_hip.arthritis_3cat_t1.value_counts() / len(df_hip.arthritis_3cat_t1)*100)"
   ]
  },
  {
   "cell_type": "code",
   "execution_count": 189,
   "metadata": {},
   "outputs": [],
   "source": [
    "df_hip = df_hip.dropna().sample(10_000) # dirty drop for the sake of testing pl\n",
    "#df_hip.info()"
   ]
  },
  {
   "cell_type": "code",
   "execution_count": null,
   "metadata": {},
   "outputs": [],
   "source": []
  },
  {
   "cell_type": "code",
   "execution_count": 194,
   "metadata": {},
   "outputs": [],
   "source": [
    "# select variables for predictor matrix\n",
    "X0_cols = ['t0_eq5d_score', 't0_ohs_score', 't0_eqvas_score', 't0_age_band','t0_gender', \n",
    "           't0_assisted','t0_symptom_period', 't0_previous_surgery', 't0_living_arrangements',\n",
    "           't0_disability', 't0_heart_disease', 't0_high_bp', 't0_stroke',\n",
    "           't0_circulation', 't0_lung_disease', 't0_diabetes', 't0_kidney_disease',\n",
    "           't0_nervous_system', 't0_liver_disease', 't0_cancer', 't0_depression']\n",
    "\n",
    "\n",
    "X_cols =['t0_eqvas_score', 't0_age_band', 't0_gender', 't0_assisted',\n",
    "       't0_symptom_period', 't0_previous_surgery', 't0_living_arrangements',\n",
    "       't0_disability', 't0_heart_disease', 't0_high_bp', 't0_stroke',\n",
    "       't0_circulation', 't0_lung_disease', 't0_diabetes', 't0_kidney_disease',\n",
    "       't0_nervous_system', 't0_liver_disease', 't0_cancer', 't0_depression',\n",
    "       't0_eq5d_mobility', 't0_eq5d_self_care',\n",
    "       't0_eq5d_activity', 't0_eq5d_discomfort', 't0_eq5d_anxiety',\n",
    "       't0_ohs_pain','t0_ohs_sudden_pain', 't0_ohs_night_pain', \n",
    "       't0_ohs_washing','t0_ohs_transport', 't0_ohs_dressing', \n",
    "       't0_ohs_shopping', 't0_ohs_walking', 't0_ohs_limping', \n",
    "       't0_ohs_stairs', 't0_ohs_standing','t0_ohs_work']\n",
    "\n",
    "\n",
    "\n"
   ]
  },
  {
   "cell_type": "code",
   "execution_count": null,
   "metadata": {},
   "outputs": [],
   "source": []
  },
  {
   "cell_type": "code",
   "execution_count": 204,
   "metadata": {},
   "outputs": [],
   "source": [
    "#from sklearn.preprocessing import StandardScaler\n",
    "#from sklearn import preprocessing\n",
    "\n",
    "#X0 = df_hip[X0_cols]\n",
    "\n",
    "# define y variable: arthritis in 3 categories: \n",
    "#satisfactory, mild, severe-moderate\n",
    "#y = df_hip[\"arthritis_3cat_t1\"]\n",
    "\n",
    "# scale the continuous variables\n",
    "#numeric_columns = list(X0.select_dtypes(exclude = 'category'))\n",
    "#print(numeric_columns)\n",
    "#categorical_columns = list(X0.select_dtypes(include = 'category'))\n",
    "#print(categorical_columns)\n",
    "\n",
    "#X0_scaled = preprocessing.scale(X0[numeric_columns])\n",
    "#df_scaled = pd.DataFrame(X0_scaled, columns=X0[numeric_columns].columns)\n",
    "#df_cat = pd.DataFrame(X0[categorical_columns], columns=X0[categorical_columns].columns)\n",
    "# get dummies for all categorical variables\n",
    "#X = pd.get_dummies(X0, prefix_sep='_', drop_first=False)\n",
    "\n",
    "#X0_s = pd.concat([df_scaled, df_cat], axis=1)\n",
    "#X0_s.info()\n"
   ]
  },
  {
   "cell_type": "code",
   "execution_count": 214,
   "metadata": {},
   "outputs": [],
   "source": [
    "X0 = df_hip[X0_cols]\n",
    "X = df_hip[X_cols]\n",
    "\n",
    "y = df_hip[\"arthritis_3cat_t1\"]\n",
    "X0 = pd.get_dummies(X0, prefix_sep='_', drop_first=False)\n",
    "X = pd.get_dummies(X, prefix_sep='_', drop_first=False)"
   ]
  },
  {
   "cell_type": "code",
   "execution_count": 216,
   "metadata": {},
   "outputs": [],
   "source": [
    "#X0.info()"
   ]
  },
  {
   "cell_type": "code",
   "execution_count": 58,
   "metadata": {},
   "outputs": [
    {
     "name": "stdout",
     "output_type": "stream",
     "text": [
      "<class 'pandas.core.frame.DataFrame'>\n",
      "Int64Index: 10000 entries, 33092 to 8851\n",
      "Columns: 148 entries, t0_eqvas_score to t0_ohs_work_missing\n",
      "dtypes: float64(1), uint8(147)\n",
      "memory usage: 1.6 MB\n"
     ]
    }
   ],
   "source": [
    "X.info()"
   ]
  },
  {
   "cell_type": "code",
   "execution_count": 217,
   "metadata": {},
   "outputs": [],
   "source": [
    "X0_train, X0_test, y0_train, y0_test = train_test_split(\n",
    "    X0, y, test_size=0.30, random_state=SEED, stratify=y)"
   ]
  },
  {
   "cell_type": "code",
   "execution_count": 218,
   "metadata": {},
   "outputs": [
    {
     "name": "stdout",
     "output_type": "stream",
     "text": [
      "The distribution of Outcome in the training set is: \n",
      " satisfactory       0.66\n",
      "mild               0.22\n",
      "severe-moderate    0.12\n",
      "Name: arthritis_3cat_t1, dtype: float64\n",
      "The distribution of Outcome in the test set is: \n",
      " satisfactory       0.66\n",
      "mild               0.22\n",
      "severe-moderate    0.12\n",
      "Name: arthritis_3cat_t1, dtype: float64\n"
     ]
    }
   ],
   "source": [
    "print(\"The distribution of Outcome in the training set is: \\n\", y0_train.value_counts(normalize=True))\n",
    "\n",
    "print(\"The distribution of Outcome in the test set is: \\n\", y0_test.value_counts(normalize=True))"
   ]
  },
  {
   "cell_type": "code",
   "execution_count": 219,
   "metadata": {},
   "outputs": [],
   "source": [
    "# create x, y\n",
    "#X = df_hip.filter(regex=\"t0\")\n",
    "#y = (df_hip[\"t1_ohs_score\"] - df_hip[\"t0_ohs_score\"] <= 8).astype(int) # knee <= 7\n",
    "#y = df_hip[\"t1_ohs_score\"]\n",
    "\n",
    "# create train, test\n",
    "X_train, X_test, y_train, y_test = train_test_split(\n",
    "    X, y, test_size=0.30, random_state=SEED, stratify=y)"
   ]
  },
  {
   "cell_type": "code",
   "execution_count": 220,
   "metadata": {},
   "outputs": [
    {
     "name": "stdout",
     "output_type": "stream",
     "text": [
      "The distribution of Outcome in the training set is: \n",
      " satisfactory       0.66\n",
      "mild               0.22\n",
      "severe-moderate    0.12\n",
      "Name: arthritis_3cat_t1, dtype: float64\n",
      "The distribution of Outcome in the test set is: \n",
      " satisfactory       0.66\n",
      "mild               0.22\n",
      "severe-moderate    0.12\n",
      "Name: arthritis_3cat_t1, dtype: float64\n"
     ]
    }
   ],
   "source": [
    "print(\"The distribution of Outcome in the training set is: \\n\", y_train.value_counts(normalize=True))\n",
    "\n",
    "print(\"The distribution of Outcome in the test set is: \\n\", y_test.value_counts(normalize=True))"
   ]
  },
  {
   "cell_type": "code",
   "execution_count": 221,
   "metadata": {},
   "outputs": [
    {
     "name": "stdout",
     "output_type": "stream",
     "text": [
      "t0_eq5d_score                0.73\n",
      "t0_ohs_score                30.00\n",
      "t0_eqvas_score              90.00\n",
      "t0_age_band_20 to 29         0.00\n",
      "t0_age_band_30 to 39         0.00\n",
      "                            ...  \n",
      "t0_liver_disease_missing     1.00\n",
      "t0_cancer_yes                0.00\n",
      "t0_cancer_missing            1.00\n",
      "t0_depression_yes            0.00\n",
      "t0_depression_missing        1.00\n",
      "Name: 21087, Length: 56, dtype: float64\n"
     ]
    }
   ],
   "source": [
    "observationX0_35 = X0_test.iloc[35, :]\n",
    "print(observationX0_35)"
   ]
  },
  {
   "cell_type": "code",
   "execution_count": 222,
   "metadata": {},
   "outputs": [
    {
     "name": "stdout",
     "output_type": "stream",
     "text": [
      "severe-moderate\n"
     ]
    }
   ],
   "source": [
    "classY_35 = y_test.iloc[35]\n",
    "print(classY35)"
   ]
  },
  {
   "cell_type": "code",
   "execution_count": 223,
   "metadata": {},
   "outputs": [
    {
     "name": "stdout",
     "output_type": "stream",
     "text": [
      "t0_eqvas_score                            90.0\n",
      "t0_age_band_20 to 29                       0.0\n",
      "t0_age_band_30 to 39                       0.0\n",
      "t0_age_band_40 to 49                       0.0\n",
      "t0_age_band_50 to 59                       1.0\n",
      "                                          ... \n",
      "t0_ohs_work_most of the time               0.0\n",
      "t0_ohs_work_often, not just at first       0.0\n",
      "t0_ohs_work_sometimes or just at first     1.0\n",
      "t0_ohs_work_rarely/never                   0.0\n",
      "t0_ohs_work_missing                        0.0\n",
      "Name: 21087, Length: 146, dtype: float64\n"
     ]
    }
   ],
   "source": [
    "observationX35 = X_test.iloc[35, :]\n",
    "print(observationX35)"
   ]
  },
  {
   "cell_type": "code",
   "execution_count": 224,
   "metadata": {},
   "outputs": [
    {
     "name": "stdout",
     "output_type": "stream",
     "text": [
      "satisfactory\n"
     ]
    }
   ],
   "source": [
    "classY35 = y_test.iloc[35]\n",
    "print(classY35)"
   ]
  },
  {
   "cell_type": "markdown",
   "metadata": {},
   "source": [
    "### Simple multi class logistic regression"
   ]
  },
  {
   "cell_type": "code",
   "execution_count": 225,
   "metadata": {},
   "outputs": [
    {
     "data": {
      "text/html": [
       "<style>div.sk-top-container {color: black;background-color: white;}div.sk-toggleable {background-color: white;}label.sk-toggleable__label {cursor: pointer;display: block;width: 100%;margin-bottom: 0;padding: 0.2em 0.3em;box-sizing: border-box;text-align: center;}div.sk-toggleable__content {max-height: 0;max-width: 0;overflow: hidden;text-align: left;background-color: #f0f8ff;}div.sk-toggleable__content pre {margin: 0.2em;color: black;border-radius: 0.25em;background-color: #f0f8ff;}input.sk-toggleable__control:checked~div.sk-toggleable__content {max-height: 200px;max-width: 100%;overflow: auto;}div.sk-estimator input.sk-toggleable__control:checked~label.sk-toggleable__label {background-color: #d4ebff;}div.sk-label input.sk-toggleable__control:checked~label.sk-toggleable__label {background-color: #d4ebff;}input.sk-hidden--visually {border: 0;clip: rect(1px 1px 1px 1px);clip: rect(1px, 1px, 1px, 1px);height: 1px;margin: -1px;overflow: hidden;padding: 0;position: absolute;width: 1px;}div.sk-estimator {font-family: monospace;background-color: #f0f8ff;margin: 0.25em 0.25em;border: 1px dotted black;border-radius: 0.25em;box-sizing: border-box;}div.sk-estimator:hover {background-color: #d4ebff;}div.sk-parallel-item::after {content: \"\";width: 100%;border-bottom: 1px solid gray;flex-grow: 1;}div.sk-label:hover label.sk-toggleable__label {background-color: #d4ebff;}div.sk-serial::before {content: \"\";position: absolute;border-left: 1px solid gray;box-sizing: border-box;top: 2em;bottom: 0;left: 50%;}div.sk-serial {display: flex;flex-direction: column;align-items: center;background-color: white;}div.sk-item {z-index: 1;}div.sk-parallel {display: flex;align-items: stretch;justify-content: center;background-color: white;}div.sk-parallel-item {display: flex;flex-direction: column;position: relative;background-color: white;}div.sk-parallel-item:first-child::after {align-self: flex-end;width: 50%;}div.sk-parallel-item:last-child::after {align-self: flex-start;width: 50%;}div.sk-parallel-item:only-child::after {width: 0;}div.sk-dashed-wrapped {border: 1px dashed gray;margin: 0.2em;box-sizing: border-box;padding-bottom: 0.1em;background-color: white;position: relative;}div.sk-label label {font-family: monospace;font-weight: bold;background-color: white;display: inline-block;line-height: 1.2em;}div.sk-label-container {position: relative;z-index: 2;text-align: center;}div.sk-container {display: inline-block;position: relative;}</style><div class=\"sk-top-container\"><div class=\"sk-container\"><div class=\"sk-item\"><div class=\"sk-estimator sk-toggleable\"><input class=\"sk-toggleable__control sk-hidden--visually\" id=\"cd3573a7-1f12-482f-960b-5032d62e39aa\" type=\"checkbox\" checked><label class=\"sk-toggleable__label\" for=\"cd3573a7-1f12-482f-960b-5032d62e39aa\">LogisticRegression</label><div class=\"sk-toggleable__content\"><pre>LogisticRegression(max_iter=10000, multi_class='ovr', random_state=888)</pre></div></div></div></div></div>"
      ],
      "text/plain": [
       "LogisticRegression(max_iter=10000, multi_class='ovr', random_state=888)"
      ]
     },
     "execution_count": 225,
     "metadata": {},
     "output_type": "execute_result"
    }
   ],
   "source": [
    "logreg_0model = LogisticRegression(multi_class='ovr', solver='lbfgs', max_iter=10000, random_state=SEED)\n",
    "logreg_0model.fit(X0_train, y0_train)"
   ]
  },
  {
   "cell_type": "code",
   "execution_count": 226,
   "metadata": {},
   "outputs": [
    {
     "name": "stdout",
     "output_type": "stream",
     "text": [
      "Predicted Arthritis class: ['satisfactory']\n",
      "Predicted Probabilities: [0.10718312 0.86735041 0.02546646]\n"
     ]
    }
   ],
   "source": [
    "# define a single row of input data\n",
    "#observationX3 = X_test.iloc[3, :]\n",
    "# predict probabilities for classes in X_test\n",
    "yhat0 = logreg_0model.predict(X0_test)\n",
    "# predict a multinomial probability distribution\n",
    "yhatc0 = logreg_0model.predict([X0_test.iloc[35, :]])\n",
    "print('Predicted Arthritis class: %s' % yhatc0)\n",
    "yhat0_class = logreg_0model.predict_proba([X0_test.iloc[35, :]])\n",
    "# summarize the predicted probabilities\n",
    "print('Predicted Probabilities: %s' % yhat0_class[0])"
   ]
  },
  {
   "cell_type": "code",
   "execution_count": 227,
   "metadata": {},
   "outputs": [
    {
     "name": "stdout",
     "output_type": "stream",
     "text": [
      "                 precision    recall  f1-score   support\n",
      "\n",
      "           mild       0.35      0.07      0.11       665\n",
      "   satisfactory       0.69      0.97      0.81      1979\n",
      "severe-moderate       0.39      0.08      0.13       356\n",
      "\n",
      "       accuracy                           0.67      3000\n",
      "      macro avg       0.48      0.37      0.35      3000\n",
      "   weighted avg       0.58      0.67      0.57      3000\n",
      "\n"
     ]
    }
   ],
   "source": [
    "print(classification_report(y0_test, yhat0))"
   ]
  },
  {
   "cell_type": "code",
   "execution_count": 228,
   "metadata": {},
   "outputs": [
    {
     "data": {
      "image/png": "[encoded data removed]",
      "text/plain": [
       "<Figure size 432x288 with 2 Axes>"
      ]
     },
     "metadata": {
      "needs_background": "light"
     },
     "output_type": "display_data"
    }
   ],
   "source": [
    "plot_confusion_matrix(logreg_0model, X0_test, y0_test, cmap=plt.cm.Blues) \n",
    "plt.show()"
   ]
  },
  {
   "cell_type": "markdown",
   "metadata": {},
   "source": [
    "### Multi class logistic regression with balanced class weights"
   ]
  },
  {
   "cell_type": "code",
   "execution_count": 233,
   "metadata": {},
   "outputs": [
    {
     "data": {
      "text/html": [
       "<style>div.sk-top-container {color: black;background-color: white;}div.sk-toggleable {background-color: white;}label.sk-toggleable__label {cursor: pointer;display: block;width: 100%;margin-bottom: 0;padding: 0.2em 0.3em;box-sizing: border-box;text-align: center;}div.sk-toggleable__content {max-height: 0;max-width: 0;overflow: hidden;text-align: left;background-color: #f0f8ff;}div.sk-toggleable__content pre {margin: 0.2em;color: black;border-radius: 0.25em;background-color: #f0f8ff;}input.sk-toggleable__control:checked~div.sk-toggleable__content {max-height: 200px;max-width: 100%;overflow: auto;}div.sk-estimator input.sk-toggleable__control:checked~label.sk-toggleable__label {background-color: #d4ebff;}div.sk-label input.sk-toggleable__control:checked~label.sk-toggleable__label {background-color: #d4ebff;}input.sk-hidden--visually {border: 0;clip: rect(1px 1px 1px 1px);clip: rect(1px, 1px, 1px, 1px);height: 1px;margin: -1px;overflow: hidden;padding: 0;position: absolute;width: 1px;}div.sk-estimator {font-family: monospace;background-color: #f0f8ff;margin: 0.25em 0.25em;border: 1px dotted black;border-radius: 0.25em;box-sizing: border-box;}div.sk-estimator:hover {background-color: #d4ebff;}div.sk-parallel-item::after {content: \"\";width: 100%;border-bottom: 1px solid gray;flex-grow: 1;}div.sk-label:hover label.sk-toggleable__label {background-color: #d4ebff;}div.sk-serial::before {content: \"\";position: absolute;border-left: 1px solid gray;box-sizing: border-box;top: 2em;bottom: 0;left: 50%;}div.sk-serial {display: flex;flex-direction: column;align-items: center;background-color: white;}div.sk-item {z-index: 1;}div.sk-parallel {display: flex;align-items: stretch;justify-content: center;background-color: white;}div.sk-parallel-item {display: flex;flex-direction: column;position: relative;background-color: white;}div.sk-parallel-item:first-child::after {align-self: flex-end;width: 50%;}div.sk-parallel-item:last-child::after {align-self: flex-start;width: 50%;}div.sk-parallel-item:only-child::after {width: 0;}div.sk-dashed-wrapped {border: 1px dashed gray;margin: 0.2em;box-sizing: border-box;padding-bottom: 0.1em;background-color: white;position: relative;}div.sk-label label {font-family: monospace;font-weight: bold;background-color: white;display: inline-block;line-height: 1.2em;}div.sk-label-container {position: relative;z-index: 2;text-align: center;}div.sk-container {display: inline-block;position: relative;}</style><div class=\"sk-top-container\"><div class=\"sk-container\"><div class=\"sk-item\"><div class=\"sk-estimator sk-toggleable\"><input class=\"sk-toggleable__control sk-hidden--visually\" id=\"e6f54f86-7069-45d7-b595-46fb87d9acb2\" type=\"checkbox\" checked><label class=\"sk-toggleable__label\" for=\"e6f54f86-7069-45d7-b595-46fb87d9acb2\">LogisticRegression</label><div class=\"sk-toggleable__content\"><pre>LogisticRegression(class_weight='balanced', max_iter=10000, multi_class='ovr',\n",
       "                   random_state=888)</pre></div></div></div></div></div>"
      ],
      "text/plain": [
       "LogisticRegression(class_weight='balanced', max_iter=10000, multi_class='ovr',\n",
       "                   random_state=888)"
      ]
     },
     "execution_count": 233,
     "metadata": {},
     "output_type": "execute_result"
    }
   ],
   "source": [
    "logregW_0model = LogisticRegression(multi_class='ovr', solver='lbfgs', max_iter=10000, \n",
    "                                   class_weight='balanced', random_state=SEED)\n",
    "# multi_class = 'ovr' 'multinomial'\n",
    "logregW_0model.fit(X0_train, y0_train)"
   ]
  },
  {
   "cell_type": "code",
   "execution_count": 234,
   "metadata": {},
   "outputs": [
    {
     "name": "stdout",
     "output_type": "stream",
     "text": [
      "Predicted Arthritis class: ['satisfactory']\n",
      "Predicted Probabilities: [0.24050623 0.6394013  0.12009247]\n"
     ]
    }
   ],
   "source": [
    "# define a single row of input data\n",
    "#observationX3 = X_train.iloc[3, :]\n",
    "# predict probabilities for classes in X_test\n",
    "yhatW = logregW_0model.predict(X0_test)\n",
    "yhatc = logregW_0model.predict([X0_test.iloc[35, :]])\n",
    "print('Predicted Arthritis class: %s' % yhatc)\n",
    "# predict a multinomial probability distribution\n",
    "yhatW_class = logregW_0model.predict_proba([X0_test.iloc[35, :]])\n",
    "# summarize the predicted probabilities\n",
    "print('Predicted Probabilities: %s' % yhatW_class[0])"
   ]
  },
  {
   "cell_type": "code",
   "execution_count": 236,
   "metadata": {},
   "outputs": [
    {
     "name": "stdout",
     "output_type": "stream",
     "text": [
      "                 precision    recall  f1-score   support\n",
      "\n",
      "           mild       0.29      0.27      0.28       665\n",
      "   satisfactory       0.78      0.64      0.70      1979\n",
      "severe-moderate       0.22      0.45      0.30       356\n",
      "\n",
      "       accuracy                           0.54      3000\n",
      "      macro avg       0.43      0.46      0.43      3000\n",
      "   weighted avg       0.60      0.54      0.56      3000\n",
      "\n"
     ]
    }
   ],
   "source": [
    "print(classification_report(y0_test, yhatW))"
   ]
  },
  {
   "cell_type": "code",
   "execution_count": 237,
   "metadata": {},
   "outputs": [
    {
     "data": {
      "image/png": "[encoded data removed]",
      "text/plain": [
       "<Figure size 432x288 with 2 Axes>"
      ]
     },
     "metadata": {
      "needs_background": "light"
     },
     "output_type": "display_data"
    }
   ],
   "source": [
    "plot_confusion_matrix(logregW_0model, X0_test, y0_test, cmap=plt.cm.Blues) \n",
    "plt.show()"
   ]
  },
  {
   "cell_type": "code",
   "execution_count": null,
   "metadata": {},
   "outputs": [],
   "source": []
  },
  {
   "cell_type": "code",
   "execution_count": null,
   "metadata": {},
   "outputs": [],
   "source": []
  },
  {
   "cell_type": "code",
   "execution_count": null,
   "metadata": {},
   "outputs": [],
   "source": []
  },
  {
   "cell_type": "markdown",
   "metadata": {},
   "source": [
    "### Multiclass logistic regression model with the complete feature set"
   ]
  },
  {
   "cell_type": "code",
   "execution_count": 229,
   "metadata": {},
   "outputs": [
    {
     "data": {
      "text/html": [
       "<style>div.sk-top-container {color: black;background-color: white;}div.sk-toggleable {background-color: white;}label.sk-toggleable__label {cursor: pointer;display: block;width: 100%;margin-bottom: 0;padding: 0.2em 0.3em;box-sizing: border-box;text-align: center;}div.sk-toggleable__content {max-height: 0;max-width: 0;overflow: hidden;text-align: left;background-color: #f0f8ff;}div.sk-toggleable__content pre {margin: 0.2em;color: black;border-radius: 0.25em;background-color: #f0f8ff;}input.sk-toggleable__control:checked~div.sk-toggleable__content {max-height: 200px;max-width: 100%;overflow: auto;}div.sk-estimator input.sk-toggleable__control:checked~label.sk-toggleable__label {background-color: #d4ebff;}div.sk-label input.sk-toggleable__control:checked~label.sk-toggleable__label {background-color: #d4ebff;}input.sk-hidden--visually {border: 0;clip: rect(1px 1px 1px 1px);clip: rect(1px, 1px, 1px, 1px);height: 1px;margin: -1px;overflow: hidden;padding: 0;position: absolute;width: 1px;}div.sk-estimator {font-family: monospace;background-color: #f0f8ff;margin: 0.25em 0.25em;border: 1px dotted black;border-radius: 0.25em;box-sizing: border-box;}div.sk-estimator:hover {background-color: #d4ebff;}div.sk-parallel-item::after {content: \"\";width: 100%;border-bottom: 1px solid gray;flex-grow: 1;}div.sk-label:hover label.sk-toggleable__label {background-color: #d4ebff;}div.sk-serial::before {content: \"\";position: absolute;border-left: 1px solid gray;box-sizing: border-box;top: 2em;bottom: 0;left: 50%;}div.sk-serial {display: flex;flex-direction: column;align-items: center;background-color: white;}div.sk-item {z-index: 1;}div.sk-parallel {display: flex;align-items: stretch;justify-content: center;background-color: white;}div.sk-parallel-item {display: flex;flex-direction: column;position: relative;background-color: white;}div.sk-parallel-item:first-child::after {align-self: flex-end;width: 50%;}div.sk-parallel-item:last-child::after {align-self: flex-start;width: 50%;}div.sk-parallel-item:only-child::after {width: 0;}div.sk-dashed-wrapped {border: 1px dashed gray;margin: 0.2em;box-sizing: border-box;padding-bottom: 0.1em;background-color: white;position: relative;}div.sk-label label {font-family: monospace;font-weight: bold;background-color: white;display: inline-block;line-height: 1.2em;}div.sk-label-container {position: relative;z-index: 2;text-align: center;}div.sk-container {display: inline-block;position: relative;}</style><div class=\"sk-top-container\"><div class=\"sk-container\"><div class=\"sk-item\"><div class=\"sk-estimator sk-toggleable\"><input class=\"sk-toggleable__control sk-hidden--visually\" id=\"8c7a90c9-c87c-4a68-93eb-2646bbc72a8a\" type=\"checkbox\" checked><label class=\"sk-toggleable__label\" for=\"8c7a90c9-c87c-4a68-93eb-2646bbc72a8a\">LogisticRegression</label><div class=\"sk-toggleable__content\"><pre>LogisticRegression(max_iter=10000, multi_class='ovr', random_state=888)</pre></div></div></div></div></div>"
      ],
      "text/plain": [
       "LogisticRegression(max_iter=10000, multi_class='ovr', random_state=888)"
      ]
     },
     "execution_count": 229,
     "metadata": {},
     "output_type": "execute_result"
    }
   ],
   "source": [
    "logreg_model = LogisticRegression(multi_class='ovr', solver='lbfgs', max_iter=10000, random_state=SEED)\n",
    "logreg_model.fit(X_train, y_train)"
   ]
  },
  {
   "cell_type": "code",
   "execution_count": 230,
   "metadata": {},
   "outputs": [
    {
     "name": "stdout",
     "output_type": "stream",
     "text": [
      "Predicted Arthritis class: ['satisfactory']\n",
      "Predicted Probabilities: [0.04806467 0.9254956  0.02643973]\n"
     ]
    }
   ],
   "source": [
    "# define a single row of input data\n",
    "#observationX3 = X_test.iloc[3, :]\n",
    "# predict probabilities for classes in X_test\n",
    "yhat = logreg_model.predict(X_test)\n",
    "# predict a multinomial probability distribution\n",
    "yhatc = logreg_model.predict([X_test.iloc[35, :]])\n",
    "print('Predicted Arthritis class: %s' % yhatc)\n",
    "yhat_class = logreg_model.predict_proba([X_test.iloc[35, :]])\n",
    "# summarize the predicted probabilities\n",
    "print('Predicted Probabilities: %s' % yhat_class[0])"
   ]
  },
  {
   "cell_type": "code",
   "execution_count": 231,
   "metadata": {},
   "outputs": [
    {
     "name": "stdout",
     "output_type": "stream",
     "text": [
      "                 precision    recall  f1-score   support\n",
      "\n",
      "           mild       0.36      0.10      0.15       665\n",
      "   satisfactory       0.70      0.96      0.81      1979\n",
      "severe-moderate       0.36      0.11      0.17       356\n",
      "\n",
      "       accuracy                           0.67      3000\n",
      "      macro avg       0.47      0.39      0.38      3000\n",
      "   weighted avg       0.58      0.67      0.59      3000\n",
      "\n"
     ]
    }
   ],
   "source": [
    "print(classification_report(y_test, yhat))"
   ]
  },
  {
   "cell_type": "code",
   "execution_count": 232,
   "metadata": {},
   "outputs": [
    {
     "data": {
      "image/png": "[encoded data removed]",
      "text/plain": [
       "<Figure size 432x288 with 2 Axes>"
      ]
     },
     "metadata": {
      "needs_background": "light"
     },
     "output_type": "display_data"
    }
   ],
   "source": [
    "plot_confusion_matrix(logreg_model, X_test, y_test, cmap=plt.cm.Blues) \n",
    "plt.show()"
   ]
  },
  {
   "cell_type": "markdown",
   "metadata": {},
   "source": [
    "### Multi class logistic regression with balanced weights"
   ]
  },
  {
   "cell_type": "code",
   "execution_count": 132,
   "metadata": {},
   "outputs": [
    {
     "name": "stdout",
     "output_type": "stream",
     "text": [
      "Predicted Probabilities: [0.38234978 0.39374583 0.22390439]\n"
     ]
    }
   ],
   "source": [
    "logregW_model = LogisticRegression(multi_class='ovr', solver='lbfgs', max_iter=10000, \n",
    "                                   class_weight='balanced', random_state=SEED)\n",
    "# multi_class = 'ovr' 'multinomial'\n",
    "logregW_model.fit(X_train, y_train)\n"
   ]
  },
  {
   "cell_type": "code",
   "execution_count": 159,
   "metadata": {},
   "outputs": [
    {
     "name": "stdout",
     "output_type": "stream",
     "text": [
      "Predicted Arthritis class: ['severe-moderate']\n",
      "Predicted Probabilities: [0.39631231 0.17199329 0.43169441]\n"
     ]
    }
   ],
   "source": [
    "# define a single row of input data\n",
    "#observationX3 = X_train.iloc[3, :]\n",
    "# predict probabilities for classes in X_test\n",
    "yhatW = logregW_model.predict(X_test)\n",
    "yhatc = logregW_model.predict([X_test.iloc[35, :]])\n",
    "print('Predicted Arthritis class: %s' % yhatc)\n",
    "# predict a multinomial probability distribution\n",
    "yhatW_class = logregW_model.predict_proba([X_test.iloc[35, :]])\n",
    "# summarize the predicted probabilities\n",
    "print('Predicted Probabilities: %s' % yhatW_class[0])"
   ]
  },
  {
   "cell_type": "code",
   "execution_count": 133,
   "metadata": {},
   "outputs": [
    {
     "name": "stdout",
     "output_type": "stream",
     "text": [
      "                 precision    recall  f1-score   support\n",
      "\n",
      "           mild       0.32      0.30      0.31       678\n",
      "   satisfactory       0.80      0.67      0.73      1973\n",
      "severe-moderate       0.24      0.49      0.32       349\n",
      "\n",
      "       accuracy                           0.57      3000\n",
      "      macro avg       0.45      0.49      0.45      3000\n",
      "   weighted avg       0.63      0.57      0.59      3000\n",
      "\n"
     ]
    }
   ],
   "source": [
    "print(classification_report(y_test, yhatW))"
   ]
  },
  {
   "cell_type": "code",
   "execution_count": 134,
   "metadata": {},
   "outputs": [
    {
     "data": {
      "image/png": "[encoded data removed]",
      "text/plain": [
       "<Figure size 432x288 with 2 Axes>"
      ]
     },
     "metadata": {
      "needs_background": "light"
     },
     "output_type": "display_data"
    }
   ],
   "source": [
    "plot_confusion_matrix(logregW_model, X_test, y_test, cmap=plt.cm.Blues) \n",
    "plt.show()"
   ]
  },
  {
   "cell_type": "markdown",
   "metadata": {},
   "source": [
    "### Multi class L1 regularized logistic regression"
   ]
  },
  {
   "cell_type": "code",
   "execution_count": 135,
   "metadata": {},
   "outputs": [
    {
     "name": "stdout",
     "output_type": "stream",
     "text": [
      "Predicted Probabilities: [0.25112192 0.68518401 0.06369406]\n"
     ]
    }
   ],
   "source": [
    "logregL1_model = LogisticRegression(multi_class='ovr', solver='saga', max_iter=10000, \n",
    "                                    penalty='l1', random_state=SEED)\n",
    "\n",
    "logregL1_model.fit(X_train, y_train)\n"
   ]
  },
  {
   "cell_type": "code",
   "execution_count": 161,
   "metadata": {},
   "outputs": [
    {
     "name": "stdout",
     "output_type": "stream",
     "text": [
      "Predicted Arthritis class: ['satisfactory']\n",
      "Predicted Probabilities: [0.33319661 0.42046356 0.24633983]\n"
     ]
    }
   ],
   "source": [
    "# define a single row of input data\n",
    "#observationX3 = X_train.iloc[3, :]\n",
    "# predict probabilities for classes in X_test\n",
    "yhatL1 = logregL1_model.predict(X_test)\n",
    "yhatc = logregL1_model.predict([X_test.iloc[35, :]])\n",
    "print('Predicted Arthritis class: %s' % yhatc)\n",
    "# predict a multinomial probability distribution\n",
    "yhatL1_class = logregL1_model.predict_proba([X_test.iloc[35, :]])\n",
    "# summarize the predicted probabilities\n",
    "print('Predicted Probabilities: %s' % yhatL1_class[0])"
   ]
  },
  {
   "cell_type": "code",
   "execution_count": 150,
   "metadata": {},
   "outputs": [
    {
     "name": "stdout",
     "output_type": "stream",
     "text": [
      "                 precision    recall  f1-score   support\n",
      "\n",
      "           mild       0.36      0.10      0.16       678\n",
      "   satisfactory       0.69      0.96      0.80      1973\n",
      "severe-moderate       0.39      0.09      0.15       349\n",
      "\n",
      "       accuracy                           0.66      3000\n",
      "      macro avg       0.48      0.38      0.37      3000\n",
      "   weighted avg       0.58      0.66      0.58      3000\n",
      "\n"
     ]
    }
   ],
   "source": [
    "print(classification_report(y_test, yhatL1))"
   ]
  },
  {
   "cell_type": "code",
   "execution_count": 137,
   "metadata": {},
   "outputs": [
    {
     "data": {
      "image/png": "[encoded data removed]",
      "text/plain": [
       "<Figure size 432x288 with 2 Axes>"
      ]
     },
     "metadata": {
      "needs_background": "light"
     },
     "output_type": "display_data"
    }
   ],
   "source": [
    "plot_confusion_matrix(logregL1_model, X_test, y_test, cmap=plt.cm.Blues) \n",
    "plt.show()"
   ]
  },
  {
   "cell_type": "markdown",
   "metadata": {},
   "source": [
    "### Multi class L1 regularized logistic regression with balanced weights "
   ]
  },
  {
   "cell_type": "code",
   "execution_count": 138,
   "metadata": {},
   "outputs": [
    {
     "name": "stdout",
     "output_type": "stream",
     "text": [
      "Predicted Probabilities: [0.37941591 0.39378338 0.22680071]\n"
     ]
    }
   ],
   "source": [
    "logregWL1_model = LogisticRegression(multi_class='ovr', solver='saga', max_iter=10000, \n",
    "                                     penalty='l1', class_weight='balanced', random_state=SEED)\n",
    "\n",
    "logregWL1_model.fit(X_train, y_train)\n"
   ]
  },
  {
   "cell_type": "code",
   "execution_count": 166,
   "metadata": {},
   "outputs": [
    {
     "name": "stdout",
     "output_type": "stream",
     "text": [
      "Predicted Arthritis class: ['severe-moderate']\n",
      "Predicted Probabilities: [0.39858655 0.17156185 0.4298516 ]\n"
     ]
    }
   ],
   "source": [
    "# define a single row of input data\n",
    "#observationX3 = X_train.iloc[3, :]\n",
    "# predict probabilities for classes in X_test\n",
    "yhatWL1 = logregWL1_model.predict(X_test)\n",
    "yhatc = logregWL1_model.predict([X_test.iloc[35, :]])\n",
    "print('Predicted Arthritis class: %s' % yhatc)\n",
    "# predict a multinomial probability distribution\n",
    "yhatWL1_class = logregWL1_model.predict_proba([X_test.iloc[35, :]])\n",
    "# summarize the predicted probabilities\n",
    "print('Predicted Probabilities: %s' % yhatWL1_class[0])"
   ]
  },
  {
   "cell_type": "code",
   "execution_count": 152,
   "metadata": {},
   "outputs": [
    {
     "name": "stdout",
     "output_type": "stream",
     "text": [
      "                 precision    recall  f1-score   support\n",
      "\n",
      "           mild       0.32      0.30      0.31       678\n",
      "   satisfactory       0.80      0.67      0.73      1973\n",
      "severe-moderate       0.25      0.50      0.33       349\n",
      "\n",
      "       accuracy                           0.56      3000\n",
      "      macro avg       0.45      0.49      0.45      3000\n",
      "   weighted avg       0.62      0.56      0.59      3000\n",
      "\n"
     ]
    }
   ],
   "source": [
    "print(classification_report(y_test, yhatWL1))"
   ]
  },
  {
   "cell_type": "code",
   "execution_count": 153,
   "metadata": {},
   "outputs": [
    {
     "data": {
      "image/png": "[encoded data removed]",
      "text/plain": [
       "<Figure size 432x288 with 2 Axes>"
      ]
     },
     "metadata": {
      "needs_background": "light"
     },
     "output_type": "display_data"
    }
   ],
   "source": [
    "plot_confusion_matrix(logregWL1_model, X_test, y_test, cmap=plt.cm.Blues) \n",
    "plt.show()"
   ]
  },
  {
   "cell_type": "code",
   "execution_count": 154,
   "metadata": {},
   "outputs": [
    {
     "name": "stdout",
     "output_type": "stream",
     "text": [
      "Feature: 0, Score: -0.00097\n",
      "Feature: 1, Score: 0.12363\n",
      "Feature: 2, Score: 0.06720\n",
      "Feature: 3, Score: -0.03960\n",
      "Feature: 4, Score: -0.33377\n",
      "Feature: 5, Score: -0.31785\n",
      "Feature: 6, Score: -0.03660\n",
      "Feature: 7, Score: 0.22316\n",
      "Feature: 8, Score: 0.16541\n",
      "Feature: 10, Score: -0.01667\n",
      "Feature: 11, Score: 0.10116\n",
      "Feature: 13, Score: 0.19680\n",
      "Feature: 15, Score: -0.11522\n",
      "Feature: 16, Score: -0.14594\n",
      "Feature: 17, Score: 0.03154\n",
      "Feature: 19, Score: 0.06302\n",
      "Feature: 22, Score: 0.01338\n",
      "Feature: 23, Score: -0.16029\n",
      "Feature: 24, Score: -0.06474\n",
      "Feature: 25, Score: 0.09745\n",
      "Feature: 27, Score: -0.22310\n",
      "Feature: 28, Score: 0.53810\n",
      "Feature: 29, Score: 0.26121\n",
      "Feature: 32, Score: 0.13094\n",
      "Feature: 33, Score: -0.04643\n",
      "Feature: 35, Score: 0.05319\n",
      "Feature: 36, Score: 0.24288\n",
      "Feature: 37, Score: -0.15855\n",
      "Feature: 38, Score: 0.05809\n",
      "Feature: 40, Score: 0.11271\n",
      "Feature: 41, Score: -0.02822\n",
      "Feature: 42, Score: 0.12651\n",
      "Feature: 43, Score: -0.04205\n",
      "Feature: 45, Score: 0.07084\n",
      "Feature: 46, Score: 0.15864\n",
      "Feature: 47, Score: -0.07709\n",
      "Feature: 48, Score: -0.07265\n",
      "Feature: 49, Score: 0.15716\n",
      "Feature: 52, Score: 0.10891\n",
      "Feature: 53, Score: -0.02476\n",
      "Feature: 54, Score: 0.13438\n",
      "Feature: 55, Score: -0.04988\n",
      "Feature: 56, Score: 0.04219\n",
      "Feature: 57, Score: 0.26228\n",
      "Feature: 58, Score: -0.46473\n",
      "Feature: 61, Score: 0.16159\n",
      "Feature: 62, Score: -0.26694\n",
      "Feature: 64, Score: 0.37811\n",
      "Feature: 66, Score: -0.25875\n",
      "Feature: 68, Score: -0.06887\n",
      "Feature: 69, Score: 0.01461\n",
      "Feature: 72, Score: -0.14953\n",
      "Feature: 74, Score: 0.07539\n",
      "Feature: 76, Score: -0.05915\n",
      "Feature: 78, Score: -0.03661\n",
      "Feature: 79, Score: 0.18022\n",
      "Feature: 82, Score: -0.13509\n",
      "Feature: 83, Score: 0.02524\n",
      "Feature: 84, Score: 0.04592\n",
      "Feature: 85, Score: 0.05669\n",
      "Feature: 86, Score: -0.23711\n",
      "Feature: 88, Score: 0.02549\n",
      "Feature: 89, Score: -0.11346\n",
      "Feature: 91, Score: -0.19599\n",
      "Feature: 92, Score: 0.08633\n",
      "Feature: 94, Score: 0.40917\n",
      "Feature: 95, Score: 0.00870\n",
      "Feature: 96, Score: -0.07244\n",
      "Feature: 98, Score: -0.07522\n",
      "Feature: 101, Score: 0.12901\n",
      "Feature: 102, Score: -0.04026\n",
      "Feature: 103, Score: -0.22824\n",
      "Feature: 104, Score: 0.05983\n",
      "Feature: 106, Score: 0.04162\n",
      "Feature: 107, Score: -0.07697\n",
      "Feature: 109, Score: -0.13669\n",
      "Feature: 110, Score: 0.22703\n",
      "Feature: 112, Score: 0.22011\n",
      "Feature: 113, Score: 0.10745\n",
      "Feature: 116, Score: -0.05060\n",
      "Feature: 118, Score: 0.03783\n",
      "Feature: 120, Score: -0.04680\n",
      "Feature: 121, Score: 0.02798\n",
      "Feature: 122, Score: -0.22322\n",
      "Feature: 124, Score: -0.46125\n",
      "Feature: 125, Score: -0.27669\n",
      "Feature: 126, Score: -0.08489\n",
      "Feature: 127, Score: 0.02165\n",
      "Feature: 128, Score: 1.13333\n",
      "Feature: 130, Score: 0.10989\n",
      "Feature: 132, Score: -0.02259\n",
      "Feature: 133, Score: 0.00005\n",
      "Feature: 134, Score: -0.31453\n",
      "Feature: 136, Score: 0.37122\n",
      "Feature: 139, Score: 0.00190\n",
      "Feature: 140, Score: -0.86447\n",
      "Feature: 143, Score: 0.12976\n",
      "Feature: 144, Score: 0.00193\n",
      "Feature: 145, Score: -0.39288\n",
      "Feature: 146, Score: -0.01710\n"
     ]
    },
    {
     "ename": "ValueError",
     "evalue": "shape mismatch: objects cannot be broadcast to a single shape",
     "output_type": "error",
     "traceback": [
      "\u001b[0;31m---------------------------------------------------------------------------\u001b[0m",
      "\u001b[0;31mValueError\u001b[0m                                Traceback (most recent call last)",
      "\u001b[0;32m<ipython-input-154-ab4ce1f471d3>\u001b[0m in \u001b[0;36m<module>\u001b[0;34m\u001b[0m\n\u001b[1;32m     12\u001b[0m \u001b[0;31m# plot feature importance\u001b[0m\u001b[0;34m\u001b[0m\u001b[0;34m\u001b[0m\u001b[0;34m\u001b[0m\u001b[0m\n\u001b[1;32m     13\u001b[0m \u001b[0mplt\u001b[0m\u001b[0;34m.\u001b[0m\u001b[0mfigure\u001b[0m\u001b[0;34m(\u001b[0m\u001b[0mfigsize\u001b[0m\u001b[0;34m=\u001b[0m\u001b[0;34m(\u001b[0m\u001b[0;36m12\u001b[0m\u001b[0;34m,\u001b[0m \u001b[0;36m10\u001b[0m\u001b[0;34m)\u001b[0m\u001b[0;34m)\u001b[0m\u001b[0;34m\u001b[0m\u001b[0;34m\u001b[0m\u001b[0m\n\u001b[0;32m---> 14\u001b[0;31m \u001b[0mplt\u001b[0m\u001b[0;34m.\u001b[0m\u001b[0mbar\u001b[0m\u001b[0;34m(\u001b[0m\u001b[0;34m[\u001b[0m\u001b[0mx\u001b[0m \u001b[0;32mfor\u001b[0m \u001b[0mx\u001b[0m \u001b[0;32min\u001b[0m \u001b[0mfeature_names\u001b[0m\u001b[0;34m]\u001b[0m\u001b[0;34m,\u001b[0m \u001b[0msel\u001b[0m\u001b[0;34m)\u001b[0m\u001b[0;34m\u001b[0m\u001b[0;34m\u001b[0m\u001b[0m\n\u001b[0m\u001b[1;32m     15\u001b[0m \u001b[0mplt\u001b[0m\u001b[0;34m.\u001b[0m\u001b[0mxticks\u001b[0m\u001b[0;34m(\u001b[0m\u001b[0mfontsize\u001b[0m\u001b[0;34m=\u001b[0m\u001b[0;36m10\u001b[0m\u001b[0;34m,\u001b[0m \u001b[0mrotation\u001b[0m\u001b[0;34m=\u001b[0m\u001b[0;36m70\u001b[0m\u001b[0;34m)\u001b[0m\u001b[0;34m\u001b[0m\u001b[0;34m\u001b[0m\u001b[0m\n\u001b[1;32m     16\u001b[0m \u001b[0mplt\u001b[0m\u001b[0;34m.\u001b[0m\u001b[0mylabel\u001b[0m\u001b[0;34m(\u001b[0m\u001b[0;34m'Feature Importance'\u001b[0m\u001b[0;34m,\u001b[0m \u001b[0mfontsize\u001b[0m \u001b[0;34m=\u001b[0m \u001b[0;36m14\u001b[0m\u001b[0;34m)\u001b[0m\u001b[0;34m\u001b[0m\u001b[0;34m\u001b[0m\u001b[0m\n",
      "\u001b[0;32m~/opt/anaconda3/envs/jads/lib/python3.8/site-packages/matplotlib/pyplot.py\u001b[0m in \u001b[0;36mbar\u001b[0;34m(x, height, width, bottom, align, data, **kwargs)\u001b[0m\n\u001b[1;32m   2485\u001b[0m         \u001b[0mx\u001b[0m\u001b[0;34m,\u001b[0m \u001b[0mheight\u001b[0m\u001b[0;34m,\u001b[0m \u001b[0mwidth\u001b[0m\u001b[0;34m=\u001b[0m\u001b[0;36m0.8\u001b[0m\u001b[0;34m,\u001b[0m \u001b[0mbottom\u001b[0m\u001b[0;34m=\u001b[0m\u001b[0;32mNone\u001b[0m\u001b[0;34m,\u001b[0m \u001b[0;34m*\u001b[0m\u001b[0;34m,\u001b[0m \u001b[0malign\u001b[0m\u001b[0;34m=\u001b[0m\u001b[0;34m'center'\u001b[0m\u001b[0;34m,\u001b[0m\u001b[0;34m\u001b[0m\u001b[0;34m\u001b[0m\u001b[0m\n\u001b[1;32m   2486\u001b[0m         data=None, **kwargs):\n\u001b[0;32m-> 2487\u001b[0;31m     return gca().bar(\n\u001b[0m\u001b[1;32m   2488\u001b[0m         \u001b[0mx\u001b[0m\u001b[0;34m,\u001b[0m \u001b[0mheight\u001b[0m\u001b[0;34m,\u001b[0m \u001b[0mwidth\u001b[0m\u001b[0;34m=\u001b[0m\u001b[0mwidth\u001b[0m\u001b[0;34m,\u001b[0m \u001b[0mbottom\u001b[0m\u001b[0;34m=\u001b[0m\u001b[0mbottom\u001b[0m\u001b[0;34m,\u001b[0m \u001b[0malign\u001b[0m\u001b[0;34m=\u001b[0m\u001b[0malign\u001b[0m\u001b[0;34m,\u001b[0m\u001b[0;34m\u001b[0m\u001b[0;34m\u001b[0m\u001b[0m\n\u001b[1;32m   2489\u001b[0m         **({\"data\": data} if data is not None else {}), **kwargs)\n",
      "\u001b[0;32m~/opt/anaconda3/envs/jads/lib/python3.8/site-packages/matplotlib/__init__.py\u001b[0m in \u001b[0;36minner\u001b[0;34m(ax, data, *args, **kwargs)\u001b[0m\n\u001b[1;32m   1445\u001b[0m     \u001b[0;32mdef\u001b[0m \u001b[0minner\u001b[0m\u001b[0;34m(\u001b[0m\u001b[0max\u001b[0m\u001b[0;34m,\u001b[0m \u001b[0;34m*\u001b[0m\u001b[0margs\u001b[0m\u001b[0;34m,\u001b[0m \u001b[0mdata\u001b[0m\u001b[0;34m=\u001b[0m\u001b[0;32mNone\u001b[0m\u001b[0;34m,\u001b[0m \u001b[0;34m**\u001b[0m\u001b[0mkwargs\u001b[0m\u001b[0;34m)\u001b[0m\u001b[0;34m:\u001b[0m\u001b[0;34m\u001b[0m\u001b[0;34m\u001b[0m\u001b[0m\n\u001b[1;32m   1446\u001b[0m         \u001b[0;32mif\u001b[0m \u001b[0mdata\u001b[0m \u001b[0;32mis\u001b[0m \u001b[0;32mNone\u001b[0m\u001b[0;34m:\u001b[0m\u001b[0;34m\u001b[0m\u001b[0;34m\u001b[0m\u001b[0m\n\u001b[0;32m-> 1447\u001b[0;31m             \u001b[0;32mreturn\u001b[0m \u001b[0mfunc\u001b[0m\u001b[0;34m(\u001b[0m\u001b[0max\u001b[0m\u001b[0;34m,\u001b[0m \u001b[0;34m*\u001b[0m\u001b[0mmap\u001b[0m\u001b[0;34m(\u001b[0m\u001b[0msanitize_sequence\u001b[0m\u001b[0;34m,\u001b[0m \u001b[0margs\u001b[0m\u001b[0;34m)\u001b[0m\u001b[0;34m,\u001b[0m \u001b[0;34m**\u001b[0m\u001b[0mkwargs\u001b[0m\u001b[0;34m)\u001b[0m\u001b[0;34m\u001b[0m\u001b[0;34m\u001b[0m\u001b[0m\n\u001b[0m\u001b[1;32m   1448\u001b[0m \u001b[0;34m\u001b[0m\u001b[0m\n\u001b[1;32m   1449\u001b[0m         \u001b[0mbound\u001b[0m \u001b[0;34m=\u001b[0m \u001b[0mnew_sig\u001b[0m\u001b[0;34m.\u001b[0m\u001b[0mbind\u001b[0m\u001b[0;34m(\u001b[0m\u001b[0max\u001b[0m\u001b[0;34m,\u001b[0m \u001b[0;34m*\u001b[0m\u001b[0margs\u001b[0m\u001b[0;34m,\u001b[0m \u001b[0;34m**\u001b[0m\u001b[0mkwargs\u001b[0m\u001b[0;34m)\u001b[0m\u001b[0;34m\u001b[0m\u001b[0;34m\u001b[0m\u001b[0m\n",
      "\u001b[0;32m~/opt/anaconda3/envs/jads/lib/python3.8/site-packages/matplotlib/axes/_axes.py\u001b[0m in \u001b[0;36mbar\u001b[0;34m(self, x, height, width, bottom, align, **kwargs)\u001b[0m\n\u001b[1;32m   2428\u001b[0m                 \u001b[0myerr\u001b[0m \u001b[0;34m=\u001b[0m \u001b[0mself\u001b[0m\u001b[0;34m.\u001b[0m\u001b[0m_convert_dx\u001b[0m\u001b[0;34m(\u001b[0m\u001b[0myerr\u001b[0m\u001b[0;34m,\u001b[0m \u001b[0my0\u001b[0m\u001b[0;34m,\u001b[0m \u001b[0my\u001b[0m\u001b[0;34m,\u001b[0m \u001b[0mself\u001b[0m\u001b[0;34m.\u001b[0m\u001b[0mconvert_yunits\u001b[0m\u001b[0;34m)\u001b[0m\u001b[0;34m\u001b[0m\u001b[0;34m\u001b[0m\u001b[0m\n\u001b[1;32m   2429\u001b[0m \u001b[0;34m\u001b[0m\u001b[0m\n\u001b[0;32m-> 2430\u001b[0;31m         x, height, width, y, linewidth = np.broadcast_arrays(\n\u001b[0m\u001b[1;32m   2431\u001b[0m             \u001b[0;31m# Make args iterable too.\u001b[0m\u001b[0;34m\u001b[0m\u001b[0;34m\u001b[0m\u001b[0;34m\u001b[0m\u001b[0m\n\u001b[1;32m   2432\u001b[0m             np.atleast_1d(x), height, width, y, linewidth)\n",
      "\u001b[0;32m<__array_function__ internals>\u001b[0m in \u001b[0;36mbroadcast_arrays\u001b[0;34m(*args, **kwargs)\u001b[0m\n",
      "\u001b[0;32m~/opt/anaconda3/envs/jads/lib/python3.8/site-packages/numpy/lib/stride_tricks.py\u001b[0m in \u001b[0;36mbroadcast_arrays\u001b[0;34m(subok, *args)\u001b[0m\n\u001b[1;32m    536\u001b[0m     \u001b[0margs\u001b[0m \u001b[0;34m=\u001b[0m \u001b[0;34m[\u001b[0m\u001b[0mnp\u001b[0m\u001b[0;34m.\u001b[0m\u001b[0marray\u001b[0m\u001b[0;34m(\u001b[0m\u001b[0m_m\u001b[0m\u001b[0;34m,\u001b[0m \u001b[0mcopy\u001b[0m\u001b[0;34m=\u001b[0m\u001b[0;32mFalse\u001b[0m\u001b[0;34m,\u001b[0m \u001b[0msubok\u001b[0m\u001b[0;34m=\u001b[0m\u001b[0msubok\u001b[0m\u001b[0;34m)\u001b[0m \u001b[0;32mfor\u001b[0m \u001b[0m_m\u001b[0m \u001b[0;32min\u001b[0m \u001b[0margs\u001b[0m\u001b[0;34m]\u001b[0m\u001b[0;34m\u001b[0m\u001b[0;34m\u001b[0m\u001b[0m\n\u001b[1;32m    537\u001b[0m \u001b[0;34m\u001b[0m\u001b[0m\n\u001b[0;32m--> 538\u001b[0;31m     \u001b[0mshape\u001b[0m \u001b[0;34m=\u001b[0m \u001b[0m_broadcast_shape\u001b[0m\u001b[0;34m(\u001b[0m\u001b[0;34m*\u001b[0m\u001b[0margs\u001b[0m\u001b[0;34m)\u001b[0m\u001b[0;34m\u001b[0m\u001b[0;34m\u001b[0m\u001b[0m\n\u001b[0m\u001b[1;32m    539\u001b[0m \u001b[0;34m\u001b[0m\u001b[0m\n\u001b[1;32m    540\u001b[0m     \u001b[0;32mif\u001b[0m \u001b[0mall\u001b[0m\u001b[0;34m(\u001b[0m\u001b[0marray\u001b[0m\u001b[0;34m.\u001b[0m\u001b[0mshape\u001b[0m \u001b[0;34m==\u001b[0m \u001b[0mshape\u001b[0m \u001b[0;32mfor\u001b[0m \u001b[0marray\u001b[0m \u001b[0;32min\u001b[0m \u001b[0margs\u001b[0m\u001b[0;34m)\u001b[0m\u001b[0;34m:\u001b[0m\u001b[0;34m\u001b[0m\u001b[0;34m\u001b[0m\u001b[0m\n",
      "\u001b[0;32m~/opt/anaconda3/envs/jads/lib/python3.8/site-packages/numpy/lib/stride_tricks.py\u001b[0m in \u001b[0;36m_broadcast_shape\u001b[0;34m(*args)\u001b[0m\n\u001b[1;32m    418\u001b[0m     \u001b[0;31m# use the old-iterator because np.nditer does not handle size 0 arrays\u001b[0m\u001b[0;34m\u001b[0m\u001b[0;34m\u001b[0m\u001b[0;34m\u001b[0m\u001b[0m\n\u001b[1;32m    419\u001b[0m     \u001b[0;31m# consistently\u001b[0m\u001b[0;34m\u001b[0m\u001b[0;34m\u001b[0m\u001b[0;34m\u001b[0m\u001b[0m\n\u001b[0;32m--> 420\u001b[0;31m     \u001b[0mb\u001b[0m \u001b[0;34m=\u001b[0m \u001b[0mnp\u001b[0m\u001b[0;34m.\u001b[0m\u001b[0mbroadcast\u001b[0m\u001b[0;34m(\u001b[0m\u001b[0;34m*\u001b[0m\u001b[0margs\u001b[0m\u001b[0;34m[\u001b[0m\u001b[0;34m:\u001b[0m\u001b[0;36m32\u001b[0m\u001b[0;34m]\u001b[0m\u001b[0;34m)\u001b[0m\u001b[0;34m\u001b[0m\u001b[0;34m\u001b[0m\u001b[0m\n\u001b[0m\u001b[1;32m    421\u001b[0m     \u001b[0;31m# unfortunately, it cannot handle 32 or more arguments directly\u001b[0m\u001b[0;34m\u001b[0m\u001b[0;34m\u001b[0m\u001b[0;34m\u001b[0m\u001b[0m\n\u001b[1;32m    422\u001b[0m     \u001b[0;32mfor\u001b[0m \u001b[0mpos\u001b[0m \u001b[0;32min\u001b[0m \u001b[0mrange\u001b[0m\u001b[0;34m(\u001b[0m\u001b[0;36m32\u001b[0m\u001b[0;34m,\u001b[0m \u001b[0mlen\u001b[0m\u001b[0;34m(\u001b[0m\u001b[0margs\u001b[0m\u001b[0;34m)\u001b[0m\u001b[0;34m,\u001b[0m \u001b[0;36m31\u001b[0m\u001b[0;34m)\u001b[0m\u001b[0;34m:\u001b[0m\u001b[0;34m\u001b[0m\u001b[0;34m\u001b[0m\u001b[0m\n",
      "\u001b[0;31mValueError\u001b[0m: shape mismatch: objects cannot be broadcast to a single shape"
     ]
    },
    {
     "data": {
      "image/png": "[encoded data removed]",
      "text/plain": [
       "<Figure size 864x720 with 1 Axes>"
      ]
     },
     "metadata": {
      "needs_background": "light"
     },
     "output_type": "display_data"
    }
   ],
   "source": [
    "from sklearn.feature_selection import SelectFromModel\n",
    "\n",
    "model = SelectFromModel(logregWL1_model, threshold=1e-5, prefit=True)\n",
    "feature_idx = model.get_support() \n",
    "feature_names = X_train.columns[feature_idx]\n",
    "#print(feature_names)\n",
    "importance = logregWL1_model.coef_[0]\n",
    "for i,v in enumerate(importance):\n",
    "    if np.abs(v)>=1e-5:\n",
    "        print('Feature: %0d, Score: %.5f' % (i,v))\n",
    "sel = importance[np.abs(importance)>=1e-5]\n",
    "# plot feature importance\n",
    "plt.figure(figsize=(12, 10))\n",
    "plt.bar([x for x in feature_names], sel)\n",
    "plt.xticks(fontsize=10, rotation=70)\n",
    "plt.ylabel('Feature Importance', fontsize = 14)\n",
    "plt.show()"
   ]
  },
  {
   "cell_type": "code",
   "execution_count": null,
   "metadata": {},
   "outputs": [],
   "source": []
  },
  {
   "cell_type": "markdown",
   "metadata": {},
   "source": [
    "### make balanced"
   ]
  },
  {
   "cell_type": "code",
   "execution_count": null,
   "metadata": {},
   "outputs": [],
   "source": [
    "# no correction for imbalance necessary with y = ohs_score (continuous)\n",
    "#\n",
    "#print(\"before:\")\n",
    "#display(y_train.value_counts())\n",
    "\n",
    "#cat_cols = X_train.dtypes == \"category\"\n",
    "\n",
    "#resampler = SMOTENC(categorical_features=cat_cols.values)\n",
    "#X_train_balanced, y_train_balanced = resampler.fit_resample(X_train, y_train)\n",
    "\n",
    "#print(\"after:\")\n",
    "#display(y_train_balanced.value_counts())"
   ]
  },
  {
   "cell_type": "markdown",
   "metadata": {},
   "source": [
    "## make + train a simple pipeline"
   ]
  },
  {
   "cell_type": "code",
   "execution_count": null,
   "metadata": {},
   "outputs": [],
   "source": [
    "# make the pipeline\n",
    "ct = make_column_transformer(\n",
    "    (OneHotEncoder(), make_column_selector(dtype_include=\"category\")),\n",
    "    (StandardScaler(), make_column_selector(dtype_include=\"number\")),\n",
    ") \n",
    "\n",
    "pl = make_pipeline(ct, KNeighborsClassifier())\n",
    "\n",
    "# train the pipeline/model\n",
    "pl.fit(X_train_balanced, y_train_balanced)"
   ]
  },
  {
   "cell_type": "markdown",
   "metadata": {},
   "source": [
    "## predict + evaluate"
   ]
  },
  {
   "cell_type": "code",
   "execution_count": null,
   "metadata": {},
   "outputs": [],
   "source": [
    "# make prediction\n",
    "y_hat = pl.predict(X_test.head(500))\n",
    "\n",
    "# evaluate\n",
    "print(classification_report(y_test.head(500), y_hat))"
   ]
  },
  {
   "cell_type": "markdown",
   "metadata": {},
   "source": [
    "## extract feature names pl"
   ]
  },
  {
   "cell_type": "code",
   "execution_count": null,
   "metadata": {},
   "outputs": [],
   "source": [
    "# get the feature names from pipeline\n",
    "def get_feature_names(sklobj, feature_names=[]):\n",
    "\n",
    "    if isinstance(sklobj, Pipeline):\n",
    "        for name, step in sklobj.steps:\n",
    "            get_feature_names(step, feature_names)\n",
    "    elif isinstance(sklobj, ColumnTransformer):\n",
    "        for name, transformer, columns in sklobj.transformers_:\n",
    "            feature_names += get_feature_names(transformer, columns)\n",
    "    elif isinstance(sklobj, OneHotEncoder):\n",
    "        feature_names = sklobj.get_feature_names(feature_names).tolist()\n",
    "    elif isinstance(sklobj, str):\n",
    "        if sklobj == \"passthrough\":\n",
    "            pass\n",
    "        elif sklobj == \"drop\":\n",
    "            feature_names = []\n",
    "            \n",
    "    return feature_names"
   ]
  },
  {
   "cell_type": "code",
   "execution_count": null,
   "metadata": {
    "scrolled": false
   },
   "outputs": [],
   "source": [
    "get_feature_names(pl)"
   ]
  },
  {
   "cell_type": "code",
   "execution_count": null,
   "metadata": {},
   "outputs": [],
   "source": [
    "# # this is slow ...\n",
    "# r = permutation_importance(pl, X_train.head(1_000), y_train.head(1_000), n_repeats=2, random_state=0)\n",
    "\n",
    "# feature_names = get_feature_names(pl)\n",
    "\n",
    "# for i in r.importances_mean.argsort()[::-1]:\n",
    "#     if r.importances_mean[i] - 2 * r.importances_std[i] > 0:\n",
    "#         print(f\"{feature_names[i]:<8}\"\n",
    "#         f\"{r.importances_mean[i]:.3f}\"\n",
    "#         f\" +/- {r.importances_std[i]:.3f}\")"
   ]
  },
  {
   "cell_type": "code",
   "execution_count": null,
   "metadata": {},
   "outputs": [],
   "source": []
  }
 ],
 "metadata": {
  "hide_input": false,
  "kernelspec": {
   "display_name": "Python [conda env:jads] *",
   "language": "python",
   "name": "conda-env-jads-py"
  },
  "language_info": {
   "codemirror_mode": {
    "name": "ipython",
    "version": 3
   },
   "file_extension": ".py",
   "mimetype": "text/x-python",
   "name": "python",
   "nbconvert_exporter": "python",
   "pygments_lexer": "ipython3",
   "version": "3.8.8"
  },
  "latex_envs": {
   "LaTeX_envs_menu_present": true,
   "autoclose": false,
   "autocomplete": true,
   "bibliofile": "biblio.bib",
   "cite_by": "apalike",
   "current_citInitial": 1,
   "eqLabelWithNumbers": true,
   "eqNumInitial": 1,
   "hotkeys": {
    "equation": "Ctrl-E",
    "itemize": "Ctrl-I"
   },
   "labels_anchors": false,
   "latex_user_defs": false,
   "report_style_numbering": false,
   "user_envs_cfg": false
  },
  "toc": {
   "base_numbering": 1,
   "nav_menu": {},
   "number_sections": true,
   "sideBar": true,
   "skip_h1_title": false,
   "title_cell": "Table of Contents",
   "title_sidebar": "Contents",
   "toc_cell": false,
   "toc_position": {},
   "toc_section_display": true,
   "toc_window_display": false
  },
  "varInspector": {
   "cols": {
    "lenName": 16,
    "lenType": 16,
    "lenVar": 40
   },
   "kernels_config": {
    "python": {
     "delete_cmd_postfix": "",
     "delete_cmd_prefix": "del ",
     "library": "var_list.py",
     "varRefreshCmd": "print(var_dic_list())"
    },
    "r": {
     "delete_cmd_postfix": ") ",
     "delete_cmd_prefix": "rm(",
     "library": "var_list.r",
     "varRefreshCmd": "cat(var_dic_list()) "
    }
   },
   "types_to_exclude": [
    "module",
    "function",
    "builtin_function_or_method",
    "instance",
    "_Feature"
   ],
   "window_display": false
  }
 },
 "nbformat": 4,
 "nbformat_minor": 4
}
