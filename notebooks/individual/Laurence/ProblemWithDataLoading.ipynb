{
 "cells": [
  {
   "cell_type": "markdown",
   "metadata": {},
   "source": [
    "# Explore missing data"
   ]
  },
  {
   "cell_type": "markdown",
   "metadata": {},
   "source": [
    "## imports"
   ]
  },
  {
   "cell_type": "code",
   "execution_count": 1,
   "metadata": {},
   "outputs": [],
   "source": [
    "import pandas as pd\n",
    "import warnings\n",
    "import re\n",
    "\n",
    "import missingno as msno\n",
    "\n",
    "from utils.load_data import load_proms, downcast, structure_name, get_meta, clean_data\n",
    "from utils.data_dictionary import methods, comorbidities"
   ]
  },
  {
   "cell_type": "markdown",
   "metadata": {},
   "source": [
    "## load data\n",
    "General approach is not DRY for the sake of availability of having knee and hip df's always at hand, but also keep it readable (script-wise)."
   ]
  },
  {
   "cell_type": "code",
   "execution_count": 3,
   "metadata": {},
   "outputs": [
    {
     "ename": "RuntimeError",
     "evalue": "Decompression 'SNAPPY' not available.  Options: ['BROTLI', 'GZIP', 'UNCOMPRESSED']",
     "output_type": "error",
     "traceback": [
      "\u001b[0;31m---------------------------------------------------------------------------\u001b[0m",
      "\u001b[0;31mRuntimeError\u001b[0m                              Traceback (most recent call last)",
      "\u001b[0;32m<ipython-input-3-bb99fae7e704>\u001b[0m in \u001b[0;36m<module>\u001b[0;34m\u001b[0m\n\u001b[1;32m      1\u001b[0m \u001b[0;31m# load data + rename columns with structired name\u001b[0m\u001b[0;34m\u001b[0m\u001b[0;34m\u001b[0m\u001b[0;34m\u001b[0m\u001b[0m\n\u001b[0;32m----> 2\u001b[0;31m \u001b[0mdf_knee_raw\u001b[0m\u001b[0;34m=\u001b[0m\u001b[0mload_proms\u001b[0m\u001b[0;34m(\u001b[0m\u001b[0mpart\u001b[0m\u001b[0;34m=\u001b[0m\u001b[0;34m\"knee\"\u001b[0m\u001b[0;34m)\u001b[0m\u001b[0;34m.\u001b[0m\u001b[0mrename\u001b[0m\u001b[0;34m(\u001b[0m\u001b[0mstructure_name\u001b[0m\u001b[0;34m,\u001b[0m \u001b[0maxis\u001b[0m\u001b[0;34m=\u001b[0m\u001b[0;36m1\u001b[0m\u001b[0;34m)\u001b[0m\u001b[0;34m\u001b[0m\u001b[0;34m\u001b[0m\u001b[0m\n\u001b[0m\u001b[1;32m      3\u001b[0m \u001b[0mdf_hip_raw\u001b[0m\u001b[0;34m=\u001b[0m\u001b[0mload_proms\u001b[0m\u001b[0;34m(\u001b[0m\u001b[0mpart\u001b[0m\u001b[0;34m=\u001b[0m\u001b[0;34m\"hip\"\u001b[0m\u001b[0;34m)\u001b[0m\u001b[0;34m.\u001b[0m\u001b[0mrename\u001b[0m\u001b[0;34m(\u001b[0m\u001b[0mstructure_name\u001b[0m\u001b[0;34m,\u001b[0m \u001b[0maxis\u001b[0m\u001b[0;34m=\u001b[0m\u001b[0;36m1\u001b[0m\u001b[0;34m)\u001b[0m\u001b[0;34m\u001b[0m\u001b[0;34m\u001b[0m\u001b[0m\n\u001b[1;32m      4\u001b[0m \u001b[0;34m\u001b[0m\u001b[0m\n\u001b[1;32m      5\u001b[0m \u001b[0;31m# get df with meta data for each\u001b[0m\u001b[0;34m\u001b[0m\u001b[0;34m\u001b[0m\u001b[0;34m\u001b[0m\u001b[0m\n",
      "\u001b[0;32m~/Documents/Notebooks/GitHub/NHS-PROMs/notebooks/utils/load_data.py\u001b[0m in \u001b[0;36mload_proms\u001b[0;34m(part, org, data_path)\u001b[0m\n\u001b[1;32m     28\u001b[0m     \u001b[0;31m# otherwise get it directly from NHS-source + rename columns + save to parquet\u001b[0m\u001b[0;34m\u001b[0m\u001b[0;34m\u001b[0m\u001b[0;34m\u001b[0m\u001b[0m\n\u001b[1;32m     29\u001b[0m     \u001b[0;32mif\u001b[0m \u001b[0mpath\u001b[0m\u001b[0;34m.\u001b[0m\u001b[0misfile\u001b[0m\u001b[0;34m(\u001b[0m\u001b[0mfull_path\u001b[0m\u001b[0;34m)\u001b[0m\u001b[0;34m:\u001b[0m\u001b[0;34m\u001b[0m\u001b[0;34m\u001b[0m\u001b[0m\n\u001b[0;32m---> 30\u001b[0;31m         \u001b[0mdf_raw\u001b[0m \u001b[0;34m=\u001b[0m \u001b[0mpd\u001b[0m\u001b[0;34m.\u001b[0m\u001b[0mread_parquet\u001b[0m\u001b[0;34m(\u001b[0m\u001b[0mfull_path\u001b[0m\u001b[0;34m)\u001b[0m\u001b[0;34m\u001b[0m\u001b[0;34m\u001b[0m\u001b[0m\n\u001b[0m\u001b[1;32m     31\u001b[0m     \u001b[0;32melse\u001b[0m\u001b[0;34m:\u001b[0m\u001b[0;34m\u001b[0m\u001b[0;34m\u001b[0m\u001b[0m\n\u001b[1;32m     32\u001b[0m         \u001b[0mdf_raw\u001b[0m \u001b[0;34m=\u001b[0m \u001b[0mread_online_proms_data\u001b[0m\u001b[0;34m(\u001b[0m\u001b[0murls\u001b[0m\u001b[0;34m=\u001b[0m\u001b[0mURL_PROMS_DATA\u001b[0m\u001b[0;34m,\u001b[0m \u001b[0mpart\u001b[0m\u001b[0;34m=\u001b[0m\u001b[0mpart\u001b[0m\u001b[0;34m,\u001b[0m \u001b[0morg\u001b[0m\u001b[0;34m=\u001b[0m\u001b[0morg\u001b[0m\u001b[0;34m)\u001b[0m\u001b[0;34m.\u001b[0m\u001b[0mapply\u001b[0m\u001b[0;34m(\u001b[0m\u001b[0mdowncast\u001b[0m\u001b[0;34m)\u001b[0m\u001b[0;34m\u001b[0m\u001b[0;34m\u001b[0m\u001b[0m\n",
      "\u001b[0;32m~/opt/anaconda3/lib/python3.7/site-packages/pandas/io/parquet.py\u001b[0m in \u001b[0;36mread_parquet\u001b[0;34m(path, engine, columns, use_nullable_dtypes, **kwargs)\u001b[0m\n\u001b[1;32m    458\u001b[0m     \u001b[0mimpl\u001b[0m \u001b[0;34m=\u001b[0m \u001b[0mget_engine\u001b[0m\u001b[0;34m(\u001b[0m\u001b[0mengine\u001b[0m\u001b[0;34m)\u001b[0m\u001b[0;34m\u001b[0m\u001b[0;34m\u001b[0m\u001b[0m\n\u001b[1;32m    459\u001b[0m     return impl.read(\n\u001b[0;32m--> 460\u001b[0;31m         \u001b[0mpath\u001b[0m\u001b[0;34m,\u001b[0m \u001b[0mcolumns\u001b[0m\u001b[0;34m=\u001b[0m\u001b[0mcolumns\u001b[0m\u001b[0;34m,\u001b[0m \u001b[0muse_nullable_dtypes\u001b[0m\u001b[0;34m=\u001b[0m\u001b[0muse_nullable_dtypes\u001b[0m\u001b[0;34m,\u001b[0m \u001b[0;34m**\u001b[0m\u001b[0mkwargs\u001b[0m\u001b[0;34m\u001b[0m\u001b[0;34m\u001b[0m\u001b[0m\n\u001b[0m\u001b[1;32m    461\u001b[0m     )\n",
      "\u001b[0;32m~/opt/anaconda3/lib/python3.7/site-packages/pandas/io/parquet.py\u001b[0m in \u001b[0;36mread\u001b[0;34m(self, path, columns, storage_options, **kwargs)\u001b[0m\n\u001b[1;32m    312\u001b[0m         \u001b[0mparquet_file\u001b[0m \u001b[0;34m=\u001b[0m \u001b[0mself\u001b[0m\u001b[0;34m.\u001b[0m\u001b[0mapi\u001b[0m\u001b[0;34m.\u001b[0m\u001b[0mParquetFile\u001b[0m\u001b[0;34m(\u001b[0m\u001b[0mpath\u001b[0m\u001b[0;34m,\u001b[0m \u001b[0;34m**\u001b[0m\u001b[0mparquet_kwargs\u001b[0m\u001b[0;34m)\u001b[0m\u001b[0;34m\u001b[0m\u001b[0;34m\u001b[0m\u001b[0m\n\u001b[1;32m    313\u001b[0m \u001b[0;34m\u001b[0m\u001b[0m\n\u001b[0;32m--> 314\u001b[0;31m         \u001b[0mresult\u001b[0m \u001b[0;34m=\u001b[0m \u001b[0mparquet_file\u001b[0m\u001b[0;34m.\u001b[0m\u001b[0mto_pandas\u001b[0m\u001b[0;34m(\u001b[0m\u001b[0mcolumns\u001b[0m\u001b[0;34m=\u001b[0m\u001b[0mcolumns\u001b[0m\u001b[0;34m,\u001b[0m \u001b[0;34m**\u001b[0m\u001b[0mkwargs\u001b[0m\u001b[0;34m)\u001b[0m\u001b[0;34m\u001b[0m\u001b[0;34m\u001b[0m\u001b[0m\n\u001b[0m\u001b[1;32m    315\u001b[0m \u001b[0;34m\u001b[0m\u001b[0m\n\u001b[1;32m    316\u001b[0m         \u001b[0;32mif\u001b[0m \u001b[0mhandles\u001b[0m \u001b[0;32mis\u001b[0m \u001b[0;32mnot\u001b[0m \u001b[0;32mNone\u001b[0m\u001b[0;34m:\u001b[0m\u001b[0;34m\u001b[0m\u001b[0;34m\u001b[0m\u001b[0m\n",
      "\u001b[0;32m~/opt/anaconda3/lib/python3.7/site-packages/fastparquet/api.py\u001b[0m in \u001b[0;36mto_pandas\u001b[0;34m(self, columns, categories, filters, index)\u001b[0m\n\u001b[1;32m    400\u001b[0m                              for (name, v) in views.items()}\n\u001b[1;32m    401\u001b[0m                     self.read_row_group(rg, columns, categories, infile=f,\n\u001b[0;32m--> 402\u001b[0;31m                                         index=index, assign=parts)\n\u001b[0m\u001b[1;32m    403\u001b[0m                     \u001b[0mstart\u001b[0m \u001b[0;34m+=\u001b[0m \u001b[0mrg\u001b[0m\u001b[0;34m.\u001b[0m\u001b[0mnum_rows\u001b[0m\u001b[0;34m\u001b[0m\u001b[0;34m\u001b[0m\u001b[0m\n\u001b[1;32m    404\u001b[0m         \u001b[0;32melse\u001b[0m\u001b[0;34m:\u001b[0m\u001b[0;34m\u001b[0m\u001b[0;34m\u001b[0m\u001b[0m\n",
      "\u001b[0;32m~/opt/anaconda3/lib/python3.7/site-packages/fastparquet/api.py\u001b[0m in \u001b[0;36mread_row_group\u001b[0;34m(self, rg, columns, categories, infile, index, assign)\u001b[0m\n\u001b[1;32m    229\u001b[0m                 \u001b[0minfile\u001b[0m\u001b[0;34m,\u001b[0m \u001b[0mrg\u001b[0m\u001b[0;34m,\u001b[0m \u001b[0mcolumns\u001b[0m\u001b[0;34m,\u001b[0m \u001b[0mcategories\u001b[0m\u001b[0;34m,\u001b[0m \u001b[0mself\u001b[0m\u001b[0;34m.\u001b[0m\u001b[0mschema\u001b[0m\u001b[0;34m,\u001b[0m \u001b[0mself\u001b[0m\u001b[0;34m.\u001b[0m\u001b[0mcats\u001b[0m\u001b[0;34m,\u001b[0m\u001b[0;34m\u001b[0m\u001b[0;34m\u001b[0m\u001b[0m\n\u001b[1;32m    230\u001b[0m                 \u001b[0mself\u001b[0m\u001b[0;34m.\u001b[0m\u001b[0mselfmade\u001b[0m\u001b[0;34m,\u001b[0m \u001b[0mindex\u001b[0m\u001b[0;34m=\u001b[0m\u001b[0mindex\u001b[0m\u001b[0;34m,\u001b[0m \u001b[0massign\u001b[0m\u001b[0;34m=\u001b[0m\u001b[0massign\u001b[0m\u001b[0;34m,\u001b[0m\u001b[0;34m\u001b[0m\u001b[0;34m\u001b[0m\u001b[0m\n\u001b[0;32m--> 231\u001b[0;31m                 scheme=self.file_scheme)\n\u001b[0m\u001b[1;32m    232\u001b[0m         \u001b[0;32mif\u001b[0m \u001b[0mret\u001b[0m\u001b[0;34m:\u001b[0m\u001b[0;34m\u001b[0m\u001b[0;34m\u001b[0m\u001b[0m\n\u001b[1;32m    233\u001b[0m             \u001b[0;32mreturn\u001b[0m \u001b[0mdf\u001b[0m\u001b[0;34m\u001b[0m\u001b[0;34m\u001b[0m\u001b[0m\n",
      "\u001b[0;32m~/opt/anaconda3/lib/python3.7/site-packages/fastparquet/core.py\u001b[0m in \u001b[0;36mread_row_group\u001b[0;34m(file, rg, columns, categories, schema_helper, cats, selfmade, index, assign, scheme, partition_meta)\u001b[0m\n\u001b[1;32m    353\u001b[0m         \u001b[0;32mraise\u001b[0m \u001b[0mRuntimeError\u001b[0m\u001b[0;34m(\u001b[0m\u001b[0;34m'Going with pre-allocation!'\u001b[0m\u001b[0;34m)\u001b[0m\u001b[0;34m\u001b[0m\u001b[0;34m\u001b[0m\u001b[0m\n\u001b[1;32m    354\u001b[0m     read_row_group_arrays(file, rg, columns, categories, schema_helper,\n\u001b[0;32m--> 355\u001b[0;31m                           cats, selfmade, assign=assign)\n\u001b[0m\u001b[1;32m    356\u001b[0m \u001b[0;34m\u001b[0m\u001b[0m\n\u001b[1;32m    357\u001b[0m     \u001b[0;32mfor\u001b[0m \u001b[0mcat\u001b[0m \u001b[0;32min\u001b[0m \u001b[0mcats\u001b[0m\u001b[0;34m:\u001b[0m\u001b[0;34m\u001b[0m\u001b[0;34m\u001b[0m\u001b[0m\n",
      "\u001b[0;32m~/opt/anaconda3/lib/python3.7/site-packages/fastparquet/core.py\u001b[0m in \u001b[0;36mread_row_group_arrays\u001b[0;34m(file, rg, columns, categories, schema_helper, cats, selfmade, assign)\u001b[0m\n\u001b[1;32m    329\u001b[0m         read_col(column, schema_helper, file, use_cat=name+'-catdef' in out,\n\u001b[1;32m    330\u001b[0m                  \u001b[0mselfmade\u001b[0m\u001b[0;34m=\u001b[0m\u001b[0mselfmade\u001b[0m\u001b[0;34m,\u001b[0m \u001b[0massign\u001b[0m\u001b[0;34m=\u001b[0m\u001b[0mout\u001b[0m\u001b[0;34m[\u001b[0m\u001b[0mname\u001b[0m\u001b[0;34m]\u001b[0m\u001b[0;34m,\u001b[0m\u001b[0;34m\u001b[0m\u001b[0;34m\u001b[0m\u001b[0m\n\u001b[0;32m--> 331\u001b[0;31m                  catdef=out.get(name+'-catdef', None))\n\u001b[0m\u001b[1;32m    332\u001b[0m \u001b[0;34m\u001b[0m\u001b[0m\n\u001b[1;32m    333\u001b[0m         \u001b[0;32mif\u001b[0m \u001b[0m_is_map_like\u001b[0m\u001b[0;34m(\u001b[0m\u001b[0mschema_helper\u001b[0m\u001b[0;34m,\u001b[0m \u001b[0mcolumn\u001b[0m\u001b[0;34m)\u001b[0m\u001b[0;34m:\u001b[0m\u001b[0;34m\u001b[0m\u001b[0;34m\u001b[0m\u001b[0m\n",
      "\u001b[0;32m~/opt/anaconda3/lib/python3.7/site-packages/fastparquet/core.py\u001b[0m in \u001b[0;36mread_col\u001b[0;34m(column, schema_helper, infile, use_cat, grab_dict, selfmade, assign, catdef)\u001b[0m\n\u001b[1;32m    197\u001b[0m     \u001b[0mdic\u001b[0m \u001b[0;34m=\u001b[0m \u001b[0;32mNone\u001b[0m\u001b[0;34m\u001b[0m\u001b[0;34m\u001b[0m\u001b[0m\n\u001b[1;32m    198\u001b[0m     \u001b[0;32mif\u001b[0m \u001b[0mph\u001b[0m\u001b[0;34m.\u001b[0m\u001b[0mtype\u001b[0m \u001b[0;34m==\u001b[0m \u001b[0mparquet_thrift\u001b[0m\u001b[0;34m.\u001b[0m\u001b[0mPageType\u001b[0m\u001b[0;34m.\u001b[0m\u001b[0mDICTIONARY_PAGE\u001b[0m\u001b[0;34m:\u001b[0m\u001b[0;34m\u001b[0m\u001b[0;34m\u001b[0m\u001b[0m\n\u001b[0;32m--> 199\u001b[0;31m         \u001b[0mdic\u001b[0m \u001b[0;34m=\u001b[0m \u001b[0mread_dictionary_page\u001b[0m\u001b[0;34m(\u001b[0m\u001b[0minfile\u001b[0m\u001b[0;34m,\u001b[0m \u001b[0mschema_helper\u001b[0m\u001b[0;34m,\u001b[0m \u001b[0mph\u001b[0m\u001b[0;34m,\u001b[0m \u001b[0mcmd\u001b[0m\u001b[0;34m)\u001b[0m\u001b[0;34m\u001b[0m\u001b[0;34m\u001b[0m\u001b[0m\n\u001b[0m\u001b[1;32m    200\u001b[0m         \u001b[0mph\u001b[0m \u001b[0;34m=\u001b[0m \u001b[0mread_thrift\u001b[0m\u001b[0;34m(\u001b[0m\u001b[0minfile\u001b[0m\u001b[0;34m,\u001b[0m \u001b[0mparquet_thrift\u001b[0m\u001b[0;34m.\u001b[0m\u001b[0mPageHeader\u001b[0m\u001b[0;34m)\u001b[0m\u001b[0;34m\u001b[0m\u001b[0;34m\u001b[0m\u001b[0m\n\u001b[1;32m    201\u001b[0m         \u001b[0mdic\u001b[0m \u001b[0;34m=\u001b[0m \u001b[0mconvert\u001b[0m\u001b[0;34m(\u001b[0m\u001b[0mdic\u001b[0m\u001b[0;34m,\u001b[0m \u001b[0mse\u001b[0m\u001b[0;34m)\u001b[0m\u001b[0;34m\u001b[0m\u001b[0;34m\u001b[0m\u001b[0m\n",
      "\u001b[0;32m~/opt/anaconda3/lib/python3.7/site-packages/fastparquet/core.py\u001b[0m in \u001b[0;36mread_dictionary_page\u001b[0;34m(file_obj, schema_helper, page_header, column_metadata)\u001b[0m\n\u001b[1;32m    155\u001b[0m     \u001b[0mConsumes\u001b[0m \u001b[0mdata\u001b[0m \u001b[0musing\u001b[0m \u001b[0mthe\u001b[0m \u001b[0mplain\u001b[0m \u001b[0mencoding\u001b[0m \u001b[0;32mand\u001b[0m \u001b[0mreturns\u001b[0m \u001b[0man\u001b[0m \u001b[0marray\u001b[0m \u001b[0mof\u001b[0m \u001b[0mvalues\u001b[0m\u001b[0;34m.\u001b[0m\u001b[0;34m\u001b[0m\u001b[0;34m\u001b[0m\u001b[0m\n\u001b[1;32m    156\u001b[0m     \"\"\"\n\u001b[0;32m--> 157\u001b[0;31m     \u001b[0mraw_bytes\u001b[0m \u001b[0;34m=\u001b[0m \u001b[0m_read_page\u001b[0m\u001b[0;34m(\u001b[0m\u001b[0mfile_obj\u001b[0m\u001b[0;34m,\u001b[0m \u001b[0mpage_header\u001b[0m\u001b[0;34m,\u001b[0m \u001b[0mcolumn_metadata\u001b[0m\u001b[0;34m)\u001b[0m\u001b[0;34m\u001b[0m\u001b[0;34m\u001b[0m\u001b[0m\n\u001b[0m\u001b[1;32m    158\u001b[0m     \u001b[0;32mif\u001b[0m \u001b[0mcolumn_metadata\u001b[0m\u001b[0;34m.\u001b[0m\u001b[0mtype\u001b[0m \u001b[0;34m==\u001b[0m \u001b[0mparquet_thrift\u001b[0m\u001b[0;34m.\u001b[0m\u001b[0mType\u001b[0m\u001b[0;34m.\u001b[0m\u001b[0mBYTE_ARRAY\u001b[0m\u001b[0;34m:\u001b[0m\u001b[0;34m\u001b[0m\u001b[0;34m\u001b[0m\u001b[0m\n\u001b[1;32m    159\u001b[0m         values = np.array(unpack_byte_array(raw_bytes,\n",
      "\u001b[0;32m~/opt/anaconda3/lib/python3.7/site-packages/fastparquet/core.py\u001b[0m in \u001b[0;36m_read_page\u001b[0;34m(file_obj, page_header, column_metadata)\u001b[0m\n\u001b[1;32m     23\u001b[0m         \u001b[0mraw_bytes\u001b[0m\u001b[0;34m,\u001b[0m\u001b[0;34m\u001b[0m\u001b[0;34m\u001b[0m\u001b[0m\n\u001b[1;32m     24\u001b[0m         \u001b[0mpage_header\u001b[0m\u001b[0;34m.\u001b[0m\u001b[0muncompressed_page_size\u001b[0m\u001b[0;34m,\u001b[0m\u001b[0;34m\u001b[0m\u001b[0;34m\u001b[0m\u001b[0m\n\u001b[0;32m---> 25\u001b[0;31m         \u001b[0mcolumn_metadata\u001b[0m\u001b[0;34m.\u001b[0m\u001b[0mcodec\u001b[0m\u001b[0;34m,\u001b[0m\u001b[0;34m\u001b[0m\u001b[0;34m\u001b[0m\u001b[0m\n\u001b[0m\u001b[1;32m     26\u001b[0m     )\n\u001b[1;32m     27\u001b[0m \u001b[0;34m\u001b[0m\u001b[0m\n",
      "\u001b[0;32m~/opt/anaconda3/lib/python3.7/site-packages/fastparquet/compression.py\u001b[0m in \u001b[0;36mdecompress_data\u001b[0;34m(data, uncompressed_size, algorithm)\u001b[0m\n\u001b[1;32m    125\u001b[0m     \u001b[0;32mif\u001b[0m \u001b[0malgorithm\u001b[0m\u001b[0;34m.\u001b[0m\u001b[0mupper\u001b[0m\u001b[0;34m(\u001b[0m\u001b[0;34m)\u001b[0m \u001b[0;32mnot\u001b[0m \u001b[0;32min\u001b[0m \u001b[0mdecompressions\u001b[0m\u001b[0;34m:\u001b[0m\u001b[0;34m\u001b[0m\u001b[0;34m\u001b[0m\u001b[0m\n\u001b[1;32m    126\u001b[0m         raise RuntimeError(\"Decompression '%s' not available.  Options: %s\" %\n\u001b[0;32m--> 127\u001b[0;31m                 (algorithm.upper(), sorted(decompressions)))\n\u001b[0m\u001b[1;32m    128\u001b[0m     \u001b[0;32mreturn\u001b[0m \u001b[0mdecompressions\u001b[0m\u001b[0;34m[\u001b[0m\u001b[0malgorithm\u001b[0m\u001b[0;34m.\u001b[0m\u001b[0mupper\u001b[0m\u001b[0;34m(\u001b[0m\u001b[0;34m)\u001b[0m\u001b[0;34m]\u001b[0m\u001b[0;34m(\u001b[0m\u001b[0mdata\u001b[0m\u001b[0;34m,\u001b[0m \u001b[0muncompressed_size\u001b[0m\u001b[0;34m)\u001b[0m\u001b[0;34m\u001b[0m\u001b[0;34m\u001b[0m\u001b[0m\n",
      "\u001b[0;31mRuntimeError\u001b[0m: Decompression 'SNAPPY' not available.  Options: ['BROTLI', 'GZIP', 'UNCOMPRESSED']"
     ]
    }
   ],
   "source": [
    "# load data + rename columns with structired name\n",
    "df_knee_raw=load_proms(part=\"knee\").rename(structure_name, axis=1)\n",
    "df_hip_raw=load_proms(part=\"hip\").rename(structure_name, axis=1)\n",
    "\n",
    "# get df with meta data for each\n",
    "df_knee_meta = get_meta(df_knee_raw.columns)\n",
    "df_hip_meta = get_meta(df_hip_raw.columns)  "
   ]
  },
  {
   "cell_type": "code",
   "execution_count": 17,
   "metadata": {},
   "outputs": [
    {
     "data": {
      "text/html": [
       "<div>\n",
       "<style scoped>\n",
       "    .dataframe tbody tr th:only-of-type {\n",
       "        vertical-align: middle;\n",
       "    }\n",
       "\n",
       "    .dataframe tbody tr th {\n",
       "        vertical-align: top;\n",
       "    }\n",
       "\n",
       "    .dataframe thead th {\n",
       "        text-align: right;\n",
       "    }\n",
       "</style>\n",
       "<table border=\"1\" class=\"dataframe\">\n",
       "  <thead>\n",
       "    <tr style=\"text-align: right;\">\n",
       "      <th></th>\n",
       "      <th>t</th>\n",
       "      <th>method</th>\n",
       "      <th>feature</th>\n",
       "      <th>kind</th>\n",
       "      <th>labels</th>\n",
       "      <th>range</th>\n",
       "    </tr>\n",
       "  </thead>\n",
       "  <tbody>\n",
       "    <tr>\n",
       "      <th>t0_provider_code</th>\n",
       "      <td>0</td>\n",
       "      <td>NaN</td>\n",
       "      <td>provider_code</td>\n",
       "      <td>categorical</td>\n",
       "      <td>NaN</td>\n",
       "      <td>NaN</td>\n",
       "    </tr>\n",
       "    <tr>\n",
       "      <th>t0_procedure</th>\n",
       "      <td>0</td>\n",
       "      <td>NaN</td>\n",
       "      <td>procedure</td>\n",
       "      <td>categorical</td>\n",
       "      <td>[{'Hip Replacement': 'hip Replacement', 'Knee ...</td>\n",
       "      <td>NaN</td>\n",
       "    </tr>\n",
       "    <tr>\n",
       "      <th>t0_revision_flag</th>\n",
       "      <td>0</td>\n",
       "      <td>NaN</td>\n",
       "      <td>revision_flag</td>\n",
       "      <td>categorical</td>\n",
       "      <td>[{0: 'no revision', 1: 'revision procedure'}]</td>\n",
       "      <td>NaN</td>\n",
       "    </tr>\n",
       "    <tr>\n",
       "      <th>t0_year</th>\n",
       "      <td>0</td>\n",
       "      <td>NaN</td>\n",
       "      <td>year</td>\n",
       "      <td>ordinal</td>\n",
       "      <td>[{'2016/17': 'April 2016 - April 2017', '2017/...</td>\n",
       "      <td>NaN</td>\n",
       "    </tr>\n",
       "    <tr>\n",
       "      <th>t0_age_band</th>\n",
       "      <td>0</td>\n",
       "      <td>NaN</td>\n",
       "      <td>age_band</td>\n",
       "      <td>ordinal</td>\n",
       "      <td>[{'80 to 89': '80 to 89', '60 to 69': '60 to 6...</td>\n",
       "      <td>NaN</td>\n",
       "    </tr>\n",
       "    <tr>\n",
       "      <th>...</th>\n",
       "      <td>...</td>\n",
       "      <td>...</td>\n",
       "      <td>...</td>\n",
       "      <td>...</td>\n",
       "      <td>...</td>\n",
       "      <td>...</td>\n",
       "    </tr>\n",
       "    <tr>\n",
       "      <th>t1_ohs_limping</th>\n",
       "      <td>1</td>\n",
       "      <td>ohs</td>\n",
       "      <td>limping</td>\n",
       "      <td>ordinal</td>\n",
       "      <td>[{0: 'all of the time', 1: 'most of the time',...</td>\n",
       "      <td>NaN</td>\n",
       "    </tr>\n",
       "    <tr>\n",
       "      <th>t1_ohs_stairs</th>\n",
       "      <td>1</td>\n",
       "      <td>ohs</td>\n",
       "      <td>stairs</td>\n",
       "      <td>ordinal</td>\n",
       "      <td>[{0: 'all of the time', 1: 'most of the time',...</td>\n",
       "      <td>NaN</td>\n",
       "    </tr>\n",
       "    <tr>\n",
       "      <th>t1_ohs_standing</th>\n",
       "      <td>1</td>\n",
       "      <td>ohs</td>\n",
       "      <td>standing</td>\n",
       "      <td>ordinal</td>\n",
       "      <td>[{0: 'all of the time', 1: 'most of the time',...</td>\n",
       "      <td>NaN</td>\n",
       "    </tr>\n",
       "    <tr>\n",
       "      <th>t1_ohs_work</th>\n",
       "      <td>1</td>\n",
       "      <td>ohs</td>\n",
       "      <td>work</td>\n",
       "      <td>ordinal</td>\n",
       "      <td>[{0: 'all of the time', 1: 'most of the time',...</td>\n",
       "      <td>NaN</td>\n",
       "    </tr>\n",
       "    <tr>\n",
       "      <th>t1_ohs_score</th>\n",
       "      <td>1</td>\n",
       "      <td>ohs</td>\n",
       "      <td>score</td>\n",
       "      <td>numerical</td>\n",
       "      <td>NaN</td>\n",
       "      <td>(0, 48)</td>\n",
       "    </tr>\n",
       "  </tbody>\n",
       "</table>\n",
       "<p>78 rows × 6 columns</p>\n",
       "</div>"
      ],
      "text/plain": [
       "                  t method        feature         kind  \\\n",
       "t0_provider_code  0    NaN  provider_code  categorical   \n",
       "t0_procedure      0    NaN      procedure  categorical   \n",
       "t0_revision_flag  0    NaN  revision_flag  categorical   \n",
       "t0_year           0    NaN           year      ordinal   \n",
       "t0_age_band       0    NaN       age_band      ordinal   \n",
       "...              ..    ...            ...          ...   \n",
       "t1_ohs_limping    1    ohs        limping      ordinal   \n",
       "t1_ohs_stairs     1    ohs         stairs      ordinal   \n",
       "t1_ohs_standing   1    ohs       standing      ordinal   \n",
       "t1_ohs_work       1    ohs           work      ordinal   \n",
       "t1_ohs_score      1    ohs          score    numerical   \n",
       "\n",
       "                                                             labels    range  \n",
       "t0_provider_code                                                NaN      NaN  \n",
       "t0_procedure      [{'Hip Replacement': 'hip Replacement', 'Knee ...      NaN  \n",
       "t0_revision_flag      [{0: 'no revision', 1: 'revision procedure'}]      NaN  \n",
       "t0_year           [{'2016/17': 'April 2016 - April 2017', '2017/...      NaN  \n",
       "t0_age_band       [{'80 to 89': '80 to 89', '60 to 69': '60 to 6...      NaN  \n",
       "...                                                             ...      ...  \n",
       "t1_ohs_limping    [{0: 'all of the time', 1: 'most of the time',...      NaN  \n",
       "t1_ohs_stairs     [{0: 'all of the time', 1: 'most of the time',...      NaN  \n",
       "t1_ohs_standing   [{0: 'all of the time', 1: 'most of the time',...      NaN  \n",
       "t1_ohs_work       [{0: 'all of the time', 1: 'most of the time',...      NaN  \n",
       "t1_ohs_score                                                    NaN  (0, 48)  \n",
       "\n",
       "[78 rows x 6 columns]"
      ]
     },
     "execution_count": 17,
     "metadata": {},
     "output_type": "execute_result"
    }
   ],
   "source": [
    "df_hip_meta.query(\"feature != 'predicted'\")"
   ]
  },
  {
   "cell_type": "markdown",
   "metadata": {},
   "source": [
    "## basic cleaning"
   ]
  },
  {
   "cell_type": "code",
   "execution_count": null,
   "metadata": {},
   "outputs": [],
   "source": [
    "%%time\n",
    "# clean the data based on meta (all not in range, labels or label \"missing\")\n",
    "# + remove revision rows\n",
    "df_knee_clean = clean_data(df_knee_raw, df_knee_meta)\\\n",
    "                .query(\"t0_revision_flag == 0\")\\\n",
    "                .drop(columns=[\"t0_revision_flag\"])\\\n",
    "                .apply(downcast)\n",
    "df_hip_clean = clean_data(df_hip_raw, df_hip_meta)\\\n",
    "                .query(\"t0_revision_flag == 0\")\\\n",
    "                .drop(columns=[\"t0_revision_flag\"])\\\n",
    "                .apply(downcast)\n",
    "\n",
    "# fill comorbidities mising with 0's as requested\n",
    "cm_cols = [\"t0_\" + cm for cm in comorbidities]\n",
    "df_knee_clean[cm_cols] = df_knee_clean[cm_cols].fillna(0)\n",
    "df_hip_clean[cm_cols] = df_hip_clean[cm_cols].fillna(0)\n",
    "\n",
    "# split train + test set\n",
    "df_knee_train = df_knee_clean.query(\"t0_year != '2019/20'\")\n",
    "df_knee_test = df_knee_clean.query(\"t0_year == '2019/20'\")\n",
    "\n",
    "df_hip_train = df_hip_clean.query(\"t0_year != '2019/20'\")\n",
    "df_hip_test = df_hip_clean.query(\"t0_year == '2019/20'\")"
   ]
  },
  {
   "cell_type": "markdown",
   "metadata": {},
   "source": [
    "## create delta dataframes"
   ]
  },
  {
   "cell_type": "code",
   "execution_count": null,
   "metadata": {},
   "outputs": [],
   "source": [
    "def method_delta(df):\n",
    "    # create MultiIndex\n",
    "    df = df.copy().sort_index(axis=1)\n",
    "    df.columns = pd.MultiIndex.from_frame(\n",
    "        df.columns.str.extract(fr\"^(t[01])_({'|'.join(methods.keys())})?_?(.*)$\"),\n",
    "        names=[\"available\", \"method\", \"feature\"],\n",
    "    )\n",
    "    # select only methods dim and scores + get delta (t1 - t0)\n",
    "    df = df.loc[\n",
    "        :, [(m == m) & (f not in [\"profile\", \"predicted\"]) for t, m, f in df.columns]\n",
    "    ]\n",
    "    df_delta = (df[\"t1\"] - df[\"t0\"])\n",
    "\n",
    "    df_delta.columns = [\"delta_\" + \"_\".join(col) for col in df_delta.columns]\n",
    "    return df_delta\n",
    "\n",
    "df_knee_delta = method_delta(df_knee_train)\n",
    "df_hip_delta = method_delta(df_hip_train)\n",
    "\n",
    "# now you could join them again with the original df ...\n",
    "# eg: df_hip_train.join(df_hip_delta)"
   ]
  },
  {
   "cell_type": "code",
   "execution_count": null,
   "metadata": {},
   "outputs": [],
   "source": []
  }
 ],
 "metadata": {
  "hide_input": false,
  "kernelspec": {
   "display_name": "Python 3",
   "language": "python",
   "name": "python3"
  },
  "language_info": {
   "codemirror_mode": {
    "name": "ipython",
    "version": 3
   },
   "file_extension": ".py",
   "mimetype": "text/x-python",
   "name": "python",
   "nbconvert_exporter": "python",
   "pygments_lexer": "ipython3",
   "version": "3.7.4"
  },
  "latex_envs": {
   "LaTeX_envs_menu_present": true,
   "autoclose": false,
   "autocomplete": true,
   "bibliofile": "biblio.bib",
   "cite_by": "apalike",
   "current_citInitial": 1,
   "eqLabelWithNumbers": true,
   "eqNumInitial": 1,
   "hotkeys": {
    "equation": "Ctrl-E",
    "itemize": "Ctrl-I"
   },
   "labels_anchors": false,
   "latex_user_defs": false,
   "report_style_numbering": false,
   "user_envs_cfg": false
  },
  "toc": {
   "base_numbering": 1,
   "nav_menu": {},
   "number_sections": true,
   "sideBar": true,
   "skip_h1_title": false,
   "title_cell": "Table of Contents",
   "title_sidebar": "Contents",
   "toc_cell": false,
   "toc_position": {},
   "toc_section_display": true,
   "toc_window_display": false
  },
  "varInspector": {
   "cols": {
    "lenName": 16,
    "lenType": 16,
    "lenVar": 40
   },
   "kernels_config": {
    "python": {
     "delete_cmd_postfix": "",
     "delete_cmd_prefix": "del ",
     "library": "var_list.py",
     "varRefreshCmd": "print(var_dic_list())"
    },
    "r": {
     "delete_cmd_postfix": ") ",
     "delete_cmd_prefix": "rm(",
     "library": "var_list.r",
     "varRefreshCmd": "cat(var_dic_list()) "
    }
   },
   "types_to_exclude": [
    "module",
    "function",
    "builtin_function_or_method",
    "instance",
    "_Feature"
   ],
   "window_display": false
  }
 },
 "nbformat": 4,
 "nbformat_minor": 4
}
