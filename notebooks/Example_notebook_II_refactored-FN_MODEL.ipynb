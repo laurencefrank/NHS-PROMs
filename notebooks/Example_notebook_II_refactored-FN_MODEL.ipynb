{
 "cells": [
  {
   "cell_type": "markdown",
   "metadata": {},
   "source": [
    "# Refactored notebook for modelling"
   ]
  },
  {
   "cell_type": "markdown",
   "metadata": {},
   "source": [
    "## imports"
   ]
  },
  {
   "cell_type": "code",
   "execution_count": 1,
   "metadata": {},
   "outputs": [],
   "source": [
    "import sys\n",
    "\n",
    "sys.path.append(\"..\")\n",
    "\n",
    "import numpy as np\n",
    "import pandas as pd\n",
    "import warnings\n",
    "import re\n",
    "\n",
    "from NHS_PROMs.load_data import load_proms, structure_name\n",
    "from NHS_PROMs.preprocess import filter_in_range, filter_in_labels, method_delta\n",
    "from NHS_PROMs.utils import downcast, map_labels\n",
    "from NHS_PROMs.data_dictionary import meta_dict\n",
    "\n",
    "from sklearn.model_selection import train_test_split\n",
    "from sklearn.compose import make_column_selector\n",
    "from sklearn.pipeline import Pipeline, make_pipeline\n",
    "from sklearn.compose import ColumnTransformer, make_column_transformer, make_column_selector\n",
    "from sklearn.preprocessing import OneHotEncoder, StandardScaler\n",
    "from sklearn.neighbors import KNeighborsClassifier\n",
    "from sklearn.metrics import classification_report\n",
    "from sklearn.inspection import permutation_importance\n",
    "from sklearn import set_config\n",
    "set_config(display='diagram')\n",
    "\n",
    "from imblearn.over_sampling import SMOTENC\n",
    "import matplotlib.pyplot as plt\n",
    "import seaborn as sns"
   ]
  },
  {
   "cell_type": "markdown",
   "metadata": {},
   "source": [
    "## load data\n",
    "General approach is not DRY for the sake of availability of having knee and hip df's always at hand, but also keep it readable (script-wise)."
   ]
  },
  {
   "cell_type": "code",
   "execution_count": 2,
   "metadata": {},
   "outputs": [
    {
     "data": {
      "text/html": [
       "<div>\n",
       "<style scoped>\n",
       "    .dataframe tbody tr th:only-of-type {\n",
       "        vertical-align: middle;\n",
       "    }\n",
       "\n",
       "    .dataframe tbody tr th {\n",
       "        vertical-align: top;\n",
       "    }\n",
       "\n",
       "    .dataframe thead th {\n",
       "        text-align: right;\n",
       "    }\n",
       "</style>\n",
       "<table border=\"1\" class=\"dataframe\">\n",
       "  <thead>\n",
       "    <tr style=\"text-align: right;\">\n",
       "      <th></th>\n",
       "      <th>t0_provider_code</th>\n",
       "      <th>t0_procedure</th>\n",
       "      <th>t0_revision_flag</th>\n",
       "      <th>t0_year</th>\n",
       "      <th>t0_age_band</th>\n",
       "      <th>t0_gender</th>\n",
       "      <th>t0_assisted</th>\n",
       "      <th>t0_assisted_by</th>\n",
       "      <th>t0_symptom_period</th>\n",
       "      <th>t0_previous_surgery</th>\n",
       "      <th>...</th>\n",
       "      <th>t1_ohs_transport</th>\n",
       "      <th>t1_ohs_dressing</th>\n",
       "      <th>t1_ohs_shopping</th>\n",
       "      <th>t1_ohs_walking</th>\n",
       "      <th>t1_ohs_limping</th>\n",
       "      <th>t1_ohs_stairs</th>\n",
       "      <th>t1_ohs_standing</th>\n",
       "      <th>t1_ohs_work</th>\n",
       "      <th>t1_ohs_score</th>\n",
       "      <th>t1_ohs_predicted</th>\n",
       "    </tr>\n",
       "  </thead>\n",
       "  <tbody>\n",
       "    <tr>\n",
       "      <th>9871</th>\n",
       "      <td>RBT</td>\n",
       "      <td>Hip Replacement</td>\n",
       "      <td>0</td>\n",
       "      <td>2019/20</td>\n",
       "      <td>70 to 79</td>\n",
       "      <td>2.0</td>\n",
       "      <td>2</td>\n",
       "      <td>0</td>\n",
       "      <td>2</td>\n",
       "      <td>2</td>\n",
       "      <td>...</td>\n",
       "      <td>2</td>\n",
       "      <td>2</td>\n",
       "      <td>1</td>\n",
       "      <td>3</td>\n",
       "      <td>2</td>\n",
       "      <td>2</td>\n",
       "      <td>3</td>\n",
       "      <td>2</td>\n",
       "      <td>24.0</td>\n",
       "      <td>33.852573</td>\n",
       "    </tr>\n",
       "    <tr>\n",
       "      <th>1955</th>\n",
       "      <td>RBK</td>\n",
       "      <td>Hip Replacement</td>\n",
       "      <td>0</td>\n",
       "      <td>2018/19</td>\n",
       "      <td>None</td>\n",
       "      <td>NaN</td>\n",
       "      <td>2</td>\n",
       "      <td>0</td>\n",
       "      <td>2</td>\n",
       "      <td>2</td>\n",
       "      <td>...</td>\n",
       "      <td>4</td>\n",
       "      <td>3</td>\n",
       "      <td>3</td>\n",
       "      <td>3</td>\n",
       "      <td>3</td>\n",
       "      <td>3</td>\n",
       "      <td>4</td>\n",
       "      <td>3</td>\n",
       "      <td>39.0</td>\n",
       "      <td>39.637527</td>\n",
       "    </tr>\n",
       "    <tr>\n",
       "      <th>13737</th>\n",
       "      <td>RA2</td>\n",
       "      <td>Hip Replacement</td>\n",
       "      <td>0</td>\n",
       "      <td>2017/18</td>\n",
       "      <td>70 to 79</td>\n",
       "      <td>1.0</td>\n",
       "      <td>9</td>\n",
       "      <td>0</td>\n",
       "      <td>1</td>\n",
       "      <td>2</td>\n",
       "      <td>...</td>\n",
       "      <td>3</td>\n",
       "      <td>3</td>\n",
       "      <td>4</td>\n",
       "      <td>4</td>\n",
       "      <td>4</td>\n",
       "      <td>4</td>\n",
       "      <td>4</td>\n",
       "      <td>4</td>\n",
       "      <td>45.0</td>\n",
       "      <td>43.156551</td>\n",
       "    </tr>\n",
       "  </tbody>\n",
       "</table>\n",
       "<p>3 rows × 81 columns</p>\n",
       "</div>"
      ],
      "text/plain": [
       "      t0_provider_code     t0_procedure  t0_revision_flag  t0_year  \\\n",
       "9871               RBT  Hip Replacement                 0  2019/20   \n",
       "1955               RBK  Hip Replacement                 0  2018/19   \n",
       "13737              RA2  Hip Replacement                 0  2017/18   \n",
       "\n",
       "      t0_age_band  t0_gender  t0_assisted  t0_assisted_by  t0_symptom_period  \\\n",
       "9871     70 to 79        2.0            2               0                  2   \n",
       "1955         None        NaN            2               0                  2   \n",
       "13737    70 to 79        1.0            9               0                  1   \n",
       "\n",
       "       t0_previous_surgery  ...  t1_ohs_transport  t1_ohs_dressing  \\\n",
       "9871                     2  ...                 2                2   \n",
       "1955                     2  ...                 4                3   \n",
       "13737                    2  ...                 3                3   \n",
       "\n",
       "       t1_ohs_shopping  t1_ohs_walking  t1_ohs_limping  t1_ohs_stairs  \\\n",
       "9871                 1               3               2              2   \n",
       "1955                 3               3               3              3   \n",
       "13737                4               4               4              4   \n",
       "\n",
       "       t1_ohs_standing  t1_ohs_work  t1_ohs_score  t1_ohs_predicted  \n",
       "9871                 3            2          24.0         33.852573  \n",
       "1955                 4            3          39.0         39.637527  \n",
       "13737                4            4          45.0         43.156551  \n",
       "\n",
       "[3 rows x 81 columns]"
      ]
     },
     "execution_count": 2,
     "metadata": {},
     "output_type": "execute_result"
    }
   ],
   "source": [
    "# load data + rename columns with structired name\n",
    "# df_knee_raw = load_proms(part=\"knee\").apply(downcast).rename(structure_name, axis=1)\n",
    "df_hip_raw = load_proms(part=\"hip\").apply(downcast).rename(structure_name, axis=1)\n",
    "\n",
    "# get meta data for each\n",
    "full_meta = {t + k: v for k, v in meta_dict.items() for t in [\"t0_\", \"t1_\"]}\n",
    "hip_meta = {k: v for k, v in full_meta.items() if k in df_hip_raw.columns}\n",
    "\n",
    "df_hip_raw.sample(3)"
   ]
  },
  {
   "cell_type": "markdown",
   "metadata": {},
   "source": [
    "## basic cleaning"
   ]
  },
  {
   "cell_type": "code",
   "execution_count": 3,
   "metadata": {},
   "outputs": [],
   "source": [
    "endings = (\n",
    "    \"code\",\n",
    "    \"procedure\",\n",
    "    \"revision_flag\",\n",
    "    \"assisted_by\",\n",
    "    \"profile\",\n",
    "    \"predicted\",\n",
    ")\n",
    "cols2drop = [c for c in df_hip_raw.columns if c.endswith(endings)]"
   ]
  },
  {
   "cell_type": "code",
   "execution_count": 4,
   "metadata": {
    "scrolled": false
   },
   "outputs": [
    {
     "name": "stdout",
     "output_type": "stream",
     "text": [
      "CPU times: user 802 ms, sys: 66.7 ms, total: 869 ms\n",
      "Wall time: 890 ms\n"
     ]
    },
    {
     "data": {
      "text/html": [
       "<div>\n",
       "<style scoped>\n",
       "    .dataframe tbody tr th:only-of-type {\n",
       "        vertical-align: middle;\n",
       "    }\n",
       "\n",
       "    .dataframe tbody tr th {\n",
       "        vertical-align: top;\n",
       "    }\n",
       "\n",
       "    .dataframe thead th {\n",
       "        text-align: right;\n",
       "    }\n",
       "</style>\n",
       "<table border=\"1\" class=\"dataframe\">\n",
       "  <thead>\n",
       "    <tr style=\"text-align: right;\">\n",
       "      <th></th>\n",
       "      <th>t0_year</th>\n",
       "      <th>t0_age_band</th>\n",
       "      <th>t0_gender</th>\n",
       "      <th>t0_assisted</th>\n",
       "      <th>t0_symptom_period</th>\n",
       "      <th>t0_previous_surgery</th>\n",
       "      <th>t0_living_arrangements</th>\n",
       "      <th>t0_disability</th>\n",
       "      <th>t0_heart_disease</th>\n",
       "      <th>t0_high_bp</th>\n",
       "      <th>...</th>\n",
       "      <th>t1_ohs_washing</th>\n",
       "      <th>t1_ohs_transport</th>\n",
       "      <th>t1_ohs_dressing</th>\n",
       "      <th>t1_ohs_shopping</th>\n",
       "      <th>t1_ohs_walking</th>\n",
       "      <th>t1_ohs_limping</th>\n",
       "      <th>t1_ohs_stairs</th>\n",
       "      <th>t1_ohs_standing</th>\n",
       "      <th>t1_ohs_work</th>\n",
       "      <th>t1_ohs_score</th>\n",
       "    </tr>\n",
       "  </thead>\n",
       "  <tbody>\n",
       "    <tr>\n",
       "      <th>4297</th>\n",
       "      <td>April 2016 - April 2017</td>\n",
       "      <td>50 to 59</td>\n",
       "      <td>female</td>\n",
       "      <td>no</td>\n",
       "      <td>more than 10 years</td>\n",
       "      <td>no</td>\n",
       "      <td>alone</td>\n",
       "      <td>yes</td>\n",
       "      <td>missing</td>\n",
       "      <td>missing</td>\n",
       "      <td>...</td>\n",
       "      <td>sometimes or just at first</td>\n",
       "      <td>rarely/never</td>\n",
       "      <td>rarely/never</td>\n",
       "      <td>rarely/never</td>\n",
       "      <td>rarely/never</td>\n",
       "      <td>rarely/never</td>\n",
       "      <td>rarely/never</td>\n",
       "      <td>rarely/never</td>\n",
       "      <td>sometimes or just at first</td>\n",
       "      <td>46.0</td>\n",
       "    </tr>\n",
       "    <tr>\n",
       "      <th>41908</th>\n",
       "      <td>April 2016 - April 2017</td>\n",
       "      <td>70 to 79</td>\n",
       "      <td>female</td>\n",
       "      <td>no</td>\n",
       "      <td>1 to 5 years</td>\n",
       "      <td>no</td>\n",
       "      <td>alone</td>\n",
       "      <td>no</td>\n",
       "      <td>missing</td>\n",
       "      <td>yes</td>\n",
       "      <td>...</td>\n",
       "      <td>rarely/never</td>\n",
       "      <td>sometimes or just at first</td>\n",
       "      <td>often, not just at first</td>\n",
       "      <td>rarely/never</td>\n",
       "      <td>rarely/never</td>\n",
       "      <td>sometimes or just at first</td>\n",
       "      <td>sometimes or just at first</td>\n",
       "      <td>rarely/never</td>\n",
       "      <td>rarely/never</td>\n",
       "      <td>43.0</td>\n",
       "    </tr>\n",
       "    <tr>\n",
       "      <th>32871</th>\n",
       "      <td>April 2016 - April 2017</td>\n",
       "      <td>60 to 69</td>\n",
       "      <td>male</td>\n",
       "      <td>no</td>\n",
       "      <td>1 to 5 years</td>\n",
       "      <td>no</td>\n",
       "      <td>with partner / spouse / family / friends</td>\n",
       "      <td>yes</td>\n",
       "      <td>yes</td>\n",
       "      <td>yes</td>\n",
       "      <td>...</td>\n",
       "      <td>rarely/never</td>\n",
       "      <td>sometimes or just at first</td>\n",
       "      <td>sometimes or just at first</td>\n",
       "      <td>rarely/never</td>\n",
       "      <td>rarely/never</td>\n",
       "      <td>rarely/never</td>\n",
       "      <td>sometimes or just at first</td>\n",
       "      <td>sometimes or just at first</td>\n",
       "      <td>sometimes or just at first</td>\n",
       "      <td>41.0</td>\n",
       "    </tr>\n",
       "  </tbody>\n",
       "</table>\n",
       "<p>3 rows × 71 columns</p>\n",
       "</div>"
      ],
      "text/plain": [
       "                       t0_year t0_age_band t0_gender t0_assisted  \\\n",
       "4297   April 2016 - April 2017    50 to 59    female          no   \n",
       "41908  April 2016 - April 2017    70 to 79    female          no   \n",
       "32871  April 2016 - April 2017    60 to 69      male          no   \n",
       "\n",
       "        t0_symptom_period t0_previous_surgery  \\\n",
       "4297   more than 10 years                  no   \n",
       "41908        1 to 5 years                  no   \n",
       "32871        1 to 5 years                  no   \n",
       "\n",
       "                         t0_living_arrangements t0_disability  \\\n",
       "4297                                      alone           yes   \n",
       "41908                                     alone            no   \n",
       "32871  with partner / spouse / family / friends           yes   \n",
       "\n",
       "      t0_heart_disease t0_high_bp  ...              t1_ohs_washing  \\\n",
       "4297           missing    missing  ...  sometimes or just at first   \n",
       "41908          missing        yes  ...                rarely/never   \n",
       "32871              yes        yes  ...                rarely/never   \n",
       "\n",
       "                 t1_ohs_transport             t1_ohs_dressing t1_ohs_shopping  \\\n",
       "4297                 rarely/never                rarely/never    rarely/never   \n",
       "41908  sometimes or just at first    often, not just at first    rarely/never   \n",
       "32871  sometimes or just at first  sometimes or just at first    rarely/never   \n",
       "\n",
       "      t1_ohs_walking              t1_ohs_limping               t1_ohs_stairs  \\\n",
       "4297    rarely/never                rarely/never                rarely/never   \n",
       "41908   rarely/never  sometimes or just at first  sometimes or just at first   \n",
       "32871   rarely/never                rarely/never  sometimes or just at first   \n",
       "\n",
       "                  t1_ohs_standing                 t1_ohs_work t1_ohs_score  \n",
       "4297                 rarely/never  sometimes or just at first         46.0  \n",
       "41908                rarely/never                rarely/never         43.0  \n",
       "32871  sometimes or just at first  sometimes or just at first         41.0  \n",
       "\n",
       "[3 rows x 71 columns]"
      ]
     },
     "execution_count": 4,
     "metadata": {},
     "output_type": "execute_result"
    }
   ],
   "source": [
    "%%time\n",
    "df_hip_clean = (\n",
    "    df_hip_raw.apply(lambda s: filter_in_range(s, **hip_meta[s.name]))\n",
    "    .apply(lambda s: filter_in_labels(s, **hip_meta[s.name]))\n",
    "    .apply(lambda s: map_labels(s, **hip_meta[s.name]))\n",
    "    .query(\"t0_revision_flag == 'no revision'\")\n",
    "    .drop(columns=cols2drop)\n",
    "    #     .replace(\"missing\", np.nan)\n",
    ")\n",
    "\n",
    "df_hip_clean.sample(3)"
   ]
  },
  {
   "cell_type": "markdown",
   "metadata": {},
   "source": [
    "## split data"
   ]
  },
  {
   "cell_type": "code",
   "execution_count": 5,
   "metadata": {},
   "outputs": [
    {
     "data": {
      "text/html": [
       "<div>\n",
       "<style scoped>\n",
       "    .dataframe tbody tr th:only-of-type {\n",
       "        vertical-align: middle;\n",
       "    }\n",
       "\n",
       "    .dataframe tbody tr th {\n",
       "        vertical-align: top;\n",
       "    }\n",
       "\n",
       "    .dataframe thead th {\n",
       "        text-align: right;\n",
       "    }\n",
       "</style>\n",
       "<table border=\"1\" class=\"dataframe\">\n",
       "  <thead>\n",
       "    <tr style=\"text-align: right;\">\n",
       "      <th></th>\n",
       "      <th>t0_year</th>\n",
       "      <th>t0_age_band</th>\n",
       "      <th>t0_gender</th>\n",
       "      <th>t0_assisted</th>\n",
       "      <th>t0_symptom_period</th>\n",
       "      <th>t0_previous_surgery</th>\n",
       "      <th>t0_living_arrangements</th>\n",
       "      <th>t0_disability</th>\n",
       "      <th>t0_heart_disease</th>\n",
       "      <th>t0_high_bp</th>\n",
       "      <th>...</th>\n",
       "      <th>t1_ohs_washing</th>\n",
       "      <th>t1_ohs_transport</th>\n",
       "      <th>t1_ohs_dressing</th>\n",
       "      <th>t1_ohs_shopping</th>\n",
       "      <th>t1_ohs_walking</th>\n",
       "      <th>t1_ohs_limping</th>\n",
       "      <th>t1_ohs_stairs</th>\n",
       "      <th>t1_ohs_standing</th>\n",
       "      <th>t1_ohs_work</th>\n",
       "      <th>t1_ohs_score</th>\n",
       "    </tr>\n",
       "  </thead>\n",
       "  <tbody>\n",
       "    <tr>\n",
       "      <th>18362</th>\n",
       "      <td>April 2018 - April 2019</td>\n",
       "      <td>80 to 89</td>\n",
       "      <td>female</td>\n",
       "      <td>no</td>\n",
       "      <td>1 to 5 years</td>\n",
       "      <td>no</td>\n",
       "      <td>with partner / spouse / family / friends</td>\n",
       "      <td>yes</td>\n",
       "      <td>missing</td>\n",
       "      <td>yes</td>\n",
       "      <td>...</td>\n",
       "      <td>sometimes or just at first</td>\n",
       "      <td>sometimes or just at first</td>\n",
       "      <td>sometimes or just at first</td>\n",
       "      <td>sometimes or just at first</td>\n",
       "      <td>sometimes or just at first</td>\n",
       "      <td>sometimes or just at first</td>\n",
       "      <td>sometimes or just at first</td>\n",
       "      <td>sometimes or just at first</td>\n",
       "      <td>sometimes or just at first</td>\n",
       "      <td>39.0</td>\n",
       "    </tr>\n",
       "    <tr>\n",
       "      <th>10450</th>\n",
       "      <td>April 2019 - April 2020</td>\n",
       "      <td>80 to 89</td>\n",
       "      <td>female</td>\n",
       "      <td>no</td>\n",
       "      <td>1 to 5 years</td>\n",
       "      <td>no</td>\n",
       "      <td>alone</td>\n",
       "      <td>yes</td>\n",
       "      <td>missing</td>\n",
       "      <td>missing</td>\n",
       "      <td>...</td>\n",
       "      <td>rarely/never</td>\n",
       "      <td>sometimes or just at first</td>\n",
       "      <td>sometimes or just at first</td>\n",
       "      <td>rarely/never</td>\n",
       "      <td>rarely/never</td>\n",
       "      <td>rarely/never</td>\n",
       "      <td>sometimes or just at first</td>\n",
       "      <td>sometimes or just at first</td>\n",
       "      <td>sometimes or just at first</td>\n",
       "      <td>41.0</td>\n",
       "    </tr>\n",
       "    <tr>\n",
       "      <th>21509</th>\n",
       "      <td>April 2018 - April 2019</td>\n",
       "      <td>70 to 79</td>\n",
       "      <td>female</td>\n",
       "      <td>yes</td>\n",
       "      <td>1 to 5 years</td>\n",
       "      <td>no</td>\n",
       "      <td>alone</td>\n",
       "      <td>yes</td>\n",
       "      <td>yes</td>\n",
       "      <td>yes</td>\n",
       "      <td>...</td>\n",
       "      <td>rarely/never</td>\n",
       "      <td>sometimes or just at first</td>\n",
       "      <td>sometimes or just at first</td>\n",
       "      <td>rarely/never</td>\n",
       "      <td>sometimes or just at first</td>\n",
       "      <td>sometimes or just at first</td>\n",
       "      <td>sometimes or just at first</td>\n",
       "      <td>sometimes or just at first</td>\n",
       "      <td>sometimes or just at first</td>\n",
       "      <td>36.0</td>\n",
       "    </tr>\n",
       "  </tbody>\n",
       "</table>\n",
       "<p>3 rows × 71 columns</p>\n",
       "</div>"
      ],
      "text/plain": [
       "                       t0_year t0_age_band t0_gender t0_assisted  \\\n",
       "18362  April 2018 - April 2019    80 to 89    female          no   \n",
       "10450  April 2019 - April 2020    80 to 89    female          no   \n",
       "21509  April 2018 - April 2019    70 to 79    female         yes   \n",
       "\n",
       "      t0_symptom_period t0_previous_surgery  \\\n",
       "18362      1 to 5 years                  no   \n",
       "10450      1 to 5 years                  no   \n",
       "21509      1 to 5 years                  no   \n",
       "\n",
       "                         t0_living_arrangements t0_disability  \\\n",
       "18362  with partner / spouse / family / friends           yes   \n",
       "10450                                     alone           yes   \n",
       "21509                                     alone           yes   \n",
       "\n",
       "      t0_heart_disease t0_high_bp  ...              t1_ohs_washing  \\\n",
       "18362          missing        yes  ...  sometimes or just at first   \n",
       "10450          missing    missing  ...                rarely/never   \n",
       "21509              yes        yes  ...                rarely/never   \n",
       "\n",
       "                 t1_ohs_transport             t1_ohs_dressing  \\\n",
       "18362  sometimes or just at first  sometimes or just at first   \n",
       "10450  sometimes or just at first  sometimes or just at first   \n",
       "21509  sometimes or just at first  sometimes or just at first   \n",
       "\n",
       "                  t1_ohs_shopping              t1_ohs_walking  \\\n",
       "18362  sometimes or just at first  sometimes or just at first   \n",
       "10450                rarely/never                rarely/never   \n",
       "21509                rarely/never  sometimes or just at first   \n",
       "\n",
       "                   t1_ohs_limping               t1_ohs_stairs  \\\n",
       "18362  sometimes or just at first  sometimes or just at first   \n",
       "10450                rarely/never  sometimes or just at first   \n",
       "21509  sometimes or just at first  sometimes or just at first   \n",
       "\n",
       "                  t1_ohs_standing                 t1_ohs_work t1_ohs_score  \n",
       "18362  sometimes or just at first  sometimes or just at first         39.0  \n",
       "10450  sometimes or just at first  sometimes or just at first         41.0  \n",
       "21509  sometimes or just at first  sometimes or just at first         36.0  \n",
       "\n",
       "[3 rows x 71 columns]"
      ]
     },
     "execution_count": 5,
     "metadata": {},
     "output_type": "execute_result"
    }
   ],
   "source": [
    "#split train + test set\n",
    "# df_knee_seen = df_knee_clean.query(\"t0_year != '2019/20'\")\n",
    "# df_knee_unseen = df_knee_clean.query(\"t0_year == '2019/20'\")\n",
    "\n",
    "df_hip = df_hip_clean.query(\"t0_year != '2019/20'\")\n",
    "df_hip_unseen = df_hip_clean.query(\"t0_year == '2019/20'\")\n",
    "\n",
    "df_hip.sample(3)"
   ]
  },
  {
   "cell_type": "markdown",
   "metadata": {},
   "source": [
    "## create delta dataframes"
   ]
  },
  {
   "cell_type": "code",
   "execution_count": 6,
   "metadata": {},
   "outputs": [
    {
     "data": {
      "text/html": [
       "<div>\n",
       "<style scoped>\n",
       "    .dataframe tbody tr th:only-of-type {\n",
       "        vertical-align: middle;\n",
       "    }\n",
       "\n",
       "    .dataframe tbody tr th {\n",
       "        vertical-align: top;\n",
       "    }\n",
       "\n",
       "    .dataframe thead th {\n",
       "        text-align: right;\n",
       "    }\n",
       "</style>\n",
       "<table border=\"1\" class=\"dataframe\">\n",
       "  <thead>\n",
       "    <tr style=\"text-align: right;\">\n",
       "      <th></th>\n",
       "      <th>t0_year</th>\n",
       "      <th>t0_age_band</th>\n",
       "      <th>t0_gender</th>\n",
       "      <th>t0_assisted</th>\n",
       "      <th>t0_symptom_period</th>\n",
       "      <th>t0_previous_surgery</th>\n",
       "      <th>t0_living_arrangements</th>\n",
       "      <th>t0_disability</th>\n",
       "      <th>t0_heart_disease</th>\n",
       "      <th>t0_high_bp</th>\n",
       "      <th>...</th>\n",
       "      <th>delta_ohs_pain</th>\n",
       "      <th>delta_ohs_score</th>\n",
       "      <th>delta_ohs_shopping</th>\n",
       "      <th>delta_ohs_stairs</th>\n",
       "      <th>delta_ohs_standing</th>\n",
       "      <th>delta_ohs_sudden_pain</th>\n",
       "      <th>delta_ohs_transport</th>\n",
       "      <th>delta_ohs_walking</th>\n",
       "      <th>delta_ohs_washing</th>\n",
       "      <th>delta_ohs_work</th>\n",
       "    </tr>\n",
       "  </thead>\n",
       "  <tbody>\n",
       "    <tr>\n",
       "      <th>21100</th>\n",
       "      <td>April 2018 - April 2019</td>\n",
       "      <td>70 to 79</td>\n",
       "      <td>female</td>\n",
       "      <td>no</td>\n",
       "      <td>1 to 5 years</td>\n",
       "      <td>no</td>\n",
       "      <td>with partner / spouse / family / friends</td>\n",
       "      <td>yes</td>\n",
       "      <td>yes</td>\n",
       "      <td>missing</td>\n",
       "      <td>...</td>\n",
       "      <td>4</td>\n",
       "      <td>32.0</td>\n",
       "      <td>2</td>\n",
       "      <td>2</td>\n",
       "      <td>3</td>\n",
       "      <td>2</td>\n",
       "      <td>2</td>\n",
       "      <td>1</td>\n",
       "      <td>3</td>\n",
       "      <td>3</td>\n",
       "    </tr>\n",
       "    <tr>\n",
       "      <th>5369</th>\n",
       "      <td>April 2016 - April 2017</td>\n",
       "      <td>60 to 69</td>\n",
       "      <td>female</td>\n",
       "      <td>no</td>\n",
       "      <td>1 to 5 years</td>\n",
       "      <td>no</td>\n",
       "      <td>with partner / spouse / family / friends</td>\n",
       "      <td>yes</td>\n",
       "      <td>missing</td>\n",
       "      <td>missing</td>\n",
       "      <td>...</td>\n",
       "      <td>4</td>\n",
       "      <td>35.0</td>\n",
       "      <td>3</td>\n",
       "      <td>2</td>\n",
       "      <td>3</td>\n",
       "      <td>3</td>\n",
       "      <td>2</td>\n",
       "      <td>4</td>\n",
       "      <td>2</td>\n",
       "      <td>3</td>\n",
       "    </tr>\n",
       "    <tr>\n",
       "      <th>4309</th>\n",
       "      <td>April 2016 - April 2017</td>\n",
       "      <td>60 to 69</td>\n",
       "      <td>male</td>\n",
       "      <td>no</td>\n",
       "      <td>more than 10 years</td>\n",
       "      <td>no</td>\n",
       "      <td>with partner / spouse / family / friends</td>\n",
       "      <td>yes</td>\n",
       "      <td>missing</td>\n",
       "      <td>yes</td>\n",
       "      <td>...</td>\n",
       "      <td>3</td>\n",
       "      <td>36.0</td>\n",
       "      <td>3</td>\n",
       "      <td>2</td>\n",
       "      <td>3</td>\n",
       "      <td>4</td>\n",
       "      <td>2</td>\n",
       "      <td>3</td>\n",
       "      <td>2</td>\n",
       "      <td>4</td>\n",
       "    </tr>\n",
       "    <tr>\n",
       "      <th>14907</th>\n",
       "      <td>April 2016 - April 2017</td>\n",
       "      <td>70 to 79</td>\n",
       "      <td>male</td>\n",
       "      <td>no</td>\n",
       "      <td>1 to 5 years</td>\n",
       "      <td>no</td>\n",
       "      <td>with partner / spouse / family / friends</td>\n",
       "      <td>no</td>\n",
       "      <td>missing</td>\n",
       "      <td>missing</td>\n",
       "      <td>...</td>\n",
       "      <td>3</td>\n",
       "      <td>36.0</td>\n",
       "      <td>4</td>\n",
       "      <td>2</td>\n",
       "      <td>4</td>\n",
       "      <td>3</td>\n",
       "      <td>3</td>\n",
       "      <td>0</td>\n",
       "      <td>3</td>\n",
       "      <td>4</td>\n",
       "    </tr>\n",
       "    <tr>\n",
       "      <th>9110</th>\n",
       "      <td>April 2019 - April 2020</td>\n",
       "      <td>60 to 69</td>\n",
       "      <td>female</td>\n",
       "      <td>no</td>\n",
       "      <td>1 to 5 years</td>\n",
       "      <td>no</td>\n",
       "      <td>with partner / spouse / family / friends</td>\n",
       "      <td>no</td>\n",
       "      <td>missing</td>\n",
       "      <td>yes</td>\n",
       "      <td>...</td>\n",
       "      <td>4</td>\n",
       "      <td>30.0</td>\n",
       "      <td>3</td>\n",
       "      <td>1</td>\n",
       "      <td>4</td>\n",
       "      <td>3</td>\n",
       "      <td>1</td>\n",
       "      <td>1</td>\n",
       "      <td>0</td>\n",
       "      <td>4</td>\n",
       "    </tr>\n",
       "  </tbody>\n",
       "</table>\n",
       "<p>5 rows × 91 columns</p>\n",
       "</div>"
      ],
      "text/plain": [
       "                       t0_year t0_age_band t0_gender t0_assisted  \\\n",
       "21100  April 2018 - April 2019    70 to 79    female          no   \n",
       "5369   April 2016 - April 2017    60 to 69    female          no   \n",
       "4309   April 2016 - April 2017    60 to 69      male          no   \n",
       "14907  April 2016 - April 2017    70 to 79      male          no   \n",
       "9110   April 2019 - April 2020    60 to 69    female          no   \n",
       "\n",
       "        t0_symptom_period t0_previous_surgery  \\\n",
       "21100        1 to 5 years                  no   \n",
       "5369         1 to 5 years                  no   \n",
       "4309   more than 10 years                  no   \n",
       "14907        1 to 5 years                  no   \n",
       "9110         1 to 5 years                  no   \n",
       "\n",
       "                         t0_living_arrangements t0_disability  \\\n",
       "21100  with partner / spouse / family / friends           yes   \n",
       "5369   with partner / spouse / family / friends           yes   \n",
       "4309   with partner / spouse / family / friends           yes   \n",
       "14907  with partner / spouse / family / friends            no   \n",
       "9110   with partner / spouse / family / friends            no   \n",
       "\n",
       "      t0_heart_disease t0_high_bp  ... delta_ohs_pain delta_ohs_score  \\\n",
       "21100              yes    missing  ...              4            32.0   \n",
       "5369           missing    missing  ...              4            35.0   \n",
       "4309           missing        yes  ...              3            36.0   \n",
       "14907          missing    missing  ...              3            36.0   \n",
       "9110           missing        yes  ...              4            30.0   \n",
       "\n",
       "      delta_ohs_shopping delta_ohs_stairs delta_ohs_standing  \\\n",
       "21100                  2                2                  3   \n",
       "5369                   3                2                  3   \n",
       "4309                   3                2                  3   \n",
       "14907                  4                2                  4   \n",
       "9110                   3                1                  4   \n",
       "\n",
       "      delta_ohs_sudden_pain delta_ohs_transport delta_ohs_walking  \\\n",
       "21100                     2                   2                 1   \n",
       "5369                      3                   2                 4   \n",
       "4309                      4                   2                 3   \n",
       "14907                     3                   3                 0   \n",
       "9110                      3                   1                 1   \n",
       "\n",
       "      delta_ohs_washing delta_ohs_work  \n",
       "21100                 3              3  \n",
       "5369                  2              3  \n",
       "4309                  2              4  \n",
       "14907                 3              4  \n",
       "9110                  0              4  \n",
       "\n",
       "[5 rows x 91 columns]"
      ]
     },
     "execution_count": 6,
     "metadata": {},
     "output_type": "execute_result"
    }
   ],
   "source": [
    "df_org = df_hip_clean.apply(\n",
    "    lambda s: map_labels(s, backwards=True, **hip_meta[s.name])\n",
    ").apply(np.asarray)\n",
    "\n",
    "# df_knee_delta = method_delta(df_knee_train)\n",
    "df_hip_delta = method_delta(df_org)\n",
    "\n",
    "# now you could join them again with the original df ...\n",
    "# eg: df_hip_clean.join(df_hip_delta)\n",
    "df_hip_clean = df_hip_clean.join(df_hip_delta)\n",
    "df_hip_clean.sample(5)"
   ]
  },
  {
   "cell_type": "code",
   "execution_count": 7,
   "metadata": {},
   "outputs": [
    {
     "name": "stdout",
     "output_type": "stream",
     "text": [
      "<class 'pandas.core.frame.DataFrame'>\n",
      "Int64Index: 476485 entries, 0 to 44240\n",
      "Data columns (total 91 columns):\n",
      " #   Column                  Non-Null Count   Dtype   \n",
      "---  ------                  --------------   -----   \n",
      " 0   t0_year                 476485 non-null  category\n",
      " 1   t0_age_band             427774 non-null  category\n",
      " 2   t0_gender               427774 non-null  category\n",
      " 3   t0_assisted             476485 non-null  category\n",
      " 4   t0_symptom_period       476485 non-null  category\n",
      " 5   t0_previous_surgery     476485 non-null  category\n",
      " 6   t0_living_arrangements  476485 non-null  category\n",
      " 7   t0_disability           476485 non-null  category\n",
      " 8   t0_heart_disease        476485 non-null  category\n",
      " 9   t0_high_bp              476485 non-null  category\n",
      " 10  t0_stroke               476485 non-null  category\n",
      " 11  t0_circulation          476485 non-null  category\n",
      " 12  t0_lung_disease         476485 non-null  category\n",
      " 13  t0_diabetes             476485 non-null  category\n",
      " 14  t0_kidney_disease       476485 non-null  category\n",
      " 15  t0_nervous_system       476485 non-null  category\n",
      " 16  t0_liver_disease        476485 non-null  category\n",
      " 17  t0_cancer               476485 non-null  category\n",
      " 18  t0_depression           476485 non-null  category\n",
      " 19  t0_arthritis            476485 non-null  category\n",
      " 20  t0_eq5d_mobility        476485 non-null  category\n",
      " 21  t0_eq5d_self_care       476485 non-null  category\n",
      " 22  t0_eq5d_activity        476485 non-null  category\n",
      " 23  t0_eq5d_discomfort      476485 non-null  category\n",
      " 24  t0_eq5d_anxiety         476485 non-null  category\n",
      " 25  t0_eq5d_score           449559 non-null  float32 \n",
      " 26  t1_assisted             476485 non-null  category\n",
      " 27  t1_living_arrangements  476485 non-null  category\n",
      " 28  t1_disability           476485 non-null  category\n",
      " 29  t1_eq5d_mobility        476485 non-null  category\n",
      " 30  t1_eq5d_self_care       476485 non-null  category\n",
      " 31  t1_eq5d_activity        476485 non-null  category\n",
      " 32  t1_eq5d_discomfort      476485 non-null  category\n",
      " 33  t1_eq5d_anxiety         476485 non-null  category\n",
      " 34  t1_satisfaction         476485 non-null  category\n",
      " 35  t1_success              476485 non-null  category\n",
      " 36  t1_allergy              476485 non-null  category\n",
      " 37  t1_bleeding             476485 non-null  category\n",
      " 38  t1_wound                476485 non-null  category\n",
      " 39  t1_urine                476485 non-null  category\n",
      " 40  t1_further_surgery      476485 non-null  category\n",
      " 41  t1_readmitted           476485 non-null  category\n",
      " 42  t1_eq5d_score           456700 non-null  float32 \n",
      " 43  t0_eqvas_score          433667 non-null  float64 \n",
      " 44  t1_eqvas_score          453886 non-null  float64 \n",
      " 45  t0_ohs_pain             476485 non-null  category\n",
      " 46  t0_ohs_sudden_pain      476485 non-null  category\n",
      " 47  t0_ohs_night_pain       476485 non-null  category\n",
      " 48  t0_ohs_washing          476485 non-null  category\n",
      " 49  t0_ohs_transport        476485 non-null  category\n",
      " 50  t0_ohs_dressing         476485 non-null  category\n",
      " 51  t0_ohs_shopping         476485 non-null  category\n",
      " 52  t0_ohs_walking          476485 non-null  category\n",
      " 53  t0_ohs_limping          476485 non-null  category\n",
      " 54  t0_ohs_stairs           476485 non-null  category\n",
      " 55  t0_ohs_standing         476485 non-null  category\n",
      " 56  t0_ohs_work             476485 non-null  category\n",
      " 57  t0_ohs_score            471275 non-null  float32 \n",
      " 58  t1_ohs_pain             476485 non-null  category\n",
      " 59  t1_ohs_sudden_pain      476485 non-null  category\n",
      " 60  t1_ohs_night_pain       476485 non-null  category\n",
      " 61  t1_ohs_washing          476485 non-null  category\n",
      " 62  t1_ohs_transport        476485 non-null  category\n",
      " 63  t1_ohs_dressing         476485 non-null  category\n",
      " 64  t1_ohs_shopping         476485 non-null  category\n",
      " 65  t1_ohs_walking          476485 non-null  category\n",
      " 66  t1_ohs_limping          476485 non-null  category\n",
      " 67  t1_ohs_stairs           476485 non-null  category\n",
      " 68  t1_ohs_standing         476485 non-null  category\n",
      " 69  t1_ohs_work             476485 non-null  category\n",
      " 70  t1_ohs_score            471386 non-null  float32 \n",
      " 71  delta_eq5d_activity     476485 non-null  int64   \n",
      " 72  delta_eq5d_anxiety      476485 non-null  int64   \n",
      " 73  delta_eq5d_discomfort   476485 non-null  int64   \n",
      " 74  delta_eq5d_mobility     476485 non-null  int64   \n",
      " 75  delta_eq5d_score        431728 non-null  float32 \n",
      " 76  delta_eq5d_self_care    476485 non-null  int64   \n",
      " 77  delta_eqvas_score       414974 non-null  float64 \n",
      " 78  delta_ohs_dressing      476485 non-null  int64   \n",
      " 79  delta_ohs_limping       476485 non-null  int64   \n",
      " 80  delta_ohs_night_pain    476485 non-null  int64   \n",
      " 81  delta_ohs_pain          476485 non-null  int64   \n",
      " 82  delta_ohs_score         466320 non-null  float32 \n",
      " 83  delta_ohs_shopping      476485 non-null  int64   \n",
      " 84  delta_ohs_stairs        476485 non-null  int64   \n",
      " 85  delta_ohs_standing      476485 non-null  int64   \n",
      " 86  delta_ohs_sudden_pain   476485 non-null  int64   \n",
      " 87  delta_ohs_transport     476485 non-null  int64   \n",
      " 88  delta_ohs_walking       476485 non-null  int64   \n",
      " 89  delta_ohs_washing       476485 non-null  int64   \n",
      " 90  delta_ohs_work          476485 non-null  int64   \n",
      "dtypes: category(65), float32(6), float64(3), int64(17)\n",
      "memory usage: 116.8 MB\n"
     ]
    }
   ],
   "source": [
    "df_hip_clean.info()"
   ]
  },
  {
   "cell_type": "markdown",
   "metadata": {},
   "source": [
    "## Make feature set"
   ]
  },
  {
   "cell_type": "code",
   "execution_count": 8,
   "metadata": {},
   "outputs": [
    {
     "name": "stdout",
     "output_type": "stream",
     "text": [
      "103346 after possible total dropna\n"
     ]
    },
    {
     "data": {
      "text/plain": [
       "t0_age_band          0.089507\n",
       "t0_gender            0.089507\n",
       "t0_eqvas_score       0.089385\n",
       "t0_eq5d_score        0.056014\n",
       "t1_eqvas_score       0.047734\n",
       "t1_eq5d_score        0.042082\n",
       "t0_ohs_score         0.010959\n",
       "t1_ohs_score         0.010908\n",
       "t0_eq5d_mobility     0.000000\n",
       "t0_eq5d_self_care    0.000000\n",
       "dtype: float64"
      ]
     },
     "execution_count": 8,
     "metadata": {},
     "output_type": "execute_result"
    }
   ],
   "source": [
    "# print(len(df_hip), \"original\")\n",
    "print(len(df_hip.dropna()), \"after possible total dropna\")\n",
    "(df_hip.isna().sum() / len(df_hip)).sort_values(ascending=False).head(10)"
   ]
  },
  {
   "cell_type": "code",
   "execution_count": 9,
   "metadata": {},
   "outputs": [
    {
     "name": "stdout",
     "output_type": "stream",
     "text": [
      "139251 original\n",
      "113818 after dropna on numerical\n"
     ]
    },
    {
     "data": {
      "text/plain": [
       "t0_age_band           0.092007\n",
       "t0_gender             0.092007\n",
       "t1_ohs_score          0.000000\n",
       "t1_assisted           0.000000\n",
       "t0_eq5d_mobility      0.000000\n",
       "t0_eq5d_self_care     0.000000\n",
       "t0_eq5d_activity      0.000000\n",
       "t0_eq5d_discomfort    0.000000\n",
       "t0_eq5d_anxiety       0.000000\n",
       "t0_eq5d_score         0.000000\n",
       "dtype: float64"
      ]
     },
     "execution_count": 9,
     "metadata": {},
     "output_type": "execute_result"
    }
   ],
   "source": [
    "# remove NaNs from non categorical/ordinal columns (numerical)\n",
    "print(len(df_hip), \"original\")\n",
    "num_cols = df_hip.select_dtypes(exclude=\"category\").columns\n",
    "df_hip = df_hip.dropna(subset=num_cols)\n",
    "\n",
    "print(len(df_hip), \"after dropna on numerical\")\n",
    "(df_hip.isna().sum() / len(df_hip)).sort_values(ascending=False).head(10)"
   ]
  },
  {
   "cell_type": "code",
   "execution_count": 10,
   "metadata": {},
   "outputs": [],
   "source": [
    "# # Buggy: TO DO ...\n",
    "# # s = df_hip[\"t0_age_band\"]\n",
    "\n",
    "# # def fillna(s, value):\n",
    "# #     if s.dtype == \"category\":\n",
    "# #         print(\"is cat\")\n",
    "# #         if value not in s.dtype.categories:\n",
    "# #             print(value, \"not in cats\")\n",
    "# #             display(s.dtype)\n",
    "# #             display(s.dtype.add_categories(value))\n",
    "# #             s.add_categories(value, inplace=True)\n",
    "# #             display(s.dtype)\n",
    "# #     return s.fillna(value)\n",
    "\n",
    "# # fillna(s, \"missing\")\n",
    "\n",
    "# # status before\n",
    "# display((df_hip.isna().sum() / len(df_hip)).sort_values(ascending=False).head(10))\n",
    "# print(len(df_hip), \"original\")\n",
    "\n",
    "# # remove NaNs from non categorical/ordinal columns (numerical)\n",
    "# num_cols = df_hip.select_dtypes(include=\"number\").columns\n",
    "# df_hip = df_hip.dropna(subset=num_cols).fillna(\"missing\")\n",
    "# print(len(df_hip), \"after dropna on numerical\")"
   ]
  },
  {
   "cell_type": "markdown",
   "metadata": {},
   "source": [
    "## Create Y"
   ]
  },
  {
   "cell_type": "markdown",
   "metadata": {},
   "source": [
    "### First Y: based on subgroup selection"
   ]
  },
  {
   "cell_type": "code",
   "execution_count": 11,
   "metadata": {},
   "outputs": [
    {
     "data": {
      "text/plain": [
       "much better        412751\n",
       "a little better     37004\n",
       "about the same       9882\n",
       "missing              6851\n",
       "a little worse       5559\n",
       "much worse           4438\n",
       "Name: t1_success, dtype: int64"
      ]
     },
     "execution_count": 11,
     "metadata": {},
     "output_type": "execute_result"
    }
   ],
   "source": [
    "df_hip_clean['t1_success'].value_counts()"
   ]
  },
  {
   "cell_type": "code",
   "execution_count": 12,
   "metadata": {},
   "outputs": [
    {
     "data": {
      "image/png": "[encoded data removed]",
      "text/plain": [
       "<Figure size 1080x432 with 3 Axes>"
      ]
     },
     "metadata": {
      "needs_background": "light"
     },
     "output_type": "display_data"
    }
   ],
   "source": [
    "fig, ax = plt.subplots(1, 2, figsize=(15,6))\n",
    "sns.heatmap(pd.crosstab([df_hip_clean[\"t1_satisfaction\"]], [df_hip_clean[\"t1_success\"]]), cmap=\"coolwarm\", annot=True, cbar=True, fmt='g', ax=ax[0])\n",
    "sns.heatmap(pd.crosstab([df_hip_clean[\"t1_satisfaction\"]], [df_hip_clean[\"t1_success\"]], margins=True), cmap='coolwarm', annot=True, fmt='g', cbar=False, ax=ax[1])\n",
    "sns.set(font_scale=1.5)"
   ]
  },
  {
   "cell_type": "code",
   "execution_count": 13,
   "metadata": {},
   "outputs": [
    {
     "data": {
      "text/plain": [
       "0    466488\n",
       "1      9997\n",
       "Name: success_recode, dtype: int64"
      ]
     },
     "execution_count": 13,
     "metadata": {},
     "output_type": "execute_result"
    }
   ],
   "source": [
    "def success_rec(recode):\n",
    "    if recode == 'a little worse':\n",
    "        return 1\n",
    "    elif recode == 'much worse':\n",
    "        return 1\n",
    "#     elif recode == 'about the same':\n",
    "#         return 1\n",
    "    else:\n",
    "        return 0\n",
    "    \n",
    "df_hip_clean['success_recode'] = df_hip_clean['t1_success'].apply(success_rec)\n",
    "df_hip_clean['success_recode'].value_counts(sort=False)"
   ]
  },
  {
   "cell_type": "code",
   "execution_count": 14,
   "metadata": {},
   "outputs": [
    {
     "data": {
      "text/plain": [
       "<Figure size 1080x576 with 0 Axes>"
      ]
     },
     "metadata": {},
     "output_type": "display_data"
    },
    {
     "data": {
      "image/png": "[encoded data removed]",
      "text/plain": [
       "<Figure size 503.7x360 with 1 Axes>"
      ]
     },
     "metadata": {},
     "output_type": "display_data"
    }
   ],
   "source": [
    "plt.figure(figsize=(15,8))\n",
    "sns.displot(df_hip_clean, x=\"delta_ohs_score\", hue='success_recode', alpha=.5, kind=\"kde\", common_norm=False);"
   ]
  },
  {
   "cell_type": "code",
   "execution_count": 15,
   "metadata": {},
   "outputs": [
    {
     "data": {
      "image/png": "[encoded data removed]",
      "text/plain": [
       "<Figure size 504x360 with 1 Axes>"
      ]
     },
     "metadata": {},
     "output_type": "display_data"
    }
   ],
   "source": [
    "fig, ax = plt.subplots(figsize=(7,5))\n",
    "fig = sns.boxplot(x=df_hip_clean[\"success_recode\"], y=df_hip_clean['delta_ohs_score'], data=df_hip_clean)"
   ]
  },
  {
   "cell_type": "code",
   "execution_count": 16,
   "metadata": {},
   "outputs": [],
   "source": [
    "df_hip_clean['diff_ohs'] = df_hip_clean['t1_ohs_score'] - df_hip_clean['t0_ohs_score']"
   ]
  },
  {
   "cell_type": "code",
   "execution_count": 17,
   "metadata": {},
   "outputs": [
    {
     "data": {
      "text/plain": [
       "<Figure size 1080x576 with 0 Axes>"
      ]
     },
     "metadata": {},
     "output_type": "display_data"
    },
    {
     "data": {
      "image/png": "[encoded data removed]",
      "text/plain": [
       "<Figure size 503.7x360 with 1 Axes>"
      ]
     },
     "metadata": {},
     "output_type": "display_data"
    }
   ],
   "source": [
    "plt.figure(figsize=(15,8))\n",
    "sns.displot(df_hip_clean, x=\"diff_ohs\", hue='success_recode', alpha=.5, kind=\"kde\", common_norm=False);"
   ]
  },
  {
   "cell_type": "code",
   "execution_count": 18,
   "metadata": {
    "scrolled": true
   },
   "outputs": [
    {
     "data": {
      "image/png": "[encoded data removed]",
      "text/plain": [
       "<Figure size 503.7x360 with 5 Axes>"
      ]
     },
     "metadata": {},
     "output_type": "display_data"
    }
   ],
   "source": [
    "sns.pairplot(data=df_hip_clean[['t0_ohs_score','t1_ohs_score', 'success_recode']],hue='success_recode', palette=\"coolwarm\", corner=True);"
   ]
  },
  {
   "cell_type": "code",
   "execution_count": 19,
   "metadata": {
    "scrolled": true
   },
   "outputs": [
    {
     "data": {
      "image/png": "[encoded data removed]",
      "text/plain": [
       "<Figure size 504x360 with 1 Axes>"
      ]
     },
     "metadata": {},
     "output_type": "display_data"
    }
   ],
   "source": [
    "fig, ax = plt.subplots(figsize=(7,5))\n",
    "fig = sns.boxplot(x=df_hip_clean[\"success_recode\"], y=df_hip_clean['diff_ohs'], data=df_hip_clean)"
   ]
  },
  {
   "cell_type": "code",
   "execution_count": 20,
   "metadata": {},
   "outputs": [
    {
     "data": {
      "text/plain": [
       "success_recode\n",
       "0    22.896961\n",
       "1     2.952104\n",
       "Name: diff_ohs, dtype: float32"
      ]
     },
     "execution_count": 20,
     "metadata": {},
     "output_type": "execute_result"
    }
   ],
   "source": [
    "df_hip_clean['diff_ohs'].groupby(df_hip_clean['success_recode']).mean()"
   ]
  },
  {
   "cell_type": "code",
   "execution_count": 44,
   "metadata": {},
   "outputs": [],
   "source": [
    "# def success_rec(recode):\n",
    "#     if recode == 'a little worse':\n",
    "#         return 1\n",
    "#     elif recode == 'much worse':\n",
    "#         return 1\n",
    "# #     elif recode == 'about the same':\n",
    "# #         return 1\n",
    "#     else:\n",
    "#         return 0\n",
    "    \n",
    "# df_hip['success_recode'] = df_hip['t1_success'].apply(success_rec)\n",
    "# df_hip['success_recode'].value_counts(sort=False)"
   ]
  },
  {
   "cell_type": "code",
   "execution_count": 45,
   "metadata": {},
   "outputs": [],
   "source": [
    "df_hip = df_hip.dropna().sample(10_000) # dirty drop for the sake of testing pl\n",
    "\n",
    "# create x, y\n",
    "X = df_hip.filter(regex=\"t0\")\n",
    "y = (df_hip[\"t1_ohs_score\"] - df_hip[\"t0_ohs_score\"] <= 3).astype(int) # hip <= 3\n",
    "# y = (df_hip[\"success_recode\"] == 1).astype(int) # hip <= 3\n",
    "\n",
    "# create train, test\n",
    "X_train, X_test, y_train, y_test = train_test_split(\n",
    "    X, y, test_size=0.33, random_state=42, stratify=y\n",
    ")"
   ]
  },
  {
   "cell_type": "markdown",
   "metadata": {},
   "source": [
    "## show OHE"
   ]
  },
  {
   "cell_type": "code",
   "execution_count": 46,
   "metadata": {},
   "outputs": [
    {
     "data": {
      "text/html": [
       "<div>\n",
       "<style scoped>\n",
       "    .dataframe tbody tr th:only-of-type {\n",
       "        vertical-align: middle;\n",
       "    }\n",
       "\n",
       "    .dataframe tbody tr th {\n",
       "        vertical-align: top;\n",
       "    }\n",
       "\n",
       "    .dataframe thead th {\n",
       "        text-align: right;\n",
       "    }\n",
       "</style>\n",
       "<table border=\"1\" class=\"dataframe\">\n",
       "  <thead>\n",
       "    <tr style=\"text-align: right;\">\n",
       "      <th></th>\n",
       "      <th>t0_year_April 2016 - April 2017</th>\n",
       "      <th>t0_year_April 2017 - April 2018</th>\n",
       "      <th>t0_year_April 2018 - April 2019</th>\n",
       "      <th>t0_year_April 2019 - April 2020</th>\n",
       "      <th>t0_age_band_20 to 29</th>\n",
       "      <th>t0_age_band_30 to 39</th>\n",
       "      <th>t0_age_band_40 to 49</th>\n",
       "      <th>t0_age_band_50 to 59</th>\n",
       "      <th>t0_age_band_60 to 69</th>\n",
       "      <th>t0_age_band_70 to 79</th>\n",
       "      <th>...</th>\n",
       "      <th>t0_ohs_score_38.0</th>\n",
       "      <th>t0_ohs_score_39.0</th>\n",
       "      <th>t0_ohs_score_40.0</th>\n",
       "      <th>t0_ohs_score_41.0</th>\n",
       "      <th>t0_ohs_score_42.0</th>\n",
       "      <th>t0_ohs_score_43.0</th>\n",
       "      <th>t0_ohs_score_44.0</th>\n",
       "      <th>t0_ohs_score_45.0</th>\n",
       "      <th>t0_ohs_score_47.0</th>\n",
       "      <th>t0_ohs_score_48.0</th>\n",
       "    </tr>\n",
       "  </thead>\n",
       "  <tbody>\n",
       "    <tr>\n",
       "      <th>21916</th>\n",
       "      <td>0</td>\n",
       "      <td>1</td>\n",
       "      <td>0</td>\n",
       "      <td>0</td>\n",
       "      <td>0</td>\n",
       "      <td>0</td>\n",
       "      <td>1</td>\n",
       "      <td>0</td>\n",
       "      <td>0</td>\n",
       "      <td>0</td>\n",
       "      <td>...</td>\n",
       "      <td>0</td>\n",
       "      <td>0</td>\n",
       "      <td>0</td>\n",
       "      <td>0</td>\n",
       "      <td>0</td>\n",
       "      <td>0</td>\n",
       "      <td>0</td>\n",
       "      <td>0</td>\n",
       "      <td>0</td>\n",
       "      <td>0</td>\n",
       "    </tr>\n",
       "    <tr>\n",
       "      <th>10598</th>\n",
       "      <td>0</td>\n",
       "      <td>1</td>\n",
       "      <td>0</td>\n",
       "      <td>0</td>\n",
       "      <td>0</td>\n",
       "      <td>0</td>\n",
       "      <td>0</td>\n",
       "      <td>0</td>\n",
       "      <td>1</td>\n",
       "      <td>0</td>\n",
       "      <td>...</td>\n",
       "      <td>0</td>\n",
       "      <td>0</td>\n",
       "      <td>0</td>\n",
       "      <td>0</td>\n",
       "      <td>0</td>\n",
       "      <td>0</td>\n",
       "      <td>0</td>\n",
       "      <td>0</td>\n",
       "      <td>0</td>\n",
       "      <td>0</td>\n",
       "    </tr>\n",
       "    <tr>\n",
       "      <th>17233</th>\n",
       "      <td>0</td>\n",
       "      <td>0</td>\n",
       "      <td>1</td>\n",
       "      <td>0</td>\n",
       "      <td>0</td>\n",
       "      <td>0</td>\n",
       "      <td>0</td>\n",
       "      <td>0</td>\n",
       "      <td>1</td>\n",
       "      <td>0</td>\n",
       "      <td>...</td>\n",
       "      <td>0</td>\n",
       "      <td>0</td>\n",
       "      <td>0</td>\n",
       "      <td>0</td>\n",
       "      <td>0</td>\n",
       "      <td>0</td>\n",
       "      <td>0</td>\n",
       "      <td>0</td>\n",
       "      <td>0</td>\n",
       "      <td>0</td>\n",
       "    </tr>\n",
       "    <tr>\n",
       "      <th>22446</th>\n",
       "      <td>0</td>\n",
       "      <td>1</td>\n",
       "      <td>0</td>\n",
       "      <td>0</td>\n",
       "      <td>0</td>\n",
       "      <td>0</td>\n",
       "      <td>0</td>\n",
       "      <td>0</td>\n",
       "      <td>0</td>\n",
       "      <td>1</td>\n",
       "      <td>...</td>\n",
       "      <td>0</td>\n",
       "      <td>0</td>\n",
       "      <td>0</td>\n",
       "      <td>0</td>\n",
       "      <td>0</td>\n",
       "      <td>0</td>\n",
       "      <td>0</td>\n",
       "      <td>0</td>\n",
       "      <td>0</td>\n",
       "      <td>0</td>\n",
       "    </tr>\n",
       "    <tr>\n",
       "      <th>3808</th>\n",
       "      <td>0</td>\n",
       "      <td>1</td>\n",
       "      <td>0</td>\n",
       "      <td>0</td>\n",
       "      <td>0</td>\n",
       "      <td>0</td>\n",
       "      <td>0</td>\n",
       "      <td>0</td>\n",
       "      <td>0</td>\n",
       "      <td>1</td>\n",
       "      <td>...</td>\n",
       "      <td>0</td>\n",
       "      <td>0</td>\n",
       "      <td>0</td>\n",
       "      <td>0</td>\n",
       "      <td>0</td>\n",
       "      <td>0</td>\n",
       "      <td>0</td>\n",
       "      <td>0</td>\n",
       "      <td>0</td>\n",
       "      <td>0</td>\n",
       "    </tr>\n",
       "    <tr>\n",
       "      <th>...</th>\n",
       "      <td>...</td>\n",
       "      <td>...</td>\n",
       "      <td>...</td>\n",
       "      <td>...</td>\n",
       "      <td>...</td>\n",
       "      <td>...</td>\n",
       "      <td>...</td>\n",
       "      <td>...</td>\n",
       "      <td>...</td>\n",
       "      <td>...</td>\n",
       "      <td>...</td>\n",
       "      <td>...</td>\n",
       "      <td>...</td>\n",
       "      <td>...</td>\n",
       "      <td>...</td>\n",
       "      <td>...</td>\n",
       "      <td>...</td>\n",
       "      <td>...</td>\n",
       "      <td>...</td>\n",
       "      <td>...</td>\n",
       "      <td>...</td>\n",
       "    </tr>\n",
       "    <tr>\n",
       "      <th>21172</th>\n",
       "      <td>0</td>\n",
       "      <td>1</td>\n",
       "      <td>0</td>\n",
       "      <td>0</td>\n",
       "      <td>0</td>\n",
       "      <td>0</td>\n",
       "      <td>0</td>\n",
       "      <td>0</td>\n",
       "      <td>0</td>\n",
       "      <td>1</td>\n",
       "      <td>...</td>\n",
       "      <td>0</td>\n",
       "      <td>0</td>\n",
       "      <td>0</td>\n",
       "      <td>0</td>\n",
       "      <td>0</td>\n",
       "      <td>0</td>\n",
       "      <td>0</td>\n",
       "      <td>0</td>\n",
       "      <td>0</td>\n",
       "      <td>0</td>\n",
       "    </tr>\n",
       "    <tr>\n",
       "      <th>10931</th>\n",
       "      <td>0</td>\n",
       "      <td>0</td>\n",
       "      <td>1</td>\n",
       "      <td>0</td>\n",
       "      <td>0</td>\n",
       "      <td>0</td>\n",
       "      <td>0</td>\n",
       "      <td>0</td>\n",
       "      <td>1</td>\n",
       "      <td>0</td>\n",
       "      <td>...</td>\n",
       "      <td>0</td>\n",
       "      <td>0</td>\n",
       "      <td>0</td>\n",
       "      <td>0</td>\n",
       "      <td>0</td>\n",
       "      <td>0</td>\n",
       "      <td>0</td>\n",
       "      <td>0</td>\n",
       "      <td>0</td>\n",
       "      <td>0</td>\n",
       "    </tr>\n",
       "    <tr>\n",
       "      <th>8029</th>\n",
       "      <td>0</td>\n",
       "      <td>0</td>\n",
       "      <td>0</td>\n",
       "      <td>1</td>\n",
       "      <td>0</td>\n",
       "      <td>0</td>\n",
       "      <td>0</td>\n",
       "      <td>0</td>\n",
       "      <td>0</td>\n",
       "      <td>0</td>\n",
       "      <td>...</td>\n",
       "      <td>0</td>\n",
       "      <td>0</td>\n",
       "      <td>0</td>\n",
       "      <td>0</td>\n",
       "      <td>0</td>\n",
       "      <td>0</td>\n",
       "      <td>0</td>\n",
       "      <td>0</td>\n",
       "      <td>0</td>\n",
       "      <td>0</td>\n",
       "    </tr>\n",
       "    <tr>\n",
       "      <th>32079</th>\n",
       "      <td>0</td>\n",
       "      <td>1</td>\n",
       "      <td>0</td>\n",
       "      <td>0</td>\n",
       "      <td>0</td>\n",
       "      <td>0</td>\n",
       "      <td>0</td>\n",
       "      <td>0</td>\n",
       "      <td>0</td>\n",
       "      <td>1</td>\n",
       "      <td>...</td>\n",
       "      <td>0</td>\n",
       "      <td>0</td>\n",
       "      <td>0</td>\n",
       "      <td>0</td>\n",
       "      <td>0</td>\n",
       "      <td>0</td>\n",
       "      <td>0</td>\n",
       "      <td>0</td>\n",
       "      <td>0</td>\n",
       "      <td>0</td>\n",
       "    </tr>\n",
       "    <tr>\n",
       "      <th>21052</th>\n",
       "      <td>1</td>\n",
       "      <td>0</td>\n",
       "      <td>0</td>\n",
       "      <td>0</td>\n",
       "      <td>0</td>\n",
       "      <td>0</td>\n",
       "      <td>0</td>\n",
       "      <td>0</td>\n",
       "      <td>0</td>\n",
       "      <td>0</td>\n",
       "      <td>...</td>\n",
       "      <td>0</td>\n",
       "      <td>0</td>\n",
       "      <td>0</td>\n",
       "      <td>0</td>\n",
       "      <td>0</td>\n",
       "      <td>0</td>\n",
       "      <td>0</td>\n",
       "      <td>0</td>\n",
       "      <td>0</td>\n",
       "      <td>0</td>\n",
       "    </tr>\n",
       "  </tbody>\n",
       "</table>\n",
       "<p>6700 rows × 365 columns</p>\n",
       "</div>"
      ],
      "text/plain": [
       "       t0_year_April 2016 - April 2017  t0_year_April 2017 - April 2018  \\\n",
       "21916                                0                                1   \n",
       "10598                                0                                1   \n",
       "17233                                0                                0   \n",
       "22446                                0                                1   \n",
       "3808                                 0                                1   \n",
       "...                                ...                              ...   \n",
       "21172                                0                                1   \n",
       "10931                                0                                0   \n",
       "8029                                 0                                0   \n",
       "32079                                0                                1   \n",
       "21052                                1                                0   \n",
       "\n",
       "       t0_year_April 2018 - April 2019  t0_year_April 2019 - April 2020  \\\n",
       "21916                                0                                0   \n",
       "10598                                0                                0   \n",
       "17233                                1                                0   \n",
       "22446                                0                                0   \n",
       "3808                                 0                                0   \n",
       "...                                ...                              ...   \n",
       "21172                                0                                0   \n",
       "10931                                1                                0   \n",
       "8029                                 0                                1   \n",
       "32079                                0                                0   \n",
       "21052                                0                                0   \n",
       "\n",
       "       t0_age_band_20 to 29  t0_age_band_30 to 39  t0_age_band_40 to 49  \\\n",
       "21916                     0                     0                     1   \n",
       "10598                     0                     0                     0   \n",
       "17233                     0                     0                     0   \n",
       "22446                     0                     0                     0   \n",
       "3808                      0                     0                     0   \n",
       "...                     ...                   ...                   ...   \n",
       "21172                     0                     0                     0   \n",
       "10931                     0                     0                     0   \n",
       "8029                      0                     0                     0   \n",
       "32079                     0                     0                     0   \n",
       "21052                     0                     0                     0   \n",
       "\n",
       "       t0_age_band_50 to 59  t0_age_band_60 to 69  t0_age_band_70 to 79  ...  \\\n",
       "21916                     0                     0                     0  ...   \n",
       "10598                     0                     1                     0  ...   \n",
       "17233                     0                     1                     0  ...   \n",
       "22446                     0                     0                     1  ...   \n",
       "3808                      0                     0                     1  ...   \n",
       "...                     ...                   ...                   ...  ...   \n",
       "21172                     0                     0                     1  ...   \n",
       "10931                     0                     1                     0  ...   \n",
       "8029                      0                     0                     0  ...   \n",
       "32079                     0                     0                     1  ...   \n",
       "21052                     0                     0                     0  ...   \n",
       "\n",
       "       t0_ohs_score_38.0  t0_ohs_score_39.0  t0_ohs_score_40.0  \\\n",
       "21916                  0                  0                  0   \n",
       "10598                  0                  0                  0   \n",
       "17233                  0                  0                  0   \n",
       "22446                  0                  0                  0   \n",
       "3808                   0                  0                  0   \n",
       "...                  ...                ...                ...   \n",
       "21172                  0                  0                  0   \n",
       "10931                  0                  0                  0   \n",
       "8029                   0                  0                  0   \n",
       "32079                  0                  0                  0   \n",
       "21052                  0                  0                  0   \n",
       "\n",
       "       t0_ohs_score_41.0  t0_ohs_score_42.0  t0_ohs_score_43.0  \\\n",
       "21916                  0                  0                  0   \n",
       "10598                  0                  0                  0   \n",
       "17233                  0                  0                  0   \n",
       "22446                  0                  0                  0   \n",
       "3808                   0                  0                  0   \n",
       "...                  ...                ...                ...   \n",
       "21172                  0                  0                  0   \n",
       "10931                  0                  0                  0   \n",
       "8029                   0                  0                  0   \n",
       "32079                  0                  0                  0   \n",
       "21052                  0                  0                  0   \n",
       "\n",
       "       t0_ohs_score_44.0  t0_ohs_score_45.0  t0_ohs_score_47.0  \\\n",
       "21916                  0                  0                  0   \n",
       "10598                  0                  0                  0   \n",
       "17233                  0                  0                  0   \n",
       "22446                  0                  0                  0   \n",
       "3808                   0                  0                  0   \n",
       "...                  ...                ...                ...   \n",
       "21172                  0                  0                  0   \n",
       "10931                  0                  0                  0   \n",
       "8029                   0                  0                  0   \n",
       "32079                  0                  0                  0   \n",
       "21052                  0                  0                  0   \n",
       "\n",
       "       t0_ohs_score_48.0  \n",
       "21916                  0  \n",
       "10598                  0  \n",
       "17233                  0  \n",
       "22446                  0  \n",
       "3808                   0  \n",
       "...                  ...  \n",
       "21172                  0  \n",
       "10931                  0  \n",
       "8029                   0  \n",
       "32079                  0  \n",
       "21052                  0  \n",
       "\n",
       "[6700 rows x 365 columns]"
      ]
     },
     "execution_count": 46,
     "metadata": {},
     "output_type": "execute_result"
    }
   ],
   "source": [
    "# example to show it works\n",
    "OHE = OneHotEncoder(sparse=False, dtype=\"uint8\")\n",
    "OHE.fit(X_train)\n",
    "\n",
    "pd.DataFrame(\n",
    "    data=OHE.transform(X_train),\n",
    "    index=X_train.index,\n",
    "    columns=OHE.get_feature_names(X_train.columns),\n",
    ")"
   ]
  },
  {
   "cell_type": "markdown",
   "metadata": {},
   "source": [
    "## make balanced"
   ]
  },
  {
   "cell_type": "code",
   "execution_count": 47,
   "metadata": {},
   "outputs": [
    {
     "name": "stdout",
     "output_type": "stream",
     "text": [
      "before:\n"
     ]
    },
    {
     "data": {
      "text/plain": [
       "0    6422\n",
       "1     278\n",
       "dtype: int64"
      ]
     },
     "metadata": {},
     "output_type": "display_data"
    },
    {
     "name": "stdout",
     "output_type": "stream",
     "text": [
      "after:\n"
     ]
    },
    {
     "data": {
      "text/plain": [
       "1    6422\n",
       "0    6422\n",
       "dtype: int64"
      ]
     },
     "metadata": {},
     "output_type": "display_data"
    }
   ],
   "source": [
    "print(\"before:\")\n",
    "display(y_train.value_counts())\n",
    "\n",
    "cat_cols = X_train.dtypes == \"category\"\n",
    "\n",
    "resampler = SMOTENC(categorical_features=cat_cols.values)\n",
    "X_train_balanced, y_train_balanced = resampler.fit_resample(X_train, y_train)\n",
    "\n",
    "print(\"after:\")\n",
    "display(y_train_balanced.value_counts())"
   ]
  },
  {
   "cell_type": "markdown",
   "metadata": {},
   "source": [
    "## make + train a simple pipeline"
   ]
  },
  {
   "cell_type": "code",
   "execution_count": 48,
   "metadata": {},
   "outputs": [],
   "source": [
    "from sklearn.ensemble import AdaBoostClassifier"
   ]
  },
  {
   "cell_type": "code",
   "execution_count": 49,
   "metadata": {},
   "outputs": [
    {
     "data": {
      "text/html": [
       "<style>div.sk-top-container {color: black;background-color: white;}div.sk-toggleable {background-color: white;}label.sk-toggleable__label {cursor: pointer;display: block;width: 100%;margin-bottom: 0;padding: 0.2em 0.3em;box-sizing: border-box;text-align: center;}div.sk-toggleable__content {max-height: 0;max-width: 0;overflow: hidden;text-align: left;background-color: #f0f8ff;}div.sk-toggleable__content pre {margin: 0.2em;color: black;border-radius: 0.25em;background-color: #f0f8ff;}input.sk-toggleable__control:checked~div.sk-toggleable__content {max-height: 200px;max-width: 100%;overflow: auto;}div.sk-estimator input.sk-toggleable__control:checked~label.sk-toggleable__label {background-color: #d4ebff;}div.sk-label input.sk-toggleable__control:checked~label.sk-toggleable__label {background-color: #d4ebff;}input.sk-hidden--visually {border: 0;clip: rect(1px 1px 1px 1px);clip: rect(1px, 1px, 1px, 1px);height: 1px;margin: -1px;overflow: hidden;padding: 0;position: absolute;width: 1px;}div.sk-estimator {font-family: monospace;background-color: #f0f8ff;margin: 0.25em 0.25em;border: 1px dotted black;border-radius: 0.25em;box-sizing: border-box;}div.sk-estimator:hover {background-color: #d4ebff;}div.sk-parallel-item::after {content: \"\";width: 100%;border-bottom: 1px solid gray;flex-grow: 1;}div.sk-label:hover label.sk-toggleable__label {background-color: #d4ebff;}div.sk-serial::before {content: \"\";position: absolute;border-left: 1px solid gray;box-sizing: border-box;top: 2em;bottom: 0;left: 50%;}div.sk-serial {display: flex;flex-direction: column;align-items: center;background-color: white;}div.sk-item {z-index: 1;}div.sk-parallel {display: flex;align-items: stretch;justify-content: center;background-color: white;}div.sk-parallel-item {display: flex;flex-direction: column;position: relative;background-color: white;}div.sk-parallel-item:first-child::after {align-self: flex-end;width: 50%;}div.sk-parallel-item:last-child::after {align-self: flex-start;width: 50%;}div.sk-parallel-item:only-child::after {width: 0;}div.sk-dashed-wrapped {border: 1px dashed gray;margin: 0.2em;box-sizing: border-box;padding-bottom: 0.1em;background-color: white;position: relative;}div.sk-label label {font-family: monospace;font-weight: bold;background-color: white;display: inline-block;line-height: 1.2em;}div.sk-label-container {position: relative;z-index: 2;text-align: center;}div.sk-container {display: inline-block;position: relative;}</style><div class=\"sk-top-container\"><div class=\"sk-container\"><div class=\"sk-item sk-dashed-wrapped\"><div class=\"sk-label-container\"><div class=\"sk-label sk-toggleable\"><input class=\"sk-toggleable__control sk-hidden--visually\" id=\"b769234c-b9f0-4acf-88fc-b7bce7fa23fa\" type=\"checkbox\" ><label class=\"sk-toggleable__label\" for=\"b769234c-b9f0-4acf-88fc-b7bce7fa23fa\">Pipeline</label><div class=\"sk-toggleable__content\"><pre>Pipeline(steps=[('columntransformer',\n",
       "                 ColumnTransformer(transformers=[('onehotencoder',\n",
       "                                                  OneHotEncoder(),\n",
       "                                                  <sklearn.compose._column_transformer.make_column_selector object at 0x7fa6225a1250>),\n",
       "                                                 ('standardscaler',\n",
       "                                                  StandardScaler(),\n",
       "                                                  <sklearn.compose._column_transformer.make_column_selector object at 0x7fa6225a1a90>)])),\n",
       "                ('adaboostclassifier', AdaBoostClassifier())])</pre></div></div></div><div class=\"sk-serial\"><div class=\"sk-item sk-dashed-wrapped\"><div class=\"sk-label-container\"><div class=\"sk-label sk-toggleable\"><input class=\"sk-toggleable__control sk-hidden--visually\" id=\"d1125426-f153-481b-82cd-9c54bfcef2d7\" type=\"checkbox\" ><label class=\"sk-toggleable__label\" for=\"d1125426-f153-481b-82cd-9c54bfcef2d7\">columntransformer: ColumnTransformer</label><div class=\"sk-toggleable__content\"><pre>ColumnTransformer(transformers=[('onehotencoder', OneHotEncoder(),\n",
       "                                 <sklearn.compose._column_transformer.make_column_selector object at 0x7fa6225a1250>),\n",
       "                                ('standardscaler', StandardScaler(),\n",
       "                                 <sklearn.compose._column_transformer.make_column_selector object at 0x7fa6225a1a90>)])</pre></div></div></div><div class=\"sk-parallel\"><div class=\"sk-parallel-item\"><div class=\"sk-item\"><div class=\"sk-label-container\"><div class=\"sk-label sk-toggleable\"><input class=\"sk-toggleable__control sk-hidden--visually\" id=\"5199b296-83bc-4cbd-9ee8-ff9bae54f4c6\" type=\"checkbox\" ><label class=\"sk-toggleable__label\" for=\"5199b296-83bc-4cbd-9ee8-ff9bae54f4c6\">onehotencoder</label><div class=\"sk-toggleable__content\"><pre><sklearn.compose._column_transformer.make_column_selector object at 0x7fa6225a1250></pre></div></div></div><div class=\"sk-serial\"><div class=\"sk-item\"><div class=\"sk-estimator sk-toggleable\"><input class=\"sk-toggleable__control sk-hidden--visually\" id=\"92ad5ec9-0000-4237-9641-8afb0dcf40da\" type=\"checkbox\" ><label class=\"sk-toggleable__label\" for=\"92ad5ec9-0000-4237-9641-8afb0dcf40da\">OneHotEncoder</label><div class=\"sk-toggleable__content\"><pre>OneHotEncoder()</pre></div></div></div></div></div></div><div class=\"sk-parallel-item\"><div class=\"sk-item\"><div class=\"sk-label-container\"><div class=\"sk-label sk-toggleable\"><input class=\"sk-toggleable__control sk-hidden--visually\" id=\"bf690841-1f38-485a-9304-ecd4610b1d68\" type=\"checkbox\" ><label class=\"sk-toggleable__label\" for=\"bf690841-1f38-485a-9304-ecd4610b1d68\">standardscaler</label><div class=\"sk-toggleable__content\"><pre><sklearn.compose._column_transformer.make_column_selector object at 0x7fa6225a1a90></pre></div></div></div><div class=\"sk-serial\"><div class=\"sk-item\"><div class=\"sk-estimator sk-toggleable\"><input class=\"sk-toggleable__control sk-hidden--visually\" id=\"d9ce552a-602b-4eb0-933c-6c8bceadfd18\" type=\"checkbox\" ><label class=\"sk-toggleable__label\" for=\"d9ce552a-602b-4eb0-933c-6c8bceadfd18\">StandardScaler</label><div class=\"sk-toggleable__content\"><pre>StandardScaler()</pre></div></div></div></div></div></div></div></div><div class=\"sk-item\"><div class=\"sk-estimator sk-toggleable\"><input class=\"sk-toggleable__control sk-hidden--visually\" id=\"f3b20060-a765-4e6f-b078-6c3e582bc518\" type=\"checkbox\" ><label class=\"sk-toggleable__label\" for=\"f3b20060-a765-4e6f-b078-6c3e582bc518\">AdaBoostClassifier</label><div class=\"sk-toggleable__content\"><pre>AdaBoostClassifier()</pre></div></div></div></div></div></div></div>"
      ],
      "text/plain": [
       "Pipeline(steps=[('columntransformer',\n",
       "                 ColumnTransformer(transformers=[('onehotencoder',\n",
       "                                                  OneHotEncoder(),\n",
       "                                                  <sklearn.compose._column_transformer.make_column_selector object at 0x7fa6225a1250>),\n",
       "                                                 ('standardscaler',\n",
       "                                                  StandardScaler(),\n",
       "                                                  <sklearn.compose._column_transformer.make_column_selector object at 0x7fa6225a1a90>)])),\n",
       "                ('adaboostclassifier', AdaBoostClassifier())])"
      ]
     },
     "execution_count": 49,
     "metadata": {},
     "output_type": "execute_result"
    }
   ],
   "source": [
    "# make the pipeline\n",
    "ct = make_column_transformer(\n",
    "    (OneHotEncoder(), make_column_selector(dtype_include=\"category\")),\n",
    "    (StandardScaler(), make_column_selector(dtype_include=\"number\")),\n",
    ") \n",
    "\n",
    "pl = make_pipeline(ct, AdaBoostClassifier())\n",
    "\n",
    "# train the pipeline/model\n",
    "pl.fit(X_train_balanced, y_train_balanced)"
   ]
  },
  {
   "cell_type": "markdown",
   "metadata": {},
   "source": [
    "## predict + evaluate"
   ]
  },
  {
   "cell_type": "code",
   "execution_count": 50,
   "metadata": {},
   "outputs": [
    {
     "name": "stdout",
     "output_type": "stream",
     "text": [
      "              precision    recall  f1-score   support\n",
      "\n",
      "           0       0.97      0.82      0.88       477\n",
      "           1       0.09      0.39      0.15        23\n",
      "\n",
      "    accuracy                           0.80       500\n",
      "   macro avg       0.53      0.60      0.52       500\n",
      "weighted avg       0.93      0.80      0.85       500\n",
      "\n"
     ]
    }
   ],
   "source": [
    "# make prediction\n",
    "y_hat = pl.predict(X_test.head(500))\n",
    "\n",
    "# evaluate\n",
    "print(classification_report(y_test.head(500), y_hat))"
   ]
  },
  {
   "cell_type": "markdown",
   "metadata": {},
   "source": [
    "## extract feature names pl"
   ]
  },
  {
   "cell_type": "code",
   "execution_count": 28,
   "metadata": {},
   "outputs": [],
   "source": [
    "# get the feature names from pipeline\n",
    "def get_feature_names(sklobj, feature_names=[]):\n",
    "\n",
    "    if isinstance(sklobj, Pipeline):\n",
    "        for name, step in sklobj.steps:\n",
    "            get_feature_names(step, feature_names)\n",
    "    elif isinstance(sklobj, ColumnTransformer):\n",
    "        for name, transformer, columns in sklobj.transformers_:\n",
    "            feature_names += get_feature_names(transformer, columns)\n",
    "    elif isinstance(sklobj, OneHotEncoder):\n",
    "        feature_names = sklobj.get_feature_names(feature_names).tolist()\n",
    "    elif isinstance(sklobj, str):\n",
    "        if sklobj == \"passthrough\":\n",
    "            pass\n",
    "        elif sklobj == \"drop\":\n",
    "            feature_names = []\n",
    "            \n",
    "    return feature_names"
   ]
  },
  {
   "cell_type": "code",
   "execution_count": 29,
   "metadata": {
    "scrolled": false
   },
   "outputs": [
    {
     "data": {
      "text/plain": [
       "['t0_year_April 2016 - April 2017',\n",
       " 't0_year_April 2017 - April 2018',\n",
       " 't0_year_April 2018 - April 2019',\n",
       " 't0_year_April 2019 - April 2020',\n",
       " 't0_age_band_20 to 29',\n",
       " 't0_age_band_30 to 39',\n",
       " 't0_age_band_40 to 49',\n",
       " 't0_age_band_50 to 59',\n",
       " 't0_age_band_60 to 69',\n",
       " 't0_age_band_70 to 79',\n",
       " 't0_age_band_80 to 89',\n",
       " 't0_age_band_90 to 120',\n",
       " 't0_gender_female',\n",
       " 't0_gender_male',\n",
       " 't0_assisted_missing',\n",
       " 't0_assisted_no',\n",
       " 't0_assisted_yes',\n",
       " 't0_symptom_period_1 to 5 years',\n",
       " 't0_symptom_period_6 to 10 years',\n",
       " 't0_symptom_period_less than 1 year',\n",
       " 't0_symptom_period_missing',\n",
       " 't0_symptom_period_more than 10 years',\n",
       " 't0_previous_surgery_missing',\n",
       " 't0_previous_surgery_no',\n",
       " 't0_previous_surgery_yes',\n",
       " 't0_living_arrangements_alone',\n",
       " 't0_living_arrangements_in a nursing home, hospital or other long-term care home',\n",
       " 't0_living_arrangements_missing',\n",
       " 't0_living_arrangements_other',\n",
       " 't0_living_arrangements_with partner / spouse / family / friends',\n",
       " 't0_disability_missing',\n",
       " 't0_disability_no',\n",
       " 't0_disability_yes',\n",
       " 't0_heart_disease_missing',\n",
       " 't0_heart_disease_yes',\n",
       " 't0_high_bp_missing',\n",
       " 't0_high_bp_yes',\n",
       " 't0_stroke_missing',\n",
       " 't0_stroke_yes',\n",
       " 't0_circulation_missing',\n",
       " 't0_circulation_yes',\n",
       " 't0_lung_disease_missing',\n",
       " 't0_lung_disease_yes',\n",
       " 't0_diabetes_missing',\n",
       " 't0_diabetes_yes',\n",
       " 't0_kidney_disease_missing',\n",
       " 't0_kidney_disease_yes',\n",
       " 't0_nervous_system_missing',\n",
       " 't0_nervous_system_yes',\n",
       " 't0_liver_disease_missing',\n",
       " 't0_liver_disease_yes',\n",
       " 't0_cancer_missing',\n",
       " 't0_cancer_yes',\n",
       " 't0_depression_missing',\n",
       " 't0_depression_yes',\n",
       " 't0_arthritis_missing',\n",
       " 't0_arthritis_yes',\n",
       " 't0_eq5d_mobility_no problems',\n",
       " 't0_eq5d_mobility_severe problems',\n",
       " 't0_eq5d_mobility_some problems',\n",
       " 't0_eq5d_self_care_no problems',\n",
       " 't0_eq5d_self_care_severe problems',\n",
       " 't0_eq5d_self_care_some problems',\n",
       " 't0_eq5d_activity_no problems',\n",
       " 't0_eq5d_activity_severe problems',\n",
       " 't0_eq5d_activity_some problems',\n",
       " 't0_eq5d_discomfort_no problems',\n",
       " 't0_eq5d_discomfort_severe problems',\n",
       " 't0_eq5d_discomfort_some problems',\n",
       " 't0_eq5d_anxiety_no problems',\n",
       " 't0_eq5d_anxiety_severe problems',\n",
       " 't0_eq5d_anxiety_some problems',\n",
       " 't0_ohs_pain_all of the time',\n",
       " 't0_ohs_pain_most of the time',\n",
       " 't0_ohs_pain_often, not just at first',\n",
       " 't0_ohs_pain_rarely/never',\n",
       " 't0_ohs_pain_sometimes or just at first',\n",
       " 't0_ohs_sudden_pain_all of the time',\n",
       " 't0_ohs_sudden_pain_most of the time',\n",
       " 't0_ohs_sudden_pain_often, not just at first',\n",
       " 't0_ohs_sudden_pain_rarely/never',\n",
       " 't0_ohs_sudden_pain_sometimes or just at first',\n",
       " 't0_ohs_night_pain_all of the time',\n",
       " 't0_ohs_night_pain_most of the time',\n",
       " 't0_ohs_night_pain_often, not just at first',\n",
       " 't0_ohs_night_pain_rarely/never',\n",
       " 't0_ohs_night_pain_sometimes or just at first',\n",
       " 't0_ohs_washing_all of the time',\n",
       " 't0_ohs_washing_most of the time',\n",
       " 't0_ohs_washing_often, not just at first',\n",
       " 't0_ohs_washing_rarely/never',\n",
       " 't0_ohs_washing_sometimes or just at first',\n",
       " 't0_ohs_transport_all of the time',\n",
       " 't0_ohs_transport_most of the time',\n",
       " 't0_ohs_transport_often, not just at first',\n",
       " 't0_ohs_transport_rarely/never',\n",
       " 't0_ohs_transport_sometimes or just at first',\n",
       " 't0_ohs_dressing_all of the time',\n",
       " 't0_ohs_dressing_most of the time',\n",
       " 't0_ohs_dressing_often, not just at first',\n",
       " 't0_ohs_dressing_rarely/never',\n",
       " 't0_ohs_dressing_sometimes or just at first',\n",
       " 't0_ohs_shopping_all of the time',\n",
       " 't0_ohs_shopping_most of the time',\n",
       " 't0_ohs_shopping_often, not just at first',\n",
       " 't0_ohs_shopping_rarely/never',\n",
       " 't0_ohs_shopping_sometimes or just at first',\n",
       " 't0_ohs_walking_all of the time',\n",
       " 't0_ohs_walking_most of the time',\n",
       " 't0_ohs_walking_often, not just at first',\n",
       " 't0_ohs_walking_rarely/never',\n",
       " 't0_ohs_walking_sometimes or just at first',\n",
       " 't0_ohs_limping_all of the time',\n",
       " 't0_ohs_limping_most of the time',\n",
       " 't0_ohs_limping_often, not just at first',\n",
       " 't0_ohs_limping_rarely/never',\n",
       " 't0_ohs_limping_sometimes or just at first',\n",
       " 't0_ohs_stairs_all of the time',\n",
       " 't0_ohs_stairs_most of the time',\n",
       " 't0_ohs_stairs_often, not just at first',\n",
       " 't0_ohs_stairs_rarely/never',\n",
       " 't0_ohs_stairs_sometimes or just at first',\n",
       " 't0_ohs_standing_all of the time',\n",
       " 't0_ohs_standing_most of the time',\n",
       " 't0_ohs_standing_often, not just at first',\n",
       " 't0_ohs_standing_rarely/never',\n",
       " 't0_ohs_standing_sometimes or just at first',\n",
       " 't0_ohs_work_all of the time',\n",
       " 't0_ohs_work_most of the time',\n",
       " 't0_ohs_work_often, not just at first',\n",
       " 't0_ohs_work_rarely/never',\n",
       " 't0_ohs_work_sometimes or just at first',\n",
       " 't0_eq5d_score',\n",
       " 't0_eqvas_score',\n",
       " 't0_ohs_score']"
      ]
     },
     "execution_count": 29,
     "metadata": {},
     "output_type": "execute_result"
    }
   ],
   "source": [
    "get_feature_names(pl)"
   ]
  },
  {
   "cell_type": "code",
   "execution_count": 30,
   "metadata": {},
   "outputs": [],
   "source": [
    "# # this is slow ...\n",
    "# r = permutation_importance(pl, X_train.head(1_000), y_train.head(1_000), n_repeats=2, random_state=0)\n",
    "\n",
    "# feature_names = get_feature_names(pl)\n",
    "\n",
    "# for i in r.importances_mean.argsort()[::-1]:\n",
    "#     if r.importances_mean[i] - 2 * r.importances_std[i] > 0:\n",
    "#         print(f\"{feature_names[i]:<8}\"\n",
    "#         f\"{r.importances_mean[i]:.3f}\"\n",
    "#         f\" +/- {r.importances_std[i]:.3f}\")"
   ]
  },
  {
   "cell_type": "markdown",
   "metadata": {},
   "source": [
    "## a more advanced pipeline"
   ]
  },
  {
   "cell_type": "code",
   "execution_count": 31,
   "metadata": {},
   "outputs": [],
   "source": [
    "# TO DO ..."
   ]
  },
  {
   "cell_type": "markdown",
   "metadata": {},
   "source": [
    "## debug issue"
   ]
  },
  {
   "cell_type": "code",
   "execution_count": 32,
   "metadata": {},
   "outputs": [],
   "source": [
    "data = list(\"abcebdebca\")\n",
    "categories = list(\"abcd\")"
   ]
  },
  {
   "cell_type": "code",
   "execution_count": 33,
   "metadata": {},
   "outputs": [
    {
     "data": {
      "text/plain": [
       "0      a\n",
       "1      b\n",
       "2      c\n",
       "3    NaN\n",
       "4      b\n",
       "5      d\n",
       "6    NaN\n",
       "7      b\n",
       "8      c\n",
       "9      a\n",
       "dtype: category\n",
       "Categories (4, object): ['a' < 'b' < 'c' < 'd']"
      ]
     },
     "metadata": {},
     "output_type": "display_data"
    },
    {
     "data": {
      "text/plain": [
       "Index(['a', 'b', 'c', 'd'], dtype='object')"
      ]
     },
     "execution_count": 33,
     "metadata": {},
     "output_type": "execute_result"
    }
   ],
   "source": [
    "cats = pd.Categorical(data, categories=categories, ordered=True)\n",
    "s1 = pd.Series(cats)\n",
    "\n",
    "display(s1)\n",
    "s1.cat.categories"
   ]
  },
  {
   "cell_type": "code",
   "execution_count": 34,
   "metadata": {},
   "outputs": [
    {
     "data": {
      "text/plain": [
       "0      a\n",
       "1      b\n",
       "2      c\n",
       "3    NaN\n",
       "4      b\n",
       "5      d\n",
       "6    NaN\n",
       "7      b\n",
       "8      c\n",
       "9      a\n",
       "dtype: category\n",
       "Categories (4, object): ['a' < 'b' < 'c' < 'd']"
      ]
     },
     "metadata": {},
     "output_type": "display_data"
    },
    {
     "data": {
      "text/plain": [
       "Index(['a', 'b', 'c', 'd'], dtype='object')"
      ]
     },
     "execution_count": 34,
     "metadata": {},
     "output_type": "execute_result"
    }
   ],
   "source": [
    "from pandas.api.types import CategoricalDtype\n",
    "cat_type = CategoricalDtype(categories=categories, ordered=True)\n",
    "s2 = pd.Series(data).astype(cat_type)\n",
    "\n",
    "display(s2)\n",
    "s2.cat.categories"
   ]
  },
  {
   "cell_type": "code",
   "execution_count": 35,
   "metadata": {},
   "outputs": [
    {
     "data": {
      "text/plain": [
       "0    a\n",
       "1    b\n",
       "2    c\n",
       "3    e\n",
       "4    b\n",
       "5    d\n",
       "6    e\n",
       "7    b\n",
       "8    c\n",
       "9    a\n",
       "dtype: category\n",
       "Categories (5, object): ['a', 'b', 'c', 'd', 'e']"
      ]
     },
     "metadata": {},
     "output_type": "display_data"
    },
    {
     "data": {
      "text/plain": [
       "Index(['a', 'b', 'c', 'd', 'e'], dtype='object')"
      ]
     },
     "execution_count": 35,
     "metadata": {},
     "output_type": "execute_result"
    }
   ],
   "source": [
    "s3 = pd.Series(data).astype(\"category\")\n",
    "\n",
    "display(s3)\n",
    "s3.cat.categories"
   ]
  },
  {
   "cell_type": "code",
   "execution_count": null,
   "metadata": {},
   "outputs": [],
   "source": []
  }
 ],
 "metadata": {
  "hide_input": false,
  "kernelspec": {
   "display_name": "Python [conda env:jads]",
   "language": "python",
   "name": "conda-env-jads-py"
  },
  "language_info": {
   "codemirror_mode": {
    "name": "ipython",
    "version": 3
   },
   "file_extension": ".py",
   "mimetype": "text/x-python",
   "name": "python",
   "nbconvert_exporter": "python",
   "pygments_lexer": "ipython3",
   "version": "3.8.8"
  },
  "toc": {
   "base_numbering": 1,
   "nav_menu": {},
   "number_sections": true,
   "sideBar": true,
   "skip_h1_title": false,
   "title_cell": "Table of Contents",
   "title_sidebar": "Contents",
   "toc_cell": false,
   "toc_position": {
    "height": "calc(100% - 180px)",
    "left": "10px",
    "top": "150px",
    "width": "242.59375px"
   },
   "toc_section_display": true,
   "toc_window_display": true
  },
  "varInspector": {
   "cols": {
    "lenName": 16,
    "lenType": 16,
    "lenVar": 40
   },
   "kernels_config": {
    "python": {
     "delete_cmd_postfix": "",
     "delete_cmd_prefix": "del ",
     "library": "var_list.py",
     "varRefreshCmd": "print(var_dic_list())"
    },
    "r": {
     "delete_cmd_postfix": ") ",
     "delete_cmd_prefix": "rm(",
     "library": "var_list.r",
     "varRefreshCmd": "cat(var_dic_list()) "
    }
   },
   "types_to_exclude": [
    "module",
    "function",
    "builtin_function_or_method",
    "instance",
    "_Feature"
   ],
   "window_display": false
  }
 },
 "nbformat": 4,
 "nbformat_minor": 4
}
