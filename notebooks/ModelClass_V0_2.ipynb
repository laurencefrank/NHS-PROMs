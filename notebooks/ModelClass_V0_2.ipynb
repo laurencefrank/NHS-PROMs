{
 "cells": [
  {
   "cell_type": "markdown",
   "id": "killing-slope",
   "metadata": {},
   "source": [
    "### imports"
   ]
  },
  {
   "cell_type": "code",
   "execution_count": null,
   "id": "changing-psychiatry",
   "metadata": {},
   "outputs": [],
   "source": [
    "import sys\n",
    "import os\n",
    "\n",
    "sys.path.append(\"..\")\n",
    "\n",
    "from NHS_PROMs.master_class import PROMsModel\n",
    "from NHS_PROMs.settings import config"
   ]
  },
  {
   "cell_type": "markdown",
   "id": "surgical-aquatic",
   "metadata": {},
   "source": [
    "### train models"
   ]
  },
  {
   "cell_type": "code",
   "execution_count": null,
   "id": "executed-envelope",
   "metadata": {},
   "outputs": [],
   "source": [
    "%%time\n",
    "\n",
    "# ('s nachts trainen, tijdelijk slechts twee outputs actief (zie settings.py) + n_estimator=[2] (zie model.py)')\n",
    "for kind in [\"hip\", \"knee\"]:\n",
    "    PM = PROMsModel(kind=kind).train_models()\n",
    "    PM.classification_reports()\n",
    "    PM.save_models()"
   ]
  },
  {
   "cell_type": "markdown",
   "id": "forced-father",
   "metadata": {},
   "source": [
    "### show force plot"
   ]
  },
  {
   "cell_type": "code",
   "execution_count": null,
   "id": "guilty-ownership",
   "metadata": {},
   "outputs": [],
   "source": [
    "PM.force_plots()"
   ]
  }
 ],
 "metadata": {
  "hide_input": false,
  "kernelspec": {
   "display_name": "Python [conda env:jads] *",
   "language": "python",
   "name": "conda-env-jads-py"
  },
  "language_info": {
   "codemirror_mode": {
    "name": "ipython",
    "version": 3
   },
   "file_extension": ".py",
   "mimetype": "text/x-python",
   "name": "python",
   "nbconvert_exporter": "python",
   "pygments_lexer": "ipython3",
   "version": "3.8.8"
  }
 },
 "nbformat": 4,
 "nbformat_minor": 5
}
