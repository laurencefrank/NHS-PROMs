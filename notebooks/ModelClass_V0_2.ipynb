{
 "cells": [
  {
   "cell_type": "markdown",
   "id": "dirty-performer",
   "metadata": {},
   "source": [
    "# PROMs model for predicting post surgery expectations"
   ]
  },
  {
   "cell_type": "markdown",
   "id": "killing-slope",
   "metadata": {},
   "source": [
    "## Imports"
   ]
  },
  {
   "cell_type": "code",
   "execution_count": null,
   "id": "changing-psychiatry",
   "metadata": {},
   "outputs": [],
   "source": [
    "import sys\n",
    "sys.path.append(\"..\")\n",
    "\n",
    "from NHS_PROMs.master_class import PROMsModel\n",
    "# from NHS_PROMs.settings import config"
   ]
  },
  {
   "cell_type": "markdown",
   "id": "optimum-laser",
   "metadata": {},
   "source": [
    "## Load pretrained models"
   ]
  },
  {
   "cell_type": "code",
   "execution_count": null,
   "id": "quick-enough",
   "metadata": {},
   "outputs": [],
   "source": [
    "PM = PROMsModel(kind='hip').load_models()"
   ]
  },
  {
   "cell_type": "markdown",
   "id": "wicked-asthma",
   "metadata": {},
   "source": [
    "## Asses models"
   ]
  },
  {
   "cell_type": "code",
   "execution_count": null,
   "id": "existing-plastic",
   "metadata": {
    "scrolled": true
   },
   "outputs": [],
   "source": [
    "PM.classification_reports()"
   ]
  },
  {
   "cell_type": "code",
   "execution_count": null,
   "id": "practical-tolerance",
   "metadata": {},
   "outputs": [],
   "source": [
    "PM.confusion_plots()"
   ]
  },
  {
   "cell_type": "markdown",
   "id": "modular-fault",
   "metadata": {},
   "source": [
    "## Sample an X from the test set and predict"
   ]
  },
  {
   "cell_type": "code",
   "execution_count": null,
   "id": "analyzed-mustang",
   "metadata": {},
   "outputs": [],
   "source": [
    "df_data = PM.load_data(mode=\"test\").sample()\n",
    "X, Y = PM.split_XY(df_data)"
   ]
  },
  {
   "cell_type": "code",
   "execution_count": null,
   "id": "vocal-original",
   "metadata": {},
   "outputs": [],
   "source": [
    "PM.predict(X)"
   ]
  },
  {
   "cell_type": "code",
   "execution_count": null,
   "id": "brutal-begin",
   "metadata": {},
   "outputs": [],
   "source": [
    "PM.predict_proba(X)"
   ]
  },
  {
   "cell_type": "code",
   "execution_count": null,
   "id": "educational-separation",
   "metadata": {
    "scrolled": true
   },
   "outputs": [],
   "source": [
    "PM.force_plots(X)"
   ]
  },
  {
   "cell_type": "markdown",
   "id": "surgical-aquatic",
   "metadata": {},
   "source": [
    "## Train models"
   ]
  },
  {
   "cell_type": "code",
   "execution_count": null,
   "id": "executed-envelope",
   "metadata": {},
   "outputs": [],
   "source": [
    "# %%time\n",
    "\n",
    "# # ('s nachts trainen, tijdelijk slechts twee outputs actief (zie settings.py) + n_estimator=[2] (zie model.py)')\n",
    "# for kind in [\"hip\", \"knee\"]:\n",
    "#     PM = PROMsModel(kind=kind).train_models()\n",
    "#     PM.classification_reports()\n",
    "#     PM.save_models()"
   ]
  }
 ],
 "metadata": {
  "hide_input": false,
  "kernelspec": {
   "display_name": "Python [conda env:jads] *",
   "language": "python",
   "name": "conda-env-jads-py"
  },
  "language_info": {
   "codemirror_mode": {
    "name": "ipython",
    "version": 3
   },
   "file_extension": ".py",
   "mimetype": "text/x-python",
   "name": "python",
   "nbconvert_exporter": "python",
   "pygments_lexer": "ipython3",
   "version": "3.8.8"
  }
 },
 "nbformat": 4,
 "nbformat_minor": 5
}
