{
 "cells": [
  {
   "cell_type": "code",
   "execution_count": null,
   "id": "intense-person",
   "metadata": {},
   "outputs": [],
   "source": [
    "import sys\n",
    "import os\n",
    "\n",
    "sys.path.append(\"..\")\n",
    "\n",
    "from NHS_PROMs.master_class import PROMsModel"
   ]
  },
  {
   "cell_type": "code",
   "execution_count": null,
   "id": "numerical-france",
   "metadata": {},
   "outputs": [],
   "source": [
    "%%time\n",
    "\n",
    "# ('s nachts trainen, tijdelijk slechts twee outputs actief (zie settings.py) + n_estimator=[2] (zie model.py)')\n",
    "for kind in [\"hip\", \"knee\"]:\n",
    "    PM = PROMsModel(kind=kind).train_models()\n",
    "    PM.classification_reports()\n",
    "    PM.save_models()"
   ]
  },
  {
   "cell_type": "code",
   "execution_count": null,
   "id": "chemical-estonia",
   "metadata": {},
   "outputs": [],
   "source": [
    "PM.force_plots()"
   ]
  },
  {
   "cell_type": "code",
   "execution_count": null,
   "id": "hidden-census",
   "metadata": {},
   "outputs": [],
   "source": []
  }
 ],
 "metadata": {
  "hide_input": false,
  "kernelspec": {
   "display_name": "Python [conda env:jads] *",
   "language": "python",
   "name": "conda-env-jads-py"
  },
  "language_info": {
   "codemirror_mode": {
    "name": "ipython",
    "version": 3
   },
   "file_extension": ".py",
   "mimetype": "text/x-python",
   "name": "python",
   "nbconvert_exporter": "python",
   "pygments_lexer": "ipython3",
   "version": "3.8.8"
  }
 },
 "nbformat": 4,
 "nbformat_minor": 5
}
