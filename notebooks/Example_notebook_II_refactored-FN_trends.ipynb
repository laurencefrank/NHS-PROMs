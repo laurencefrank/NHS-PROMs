{
 "cells": [
  {
   "cell_type": "markdown",
   "metadata": {},
   "source": [
    "# Refactored notebook for modelling"
   ]
  },
  {
   "cell_type": "markdown",
   "metadata": {},
   "source": [
    "## imports"
   ]
  },
  {
   "cell_type": "code",
   "execution_count": 18,
   "metadata": {},
   "outputs": [],
   "source": [
    "import sys\n",
    "\n",
    "sys.path.append(\"..\")\n",
    "\n",
    "import numpy as np\n",
    "import pandas as pd\n",
    "import warnings\n",
    "import re\n",
    "\n",
    "from NHS_PROMs.load_data import load_proms, structure_name\n",
    "from NHS_PROMs.preprocess import filter_in_range, filter_in_labels, method_delta\n",
    "from NHS_PROMs.utils import downcast, map_labels\n",
    "from NHS_PROMs.data_dictionary import meta_dict\n",
    "\n",
    "from sklearn.model_selection import train_test_split\n",
    "from sklearn.compose import make_column_selector\n",
    "from sklearn.pipeline import Pipeline, make_pipeline\n",
    "from sklearn.compose import ColumnTransformer, make_column_transformer, make_column_selector\n",
    "from sklearn.preprocessing import OneHotEncoder, StandardScaler\n",
    "from sklearn.neighbors import KNeighborsClassifier\n",
    "from sklearn.metrics import classification_report\n",
    "from sklearn.inspection import permutation_importance\n",
    "from sklearn import set_config\n",
    "set_config(display='diagram')\n",
    "\n",
    "from imblearn.over_sampling import SMOTENC\n",
    "import matplotlib.pyplot as plt\n",
    "import seaborn as sns"
   ]
  },
  {
   "cell_type": "markdown",
   "metadata": {},
   "source": [
    "## load data\n",
    "General approach is not DRY for the sake of availability of having knee and hip df's always at hand, but also keep it readable (script-wise)."
   ]
  },
  {
   "cell_type": "code",
   "execution_count": 2,
   "metadata": {},
   "outputs": [
    {
     "data": {
      "text/html": [
       "<div>\n",
       "<style scoped>\n",
       "    .dataframe tbody tr th:only-of-type {\n",
       "        vertical-align: middle;\n",
       "    }\n",
       "\n",
       "    .dataframe tbody tr th {\n",
       "        vertical-align: top;\n",
       "    }\n",
       "\n",
       "    .dataframe thead th {\n",
       "        text-align: right;\n",
       "    }\n",
       "</style>\n",
       "<table border=\"1\" class=\"dataframe\">\n",
       "  <thead>\n",
       "    <tr style=\"text-align: right;\">\n",
       "      <th></th>\n",
       "      <th>t0_provider_code</th>\n",
       "      <th>t0_procedure</th>\n",
       "      <th>t0_revision_flag</th>\n",
       "      <th>t0_year</th>\n",
       "      <th>t0_age_band</th>\n",
       "      <th>t0_gender</th>\n",
       "      <th>t0_assisted</th>\n",
       "      <th>t0_assisted_by</th>\n",
       "      <th>t0_symptom_period</th>\n",
       "      <th>t0_previous_surgery</th>\n",
       "      <th>...</th>\n",
       "      <th>t1_ohs_transport</th>\n",
       "      <th>t1_ohs_dressing</th>\n",
       "      <th>t1_ohs_shopping</th>\n",
       "      <th>t1_ohs_walking</th>\n",
       "      <th>t1_ohs_limping</th>\n",
       "      <th>t1_ohs_stairs</th>\n",
       "      <th>t1_ohs_standing</th>\n",
       "      <th>t1_ohs_work</th>\n",
       "      <th>t1_ohs_score</th>\n",
       "      <th>t1_ohs_predicted</th>\n",
       "    </tr>\n",
       "  </thead>\n",
       "  <tbody>\n",
       "    <tr>\n",
       "      <th>23784</th>\n",
       "      <td>RL1</td>\n",
       "      <td>Hip Replacement</td>\n",
       "      <td>0</td>\n",
       "      <td>2017/18</td>\n",
       "      <td>70 to 79</td>\n",
       "      <td>2.0</td>\n",
       "      <td>2</td>\n",
       "      <td>0</td>\n",
       "      <td>1</td>\n",
       "      <td>2</td>\n",
       "      <td>...</td>\n",
       "      <td>4</td>\n",
       "      <td>4</td>\n",
       "      <td>4</td>\n",
       "      <td>4</td>\n",
       "      <td>4</td>\n",
       "      <td>4</td>\n",
       "      <td>4</td>\n",
       "      <td>4</td>\n",
       "      <td>44.0</td>\n",
       "      <td>36.988914</td>\n",
       "    </tr>\n",
       "    <tr>\n",
       "      <th>10407</th>\n",
       "      <td>NV302</td>\n",
       "      <td>Hip Replacement</td>\n",
       "      <td>0</td>\n",
       "      <td>2018/19</td>\n",
       "      <td>70 to 79</td>\n",
       "      <td>2.0</td>\n",
       "      <td>1</td>\n",
       "      <td>0</td>\n",
       "      <td>1</td>\n",
       "      <td>2</td>\n",
       "      <td>...</td>\n",
       "      <td>3</td>\n",
       "      <td>4</td>\n",
       "      <td>3</td>\n",
       "      <td>4</td>\n",
       "      <td>4</td>\n",
       "      <td>3</td>\n",
       "      <td>4</td>\n",
       "      <td>4</td>\n",
       "      <td>45.0</td>\n",
       "      <td>36.384800</td>\n",
       "    </tr>\n",
       "    <tr>\n",
       "      <th>10732</th>\n",
       "      <td>NVC15</td>\n",
       "      <td>Hip Replacement</td>\n",
       "      <td>0</td>\n",
       "      <td>2017/18</td>\n",
       "      <td>80 to 89</td>\n",
       "      <td>2.0</td>\n",
       "      <td>2</td>\n",
       "      <td>0</td>\n",
       "      <td>2</td>\n",
       "      <td>2</td>\n",
       "      <td>...</td>\n",
       "      <td>3</td>\n",
       "      <td>3</td>\n",
       "      <td>4</td>\n",
       "      <td>2</td>\n",
       "      <td>3</td>\n",
       "      <td>3</td>\n",
       "      <td>3</td>\n",
       "      <td>3</td>\n",
       "      <td>36.0</td>\n",
       "      <td>42.068707</td>\n",
       "    </tr>\n",
       "  </tbody>\n",
       "</table>\n",
       "<p>3 rows × 81 columns</p>\n",
       "</div>"
      ],
      "text/plain": [
       "      t0_provider_code     t0_procedure  t0_revision_flag  t0_year  \\\n",
       "23784              RL1  Hip Replacement                 0  2017/18   \n",
       "10407            NV302  Hip Replacement                 0  2018/19   \n",
       "10732            NVC15  Hip Replacement                 0  2017/18   \n",
       "\n",
       "      t0_age_band  t0_gender  t0_assisted  t0_assisted_by  t0_symptom_period  \\\n",
       "23784    70 to 79        2.0            2               0                  1   \n",
       "10407    70 to 79        2.0            1               0                  1   \n",
       "10732    80 to 89        2.0            2               0                  2   \n",
       "\n",
       "       t0_previous_surgery  ...  t1_ohs_transport  t1_ohs_dressing  \\\n",
       "23784                    2  ...                 4                4   \n",
       "10407                    2  ...                 3                4   \n",
       "10732                    2  ...                 3                3   \n",
       "\n",
       "       t1_ohs_shopping  t1_ohs_walking  t1_ohs_limping  t1_ohs_stairs  \\\n",
       "23784                4               4               4              4   \n",
       "10407                3               4               4              3   \n",
       "10732                4               2               3              3   \n",
       "\n",
       "       t1_ohs_standing  t1_ohs_work  t1_ohs_score  t1_ohs_predicted  \n",
       "23784                4            4          44.0         36.988914  \n",
       "10407                4            4          45.0         36.384800  \n",
       "10732                3            3          36.0         42.068707  \n",
       "\n",
       "[3 rows x 81 columns]"
      ]
     },
     "execution_count": 2,
     "metadata": {},
     "output_type": "execute_result"
    }
   ],
   "source": [
    "# load data + rename columns with structired name\n",
    "# df_knee_raw = load_proms(part=\"knee\").apply(downcast).rename(structure_name, axis=1)\n",
    "df_hip_raw = load_proms(part=\"hip\").apply(downcast).rename(structure_name, axis=1)\n",
    "\n",
    "# get meta data for each\n",
    "full_meta = {t + k: v for k, v in meta_dict.items() for t in [\"t0_\", \"t1_\"]}\n",
    "hip_meta = {k: v for k, v in full_meta.items() if k in df_hip_raw.columns}\n",
    "\n",
    "df_hip_raw.sample(3)"
   ]
  },
  {
   "cell_type": "markdown",
   "metadata": {},
   "source": [
    "## basic cleaning"
   ]
  },
  {
   "cell_type": "code",
   "execution_count": 3,
   "metadata": {},
   "outputs": [],
   "source": [
    "endings = (\n",
    "    \"code\",\n",
    "    \"procedure\",\n",
    "    \"revision_flag\",\n",
    "    \"assisted_by\",\n",
    "    \"profile\",\n",
    "    \"predicted\",\n",
    ")\n",
    "cols2drop = [c for c in df_hip_raw.columns if c.endswith(endings)]"
   ]
  },
  {
   "cell_type": "code",
   "execution_count": 4,
   "metadata": {
    "scrolled": false
   },
   "outputs": [
    {
     "name": "stdout",
     "output_type": "stream",
     "text": [
      "CPU times: user 1.12 s, sys: 128 ms, total: 1.25 s\n",
      "Wall time: 1.5 s\n"
     ]
    },
    {
     "data": {
      "text/html": [
       "<div>\n",
       "<style scoped>\n",
       "    .dataframe tbody tr th:only-of-type {\n",
       "        vertical-align: middle;\n",
       "    }\n",
       "\n",
       "    .dataframe tbody tr th {\n",
       "        vertical-align: top;\n",
       "    }\n",
       "\n",
       "    .dataframe thead th {\n",
       "        text-align: right;\n",
       "    }\n",
       "</style>\n",
       "<table border=\"1\" class=\"dataframe\">\n",
       "  <thead>\n",
       "    <tr style=\"text-align: right;\">\n",
       "      <th></th>\n",
       "      <th>t0_year</th>\n",
       "      <th>t0_age_band</th>\n",
       "      <th>t0_gender</th>\n",
       "      <th>t0_assisted</th>\n",
       "      <th>t0_symptom_period</th>\n",
       "      <th>t0_previous_surgery</th>\n",
       "      <th>t0_living_arrangements</th>\n",
       "      <th>t0_disability</th>\n",
       "      <th>t0_heart_disease</th>\n",
       "      <th>t0_high_bp</th>\n",
       "      <th>...</th>\n",
       "      <th>t1_ohs_washing</th>\n",
       "      <th>t1_ohs_transport</th>\n",
       "      <th>t1_ohs_dressing</th>\n",
       "      <th>t1_ohs_shopping</th>\n",
       "      <th>t1_ohs_walking</th>\n",
       "      <th>t1_ohs_limping</th>\n",
       "      <th>t1_ohs_stairs</th>\n",
       "      <th>t1_ohs_standing</th>\n",
       "      <th>t1_ohs_work</th>\n",
       "      <th>t1_ohs_score</th>\n",
       "    </tr>\n",
       "  </thead>\n",
       "  <tbody>\n",
       "    <tr>\n",
       "      <th>44075</th>\n",
       "      <td>April 2016 - April 2017</td>\n",
       "      <td>70 to 79</td>\n",
       "      <td>male</td>\n",
       "      <td>no</td>\n",
       "      <td>more than 10 years</td>\n",
       "      <td>no</td>\n",
       "      <td>with partner / spouse / family / friends</td>\n",
       "      <td>yes</td>\n",
       "      <td>missing</td>\n",
       "      <td>missing</td>\n",
       "      <td>...</td>\n",
       "      <td>rarely/never</td>\n",
       "      <td>rarely/never</td>\n",
       "      <td>sometimes or just at first</td>\n",
       "      <td>rarely/never</td>\n",
       "      <td>rarely/never</td>\n",
       "      <td>sometimes or just at first</td>\n",
       "      <td>rarely/never</td>\n",
       "      <td>rarely/never</td>\n",
       "      <td>rarely/never</td>\n",
       "      <td>44.0</td>\n",
       "    </tr>\n",
       "    <tr>\n",
       "      <th>29970</th>\n",
       "      <td>April 2017 - April 2018</td>\n",
       "      <td>50 to 59</td>\n",
       "      <td>female</td>\n",
       "      <td>no</td>\n",
       "      <td>more than 10 years</td>\n",
       "      <td>no</td>\n",
       "      <td>with partner / spouse / family / friends</td>\n",
       "      <td>no</td>\n",
       "      <td>missing</td>\n",
       "      <td>missing</td>\n",
       "      <td>...</td>\n",
       "      <td>sometimes or just at first</td>\n",
       "      <td>sometimes or just at first</td>\n",
       "      <td>sometimes or just at first</td>\n",
       "      <td>rarely/never</td>\n",
       "      <td>rarely/never</td>\n",
       "      <td>sometimes or just at first</td>\n",
       "      <td>sometimes or just at first</td>\n",
       "      <td>sometimes or just at first</td>\n",
       "      <td>sometimes or just at first</td>\n",
       "      <td>35.0</td>\n",
       "    </tr>\n",
       "    <tr>\n",
       "      <th>40134</th>\n",
       "      <td>April 2018 - April 2019</td>\n",
       "      <td>60 to 69</td>\n",
       "      <td>female</td>\n",
       "      <td>no</td>\n",
       "      <td>1 to 5 years</td>\n",
       "      <td>no</td>\n",
       "      <td>alone</td>\n",
       "      <td>yes</td>\n",
       "      <td>missing</td>\n",
       "      <td>missing</td>\n",
       "      <td>...</td>\n",
       "      <td>rarely/never</td>\n",
       "      <td>sometimes or just at first</td>\n",
       "      <td>rarely/never</td>\n",
       "      <td>sometimes or just at first</td>\n",
       "      <td>rarely/never</td>\n",
       "      <td>sometimes or just at first</td>\n",
       "      <td>sometimes or just at first</td>\n",
       "      <td>sometimes or just at first</td>\n",
       "      <td>often, not just at first</td>\n",
       "      <td>39.0</td>\n",
       "    </tr>\n",
       "  </tbody>\n",
       "</table>\n",
       "<p>3 rows × 71 columns</p>\n",
       "</div>"
      ],
      "text/plain": [
       "                       t0_year t0_age_band t0_gender t0_assisted  \\\n",
       "44075  April 2016 - April 2017    70 to 79      male          no   \n",
       "29970  April 2017 - April 2018    50 to 59    female          no   \n",
       "40134  April 2018 - April 2019    60 to 69    female          no   \n",
       "\n",
       "        t0_symptom_period t0_previous_surgery  \\\n",
       "44075  more than 10 years                  no   \n",
       "29970  more than 10 years                  no   \n",
       "40134        1 to 5 years                  no   \n",
       "\n",
       "                         t0_living_arrangements t0_disability  \\\n",
       "44075  with partner / spouse / family / friends           yes   \n",
       "29970  with partner / spouse / family / friends            no   \n",
       "40134                                     alone           yes   \n",
       "\n",
       "      t0_heart_disease t0_high_bp  ...              t1_ohs_washing  \\\n",
       "44075          missing    missing  ...                rarely/never   \n",
       "29970          missing    missing  ...  sometimes or just at first   \n",
       "40134          missing    missing  ...                rarely/never   \n",
       "\n",
       "                 t1_ohs_transport             t1_ohs_dressing  \\\n",
       "44075                rarely/never  sometimes or just at first   \n",
       "29970  sometimes or just at first  sometimes or just at first   \n",
       "40134  sometimes or just at first                rarely/never   \n",
       "\n",
       "                  t1_ohs_shopping t1_ohs_walking              t1_ohs_limping  \\\n",
       "44075                rarely/never   rarely/never  sometimes or just at first   \n",
       "29970                rarely/never   rarely/never  sometimes or just at first   \n",
       "40134  sometimes or just at first   rarely/never  sometimes or just at first   \n",
       "\n",
       "                    t1_ohs_stairs             t1_ohs_standing  \\\n",
       "44075                rarely/never                rarely/never   \n",
       "29970  sometimes or just at first  sometimes or just at first   \n",
       "40134  sometimes or just at first  sometimes or just at first   \n",
       "\n",
       "                      t1_ohs_work t1_ohs_score  \n",
       "44075                rarely/never         44.0  \n",
       "29970  sometimes or just at first         35.0  \n",
       "40134    often, not just at first         39.0  \n",
       "\n",
       "[3 rows x 71 columns]"
      ]
     },
     "execution_count": 4,
     "metadata": {},
     "output_type": "execute_result"
    }
   ],
   "source": [
    "%%time\n",
    "df_hip_clean = (\n",
    "    df_hip_raw.apply(lambda s: filter_in_range(s, **hip_meta[s.name]))\n",
    "    .apply(lambda s: filter_in_labels(s, **hip_meta[s.name]))\n",
    "    .apply(lambda s: map_labels(s, **hip_meta[s.name]))\n",
    "    .query(\"t0_revision_flag == 'no revision'\")\n",
    "    .drop(columns=cols2drop)\n",
    "    #     .replace(\"missing\", np.nan)\n",
    ")\n",
    "\n",
    "df_hip_clean.sample(3)"
   ]
  },
  {
   "cell_type": "markdown",
   "metadata": {},
   "source": [
    "## split data"
   ]
  },
  {
   "cell_type": "code",
   "execution_count": null,
   "metadata": {},
   "outputs": [],
   "source": [
    "# split train + test set\n",
    "# df_knee_seen = df_knee_clean.query(\"t0_year != '2019/20'\")\n",
    "# df_knee_unseen = df_knee_clean.query(\"t0_year == '2019/20'\")\n",
    "\n",
    "# df_hip = df_hip_clean.query(\"t0_year != '2019/20'\")\n",
    "# df_hip_unseen = df_hip_clean.query(\"t0_year == '2019/20'\")\n",
    "\n",
    "# df_hip.sample(3)"
   ]
  },
  {
   "cell_type": "markdown",
   "metadata": {},
   "source": [
    "## create delta dataframes"
   ]
  },
  {
   "cell_type": "code",
   "execution_count": 32,
   "metadata": {},
   "outputs": [
    {
     "data": {
      "text/html": [
       "<div>\n",
       "<style scoped>\n",
       "    .dataframe tbody tr th:only-of-type {\n",
       "        vertical-align: middle;\n",
       "    }\n",
       "\n",
       "    .dataframe tbody tr th {\n",
       "        vertical-align: top;\n",
       "    }\n",
       "\n",
       "    .dataframe thead th {\n",
       "        text-align: right;\n",
       "    }\n",
       "</style>\n",
       "<table border=\"1\" class=\"dataframe\">\n",
       "  <thead>\n",
       "    <tr style=\"text-align: right;\">\n",
       "      <th></th>\n",
       "      <th>t0_year</th>\n",
       "      <th>t0_age_band</th>\n",
       "      <th>t0_gender</th>\n",
       "      <th>t0_assisted</th>\n",
       "      <th>t0_symptom_period</th>\n",
       "      <th>t0_previous_surgery</th>\n",
       "      <th>t0_living_arrangements</th>\n",
       "      <th>t0_disability</th>\n",
       "      <th>t0_heart_disease</th>\n",
       "      <th>t0_high_bp</th>\n",
       "      <th>...</th>\n",
       "      <th>delta_ohs_pain</th>\n",
       "      <th>delta_ohs_score</th>\n",
       "      <th>delta_ohs_shopping</th>\n",
       "      <th>delta_ohs_stairs</th>\n",
       "      <th>delta_ohs_standing</th>\n",
       "      <th>delta_ohs_sudden_pain</th>\n",
       "      <th>delta_ohs_transport</th>\n",
       "      <th>delta_ohs_walking</th>\n",
       "      <th>delta_ohs_washing</th>\n",
       "      <th>delta_ohs_work</th>\n",
       "    </tr>\n",
       "  </thead>\n",
       "  <tbody>\n",
       "    <tr>\n",
       "      <th>34937</th>\n",
       "      <td>April 2018 - April 2019</td>\n",
       "      <td>80 to 89</td>\n",
       "      <td>male</td>\n",
       "      <td>no</td>\n",
       "      <td>1 to 5 years</td>\n",
       "      <td>no</td>\n",
       "      <td>with partner / spouse / family / friends</td>\n",
       "      <td>yes</td>\n",
       "      <td>missing</td>\n",
       "      <td>yes</td>\n",
       "      <td>...</td>\n",
       "      <td>0</td>\n",
       "      <td>15.0</td>\n",
       "      <td>1</td>\n",
       "      <td>2</td>\n",
       "      <td>1</td>\n",
       "      <td>3</td>\n",
       "      <td>1</td>\n",
       "      <td>2</td>\n",
       "      <td>1</td>\n",
       "      <td>1</td>\n",
       "    </tr>\n",
       "    <tr>\n",
       "      <th>26772</th>\n",
       "      <td>April 2016 - April 2017</td>\n",
       "      <td>70 to 79</td>\n",
       "      <td>female</td>\n",
       "      <td>no</td>\n",
       "      <td>1 to 5 years</td>\n",
       "      <td>no</td>\n",
       "      <td>with partner / spouse / family / friends</td>\n",
       "      <td>yes</td>\n",
       "      <td>missing</td>\n",
       "      <td>missing</td>\n",
       "      <td>...</td>\n",
       "      <td>3</td>\n",
       "      <td>14.0</td>\n",
       "      <td>0</td>\n",
       "      <td>0</td>\n",
       "      <td>1</td>\n",
       "      <td>2</td>\n",
       "      <td>1</td>\n",
       "      <td>1</td>\n",
       "      <td>2</td>\n",
       "      <td>1</td>\n",
       "    </tr>\n",
       "    <tr>\n",
       "      <th>5931</th>\n",
       "      <td>April 2017 - April 2018</td>\n",
       "      <td>60 to 69</td>\n",
       "      <td>female</td>\n",
       "      <td>no</td>\n",
       "      <td>1 to 5 years</td>\n",
       "      <td>no</td>\n",
       "      <td>with partner / spouse / family / friends</td>\n",
       "      <td>yes</td>\n",
       "      <td>missing</td>\n",
       "      <td>missing</td>\n",
       "      <td>...</td>\n",
       "      <td>4</td>\n",
       "      <td>32.0</td>\n",
       "      <td>1</td>\n",
       "      <td>3</td>\n",
       "      <td>2</td>\n",
       "      <td>2</td>\n",
       "      <td>2</td>\n",
       "      <td>2</td>\n",
       "      <td>2</td>\n",
       "      <td>4</td>\n",
       "    </tr>\n",
       "    <tr>\n",
       "      <th>28636</th>\n",
       "      <td>April 2018 - April 2019</td>\n",
       "      <td>50 to 59</td>\n",
       "      <td>female</td>\n",
       "      <td>no</td>\n",
       "      <td>1 to 5 years</td>\n",
       "      <td>no</td>\n",
       "      <td>with partner / spouse / family / friends</td>\n",
       "      <td>yes</td>\n",
       "      <td>missing</td>\n",
       "      <td>missing</td>\n",
       "      <td>...</td>\n",
       "      <td>3</td>\n",
       "      <td>18.0</td>\n",
       "      <td>1</td>\n",
       "      <td>1</td>\n",
       "      <td>1</td>\n",
       "      <td>3</td>\n",
       "      <td>1</td>\n",
       "      <td>1</td>\n",
       "      <td>1</td>\n",
       "      <td>2</td>\n",
       "    </tr>\n",
       "    <tr>\n",
       "      <th>9861</th>\n",
       "      <td>April 2016 - April 2017</td>\n",
       "      <td>80 to 89</td>\n",
       "      <td>male</td>\n",
       "      <td>no</td>\n",
       "      <td>6 to 10 years</td>\n",
       "      <td>no</td>\n",
       "      <td>with partner / spouse / family / friends</td>\n",
       "      <td>no</td>\n",
       "      <td>missing</td>\n",
       "      <td>missing</td>\n",
       "      <td>...</td>\n",
       "      <td>3</td>\n",
       "      <td>20.0</td>\n",
       "      <td>0</td>\n",
       "      <td>1</td>\n",
       "      <td>2</td>\n",
       "      <td>1</td>\n",
       "      <td>3</td>\n",
       "      <td>2</td>\n",
       "      <td>2</td>\n",
       "      <td>1</td>\n",
       "    </tr>\n",
       "  </tbody>\n",
       "</table>\n",
       "<p>5 rows × 91 columns</p>\n",
       "</div>"
      ],
      "text/plain": [
       "                       t0_year t0_age_band t0_gender t0_assisted  \\\n",
       "34937  April 2018 - April 2019    80 to 89      male          no   \n",
       "26772  April 2016 - April 2017    70 to 79    female          no   \n",
       "5931   April 2017 - April 2018    60 to 69    female          no   \n",
       "28636  April 2018 - April 2019    50 to 59    female          no   \n",
       "9861   April 2016 - April 2017    80 to 89      male          no   \n",
       "\n",
       "      t0_symptom_period t0_previous_surgery  \\\n",
       "34937      1 to 5 years                  no   \n",
       "26772      1 to 5 years                  no   \n",
       "5931       1 to 5 years                  no   \n",
       "28636      1 to 5 years                  no   \n",
       "9861      6 to 10 years                  no   \n",
       "\n",
       "                         t0_living_arrangements t0_disability  \\\n",
       "34937  with partner / spouse / family / friends           yes   \n",
       "26772  with partner / spouse / family / friends           yes   \n",
       "5931   with partner / spouse / family / friends           yes   \n",
       "28636  with partner / spouse / family / friends           yes   \n",
       "9861   with partner / spouse / family / friends            no   \n",
       "\n",
       "      t0_heart_disease t0_high_bp  ... delta_ohs_pain delta_ohs_score  \\\n",
       "34937          missing        yes  ...              0            15.0   \n",
       "26772          missing    missing  ...              3            14.0   \n",
       "5931           missing    missing  ...              4            32.0   \n",
       "28636          missing    missing  ...              3            18.0   \n",
       "9861           missing    missing  ...              3            20.0   \n",
       "\n",
       "      delta_ohs_shopping delta_ohs_stairs delta_ohs_standing  \\\n",
       "34937                  1                2                  1   \n",
       "26772                  0                0                  1   \n",
       "5931                   1                3                  2   \n",
       "28636                  1                1                  1   \n",
       "9861                   0                1                  2   \n",
       "\n",
       "      delta_ohs_sudden_pain delta_ohs_transport delta_ohs_walking  \\\n",
       "34937                     3                   1                 2   \n",
       "26772                     2                   1                 1   \n",
       "5931                      2                   2                 2   \n",
       "28636                     3                   1                 1   \n",
       "9861                      1                   3                 2   \n",
       "\n",
       "      delta_ohs_washing delta_ohs_work  \n",
       "34937                 1              1  \n",
       "26772                 2              1  \n",
       "5931                  2              4  \n",
       "28636                 1              2  \n",
       "9861                  2              1  \n",
       "\n",
       "[5 rows x 91 columns]"
      ]
     },
     "execution_count": 32,
     "metadata": {},
     "output_type": "execute_result"
    }
   ],
   "source": [
    "df_org = df_hip_clean.apply(\n",
    "    lambda s: map_labels(s, backwards=True, **hip_meta[s.name])\n",
    ").apply(np.asarray)\n",
    "\n",
    "# df_knee_delta = method_delta(df_knee_train)\n",
    "df_hip_delta = method_delta(df_org)\n",
    "\n",
    "# now you could join them again with the original df ...\n",
    "# eg: df_hip_clean.join(df_hip_delta)\n",
    "df_hip_clean = df_hip_clean.join(df_hip_delta)\n",
    "df_hip_clean.sample(5)"
   ]
  },
  {
   "cell_type": "markdown",
   "metadata": {},
   "source": [
    "## Make feature set"
   ]
  },
  {
   "cell_type": "code",
   "execution_count": null,
   "metadata": {},
   "outputs": [],
   "source": [
    "# # print(len(df_hip), \"original\")\n",
    "# print(len(df_hip.dropna()), \"after possible total dropna\")\n",
    "# (df_hip.isna().sum() / len(df_hip)).sort_values(ascending=False).head(10)"
   ]
  },
  {
   "cell_type": "code",
   "execution_count": null,
   "metadata": {},
   "outputs": [],
   "source": [
    "# # remove NaNs from non categorical/ordinal columns (numerical)\n",
    "# print(len(df_hip), \"original\")\n",
    "# num_cols = df_hip.select_dtypes(exclude=\"category\").columns\n",
    "# df_hip = df_hip.dropna(subset=num_cols)\n",
    "\n",
    "# print(len(df_hip), \"after dropna on numerical\")\n",
    "# (df_hip.isna().sum() / len(df_hip)).sort_values(ascending=False).head(10)"
   ]
  },
  {
   "cell_type": "code",
   "execution_count": 21,
   "metadata": {},
   "outputs": [
    {
     "name": "stdout",
     "output_type": "stream",
     "text": [
      "<class 'pandas.core.frame.DataFrame'>\n",
      "Int64Index: 139251 entries, 0 to 21879\n",
      "Data columns (total 20 columns):\n",
      " #   Column                 Non-Null Count   Dtype  \n",
      "---  ------                 --------------   -----  \n",
      " 0   delta_eq5d_activity    139251 non-null  int64  \n",
      " 1   delta_eq5d_anxiety     139251 non-null  int64  \n",
      " 2   delta_eq5d_discomfort  139251 non-null  int64  \n",
      " 3   delta_eq5d_mobility    139251 non-null  int64  \n",
      " 4   delta_eq5d_score       126164 non-null  float32\n",
      " 5   delta_eq5d_self_care   139251 non-null  int64  \n",
      " 6   delta_eqvas_score      121304 non-null  float64\n",
      " 7   delta_ohs_dressing     139251 non-null  int64  \n",
      " 8   delta_ohs_limping      139251 non-null  int64  \n",
      " 9   delta_ohs_night_pain   139251 non-null  int64  \n",
      " 10  delta_ohs_pain         139251 non-null  int64  \n",
      " 11  delta_ohs_score        136249 non-null  float32\n",
      " 12  delta_ohs_shopping     139251 non-null  int64  \n",
      " 13  delta_ohs_stairs       139251 non-null  int64  \n",
      " 14  delta_ohs_standing     139251 non-null  int64  \n",
      " 15  delta_ohs_sudden_pain  139251 non-null  int64  \n",
      " 16  delta_ohs_transport    139251 non-null  int64  \n",
      " 17  delta_ohs_walking      139251 non-null  int64  \n",
      " 18  delta_ohs_washing      139251 non-null  int64  \n",
      " 19  delta_ohs_work         139251 non-null  int64  \n",
      "dtypes: float32(2), float64(1), int64(17)\n",
      "memory usage: 26.2 MB\n"
     ]
    }
   ],
   "source": [
    "df_hip_delta.info()"
   ]
  },
  {
   "cell_type": "code",
   "execution_count": 50,
   "metadata": {},
   "outputs": [
    {
     "data": {
      "image/png": "[encoded data removed]",
      "text/plain": [
       "<Figure size 1152x1440 with 10 Axes>"
      ]
     },
     "metadata": {
      "needs_background": "light"
     },
     "output_type": "display_data"
    }
   ],
   "source": [
    "fig, ax = plt.subplots(nrows=5, ncols=2, figsize=(16, 20))\n",
    "ax =ax.flatten()\n",
    "sns.boxplot(x=df_hip_clean[\"t0_year\"], y=df_hip_clean[\"t0_ohs_score\"], width=.8, ax=ax[0])\n",
    "sns.boxplot(x=df_hip_clean[\"t0_year\"], y=df_hip_clean[\"t1_ohs_score\"], width=.8, ax=ax[1])\n",
    "sns.boxplot(x=df_hip_clean[\"t0_year\"], y=df_hip_clean[\"t0_eq5d_score\"], width=.8, ax=ax[2])\n",
    "sns.boxplot(x=df_hip_clean[\"t0_year\"], y=df_hip_clean[\"t1_eq5d_score\"], width=.8, ax=ax[3])\n",
    "sns.boxplot(x=df_hip_clean[\"t0_year\"], y=df_hip_clean[\"t0_eqvas_score\"], width=.8, ax=ax[4])\n",
    "sns.boxplot(x=df_hip_clean[\"t0_year\"], y=df_hip_clean[\"t0_eqvas_score\"], width=.8, ax=ax[5])\n",
    "sns.boxplot(x=df_hip_clean[\"t0_year\"], y=df_hip_clean[\"delta_ohs_score\"], width=.8, ax=ax[6])\n",
    "sns.boxplot(x=df_hip_clean[\"t0_year\"], y=df_hip_clean[\"delta_eq5d_score\"], width=.8, ax=ax[7])\n",
    "sns.boxplot(x=df_hip_clean[\"t0_year\"], y=df_hip_clean[\"delta_eqvas_score\"], width=.8, ax=ax[8]);"
   ]
  },
  {
   "cell_type": "code",
   "execution_count": 16,
   "metadata": {},
   "outputs": [],
   "source": [
    "import statsmodels.api as sm\n",
    "from statsmodels.formula.api import ols"
   ]
  },
  {
   "cell_type": "code",
   "execution_count": 33,
   "metadata": {},
   "outputs": [
    {
     "name": "stdout",
     "output_type": "stream",
     "text": [
      "                df        sum_sq     mean_sq         F    PR(>F)\n",
      "t0_year        3.0  4.298766e+02  143.292195  1.466824  0.221343\n",
      "Residual  466316.0  4.555384e+07   97.688772       NaN       NaN\n"
     ]
    }
   ],
   "source": [
    "lm = ols(\"delta_ohs_score~t0_year\",data=df_hip_clean).fit()\n",
    "table = sm.stats.anova_lm(lm)\n",
    "print(table)"
   ]
  },
  {
   "cell_type": "code",
   "execution_count": 35,
   "metadata": {},
   "outputs": [
    {
     "name": "stdout",
     "output_type": "stream",
     "text": [
      "                df        sum_sq   mean_sq         F   PR(>F)\n",
      "t0_year        3.0      0.934265  0.311422  2.691964  0.04447\n",
      "Residual  431724.0  49944.314493  0.115686       NaN      NaN\n"
     ]
    }
   ],
   "source": [
    "lm = ols(\"delta_eq5d_score~t0_year\",data=df_hip_clean).fit()\n",
    "table = sm.stats.anova_lm(lm)\n",
    "print(table)"
   ]
  },
  {
   "cell_type": "code",
   "execution_count": 36,
   "metadata": {},
   "outputs": [
    {
     "name": "stdout",
     "output_type": "stream",
     "text": [
      "                df        sum_sq     mean_sq        F    PR(>F)\n",
      "t0_year        3.0  6.642000e+02  221.400001  0.38678  0.762531\n",
      "Residual  414970.0  2.375365e+08  572.418517      NaN       NaN\n"
     ]
    }
   ],
   "source": [
    "lm = ols(\"delta_eqvas_score~t0_year\",data=df_hip_clean).fit()\n",
    "table = sm.stats.anova_lm(lm)\n",
    "print(table)"
   ]
  },
  {
   "cell_type": "code",
   "execution_count": null,
   "metadata": {},
   "outputs": [],
   "source": [
    "# # Buggy: TO DO ...\n",
    "# s = df_hip[\"t0_age_band\"]\n",
    "\n",
    "# def fillna(s, value):\n",
    "#     if s.dtype == \"category\":\n",
    "#         print(\"is cat\")\n",
    "#         if value not in s.dtype.categories:\n",
    "#             print(value, \"not in cats\")\n",
    "#             display(s.dtype)\n",
    "# #             display(s.dtype.add_categories(value))\n",
    "#             s.add_categories(value, inplace=True)\n",
    "#             display(s.dtype)\n",
    "#     return s.fillna(value)\n",
    "\n",
    "# fillna(s, \"missing\")\n",
    "\n",
    "# # status before\n",
    "# display((df_hip.isna().sum() / len(df_hip)).sort_values(ascending=False).head(10))\n",
    "# print(len(df_hip), \"original\")\n",
    "\n",
    "# # remove NaNs from non categorical/ordinal columns (numerical)\n",
    "# num_cols = df_hip.select_dtypes(include=\"number\").columns\n",
    "# df_hip = df_hip.dropna(subset=num_cols).fillna(\"missing\")\n",
    "# print(len(df_hip), \"after dropna on numerical\")"
   ]
  },
  {
   "cell_type": "code",
   "execution_count": null,
   "metadata": {},
   "outputs": [],
   "source": [
    "df_hip = df_hip.dropna().sample(10_000) # dirty drop for the sake of testing pl\n",
    "\n",
    "# create x, y\n",
    "X = df_hip.filter(regex=\"t0\")\n",
    "y = (df_hip[\"t1_ohs_score\"] - df_hip[\"t0_ohs_score\"] <= 8).astype(int) # knee <= 7\n",
    "\n",
    "\n",
    "# create train, test\n",
    "X_train, X_test, y_train, y_test = train_test_split(\n",
    "    X, y, test_size=0.33, random_state=42, stratify=y\n",
    ")"
   ]
  },
  {
   "cell_type": "markdown",
   "metadata": {},
   "source": [
    "## show OHE"
   ]
  },
  {
   "cell_type": "code",
   "execution_count": null,
   "metadata": {},
   "outputs": [],
   "source": [
    "# example to show it works\n",
    "OHE = OneHotEncoder(sparse=False, dtype=\"uint8\")\n",
    "OHE.fit(X_train)\n",
    "\n",
    "pd.DataFrame(\n",
    "    data=OHE.transform(X_train),\n",
    "    index=X_train.index,\n",
    "    columns=OHE.get_feature_names(X_train.columns),\n",
    ")"
   ]
  },
  {
   "cell_type": "markdown",
   "metadata": {},
   "source": [
    "## make balanced"
   ]
  },
  {
   "cell_type": "code",
   "execution_count": null,
   "metadata": {},
   "outputs": [],
   "source": [
    "print(\"before:\")\n",
    "display(y_train.value_counts())\n",
    "\n",
    "cat_cols = X_train.dtypes == \"category\"\n",
    "\n",
    "resampler = SMOTENC(categorical_features=cat_cols.values)\n",
    "X_train_balanced, y_train_balanced = resampler.fit_resample(X_train, y_train)\n",
    "\n",
    "print(\"after:\")\n",
    "display(y_train_balanced.value_counts())"
   ]
  },
  {
   "cell_type": "markdown",
   "metadata": {},
   "source": [
    "## make + train a simple pipeline"
   ]
  },
  {
   "cell_type": "code",
   "execution_count": null,
   "metadata": {},
   "outputs": [],
   "source": [
    "# make the pipeline\n",
    "ct = make_column_transformer(\n",
    "    (OneHotEncoder(), make_column_selector(dtype_include=\"category\")),\n",
    "    (StandardScaler(), make_column_selector(dtype_include=\"number\")),\n",
    ") \n",
    "\n",
    "pl = make_pipeline(ct, KNeighborsClassifier())\n",
    "\n",
    "# train the pipeline/model\n",
    "pl.fit(X_train_balanced, y_train_balanced)"
   ]
  },
  {
   "cell_type": "markdown",
   "metadata": {},
   "source": [
    "## predict + evaluate"
   ]
  },
  {
   "cell_type": "code",
   "execution_count": null,
   "metadata": {},
   "outputs": [],
   "source": [
    "# make prediction\n",
    "y_hat = pl.predict(X_test.head(500))\n",
    "\n",
    "# evaluate\n",
    "print(classification_report(y_test.head(500), y_hat))"
   ]
  },
  {
   "cell_type": "markdown",
   "metadata": {},
   "source": [
    "## extract feature names pl"
   ]
  },
  {
   "cell_type": "code",
   "execution_count": null,
   "metadata": {},
   "outputs": [],
   "source": [
    "# get the feature names from pipeline\n",
    "def get_feature_names(sklobj, feature_names=[]):\n",
    "\n",
    "    if isinstance(sklobj, Pipeline):\n",
    "        for name, step in sklobj.steps:\n",
    "            get_feature_names(step, feature_names)\n",
    "    elif isinstance(sklobj, ColumnTransformer):\n",
    "        for name, transformer, columns in sklobj.transformers_:\n",
    "            feature_names += get_feature_names(transformer, columns)\n",
    "    elif isinstance(sklobj, OneHotEncoder):\n",
    "        feature_names = sklobj.get_feature_names(feature_names).tolist()\n",
    "    elif isinstance(sklobj, str):\n",
    "        if sklobj == \"passthrough\":\n",
    "            pass\n",
    "        elif sklobj == \"drop\":\n",
    "            feature_names = []\n",
    "            \n",
    "    return feature_names"
   ]
  },
  {
   "cell_type": "code",
   "execution_count": null,
   "metadata": {
    "scrolled": false
   },
   "outputs": [],
   "source": [
    "get_feature_names(pl)"
   ]
  },
  {
   "cell_type": "code",
   "execution_count": null,
   "metadata": {},
   "outputs": [],
   "source": [
    "# # this is slow ...\n",
    "# r = permutation_importance(pl, X_train.head(1_000), y_train.head(1_000), n_repeats=2, random_state=0)\n",
    "\n",
    "# feature_names = get_feature_names(pl)\n",
    "\n",
    "# for i in r.importances_mean.argsort()[::-1]:\n",
    "#     if r.importances_mean[i] - 2 * r.importances_std[i] > 0:\n",
    "#         print(f\"{feature_names[i]:<8}\"\n",
    "#         f\"{r.importances_mean[i]:.3f}\"\n",
    "#         f\" +/- {r.importances_std[i]:.3f}\")"
   ]
  },
  {
   "cell_type": "markdown",
   "metadata": {},
   "source": [
    "## a more advanced pipeline"
   ]
  },
  {
   "cell_type": "code",
   "execution_count": null,
   "metadata": {},
   "outputs": [],
   "source": [
    "# TO DO ..."
   ]
  },
  {
   "cell_type": "markdown",
   "metadata": {},
   "source": [
    "## debug issue"
   ]
  },
  {
   "cell_type": "code",
   "execution_count": null,
   "metadata": {},
   "outputs": [],
   "source": [
    "data = list(\"abcebdebca\")\n",
    "categories = list(\"abcd\")"
   ]
  },
  {
   "cell_type": "code",
   "execution_count": null,
   "metadata": {},
   "outputs": [],
   "source": [
    "cats = pd.Categorical(data, categories=categories, ordered=True)\n",
    "s1 = pd.Series(cats)\n",
    "\n",
    "display(s1)\n",
    "s1.cat.categories"
   ]
  },
  {
   "cell_type": "code",
   "execution_count": null,
   "metadata": {},
   "outputs": [],
   "source": [
    "from pandas.api.types import CategoricalDtype\n",
    "cat_type = CategoricalDtype(categories=categories, ordered=True)\n",
    "s2 = pd.Series(data).astype(cat_type)\n",
    "\n",
    "display(s2)\n",
    "s2.cat.categories"
   ]
  },
  {
   "cell_type": "code",
   "execution_count": null,
   "metadata": {},
   "outputs": [],
   "source": [
    "s3 = pd.Series(data).astype(\"category\")\n",
    "\n",
    "display(s3)\n",
    "s3.cat.categories"
   ]
  },
  {
   "cell_type": "code",
   "execution_count": null,
   "metadata": {},
   "outputs": [],
   "source": []
  }
 ],
 "metadata": {
  "hide_input": false,
  "kernelspec": {
   "display_name": "Python [conda env:jads]",
   "language": "python",
   "name": "conda-env-jads-py"
  },
  "language_info": {
   "codemirror_mode": {
    "name": "ipython",
    "version": 3
   },
   "file_extension": ".py",
   "mimetype": "text/x-python",
   "name": "python",
   "nbconvert_exporter": "python",
   "pygments_lexer": "ipython3",
   "version": "3.8.8"
  },
  "toc": {
   "base_numbering": 1,
   "nav_menu": {},
   "number_sections": true,
   "sideBar": true,
   "skip_h1_title": false,
   "title_cell": "Table of Contents",
   "title_sidebar": "Contents",
   "toc_cell": false,
   "toc_position": {},
   "toc_section_display": true,
   "toc_window_display": false
  },
  "varInspector": {
   "cols": {
    "lenName": 16,
    "lenType": 16,
    "lenVar": 40
   },
   "kernels_config": {
    "python": {
     "delete_cmd_postfix": "",
     "delete_cmd_prefix": "del ",
     "library": "var_list.py",
     "varRefreshCmd": "print(var_dic_list())"
    },
    "r": {
     "delete_cmd_postfix": ") ",
     "delete_cmd_prefix": "rm(",
     "library": "var_list.r",
     "varRefreshCmd": "cat(var_dic_list()) "
    }
   },
   "types_to_exclude": [
    "module",
    "function",
    "builtin_function_or_method",
    "instance",
    "_Feature"
   ],
   "window_display": false
  }
 },
 "nbformat": 4,
 "nbformat_minor": 4
}
