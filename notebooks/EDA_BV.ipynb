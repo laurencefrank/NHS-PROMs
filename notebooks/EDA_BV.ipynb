{
 "cells": [
  {
   "cell_type": "markdown",
   "metadata": {},
   "source": [
    "## imports"
   ]
  },
  {
   "cell_type": "code",
   "execution_count": null,
   "metadata": {},
   "outputs": [],
   "source": [
    "import numpy as np\n",
    "import pandas as pd\n",
    "\n",
    "import os\n",
    "from zipfile import ZipFile"
   ]
  },
  {
   "cell_type": "code",
   "execution_count": null,
   "metadata": {},
   "outputs": [],
   "source": [
    "EXT_DATA = \"..\\data\\external\"\n",
    "INT_DATA = \"..\\data\\interim\""
   ]
  },
  {
   "cell_type": "markdown",
   "metadata": {},
   "source": [
    "## functions"
   ]
  },
  {
   "cell_type": "code",
   "execution_count": null,
   "metadata": {},
   "outputs": [],
   "source": [
    "def dir_digger(path, **args):\n",
    "    files = args.get(\"files\", [])\n",
    "    ext = args.get(\"ext\", \"\")\n",
    "    for sub_path in os.listdir(path):\n",
    "        new_path = os.path.join(path, sub_path)\n",
    "        if os.path.isfile(new_path) & new_path.endswith(ext):\n",
    "            files.append(new_path)\n",
    "        elif os.path.isdir(new_path):\n",
    "            files = dir_digger(new_path, files=files, ext=ext)\n",
    "    return files   "
   ]
  },
  {
   "cell_type": "code",
   "execution_count": null,
   "metadata": {},
   "outputs": [],
   "source": [
    "def read_csv_zip(path, **args):\n",
    "    if path.endswith(\".csv\"):\n",
    "        return pd.read_csv(path, **args)\n",
    "    elif path.endswith(\".csv.zip\"):\n",
    "        with ZipFile(path) as myzip:\n",
    "            filename = os.path.splitext((os.path.basename(path)))[0]\n",
    "            return pd.read_csv(myzip.open(filename), **args)"
   ]
  },
  {
   "cell_type": "markdown",
   "metadata": {},
   "source": [
    "## parse files"
   ]
  },
  {
   "cell_type": "markdown",
   "metadata": {},
   "source": [
    "### interim"
   ]
  },
  {
   "cell_type": "code",
   "execution_count": null,
   "metadata": {},
   "outputs": [],
   "source": [
    "files = dir_digger(INT_DATA, ext=\".parquet\")\n",
    "print(f\"Found {len(files)} files:\")\n",
    "files"
   ]
  },
  {
   "cell_type": "code",
   "execution_count": null,
   "metadata": {
    "scrolled": false
   },
   "outputs": [],
   "source": [
    "for file in os.listdir(INT_DATA):\n",
    "    print(f\"\\nFile {file}:\")\n",
    "    display(pd.read_parquet(os.path.join(INT_DATA, file)))"
   ]
  },
  {
   "cell_type": "markdown",
   "metadata": {},
   "source": [
    "### external"
   ]
  },
  {
   "cell_type": "code",
   "execution_count": null,
   "metadata": {},
   "outputs": [],
   "source": [
    "files = dir_digger(EXT_DATA, ext=\".csv.zip\")\n",
    "print(f\"Found {len(files)} files:\")\n",
    "files"
   ]
  },
  {
   "cell_type": "code",
   "execution_count": null,
   "metadata": {
    "scrolled": false
   },
   "outputs": [],
   "source": [
    "for file in files:\n",
    "    print(f\"\\nFile {file}:\")\n",
    "    display(read_csv_zip(file))"
   ]
  }
 ],
 "metadata": {
  "hide_input": false,
  "kernelspec": {
   "display_name": "jads_execute",
   "language": "python",
   "name": "jads_execute"
  },
  "language_info": {
   "codemirror_mode": {
    "name": "ipython",
    "version": 3
   },
   "file_extension": ".py",
   "mimetype": "text/x-python",
   "name": "python",
   "nbconvert_exporter": "python",
   "pygments_lexer": "ipython3",
   "version": "3.7.9"
  },
  "toc": {
   "base_numbering": 1,
   "nav_menu": {},
   "number_sections": true,
   "sideBar": true,
   "skip_h1_title": false,
   "title_cell": "Table of Contents",
   "title_sidebar": "Contents",
   "toc_cell": false,
   "toc_position": {},
   "toc_section_display": true,
   "toc_window_display": false
  }
 },
 "nbformat": 4,
 "nbformat_minor": 4
}
