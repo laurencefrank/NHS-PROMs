{
 "cells": [
  {
   "cell_type": "markdown",
   "metadata": {},
   "source": [
    "# first setup for EDA\n",
    "This notebooks gives a first setup for the EDA for the NHS data.\n",
    "The wonderfull work by Laurence resented in the following [notebook](https://github.com/laurencefrank/NHS-PROMs/blob/main/notebooks/nb1_NHS_PROMs_G5.ipynb)"
   ]
  },
  {
   "cell_type": "markdown",
   "metadata": {},
   "source": [
    "## imports"
   ]
  },
  {
   "cell_type": "code",
   "execution_count": null,
   "metadata": {},
   "outputs": [],
   "source": [
    "import numpy as np\n",
    "import pandas as pd\n",
    "import matplotlib.pyplot as plt\n",
    "import seaborn as sns\n",
    "import plotly.express as px\n",
    "\n",
    "import warnings\n",
    "import re\n",
    "\n",
    "from sklearn.preprocessing import OrdinalEncoder\n",
    "\n",
    "from utils.load_data import dir_digger, read_csv_zip, structure_name, get_meta, clean_data\n",
    "from utils.data_dictionary import methods, column_meta\n"
   ]
  },
  {
   "cell_type": "code",
   "execution_count": null,
   "metadata": {},
   "outputs": [],
   "source": [
    "EXT_DATA = \"..\\data\\external\"\n",
    "INT_DATA = \"..\\data\\interim\"\n",
    "N_PLOT_SAMPLES = 10_000"
   ]
  },
  {
   "cell_type": "markdown",
   "metadata": {},
   "source": [
    "## parse files"
   ]
  },
  {
   "cell_type": "markdown",
   "metadata": {},
   "source": [
    "### load + clean interim"
   ]
  },
  {
   "cell_type": "code",
   "execution_count": null,
   "metadata": {},
   "outputs": [],
   "source": [
    "files = dir_digger(INT_DATA, ext=\".parquet\")\n",
    "print(f\"Found {len(files)} files:\")\n",
    "display(files)\n",
    "\n",
    "df_hip_raw = (\n",
    "    pd.concat([pd.read_parquet(file) for file in files if \"hip\" in file])\n",
    "    .drop_duplicates()\n",
    "    .rename(structure_name, axis=1)\n",
    ")\n",
    "df_knee_raw = (\n",
    "    pd.concat([pd.read_parquet(file) for file in files if \"knee\" in file])\n",
    "    .drop_duplicates()\n",
    "    .rename(structure_name, axis=1)\n",
    ")"
   ]
  },
  {
   "cell_type": "code",
   "execution_count": null,
   "metadata": {},
   "outputs": [],
   "source": [
    "df_raw = df_hip_raw\n",
    "\n",
    "df_meta = get_meta(df_raw.columns)  \n",
    "df_clean = clean_data(df_raw, df_meta)\n",
    "\n",
    "if (df_clean.describe(include=\"all\").loc[\"max\"]==9).any():\n",
    "    to_check = list(df_clean.loc[:, df_clean.describe(include=\"all\").loc[\"max\"]==9].columns)\n",
    "    warning.warn(\"Please check the folowing columns for meta data:\")\n",
    "    display(to_check)"
   ]
  },
  {
   "cell_type": "markdown",
   "metadata": {},
   "source": [
    "## general descriptives"
   ]
  },
  {
   "cell_type": "code",
   "execution_count": null,
   "metadata": {
    "scrolled": true
   },
   "outputs": [],
   "source": [
    "df_clean.head(5)"
   ]
  },
  {
   "cell_type": "code",
   "execution_count": null,
   "metadata": {
    "scrolled": true
   },
   "outputs": [],
   "source": [
    "df_clean.info()"
   ]
  },
  {
   "cell_type": "code",
   "execution_count": null,
   "metadata": {
    "scrolled": true
   },
   "outputs": [],
   "source": [
    "df_clean.describe(include=\"all\")"
   ]
  },
  {
   "cell_type": "code",
   "execution_count": null,
   "metadata": {},
   "outputs": [],
   "source": [
    "df_clean.head(5)"
   ]
  },
  {
   "cell_type": "markdown",
   "metadata": {},
   "source": [
    "## first plots"
   ]
  },
  {
   "cell_type": "code",
   "execution_count": null,
   "metadata": {
    "hide_input": true
   },
   "outputs": [],
   "source": [
    "# make easy ling format of data\n",
    "\n",
    "method_cols = df_meta[\"method\"].notna() & (\n",
    "    df_meta[\"feature\"].isin([\"predicted\", \"profile\"]) == False\n",
    ")\n",
    "method_cols = method_cols[method_cols].index\n",
    "\n",
    "new_index = [\n",
    "    re.search(\n",
    "        fr\"^(?P<t>t[01])_?(?P<method>{'|'.join(methods)})?_(?P<feature>.*)$\", col\n",
    "    ).groups()\n",
    "    for col in method_cols\n",
    "]\n",
    "\n",
    "df_methods = df_clean[method_cols]\n",
    "names = [\"available\", \"method\", \"feature\"]\n",
    "df_methods.columns = pd.MultiIndex.from_tuples(new_index, names=names)\n",
    "\n",
    "df_long = df_methods.stack(names).reset_index(names).rename(columns={0: \"response\"})\n",
    "df_long.sample(5)"
   ]
  },
  {
   "cell_type": "markdown",
   "metadata": {},
   "source": [
    "### Data from methods"
   ]
  },
  {
   "cell_type": "code",
   "execution_count": null,
   "metadata": {
    "hide_input": true,
    "scrolled": false
   },
   "outputs": [],
   "source": [
    "# plot different scores\n",
    "data = df_long.query(f\"method == method & feature in 'score'\").sample(N_PLOT_SAMPLES).copy()\n",
    "methods_order = np.sort(data[\"method\"].unique())\n",
    "# min-max scale the old way\n",
    "for method in methods_order:\n",
    "    min_, max_ = methods[method][\"score\"][\"range\"]\n",
    "    data.loc[data[\"method\"] == method, \"response\"] = (\n",
    "        data.loc[data[\"method\"] == method, \"response\"] - min_\n",
    "    ) / (max_ - min_) * 100\n",
    "\n",
    "# plot boxen per method score\n",
    "fig, ax = plt.subplots(figsize=(18, 6))\n",
    "ax = sns.boxenplot(\n",
    "    x=\"method\",\n",
    "    y=\"response\",\n",
    "    order=methods_order,\n",
    "    hue=\"available\",\n",
    "    hue_order=[\"t0\", \"t1\"],\n",
    "    data=data,\n",
    "    palette=\"muted\",\n",
    "    scale=\"linear\",\n",
    ")\n",
    "\n",
    "ax.set_title(\"Method scores (scaled on full range, bin width~count)\")\n",
    "ax.set_ylabel(\"score [% of range]\")\n",
    "plt.show()"
   ]
  },
  {
   "cell_type": "code",
   "execution_count": null,
   "metadata": {
    "hide_input": true
   },
   "outputs": [],
   "source": [
    "for method in [\n",
    "    k for k, v in methods.items() if v.get(\"dims\") and (k in df_long[\"method\"].unique())\n",
    "]:\n",
    "    # query subset for method\n",
    "    data = df_long.query(f\"method == '{method}' & feature not in 'score'\").sample(\n",
    "        N_PLOT_SAMPLES\n",
    "    )\n",
    "\n",
    "    # plot violin per method dimension\n",
    "    fig, ax = plt.subplots(figsize=(18, 6))\n",
    "    ax = sns.violinplot(\n",
    "        x=\"feature\",\n",
    "        y=\"response\",\n",
    "        hue=\"available\",\n",
    "        hue_order=[\"t0\", \"t1\"],\n",
    "        data=data,\n",
    "        inner=None,\n",
    "        cut=0,\n",
    "        palette=\"muted\",\n",
    "        split=True,\n",
    "    )\n",
    "\n",
    "    ax.set_title(f\"KDE of {method.upper()} features (dimensions)\")\n",
    "    labels = methods[method][\"dims\"][\"labels\"].copy()\n",
    "    labels.pop(9)\n",
    "    ax.set_yticks(list(labels))\n",
    "    ax.set_yticklabels(labels.values())\n",
    "    plt.show()"
   ]
  },
  {
   "cell_type": "markdown",
   "metadata": {},
   "source": [
    "### Other data available"
   ]
  },
  {
   "cell_type": "code",
   "execution_count": null,
   "metadata": {
    "hide_input": true
   },
   "outputs": [],
   "source": [
    "for available in [\"t0\", \"t1\"]:\n",
    "    cols = df_meta.query(fr\"method != method & t=='{available[1]}'\").index\n",
    "    data = df_clean.loc[:, cols]\n",
    "    data.columns = pd.Index(data.columns.str.replace(r\"^t[01]_\", \"\"), name=\"feature\")\n",
    "    if available == \"t0\":\n",
    "        data = data.drop(columns=[\"provider_code\", \"procedure\", \"year\", \"age_band\"])\n",
    "    \n",
    "    # plot per feature\n",
    "    fig, ax = plt.subplots(figsize=(18, 6))\n",
    "    ax = sns.violinplot(\n",
    "        x=\"feature\",\n",
    "        y=\"value\",\n",
    "        order=data.columns,\n",
    "        inner=None,\n",
    "        data=data.melt().sample(N_PLOT_SAMPLES),\n",
    "        palette=\"muted\",\n",
    "    )\n",
    "\n",
    "    ax.set_title(f\"Distributions of features known on {available}\")\n",
    "    ax.set_ylim((.5, 2.5))\n",
    "    ax.set_xticklabels(ax.get_xticklabels(), rotation=30)\n",
    "    ax.yaxis.set_visible(False)\n",
    "    plt.show()"
   ]
  },
  {
   "cell_type": "code",
   "execution_count": null,
   "metadata": {},
   "outputs": [],
   "source": []
  }
 ],
 "metadata": {
  "hide_input": false,
  "kernelspec": {
   "display_name": "jads_execute",
   "language": "python",
   "name": "jads_execute"
  },
  "language_info": {
   "codemirror_mode": {
    "name": "ipython",
    "version": 3
   },
   "file_extension": ".py",
   "mimetype": "text/x-python",
   "name": "python",
   "nbconvert_exporter": "python",
   "pygments_lexer": "ipython3",
   "version": "3.7.9"
  },
  "toc": {
   "base_numbering": 1,
   "nav_menu": {},
   "number_sections": true,
   "sideBar": true,
   "skip_h1_title": false,
   "title_cell": "Table of Contents",
   "title_sidebar": "Contents",
   "toc_cell": false,
   "toc_position": {},
   "toc_section_display": true,
   "toc_window_display": false
  }
 },
 "nbformat": 4,
 "nbformat_minor": 4
}
