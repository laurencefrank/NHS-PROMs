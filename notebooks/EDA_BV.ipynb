{
 "cells": [
  {
   "cell_type": "markdown",
   "metadata": {},
   "source": [
    "# Get started with your EDA"
   ]
  },
  {
   "cell_type": "markdown",
   "metadata": {},
   "source": [
    "## imports"
   ]
  },
  {
   "cell_type": "code",
   "execution_count": null,
   "metadata": {},
   "outputs": [],
   "source": [
    "import numpy as np\n",
    "import pandas as pd\n",
    "from os import path\n",
    "import warnings\n",
    "\n",
    "import altair as alt\n",
    "from sklearn.decomposition import PCA\n",
    "\n",
    "from utils.load_data import read_online_proms_data, downcast, structure_name, get_meta, clean_data\n",
    "from utils.data_dictionary import methods"
   ]
  },
  {
   "cell_type": "code",
   "execution_count": null,
   "metadata": {},
   "outputs": [],
   "source": [
    "# from https://digital.nhs.uk/data-and-information/data-tools-and-services/data-services/patient-reported-outcome-measures-proms\n",
    "URL_PROMS_DATA = [\n",
    "    r\"https://files.digital.nhs.uk/6C/A1D581/CSV%20Data%20Pack%202016-17%20Finalised.zip\",\n",
    "    r\"https://files.digital.nhs.uk/70/5176AA/CSV%20Data%20Pack%20Final%201718.zip\",\n",
    "    r\"https://files.digital.nhs.uk/52/A8FF7F/PROMs%20CSV%20Data%20Pack%20Finalised%202018-19.zip\",\n",
    "    r\"https://files.digital.nhs.uk/1F/51FEDE/PROMs%20CSV%20Data%20Pack%20Provisional%201920.zip\",\n",
    "]\n",
    "\n",
    "DATA_PATH = \"../data\"\n",
    "\n",
    "PART = \"knee\"\n",
    "ORG = \"provider\""
   ]
  },
  {
   "cell_type": "markdown",
   "metadata": {},
   "source": [
    "## load data"
   ]
  },
  {
   "cell_type": "code",
   "execution_count": null,
   "metadata": {},
   "outputs": [],
   "source": [
    "%%time\n",
    "\n",
    "# define path location\n",
    "file_name = f\"{PART}-{ORG}.parquet\"\n",
    "full_path = path.join(DATA_PATH, file_name)\n",
    "\n",
    "# load from disk if present,\n",
    "# otherwise get it directly from NHS-source + rename columns + save to parquet\n",
    "if path.isfile(full_path):\n",
    "    df_raw = pd.read_parquet(full_path)\n",
    "else:\n",
    "    df_raw = read_online_proms_data(urls=URL_PROMS_DATA, part=PART, org=ORG).apply(downcast)\n",
    "    df_raw.columns = (\n",
    "        df_raw.columns.str.replace(\"Pre-Op Q\", \"t0\")\n",
    "        .str.replace(\"Post-Op Q\", \"t1\")\n",
    "        .str.replace(\"Knee Replacement\", \"oks\")\n",
    "        .str.replace(\"Hip Replacement\", \"ohs\")\n",
    "        .str.replace(\"-\", \"_\")\n",
    "        .str.replace(\" \", \"_\")\n",
    "        .str.lower()\n",
    "    )\n",
    "    if len(df_raw)==0:\n",
    "        print(\"No data found!\")\n",
    "    else:\n",
    "        try:\n",
    "            df_raw.to_parquet(full_path)\n",
    "        except:\n",
    "            print(f\"Could not save {full_path}, but has the dataframe in memory.\")\n",
    "\n",
    "# display basic info df_raw    \n",
    "df_raw.info(verbose=False)"
   ]
  },
  {
   "cell_type": "markdown",
   "metadata": {},
   "source": [
    "## basic cleaning"
   ]
  },
  {
   "cell_type": "code",
   "execution_count": null,
   "metadata": {},
   "outputs": [],
   "source": [
    "%%time\n",
    "# restructure names\n",
    "df_raw.columns = [structure_name(col) for col in df_raw.columns]\n",
    "\n",
    "# construct a meta data df\n",
    "df_meta = get_meta(df_raw.columns)  \n",
    "\n",
    "# clean the data based on meta (all not in range, labels or label \"missing\")\n",
    "df_clean = clean_data(df_raw, df_meta).apply(downcast)\n",
    "\n",
    "# raise warning if somewhere there is a hidden 9 as max\n",
    "if (df_clean.describe(include=\"all\").loc[\"max\"]==9).any():\n",
    "    to_check = list(df_clean.loc[:, df_clean.describe(include=\"all\").loc[\"max\"]==9].columns)\n",
    "    warning.warn(\"Please check the folowing columns for meta data:\")\n",
    "    display(to_check)\n",
    "    \n",
    "df_clean.sample(3)"
   ]
  },
  {
   "cell_type": "markdown",
   "metadata": {},
   "source": [
    "### drop revisions and last year of data"
   ]
  },
  {
   "cell_type": "code",
   "execution_count": null,
   "metadata": {},
   "outputs": [],
   "source": [
    "df_eda = df_clean.query(\"t0_revision_flag == 0 & t0_year != '2019/20'\")\\\n",
    "                 .drop(columns=\"t0_revision_flag\")\n",
    "df_eda[\"t0_year\"].unique()"
   ]
  },
  {
   "cell_type": "markdown",
   "metadata": {},
   "source": [
    "## simple descriptives"
   ]
  },
  {
   "cell_type": "code",
   "execution_count": null,
   "metadata": {},
   "outputs": [],
   "source": [
    "df_eda.describe(include=\"all\")"
   ]
  },
  {
   "cell_type": "code",
   "execution_count": null,
   "metadata": {},
   "outputs": [],
   "source": [
    "df_eda.info(verbose=False)"
   ]
  },
  {
   "cell_type": "markdown",
   "metadata": {},
   "source": [
    "## really terrible query"
   ]
  },
  {
   "cell_type": "code",
   "execution_count": null,
   "metadata": {},
   "outputs": [],
   "source": [
    "df_eda.columns\n",
    "# df_eda.shape"
   ]
  },
  {
   "cell_type": "code",
   "execution_count": null,
   "metadata": {},
   "outputs": [],
   "source": [
    "df_terrible = df_eda[\n",
    "    (df_eda[\"t1_eq5d_score\"] < df_eda[\"t0_eq5d_score\"]) \n",
    "    & (df_eda[\"t1_eqvas_score\"] < df_eda[\"t0_eqvas_score\"])\n",
    "    & (df_eda[\"t1_oks_score\"] < df_eda[\"t0_oks_score\"])\n",
    "].query(\"t1_satisfaction >3 & t1_success > 3\")\n",
    "len(df_terrible) / len(df_eda) * 100"
   ]
  },
  {
   "cell_type": "markdown",
   "metadata": {},
   "source": [
    "## PCA quick start"
   ]
  },
  {
   "cell_type": "code",
   "execution_count": null,
   "metadata": {},
   "outputs": [],
   "source": [
    "# select method columns\n",
    "df_meta_methods = df_meta.query(\"method == method & feature not in ('profile', 'predicted') \")\n",
    "df_pca = df_eda.loc[:, df_meta_methods.index]\n",
    "\n",
    "# create MultiIndex\n",
    "df_pca.columns = pd.MultiIndex.from_frame(\n",
    "    df_pca.columns.str.extract(fr\"^(t[01])_({'|'.join(methods.keys())})?_?(.*)$\"),\n",
    "    names=[\"available\", \"method\", \"feature\"],\n",
    ")\n",
    "\n",
    "# scale before applying PCA\n",
    "def normalise(s):\n",
    "    _,  method, feature = s.name\n",
    "    if feature == \"score\":\n",
    "        range_ = methods[method][\"score\"][\"range\"]\n",
    "    else:\n",
    "        range_ = [k for k, v in methods[method][\"dims\"][\"labels\"].items() if v != \"missing\"]\n",
    "        range_ = (min(range_), max(range_))\n",
    "    return (s - np.min(range_)) / np.ptp(range_)\n",
    "    \n",
    "df_pca = df_pca.apply(normalise).dropna()\n",
    "    \n",
    "# get in correct format\n",
    "idx = pd.IndexSlice\n",
    "df_pca = df_pca.stack([\"available\"]).droplevel(0)"
   ]
  },
  {
   "cell_type": "code",
   "execution_count": null,
   "metadata": {},
   "outputs": [],
   "source": [
    "def plot_pca(df, title):\n",
    "    data = dict(\n",
    "        explained_var=np.hstack(\n",
    "            [\n",
    "                PCA().fit(df).explained_variance_ratio_,\n",
    "                PCA().fit(df.loc[\"t0\"]).explained_variance_ratio_,\n",
    "                PCA().fit(df.loc[\"t1\"]).explained_variance_ratio_,\n",
    "            ]\n",
    "        ),\n",
    "        applied_on=np.repeat([\"t0 + t1\", \"t0\", \"t1\"], len(df.columns)),\n",
    "        component=list(range(len(df.columns))) * 3,\n",
    "    )\n",
    "\n",
    "    explained_variance = (\n",
    "        alt.Chart(pd.DataFrame(data=data))\n",
    "        .mark_bar()\n",
    "        .encode(\n",
    "            x=alt.X(\"explained_var\", scale=alt.Scale(domain=(0, 1))),\n",
    "            y=alt.Y(\"applied_on\", sort=[\"t0 + t1\", \"t0\", \"t1\"]),\n",
    "            color=alt.Color(\"component\", sort=\"descending\"),\n",
    "            order=alt.Order(\"component\", sort=\"ascending\"),\n",
    "        )\n",
    "        .properties(title=title)\n",
    "    )\n",
    "\n",
    "    return explained_variance"
   ]
  },
  {
   "cell_type": "code",
   "execution_count": null,
   "metadata": {},
   "outputs": [],
   "source": [
    "def biplot(df, x=0, y=1):\n",
    "    \n",
    "    # get the administraion in order\n",
    "    if df.index.name:\n",
    "        index_name = df.index.name\n",
    "    else:\n",
    "        index_name = \"index\"\n",
    "    org_cols = list(df.columns)\n",
    "    \n",
    "    # add PCA components to df\n",
    "    pca = PCA()\n",
    "    comps = pd.DataFrame(pca.fit_transform(df), columns=[str(i) for i in range(len(org_cols))])\n",
    "    comps = pd.concat([df.copy().reset_index(), comps], axis=1).sample(5_000)\n",
    "\n",
    "    # extract explained variance for title\n",
    "    expl_var = pca.explained_variance_ratio_\n",
    "    title = f\"PCA biplot of components {x} ({expl_var[x]:.2f} var) and {y} ({expl_var[y]:.2f} var)\"\n",
    "\n",
    "    # create df for features->components\n",
    "    vec = pca.components_[[x, y], :].T\n",
    "    df_vec = pd.DataFrame(data=np.vstack([vec, np.zeros_like(vec)]),\n",
    "                         columns=[\"x\", \"y\"])\n",
    "    df_vec[\"feature\"] = org_cols * 2\n",
    "    \n",
    "    # use altair to plot results\n",
    "    components_scatter = alt.Chart(comps).mark_circle(size=10).encode(\n",
    "        x=f\"{x}:Q\",\n",
    "        y=f\"{y}:Q\",\n",
    "        color=index_name,\n",
    "        tooltip=org_cols,\n",
    "    ).interactive().properties(title=title)\n",
    "\n",
    "    features_vector = alt.Chart(df_vec).mark_line().encode(\n",
    "        x=\"x:Q\",\n",
    "        y=\"y:Q\",\n",
    "        color=\"feature\",\n",
    "        tooltip=[\"feature\"]\n",
    "    ).interactive()\n",
    "\n",
    "    return components_scatter + features_vector"
   ]
  },
  {
   "cell_type": "code",
   "execution_count": null,
   "metadata": {},
   "outputs": [],
   "source": [
    "df_plot = df_pca.loc[:, idx[:, \"score\"]].droplevel(\"feature\", axis=1)\n",
    "display(plot_pca(df_plot, title=\"PCA on EQ5D, EQVAS, OKS scores\"), biplot(df_plot))"
   ]
  },
  {
   "cell_type": "code",
   "execution_count": null,
   "metadata": {},
   "outputs": [],
   "source": [
    "df_plot = df_pca.loc[:, \"eq5d\"].drop(columns=\"score\")\n",
    "display(plot_pca(df_plot,title=\"PCA on EQ5D dimensions\"), biplot(df_plot))"
   ]
  },
  {
   "cell_type": "code",
   "execution_count": null,
   "metadata": {},
   "outputs": [],
   "source": [
    "df_plot = df_pca.loc[:, \"oks\"].drop(columns=\"score\")\n",
    "display(plot_pca(df_plot, title=\"PCA on OKS dimensions\"), biplot(df_plot))"
   ]
  },
  {
   "cell_type": "code",
   "execution_count": null,
   "metadata": {},
   "outputs": [],
   "source": [
    "df_plot = df_pca.copy()\n",
    "df_plot.columns = [\"_\".join(t) for t in df_plot.columns]\n",
    "display(plot_pca(df_plot, title=\"PCA on all dimensions and scores\"), biplot(df_plot))"
   ]
  },
  {
   "cell_type": "code",
   "execution_count": null,
   "metadata": {},
   "outputs": [],
   "source": []
  },
  {
   "cell_type": "code",
   "execution_count": null,
   "metadata": {},
   "outputs": [],
   "source": []
  },
  {
   "cell_type": "code",
   "execution_count": null,
   "metadata": {},
   "outputs": [],
   "source": []
  },
  {
   "cell_type": "code",
   "execution_count": null,
   "metadata": {},
   "outputs": [],
   "source": []
  },
  {
   "cell_type": "code",
   "execution_count": null,
   "metadata": {
    "scrolled": false
   },
   "outputs": [],
   "source": [
    "from pca import pca\n",
    "\n",
    "model = pca(n_components=len(df_pca.columns))\n",
    "model.fit_transform(df_pca)\n",
    "# Plot explained variance\n",
    "fig, ax = model.plot()\n",
    "\n",
    "# Scatter first 2 PCs\n",
    "fig, ax = model.scatter()\n",
    "\n",
    "# Make biplot with the number of features\n",
    "fig, ax = model.biplot(n_feat=2)"
   ]
  },
  {
   "cell_type": "code",
   "execution_count": null,
   "metadata": {},
   "outputs": [],
   "source": []
  }
 ],
 "metadata": {
  "hide_input": false,
  "kernelspec": {
   "display_name": "jads",
   "language": "python",
   "name": "jads"
  },
  "language_info": {
   "codemirror_mode": {
    "name": "ipython",
    "version": 3
   },
   "file_extension": ".py",
   "mimetype": "text/x-python",
   "name": "python",
   "nbconvert_exporter": "python",
   "pygments_lexer": "ipython3",
   "version": "3.8.6"
  },
  "toc": {
   "base_numbering": 1,
   "nav_menu": {},
   "number_sections": true,
   "sideBar": true,
   "skip_h1_title": false,
   "title_cell": "Table of Contents",
   "title_sidebar": "Contents",
   "toc_cell": false,
   "toc_position": {},
   "toc_section_display": true,
   "toc_window_display": false
  }
 },
 "nbformat": 4,
 "nbformat_minor": 4
}
