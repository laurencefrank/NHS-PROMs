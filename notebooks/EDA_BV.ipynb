{
 "cells": [
  {
   "cell_type": "markdown",
   "metadata": {},
   "source": [
    "# first setup for EDA\n",
    "This notebooks gives a first setup for the EDA for the NHS data.\n",
    "The wonderfull work by Laurence resented in the following [notebook](https://github.com/laurencefrank/NHS-PROMs/blob/main/notebooks/nb1_NHS_PROMs_G5.ipynb)"
   ]
  },
  {
   "cell_type": "markdown",
   "metadata": {},
   "source": [
    "## imports"
   ]
  },
  {
   "cell_type": "code",
   "execution_count": null,
   "metadata": {},
   "outputs": [],
   "source": [
    "import numpy as np\n",
    "import pandas as pd\n",
    "import matplotlib.pyplot as plt\n",
    "import seaborn as sns\n",
    "import plotly.express as px\n",
    "\n",
    "import warnings\n",
    "import re\n",
    "\n",
    "from utils.load_data import dir_digger, read_csv_zip, structure_name, get_meta, clean_data\n",
    "from utils.data_dictionary import methods, column_meta\n"
   ]
  },
  {
   "cell_type": "code",
   "execution_count": null,
   "metadata": {},
   "outputs": [],
   "source": [
    "EXT_DATA = \"..\\data\\external\"\n",
    "INT_DATA = \"..\\data\\interim\""
   ]
  },
  {
   "cell_type": "markdown",
   "metadata": {},
   "source": [
    "## parse files"
   ]
  },
  {
   "cell_type": "markdown",
   "metadata": {},
   "source": [
    "### load + clean interim"
   ]
  },
  {
   "cell_type": "code",
   "execution_count": null,
   "metadata": {},
   "outputs": [],
   "source": [
    "files = dir_digger(INT_DATA, ext=\".parquet\")\n",
    "print(f\"Found {len(files)} files:\")\n",
    "display(files)\n",
    "\n",
    "df_hip_raw = (\n",
    "    pd.concat([pd.read_parquet(file) for file in files if \"hip\" in file])\n",
    "    .drop_duplicates()\n",
    "    .rename(structure_name, axis=1)\n",
    ")\n",
    "df_knee_raw = (\n",
    "    pd.concat([pd.read_parquet(file) for file in files if \"knee\" in file])\n",
    "    .drop_duplicates()\n",
    "    .rename(structure_name, axis=1)\n",
    ")"
   ]
  },
  {
   "cell_type": "code",
   "execution_count": null,
   "metadata": {},
   "outputs": [],
   "source": [
    "df_meta = get_meta(df_hip_raw.columns)  \n",
    "df_hip_clean = clean_data(df_hip_raw, df_meta)\n",
    "\n",
    "if (df_hip_clean.describe(include=\"all\").loc[\"max\"]==9).any():\n",
    "    to_check = list(df_hip_clean.loc[:, df_hip_clean.describe(include=\"all\").loc[\"max\"]==9].columns)\n",
    "    warning.warn(\"Please check the folowing columns for meta data:\")\n",
    "    display(to_check)"
   ]
  },
  {
   "cell_type": "markdown",
   "metadata": {},
   "source": [
    "## general descriptives"
   ]
  },
  {
   "cell_type": "code",
   "execution_count": null,
   "metadata": {
    "scrolled": true
   },
   "outputs": [],
   "source": [
    "df_hip_clean.head(5)"
   ]
  },
  {
   "cell_type": "code",
   "execution_count": null,
   "metadata": {
    "scrolled": true
   },
   "outputs": [],
   "source": [
    "df_hip_clean.info()"
   ]
  },
  {
   "cell_type": "code",
   "execution_count": null,
   "metadata": {
    "scrolled": true
   },
   "outputs": [],
   "source": [
    "df_hip_clean.describe(include=\"all\")"
   ]
  },
  {
   "cell_type": "code",
   "execution_count": null,
   "metadata": {},
   "outputs": [],
   "source": [
    "df_hip_raw.head(5)"
   ]
  },
  {
   "cell_type": "markdown",
   "metadata": {},
   "source": [
    "## first plots"
   ]
  },
  {
   "cell_type": "code",
   "execution_count": null,
   "metadata": {},
   "outputs": [],
   "source": [
    "method_cols = df_meta[\"method\"].notna() & (df_meta[\"feature\"].isin([\"predicted\", \"profile\"]) == False)\n",
    "method_cols = method_cols[method_cols].index\n",
    "\n",
    "new_index = [\n",
    "    re.search(\n",
    "        fr\"^(?P<t>t[01])_?(?P<method>{'|'.join(methods)})?_(?P<feature>.*)$\", col\n",
    "    ).groups()\n",
    "    for col in method_cols\n",
    "]\n",
    "\n",
    "df_methods = df_hip_clean[method_cols]\n",
    "names = [\"available\", \"method\", \"feature\"]\n",
    "df_methods.columns = pd.MultiIndex.from_tuples(new_index, names=names)\n",
    "\n",
    "df_long = df_methods.stack(names).reset_index(names).rename(columns={0:\"response\"})\n",
    "df_long.sample(5)"
   ]
  },
  {
   "cell_type": "code",
   "execution_count": null,
   "metadata": {},
   "outputs": [],
   "source": [
    "for method in [\"eq5d\", \"ohs\"]:\n",
    "    data = (\n",
    "        df_long[(df_long[\"method\"] == method) & (df_long[\"feature\"] != \"score\")]\n",
    "        .sample(10_000)\n",
    "        .sort_values(\"available\")\n",
    "    )\n",
    "\n",
    "    if len(data):\n",
    "        fig, ax = plt.subplots(figsize=(15, 5))\n",
    "        ax = sns.violinplot(\n",
    "            title=method,\n",
    "            x=\"feature\",\n",
    "            y=\"response\",\n",
    "            hue=\"available\",\n",
    "            data=data,\n",
    "            palette=\"muted\",\n",
    "            split=True,\n",
    "        )"
   ]
  },
  {
   "cell_type": "code",
   "execution_count": null,
   "metadata": {},
   "outputs": [],
   "source": [
    "methods[\"eq5d\"][\"dims\"][\"labels\"]"
   ]
  },
  {
   "cell_type": "code",
   "execution_count": null,
   "metadata": {},
   "outputs": [],
   "source": [
    "methods[\"eq5d\"][\"dims\"][\"names\"]"
   ]
  },
  {
   "cell_type": "code",
   "execution_count": null,
   "metadata": {},
   "outputs": [],
   "source": [
    "methods[\"ohs\"][\"dims\"][\"labels\"]"
   ]
  },
  {
   "cell_type": "code",
   "execution_count": null,
   "metadata": {},
   "outputs": [],
   "source": [
    "methods[\"ohs\"][\"dims\"][\"names\"]"
   ]
  },
  {
   "cell_type": "code",
   "execution_count": null,
   "metadata": {},
   "outputs": [],
   "source": [
    "    data = (\n",
    "        df_long[(df_long[\"method\"] == \"ohs\") & (df_long[\"feature\"] != \"score\")]\n",
    "        .sample(10_000)\n",
    "    )\n",
    "#     data[\"values\"] = data[\"values\"].map(methods[\"ohs\"][\"dims\"][\"labels\"])\n",
    "\n",
    "fig, ax = plt.subplots(figsize=(18, 5))\n",
    "ax = sns.violinplot(\n",
    "    title=method,\n",
    "    x=\"feature\",\n",
    "    y=\"response\",\n",
    "    hue=\"available\",\n",
    "    hue_order=[\"t0\", \"t1\"],\n",
    "    data=data,\n",
    "    inner=None,\n",
    "    cut=0,\n",
    "    palette=\"muted\",\n",
    "    split=True,\n",
    ")\n",
    "\n",
    "# ax = sns.boxenplot(\n",
    "#     data=data,\n",
    "#     x=\"feature\",\n",
    "#     y=\"values\",\n",
    "#     order=methods[\"ohs\"][\"dims\"][\"names\"],\n",
    "#     hue=\"available\",\n",
    "#     hue_order=[\"t0\", \"t1\"],\n",
    "#     palette=\"muted\",\n",
    "#     k_depth=\"proportion\",\n",
    "    \n",
    "#     scale=\"linear\",\n",
    "#     width=.7,\n",
    "# #     split=True,\n",
    "# )\n",
    "\n",
    "ax.set_title(\"OHS features (dimensions)\")\n",
    "labels = methods[\"ohs\"][\"dims\"][\"labels\"].copy()\n",
    "labels.pop(9)\n",
    "ax.set_yticks(list(labels))\n",
    "ax.set_yticklabels(labels.values())\n",
    "plt.show()"
   ]
  },
  {
   "cell_type": "code",
   "execution_count": null,
   "metadata": {},
   "outputs": [],
   "source": [
    "for method in [\n",
    "    k for k, v in methods.items() if v.get(\"dims\") and (k in df_long[\"method\"].unique())\n",
    "]:\n",
    "    # query subset for method\n",
    "    data = df_long.query(f\"method == '{method}' & feature not in 'score'\").sample(\n",
    "        10_000\n",
    "    )\n",
    "\n",
    "    # plot violin per method dimension\n",
    "    fig, ax = plt.subplots(figsize=(18, 5))\n",
    "    ax = sns.violinplot(\n",
    "        x=\"feature\",\n",
    "        y=\"response\",\n",
    "        hue=\"available\",\n",
    "        hue_order=[\"t0\", \"t1\"],\n",
    "        data=data,\n",
    "        inner=None,\n",
    "        cut=0,\n",
    "        palette=\"muted\",\n",
    "        split=True,\n",
    "    )\n",
    "\n",
    "    ax.set_title(f\"{method.upper()} features (dimensions)\")\n",
    "    labels = methods[method][\"dims\"][\"labels\"].copy()\n",
    "    labels.pop(9)\n",
    "    ax.set_yticks(list(labels))\n",
    "    ax.set_yticklabels(labels.values())\n",
    "    plt.show()"
   ]
  },
  {
   "cell_type": "code",
   "execution_count": null,
   "metadata": {},
   "outputs": [],
   "source": [
    "df_long.query(\"method == 'eq5d' & feature not in 'score'\")"
   ]
  },
  {
   "cell_type": "code",
   "execution_count": null,
   "metadata": {},
   "outputs": [],
   "source": []
  }
 ],
 "metadata": {
  "hide_input": false,
  "kernelspec": {
   "display_name": "jads_execute",
   "language": "python",
   "name": "jads_execute"
  },
  "language_info": {
   "codemirror_mode": {
    "name": "ipython",
    "version": 3
   },
   "file_extension": ".py",
   "mimetype": "text/x-python",
   "name": "python",
   "nbconvert_exporter": "python",
   "pygments_lexer": "ipython3",
   "version": "3.7.9"
  },
  "toc": {
   "base_numbering": 1,
   "nav_menu": {},
   "number_sections": true,
   "sideBar": true,
   "skip_h1_title": false,
   "title_cell": "Table of Contents",
   "title_sidebar": "Contents",
   "toc_cell": false,
   "toc_position": {},
   "toc_section_display": true,
   "toc_window_display": false
  }
 },
 "nbformat": 4,
 "nbformat_minor": 4
}
