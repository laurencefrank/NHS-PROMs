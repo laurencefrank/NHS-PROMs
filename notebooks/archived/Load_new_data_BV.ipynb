{
 "cells": [
  {
   "cell_type": "markdown",
   "metadata": {},
   "source": [
    "# Read 2016-2020 PROMs data"
   ]
  },
  {
   "cell_type": "markdown",
   "metadata": {},
   "source": [
    "## imports"
   ]
  },
  {
   "cell_type": "code",
   "execution_count": null,
   "metadata": {},
   "outputs": [],
   "source": [
    "import numpy as np\n",
    "import pandas as pd\n",
    "import matplotlib.pyplot as plt\n",
    "import seaborn as sns\n",
    "import plotly.express as px\n",
    "\n",
    "import requests\n",
    "from zipfile import ZipFile\n",
    "from io import BytesIO\n",
    "import itertools\n",
    "\n",
    "import warnings\n",
    "import re\n",
    "\n",
    "from utils.load_data import dir_digger, read_csv_zip, structure_name, get_meta, clean_data, downcast, download_extract_zip\n",
    "from utils.data_dictionary import methods, column_meta"
   ]
  },
  {
   "cell_type": "code",
   "execution_count": null,
   "metadata": {},
   "outputs": [],
   "source": [
    "# from https://digital.nhs.uk/data-and-information/data-tools-and-services/data-services/patient-reported-outcome-measures-proms\n",
    "URL_PROMS_DATA = {\n",
    "    \"2016_17\": r\"https://files.digital.nhs.uk/6C/A1D581/CSV%20Data%20Pack%202016-17%20Finalised.zip\",\n",
    "    \"2017_18\": r\"https://files.digital.nhs.uk/70/5176AA/CSV%20Data%20Pack%20Final%201718.zip\",\n",
    "    \"2018_19\": r\"https://files.digital.nhs.uk/52/A8FF7F/PROMs%20CSV%20Data%20Pack%20Finalised%202018-19.zip\",\n",
    "    \"2019_20\": \"https://files.digital.nhs.uk/1F/51FEDE/PROMs%20CSV%20Data%20Pack%20Provisional%201920.zip\",\n",
    "}"
   ]
  },
  {
   "cell_type": "markdown",
   "metadata": {},
   "source": [
    "## read online data"
   ]
  },
  {
   "cell_type": "code",
   "execution_count": null,
   "metadata": {},
   "outputs": [],
   "source": [
    "# read dfs from csv from online sources via URLS\n",
    "df_dict = dict()\n",
    "for URL_year, URL in URL_PROMS_DATA.items():\n",
    "    for file_name, file in download_extract_zip(URL):\n",
    "        if file_name.endswith(\".csv\"):\n",
    "            df_dict.update(\n",
    "                {\n",
    "                    file_name.strip(\".csv\"): pd.read_csv(file, na_values=[\"*\"]).apply(\n",
    "                        downcast\n",
    "                    )\n",
    "                }\n",
    "            )"
   ]
  },
  {
   "cell_type": "code",
   "execution_count": null,
   "metadata": {},
   "outputs": [],
   "source": [
    "# print dfs in memory\n",
    "[print(name) for name in np.sort(list(df_dict.keys()))];"
   ]
  },
  {
   "cell_type": "markdown",
   "metadata": {},
   "source": [
    "## collect the right dataframes by name"
   ]
  },
  {
   "cell_type": "code",
   "execution_count": null,
   "metadata": {},
   "outputs": [],
   "source": [
    "df_dict[\"Hip Replacement Provider 1617\"].columns"
   ]
  },
  {
   "cell_type": "code",
   "execution_count": null,
   "metadata": {},
   "outputs": [],
   "source": [
    "for part in [\"Hip\", \"Knee\"]:\n",
    "    for org in [\"CCG\", \"Provider\"]:\n",
    "        pattern = fr\"^{part} replacements? {org} [\\d]{{4}}$\"\n",
    "        dfs = [\n",
    "            df for name, df in df_dict.items() if re.match(pattern, name, flags=re.I)\n",
    "        ]\n",
    "        df = pd.concat(dfs)\n",
    "        # unfortunately nobody seems to care abot good name structures\n",
    "        # the following is done to get in line with the original parquet files\n",
    "        # the function structure name is doing the final structuring\n",
    "        df.columns = (\n",
    "            df.columns.str.replace(\"Pre-Op Q\", \"t0\")\n",
    "            .str.replace(\"Post-Op Q\", \"t1\")\n",
    "            .str.replace(\"Knee Replacement\", \"oks\")\n",
    "            .str.replace(\"Hip Replacement\", \"ohs\")\n",
    "            .str.replace(\"-\", \"_\")\n",
    "            .str.replace(\" \", \"_\")\n",
    "            .str.lower()\n",
    "        )\n",
    "        df.to_parquet(f\"../data/new_parquets/{part}-{org}.parquet\".lower())"
   ]
  },
  {
   "cell_type": "markdown",
   "metadata": {},
   "source": [
    "# some comments\n",
    "\n",
    "* NHS uses different structures for link names over the years (see URLs)\n",
    "* NHS uses different names in zip over the years (see list for plural/singular, cases, full words)\n",
    "* NSH uses typo columns in csv see \"Heath Gain Mean\" (shouldn't this be \"Health Gain Mean\") \"Equality Hip and Knee Replacement 1617\"\n",
    "* NHS uses different structure for same type of columns: \"Hip Replacement Post-Op Q Score\" vs \"Hip Replacement OHS Post-Op Q Predicted\"\n",
    "\n",
    "* The structure which was used to make the original parquets is also not consistent (placing of t0/t1)"
   ]
  },
  {
   "cell_type": "code",
   "execution_count": null,
   "metadata": {},
   "outputs": [],
   "source": []
  }
 ],
 "metadata": {
  "hide_input": false,
  "kernelspec": {
   "display_name": "jads",
   "language": "python",
   "name": "jads"
  },
  "language_info": {
   "codemirror_mode": {
    "name": "ipython",
    "version": 3
   },
   "file_extension": ".py",
   "mimetype": "text/x-python",
   "name": "python",
   "nbconvert_exporter": "python",
   "pygments_lexer": "ipython3",
   "version": "3.8.6"
  },
  "toc": {
   "base_numbering": 1,
   "nav_menu": {},
   "number_sections": true,
   "sideBar": true,
   "skip_h1_title": false,
   "title_cell": "Table of Contents",
   "title_sidebar": "Contents",
   "toc_cell": false,
   "toc_position": {},
   "toc_section_display": true,
   "toc_window_display": false
  }
 },
 "nbformat": 4,
 "nbformat_minor": 4
}
