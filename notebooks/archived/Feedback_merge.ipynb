{
 "cells": [
  {
   "cell_type": "code",
   "execution_count": null,
   "id": "simple-shaft",
   "metadata": {},
   "outputs": [],
   "source": [
    "# conda install -c conda-forge openpyxl\n",
    "import pandas as pd\n",
    "from openpyxl import load_workbook\n",
    "\n",
    "EXCEL_FILE = \"Feedback_Mid.xlsx\"\n",
    "\n",
    "%%time\n",
    "# get meta\n",
    "df_format = pd.read_excel(EXCEL_FILE, engine=\"openpyxl\")\n",
    "dimensions = df_format.drop(columns=[\"Alias\", \"Naam\"]).columns.to_list()\n",
    "aliases = df_format[[\"Alias\", \"Naam\"]].dropna().values\n",
    "aliases = {alias:f\"{name} [{alias}]\" for alias, name in aliases}\n",
    "grades = [\"ON\", \"VO\", \"GO\"]\n",
    "\n",
    "# read the data\n",
    "df_tot = pd.DataFrame()\n",
    "for alias in aliases:\n",
    "    df_alias = (\n",
    "        pd.read_excel(EXCEL_FILE, sheet_name=alias, engine=\"openpyxl\")\n",
    "        .assign(By=alias)\n",
    "        .rename(columns={\"Alias\": \"For\"})\n",
    "        .drop(columns=[\"Naam\"])\n",
    "        .head(len(aliases))\n",
    "    )\n",
    "    df_tot = df_tot.append(df_alias)\n",
    "\n",
    "# pivot it right\n",
    "df_tot = (\n",
    "    df_tot.dropna()\n",
    "    .melt(id_vars=[\"For\", \"By\"], var_name=\"Dimension\", value_name=\"Grade\")\n",
    "    .pivot_table(\n",
    "        index=[\"For\"],\n",
    "        columns=[\"Dimension\", \"Grade\"],\n",
    "        values=\"By\",\n",
    "        aggfunc=list,\n",
    "        dropna=False,\n",
    "        fill_value=\" \",\n",
    "    )\n",
    ")\n",
    "\n",
    "# make it pretty\n",
    "df_out = df_tot.T.reset_index([\"Dimension\", \"Grade\"]).assign(\n",
    "    Dimension=lambda x: pd.Categorical(x[\"Dimension\"], categories=dimensions, ordered=True),\n",
    "    Grade=lambda x: pd.Categorical(x[\"Grade\"], categories=grades, ordered=True),\n",
    ").sort_values(by=[\"Dimension\", \"Grade\"]).set_index([\"Dimension\", \"Grade\"]).T.loc[aliases].rename(aliases)\n",
    "\n",
    "# save it on a new sheet\n",
    "book = load_workbook(EXCEL_FILE)\n",
    "writer = pd.ExcelWriter(EXCEL_FILE, engine = 'openpyxl')\n",
    "writer.book = book\n",
    "\n",
    "df_out.to_excel(writer, sheet_name = 'Totaal')\n",
    "writer.save()\n",
    "writer.close()"
   ]
  },
  {
   "cell_type": "markdown",
   "id": "effective-representative",
   "metadata": {},
   "source": [
    "## experiment with CategoricalIndex"
   ]
  },
  {
   "cell_type": "code",
   "execution_count": null,
   "id": "blocked-language",
   "metadata": {},
   "outputs": [],
   "source": [
    "def make_CategoricalIndex(index, categories, ordered=True):\n",
    "    if isinstance(index, pd.MultiIndex):\n",
    "        index_levels = [\n",
    "            pd.CategoricalIndex(i, categories=c, ordered=o) if c else i\n",
    "            for i, c, o in zip(index.levels, categories, ordered)\n",
    "        ]\n",
    "        new_index = index.set_levels(index_levels)\n",
    "    elif isinstance(index, pd.Index):\n",
    "        new_index = pd.CategoricalIndex(index, categories=categories, ordered=ordered)\n",
    "    return new_index"
   ]
  },
  {
   "cell_type": "code",
   "execution_count": null,
   "id": "forced-circle",
   "metadata": {},
   "outputs": [],
   "source": [
    "df_tot.columns = make_CategoricalIndex(df_tot.columns, categories=[dimensions, grades], ordered=[True, True])\n",
    "df_tot.index = make_CategoricalIndex(df_tot.index, categories=aliases, ordered=True)"
   ]
  },
  {
   "cell_type": "code",
   "execution_count": null,
   "id": "ideal-observer",
   "metadata": {},
   "outputs": [],
   "source": [
    "df_tot.sort_index(axis=0)"
   ]
  },
  {
   "cell_type": "code",
   "execution_count": null,
   "id": "specified-northeast",
   "metadata": {},
   "outputs": [],
   "source": []
  }
 ],
 "metadata": {
  "kernelspec": {
   "display_name": "Python [conda env:jads] *",
   "language": "python",
   "name": "conda-env-jads-py"
  },
  "language_info": {
   "codemirror_mode": {
    "name": "ipython",
    "version": 3
   },
   "file_extension": ".py",
   "mimetype": "text/x-python",
   "name": "python",
   "nbconvert_exporter": "python",
   "pygments_lexer": "ipython3",
   "version": "3.8.8"
  }
 },
 "nbformat": 4,
 "nbformat_minor": 5
}
