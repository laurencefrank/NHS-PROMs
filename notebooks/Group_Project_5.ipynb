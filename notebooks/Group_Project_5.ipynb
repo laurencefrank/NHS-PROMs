{
 "cells": [
  {
   "cell_type": "markdown",
   "metadata": {},
   "source": [
    "# Group project 5"
   ]
  },
  {
   "cell_type": "markdown",
   "metadata": {},
   "source": [
    "## Import and load data"
   ]
  },
  {
   "cell_type": "code",
   "execution_count": 1,
   "metadata": {},
   "outputs": [],
   "source": [
    "from utils.load_data import load_proms, downcast, structure_name, get_meta, clean_data\n",
    "from utils.data_dictionary import methods, comorbidities\n",
    "from sklearn.model_selection import train_test_split\n",
    "\n",
    "import pandas as pd\n",
    "import warnings\n",
    "import re\n",
    "import numpy as np\n",
    "\n",
    "SEED = 1234"
   ]
  },
  {
   "cell_type": "code",
   "execution_count": 2,
   "metadata": {},
   "outputs": [],
   "source": [
    "# load data + rename columns with structired name\n",
    "df_knee_raw=load_proms(part=\"knee\").rename(structure_name, axis=1)\n",
    "df_hip_raw=load_proms(part=\"hip\").rename(structure_name, axis=1)\n",
    "\n",
    "# get df with meta data for each\n",
    "df_knee_meta = get_meta(df_knee_raw.columns)\n",
    "df_hip_meta = get_meta(df_hip_raw.columns)  "
   ]
  },
  {
   "cell_type": "markdown",
   "metadata": {},
   "source": [
    "## Basic cleaning"
   ]
  },
  {
   "cell_type": "code",
   "execution_count": 3,
   "metadata": {},
   "outputs": [
    {
     "name": "stdout",
     "output_type": "stream",
     "text": [
      "Wall time: 11.2 s\n"
     ]
    }
   ],
   "source": [
    "%%time\n",
    "# Clean the data based on meta (all not in range, labels or label \"missing\")\n",
    "# + remove revision rows\n",
    "df_knee_clean = clean_data(df_knee_raw, df_knee_meta)\\\n",
    "                .query(\"t0_revision_flag == 0\")\\\n",
    "                .drop(columns=[\"t0_revision_flag\"])\\\n",
    "                .apply(downcast)\n",
    "df_hip_clean = clean_data(df_hip_raw, df_hip_meta)\\\n",
    "                .query(\"t0_revision_flag == 0\")\\\n",
    "                .drop(columns=[\"t0_revision_flag\"])\\\n",
    "                .apply(downcast)\n",
    "\n",
    "# Fill comorbidities missing with 0's as requested\n",
    "cm_cols = [\"t0_\" + cm for cm in comorbidities]\n",
    "df_knee_clean[cm_cols] = df_knee_clean[cm_cols].fillna(0)\n",
    "df_hip_clean[cm_cols] = df_hip_clean[cm_cols].fillna(0)"
   ]
  },
  {
   "cell_type": "markdown",
   "metadata": {},
   "source": [
    "## Create delta frames"
   ]
  },
  {
   "cell_type": "code",
   "execution_count": 4,
   "metadata": {},
   "outputs": [],
   "source": [
    "def method_delta(df):\n",
    "    # create MultiIndex\n",
    "    df = df.copy().sort_index(axis=1)\n",
    "    df.columns = pd.MultiIndex.from_frame(\n",
    "        df.columns.str.extract(fr\"^(t[01])_({'|'.join(methods.keys())})?_?(.*)$\"),\n",
    "        names=[\"available\", \"method\", \"feature\"],\n",
    "    )\n",
    "    # select only methods dim and scores + get delta (t1 - t0)\n",
    "    df = df.loc[\n",
    "        :, [(m == m) & (f not in [\"profile\", \"predicted\"]) for t, m, f in df.columns]\n",
    "    ]\n",
    "    df_delta = (df[\"t1\"] - df[\"t0\"])\n",
    "\n",
    "    df_delta.columns = [\"delta_\" + \"_\".join(col) for col in df_delta.columns]\n",
    "    return df_delta\n",
    "\n",
    "df_knee_delta = method_delta(df_knee_clean)\n",
    "df_hip_delta = method_delta(df_hip_clean)"
   ]
  },
  {
   "cell_type": "code",
   "execution_count": 5,
   "metadata": {},
   "outputs": [],
   "source": [
    "# Join df_seen with df_delta\n",
    "df_knee_tot = df_knee_clean.join(df_knee_delta).reset_index(drop = True)\n",
    "df_hip_tot = df_hip_clean.join(df_hip_delta).reset_index(drop = True)"
   ]
  },
  {
   "cell_type": "code",
   "execution_count": 6,
   "metadata": {},
   "outputs": [],
   "source": [
    "# Define your Y\n",
    "df_knee_tot[\"Y\"] = (df_knee_tot[\"delta_oks_score\"] < 7)*1\n",
    "df_hip_tot[\"Y\"] = (df_hip_tot[\"delta_ohs_score\"] < 8)*1"
   ]
  },
  {
   "cell_type": "code",
   "execution_count": 7,
   "metadata": {},
   "outputs": [],
   "source": [
    "# Split in seen and unseen datasets\n",
    "df_knee_seen = df_knee_tot.query(\"t0_year != '2019/20'\")\n",
    "df_knee_unseen = df_knee_tot.query(\"t0_year == '2019/20'\")\n",
    "\n",
    "df_hip_seen = df_hip_tot.query(\"t0_year != '2019/20'\")\n",
    "df_hip_unseen = df_hip_tot.query(\"t0_year == '2019/20'\")"
   ]
  },
  {
   "cell_type": "markdown",
   "metadata": {},
   "source": [
    "## Split train and test set"
   ]
  },
  {
   "cell_type": "code",
   "execution_count": 8,
   "metadata": {
    "collapsed": true
   },
   "outputs": [
    {
     "ename": "KeyError",
     "evalue": "\"Passing list-likes to .loc or [] with any missing labels is no longer supported. The following labels were missing: Int64Index([133057, 266048,  78448, 245138, 227728,\\n            ...\\n            128612, 299287, 235596, 322108, 295284],\\n           dtype='int64', length=74243). See https://pandas.pydata.org/pandas-docs/stable/user_guide/indexing.html#deprecate-loc-reindex-listlike\"",
     "output_type": "error",
     "traceback": [
      "\u001b[1;31m---------------------------------------------------------------------------\u001b[0m",
      "\u001b[1;31mKeyError\u001b[0m                                  Traceback (most recent call last)",
      "\u001b[1;32m<ipython-input-8-f06fa98a2f76>\u001b[0m in \u001b[0;36m<module>\u001b[1;34m\u001b[0m\n\u001b[0;32m      8\u001b[0m \u001b[1;33m\u001b[0m\u001b[0m\n\u001b[0;32m      9\u001b[0m \u001b[1;32mfor\u001b[0m \u001b[0mtrain_index\u001b[0m\u001b[1;33m,\u001b[0m \u001b[0mtest_index\u001b[0m \u001b[1;32min\u001b[0m \u001b[0msplit\u001b[0m\u001b[1;33m.\u001b[0m\u001b[0msplit\u001b[0m\u001b[1;33m(\u001b[0m\u001b[0mx\u001b[0m\u001b[1;33m,\u001b[0m \u001b[0my\u001b[0m\u001b[1;33m)\u001b[0m\u001b[1;33m:\u001b[0m\u001b[1;33m\u001b[0m\u001b[1;33m\u001b[0m\u001b[0m\n\u001b[1;32m---> 10\u001b[1;33m     \u001b[0mKnee_train\u001b[0m \u001b[1;33m=\u001b[0m \u001b[0mdf_knee_seen\u001b[0m\u001b[1;33m.\u001b[0m\u001b[0mloc\u001b[0m\u001b[1;33m[\u001b[0m\u001b[0mtrain_index\u001b[0m\u001b[1;33m]\u001b[0m\u001b[1;33m\u001b[0m\u001b[1;33m\u001b[0m\u001b[0m\n\u001b[0m\u001b[0;32m     11\u001b[0m     \u001b[0mKnee_test\u001b[0m \u001b[1;33m=\u001b[0m \u001b[0mdf_knee_seen\u001b[0m\u001b[1;33m.\u001b[0m\u001b[0mloc\u001b[0m\u001b[1;33m[\u001b[0m\u001b[0mtest_index\u001b[0m\u001b[1;33m]\u001b[0m\u001b[1;33m\u001b[0m\u001b[1;33m\u001b[0m\u001b[0m\n\u001b[0;32m     12\u001b[0m \u001b[1;33m\u001b[0m\u001b[0m\n",
      "\u001b[1;32m~\\anaconda3\\envs\\jads\\lib\\site-packages\\pandas\\core\\indexing.py\u001b[0m in \u001b[0;36m__getitem__\u001b[1;34m(self, key)\u001b[0m\n\u001b[0;32m    877\u001b[0m \u001b[1;33m\u001b[0m\u001b[0m\n\u001b[0;32m    878\u001b[0m             \u001b[0mmaybe_callable\u001b[0m \u001b[1;33m=\u001b[0m \u001b[0mcom\u001b[0m\u001b[1;33m.\u001b[0m\u001b[0mapply_if_callable\u001b[0m\u001b[1;33m(\u001b[0m\u001b[0mkey\u001b[0m\u001b[1;33m,\u001b[0m \u001b[0mself\u001b[0m\u001b[1;33m.\u001b[0m\u001b[0mobj\u001b[0m\u001b[1;33m)\u001b[0m\u001b[1;33m\u001b[0m\u001b[1;33m\u001b[0m\u001b[0m\n\u001b[1;32m--> 879\u001b[1;33m             \u001b[1;32mreturn\u001b[0m \u001b[0mself\u001b[0m\u001b[1;33m.\u001b[0m\u001b[0m_getitem_axis\u001b[0m\u001b[1;33m(\u001b[0m\u001b[0mmaybe_callable\u001b[0m\u001b[1;33m,\u001b[0m \u001b[0maxis\u001b[0m\u001b[1;33m=\u001b[0m\u001b[0maxis\u001b[0m\u001b[1;33m)\u001b[0m\u001b[1;33m\u001b[0m\u001b[1;33m\u001b[0m\u001b[0m\n\u001b[0m\u001b[0;32m    880\u001b[0m \u001b[1;33m\u001b[0m\u001b[0m\n\u001b[0;32m    881\u001b[0m     \u001b[1;32mdef\u001b[0m \u001b[0m_is_scalar_access\u001b[0m\u001b[1;33m(\u001b[0m\u001b[0mself\u001b[0m\u001b[1;33m,\u001b[0m \u001b[0mkey\u001b[0m\u001b[1;33m:\u001b[0m \u001b[0mTuple\u001b[0m\u001b[1;33m)\u001b[0m\u001b[1;33m:\u001b[0m\u001b[1;33m\u001b[0m\u001b[1;33m\u001b[0m\u001b[0m\n",
      "\u001b[1;32m~\\anaconda3\\envs\\jads\\lib\\site-packages\\pandas\\core\\indexing.py\u001b[0m in \u001b[0;36m_getitem_axis\u001b[1;34m(self, key, axis)\u001b[0m\n\u001b[0;32m   1097\u001b[0m                     \u001b[1;32mraise\u001b[0m \u001b[0mValueError\u001b[0m\u001b[1;33m(\u001b[0m\u001b[1;34m\"Cannot index with multidimensional key\"\u001b[0m\u001b[1;33m)\u001b[0m\u001b[1;33m\u001b[0m\u001b[1;33m\u001b[0m\u001b[0m\n\u001b[0;32m   1098\u001b[0m \u001b[1;33m\u001b[0m\u001b[0m\n\u001b[1;32m-> 1099\u001b[1;33m                 \u001b[1;32mreturn\u001b[0m \u001b[0mself\u001b[0m\u001b[1;33m.\u001b[0m\u001b[0m_getitem_iterable\u001b[0m\u001b[1;33m(\u001b[0m\u001b[0mkey\u001b[0m\u001b[1;33m,\u001b[0m \u001b[0maxis\u001b[0m\u001b[1;33m=\u001b[0m\u001b[0maxis\u001b[0m\u001b[1;33m)\u001b[0m\u001b[1;33m\u001b[0m\u001b[1;33m\u001b[0m\u001b[0m\n\u001b[0m\u001b[0;32m   1100\u001b[0m \u001b[1;33m\u001b[0m\u001b[0m\n\u001b[0;32m   1101\u001b[0m             \u001b[1;31m# nested tuple slicing\u001b[0m\u001b[1;33m\u001b[0m\u001b[1;33m\u001b[0m\u001b[1;33m\u001b[0m\u001b[0m\n",
      "\u001b[1;32m~\\anaconda3\\envs\\jads\\lib\\site-packages\\pandas\\core\\indexing.py\u001b[0m in \u001b[0;36m_getitem_iterable\u001b[1;34m(self, key, axis)\u001b[0m\n\u001b[0;32m   1035\u001b[0m \u001b[1;33m\u001b[0m\u001b[0m\n\u001b[0;32m   1036\u001b[0m         \u001b[1;31m# A collection of keys\u001b[0m\u001b[1;33m\u001b[0m\u001b[1;33m\u001b[0m\u001b[1;33m\u001b[0m\u001b[0m\n\u001b[1;32m-> 1037\u001b[1;33m         \u001b[0mkeyarr\u001b[0m\u001b[1;33m,\u001b[0m \u001b[0mindexer\u001b[0m \u001b[1;33m=\u001b[0m \u001b[0mself\u001b[0m\u001b[1;33m.\u001b[0m\u001b[0m_get_listlike_indexer\u001b[0m\u001b[1;33m(\u001b[0m\u001b[0mkey\u001b[0m\u001b[1;33m,\u001b[0m \u001b[0maxis\u001b[0m\u001b[1;33m,\u001b[0m \u001b[0mraise_missing\u001b[0m\u001b[1;33m=\u001b[0m\u001b[1;32mFalse\u001b[0m\u001b[1;33m)\u001b[0m\u001b[1;33m\u001b[0m\u001b[1;33m\u001b[0m\u001b[0m\n\u001b[0m\u001b[0;32m   1038\u001b[0m         return self.obj._reindex_with_indexers(\n\u001b[0;32m   1039\u001b[0m             \u001b[1;33m{\u001b[0m\u001b[0maxis\u001b[0m\u001b[1;33m:\u001b[0m \u001b[1;33m[\u001b[0m\u001b[0mkeyarr\u001b[0m\u001b[1;33m,\u001b[0m \u001b[0mindexer\u001b[0m\u001b[1;33m]\u001b[0m\u001b[1;33m}\u001b[0m\u001b[1;33m,\u001b[0m \u001b[0mcopy\u001b[0m\u001b[1;33m=\u001b[0m\u001b[1;32mTrue\u001b[0m\u001b[1;33m,\u001b[0m \u001b[0mallow_dups\u001b[0m\u001b[1;33m=\u001b[0m\u001b[1;32mTrue\u001b[0m\u001b[1;33m\u001b[0m\u001b[1;33m\u001b[0m\u001b[0m\n",
      "\u001b[1;32m~\\anaconda3\\envs\\jads\\lib\\site-packages\\pandas\\core\\indexing.py\u001b[0m in \u001b[0;36m_get_listlike_indexer\u001b[1;34m(self, key, axis, raise_missing)\u001b[0m\n\u001b[0;32m   1252\u001b[0m             \u001b[0mkeyarr\u001b[0m\u001b[1;33m,\u001b[0m \u001b[0mindexer\u001b[0m\u001b[1;33m,\u001b[0m \u001b[0mnew_indexer\u001b[0m \u001b[1;33m=\u001b[0m \u001b[0max\u001b[0m\u001b[1;33m.\u001b[0m\u001b[0m_reindex_non_unique\u001b[0m\u001b[1;33m(\u001b[0m\u001b[0mkeyarr\u001b[0m\u001b[1;33m)\u001b[0m\u001b[1;33m\u001b[0m\u001b[1;33m\u001b[0m\u001b[0m\n\u001b[0;32m   1253\u001b[0m \u001b[1;33m\u001b[0m\u001b[0m\n\u001b[1;32m-> 1254\u001b[1;33m         \u001b[0mself\u001b[0m\u001b[1;33m.\u001b[0m\u001b[0m_validate_read_indexer\u001b[0m\u001b[1;33m(\u001b[0m\u001b[0mkeyarr\u001b[0m\u001b[1;33m,\u001b[0m \u001b[0mindexer\u001b[0m\u001b[1;33m,\u001b[0m \u001b[0maxis\u001b[0m\u001b[1;33m,\u001b[0m \u001b[0mraise_missing\u001b[0m\u001b[1;33m=\u001b[0m\u001b[0mraise_missing\u001b[0m\u001b[1;33m)\u001b[0m\u001b[1;33m\u001b[0m\u001b[1;33m\u001b[0m\u001b[0m\n\u001b[0m\u001b[0;32m   1255\u001b[0m         \u001b[1;32mreturn\u001b[0m \u001b[0mkeyarr\u001b[0m\u001b[1;33m,\u001b[0m \u001b[0mindexer\u001b[0m\u001b[1;33m\u001b[0m\u001b[1;33m\u001b[0m\u001b[0m\n\u001b[0;32m   1256\u001b[0m \u001b[1;33m\u001b[0m\u001b[0m\n",
      "\u001b[1;32m~\\anaconda3\\envs\\jads\\lib\\site-packages\\pandas\\core\\indexing.py\u001b[0m in \u001b[0;36m_validate_read_indexer\u001b[1;34m(self, key, indexer, axis, raise_missing)\u001b[0m\n\u001b[0;32m   1313\u001b[0m \u001b[1;33m\u001b[0m\u001b[0m\n\u001b[0;32m   1314\u001b[0m                 \u001b[1;32mwith\u001b[0m \u001b[0moption_context\u001b[0m\u001b[1;33m(\u001b[0m\u001b[1;34m\"display.max_seq_items\"\u001b[0m\u001b[1;33m,\u001b[0m \u001b[1;36m10\u001b[0m\u001b[1;33m,\u001b[0m \u001b[1;34m\"display.width\"\u001b[0m\u001b[1;33m,\u001b[0m \u001b[1;36m80\u001b[0m\u001b[1;33m)\u001b[0m\u001b[1;33m:\u001b[0m\u001b[1;33m\u001b[0m\u001b[1;33m\u001b[0m\u001b[0m\n\u001b[1;32m-> 1315\u001b[1;33m                     raise KeyError(\n\u001b[0m\u001b[0;32m   1316\u001b[0m                         \u001b[1;34m\"Passing list-likes to .loc or [] with any missing labels \"\u001b[0m\u001b[1;33m\u001b[0m\u001b[1;33m\u001b[0m\u001b[0m\n\u001b[0;32m   1317\u001b[0m                         \u001b[1;34m\"is no longer supported. \"\u001b[0m\u001b[1;33m\u001b[0m\u001b[1;33m\u001b[0m\u001b[0m\n",
      "\u001b[1;31mKeyError\u001b[0m: \"Passing list-likes to .loc or [] with any missing labels is no longer supported. The following labels were missing: Int64Index([133057, 266048,  78448, 245138, 227728,\\n            ...\\n            128612, 299287, 235596, 322108, 295284],\\n           dtype='int64', length=74243). See https://pandas.pydata.org/pandas-docs/stable/user_guide/indexing.html#deprecate-loc-reindex-listlike\""
     ]
    }
   ],
   "source": [
    "# Optie 1: Split train and test set -> Stratified ERROR\n",
    "from sklearn.model_selection import StratifiedShuffleSplit\n",
    "\n",
    "split = StratifiedShuffleSplit(n_splits=1, test_size=0.2, random_state=SEED)\n",
    "\n",
    "y = df_knee_seen[\"Y\"]\n",
    "x = df_knee_seen[df_knee_seen.columns.difference([\"Y\"])]\n",
    "\n",
    "for train_index, test_index in split.split(x, y):\n",
    "    Knee_train = df_knee_seen.loc[train_index]\n",
    "    Knee_test = df_knee_seen.loc[test_index]\n",
    "    \n",
    "print(\"The distribution of Outcome in the training set is: \\n\", Knee_train[\"Y\"].value_counts(normalize=True))\n",
    "print(\"The distribution of Outcome in the test set is: \\n\", Knee_test[\"Y\"].value_counts(normalize=True))   "
   ]
  },
  {
   "cell_type": "code",
   "execution_count": 9,
   "metadata": {},
   "outputs": [
    {
     "name": "stdout",
     "output_type": "stream",
     "text": [
      "The distribution of Outcome in the training set is: \n",
      " 0    0.861724\n",
      "1    0.138276\n",
      "Name: Y, dtype: float64\n",
      "The distribution of Outcome in the test set is: \n",
      " 0    0.861722\n",
      "1    0.138278\n",
      "Name: Y, dtype: float64\n"
     ]
    }
   ],
   "source": [
    "# Optie 2: Split train and test set -> Train_test_split\n",
    "y = df_knee_seen[\"Y\"]\n",
    "x = df_knee_seen[df_knee_seen.columns.difference([\"Y\"])]\n",
    "\n",
    "x_knee_train, x_knee_test, y_knee_train, y_knee_test = train_test_split(x, y, train_size = 0.70, stratify = y)\n",
    "\n",
    "print(\"The distribution of Outcome in the training set is: \\n\", y_knee_train.value_counts(normalize=True))\n",
    "print(\"The distribution of Outcome in the test set is: \\n\", y_knee_test.value_counts(normalize=True))   "
   ]
  },
  {
   "cell_type": "code",
   "execution_count": 10,
   "metadata": {},
   "outputs": [],
   "source": [
    "# Drop all t1 features\n",
    "x_knee_train = x_knee_train.filter(regex = \"t0_\")\n",
    "x_knee_test = x_knee_test.filter(regex = \"t0_\")"
   ]
  },
  {
   "cell_type": "code",
   "execution_count": 11,
   "metadata": {},
   "outputs": [],
   "source": [
    "# Drop t0 features not interesting for model\n",
    "x_knee_train = x_knee_train.drop(columns= [\"t0_eqvas_score\",\"t0_provider_code\",\"t0_assisted_by\",\"t0_year\",\"t0_eq5d_profile\",\"t0_procedure\",\"t0_year\"])\n",
    "x_knee_test = x_knee_test.drop(columns= [\"t0_eqvas_score\",\"t0_provider_code\",\"t0_assisted_by\",\"t0_year\",\"t0_eq5d_profile\",\"t0_procedure\",\"t0_year\"])"
   ]
  },
  {
   "cell_type": "code",
   "execution_count": 12,
   "metadata": {},
   "outputs": [
    {
     "data": {
      "text/plain": [
       "t0_liver_disease          0.000000\n",
       "t0_arthritis              0.000000\n",
       "t0_cancer                 0.000000\n",
       "t0_circulation            0.000000\n",
       "t0_depression             0.000000\n",
       "t0_diabetes               0.000000\n",
       "t0_nervous_system         0.000000\n",
       "t0_lung_disease           0.000000\n",
       "t0_stroke                 0.000000\n",
       "t0_kidney_disease         0.000000\n",
       "t0_high_bp                0.000000\n",
       "t0_heart_disease          0.000000\n",
       "t0_oks_washing            0.086217\n",
       "t0_oks_pain               0.137136\n",
       "t0_previous_surgery       0.734097\n",
       "t0_symptom_period         0.841557\n",
       "t0_oks_night_pain         0.945268\n",
       "t0_oks_confidence         0.965572\n",
       "t0_oks_stairs             0.973070\n",
       "t0_oks_shopping           0.973694\n",
       "t0_oks_work               0.979317\n",
       "t0_oks_transport          0.984940\n",
       "t0_oks_kneeling           1.018677\n",
       "t0_oks_limping            1.021489\n",
       "t0_oks_walking            1.047104\n",
       "t0_oks_standing           1.047729\n",
       "t0_assisted               1.118327\n",
       "t0_oks_score              1.197360\n",
       "t0_living_arrangements    1.481627\n",
       "t0_eq5d_mobility          3.136314\n",
       "t0_eq5d_self_care         3.215659\n",
       "t0_eq5d_activity          3.284383\n",
       "t0_eq5d_anxiety           3.746708\n",
       "t0_eq5d_discomfort        4.025978\n",
       "t0_disability             4.174671\n",
       "t0_eq5d_score             5.356412\n",
       "t0_gender                 7.776747\n",
       "t0_age_band               7.776747\n",
       "dtype: float64"
      ]
     },
     "execution_count": 12,
     "metadata": {},
     "output_type": "execute_result"
    }
   ],
   "source": [
    "# Check percentage missing\n",
    "x_knee_train.isna().sum().sort_values()/len(x_knee_train)*100"
   ]
  },
  {
   "cell_type": "code",
   "execution_count": 13,
   "metadata": {},
   "outputs": [],
   "source": [
    "# Replace NaN for t0_gender and t0_age_band\n",
    "x_knee_train[\"t0_gender\"] = x_knee_train[\"t0_gender\"].fillna(0)\n",
    "x_knee_train[\"t0_age_band\"] = x_knee_train[\"t0_age_band\"].astype(str).replace(\"nan\", \"Unknown\")\n",
    "\n",
    "x_knee_test[\"t0_gender\"] = x_knee_test[\"t0_gender\"].fillna(0)\n",
    "x_knee_test[\"t0_age_band\"] = x_knee_test[\"t0_age_band\"].astype(str).replace(\"nan\", \"Unknown\")"
   ]
  },
  {
   "cell_type": "code",
   "execution_count": 20,
   "metadata": {
    "scrolled": true
   },
   "outputs": [
    {
     "data": {
      "text/plain": [
       "70 to 79     46751\n",
       "60 to 69     39987\n",
       "80 to 89     12638\n",
       "50 to 59     11446\n",
       "Unknown       9662\n",
       "40 to 49       181\n",
       "90 to 120       23\n",
       "Name: t0_age_band, dtype: int64"
      ]
     },
     "execution_count": 20,
     "metadata": {},
     "output_type": "execute_result"
    }
   ],
   "source": [
    "x_knee_test[\"t0_age_band\"].value_counts()"
   ]
  },
  {
   "cell_type": "code",
   "execution_count": 15,
   "metadata": {},
   "outputs": [
    {
     "data": {
      "text/plain": [
       "0"
      ]
     },
     "execution_count": 15,
     "metadata": {},
     "output_type": "execute_result"
    }
   ],
   "source": [
    "x_knee_train[\"t0_age_band\"].isna().sum()"
   ]
  },
  {
   "cell_type": "code",
   "execution_count": 16,
   "metadata": {},
   "outputs": [],
   "source": [
    "# Remove all NaNs\n",
    "x_knee_train = x_knee_train.dropna()\n",
    "x_knee_test = x_knee_test.dropna()"
   ]
  },
  {
   "cell_type": "code",
   "execution_count": 17,
   "metadata": {},
   "outputs": [],
   "source": [
    "# Loop for OneHotEncoding TRAIN\n",
    "from sklearn.preprocessing import OneHotEncoder\n",
    "\n",
    "x_knee_train_ohe = pd.DataFrame()\n",
    "\n",
    "for Hot in x_knee_train.columns:\n",
    "    mapping = df_knee_meta.loc[Hot, \"labels\"]\n",
    "    OH1 = OneHotEncoder(sparse=False)\n",
    "    if isinstance(mapping, list):\n",
    "        data = OH1.fit_transform(x_knee_train[Hot].map(mapping[0]).to_frame())\n",
    "        columns = OH1.categories_\n",
    "        df = pd.DataFrame(data = data, columns = columns, index = x_knee_train.index).add_prefix(Hot + \"_\")\n",
    "        x_knee_train_ohe = pd.concat([x_knee_train_ohe, df], axis = 1)"
   ]
  },
  {
   "cell_type": "code",
   "execution_count": 18,
   "metadata": {},
   "outputs": [],
   "source": [
    "y_knee_train_ohe = y_knee_train.loc[x_knee_train_ohe.index]"
   ]
  },
  {
   "cell_type": "code",
   "execution_count": 29,
   "metadata": {},
   "outputs": [],
   "source": [
    "from sklearn.naive_bayes import GaussianNB\n",
    "\n",
    "clf = GaussianNB()\n",
    "clf.fit(x_knee_train_ohe.iloc[:250_000,:], y_knee_train_ohe.iloc[:250_000])\n",
    "y_predict = clf.predict(x_knee_train_ohe.iloc[250_000:,:])\n"
   ]
  },
  {
   "cell_type": "code",
   "execution_count": 21,
   "metadata": {},
   "outputs": [
    {
     "name": "stdout",
     "output_type": "stream",
     "text": [
      "<class 'pandas.core.frame.DataFrame'>\n",
      "Int64Index: 281640 entries, 69850 to 445962\n",
      "Columns: 123 entries, ('t0_age_band_40 to 49',) to ('t0_symptom_period_more than 10 years',)\n",
      "dtypes: float64(123)\n",
      "memory usage: 266.4 MB\n"
     ]
    }
   ],
   "source": [
    "x_knee_train_ohe.info()"
   ]
  },
  {
   "cell_type": "code",
   "execution_count": 32,
   "metadata": {},
   "outputs": [
    {
     "name": "stdout",
     "output_type": "stream",
     "text": [
      "              precision    recall  f1-score   support\n",
      "\n",
      "           0       0.87      0.82      0.85     27310\n",
      "           1       0.18      0.25      0.21      4330\n",
      "\n",
      "    accuracy                           0.74     31640\n",
      "   macro avg       0.53      0.54      0.53     31640\n",
      "weighted avg       0.78      0.74      0.76     31640\n",
      "\n"
     ]
    }
   ],
   "source": [
    "from sklearn.metrics import classification_report\n",
    "\n",
    "print(classification_report(y_knee_train_ohe.iloc[250_000:], y_predict))"
   ]
  },
  {
   "cell_type": "code",
   "execution_count": null,
   "metadata": {},
   "outputs": [],
   "source": []
  }
 ],
 "metadata": {
  "kernelspec": {
   "display_name": "Python [conda env:jads]",
   "language": "python",
   "name": "conda-env-jads-py"
  },
  "language_info": {
   "codemirror_mode": {
    "name": "ipython",
    "version": 3
   },
   "file_extension": ".py",
   "mimetype": "text/x-python",
   "name": "python",
   "nbconvert_exporter": "python",
   "pygments_lexer": "ipython3",
   "version": "3.8.8"
  }
 },
 "nbformat": 4,
 "nbformat_minor": 4
}
