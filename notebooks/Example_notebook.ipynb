{
 "cells": [
  {
   "cell_type": "markdown",
   "metadata": {},
   "source": [
    "# Get started with your EDA"
   ]
  },
  {
   "cell_type": "markdown",
   "metadata": {},
   "source": [
    "## imports"
   ]
  },
  {
   "cell_type": "code",
   "execution_count": null,
   "metadata": {},
   "outputs": [],
   "source": [
    "import pandas as pd\n",
    "from os import path\n",
    "import warnings\n",
    "\n",
    "from utils.load_data import read_online_proms_data, downcast, structure_name, get_meta, clean_data\n",
    "from utils.data_dictionary import methods"
   ]
  },
  {
   "cell_type": "code",
   "execution_count": null,
   "metadata": {},
   "outputs": [],
   "source": [
    "# from https://digital.nhs.uk/data-and-information/data-tools-and-services/data-services/patient-reported-outcome-measures-proms\n",
    "URL_PROMS_DATA = [\n",
    "    r\"https://files.digital.nhs.uk/6C/A1D581/CSV%20Data%20Pack%202016-17%20Finalised.zip\",\n",
    "    r\"https://files.digital.nhs.uk/70/5176AA/CSV%20Data%20Pack%20Final%201718.zip\",\n",
    "    r\"https://files.digital.nhs.uk/52/A8FF7F/PROMs%20CSV%20Data%20Pack%20Finalised%202018-19.zip\",\n",
    "    r\"https://files.digital.nhs.uk/1F/51FEDE/PROMs%20CSV%20Data%20Pack%20Provisional%201920.zip\",\n",
    "]\n",
    "\n",
    "DATA_PATH = \"../data\"\n",
    "\n",
    "PART = \"knee\"\n",
    "ORG = \"provider\""
   ]
  },
  {
   "cell_type": "markdown",
   "metadata": {},
   "source": [
    "## load data"
   ]
  },
  {
   "cell_type": "code",
   "execution_count": null,
   "metadata": {},
   "outputs": [],
   "source": [
    "%%time\n",
    "\n",
    "# define path location\n",
    "file_name = f\"{PART}-{ORG}.parquet\"\n",
    "full_path = path.join(DATA_PATH, file_name)\n",
    "\n",
    "# load from disk if present,\n",
    "# otherwise get it directly from NHS-source + rename columns + save to parquet\n",
    "if path.isfile(full_path):\n",
    "    df_raw = pd.read_parquet(full_path)\n",
    "else:\n",
    "    df_raw = read_online_proms_data(urls=URL_PROMS_DATA, part=PART, org=ORG).apply(downcast)\n",
    "    df_raw.columns = (\n",
    "        df_raw.columns.str.replace(\"Pre-Op Q\", \"t0\")\n",
    "        .str.replace(\"Post-Op Q\", \"t1\")\n",
    "        .str.replace(\"Knee Replacement\", \"oks\")\n",
    "        .str.replace(\"Hip Replacement\", \"ohs\")\n",
    "        .str.replace(\"-\", \"_\")\n",
    "        .str.replace(\" \", \"_\")\n",
    "        .str.lower()\n",
    "    )\n",
    "    df_raw.to_parquet(full_path)\n",
    "\n",
    "# display basic info df_raw    \n",
    "df_raw.info(verbose=False)"
   ]
  },
  {
   "cell_type": "markdown",
   "metadata": {},
   "source": [
    "## basic cleaning"
   ]
  },
  {
   "cell_type": "code",
   "execution_count": null,
   "metadata": {},
   "outputs": [],
   "source": [
    "%%time\n",
    "# restructure names\n",
    "df_raw.columns = [structure_name(col) for col in df_raw.columns]\n",
    "\n",
    "# construct a meta data df\n",
    "df_meta = get_meta(df_raw.columns)  \n",
    "\n",
    "# clean the data based on meta (all not in range, labels or label \"missing\")\n",
    "df_clean = clean_data(df_raw, df_meta).apply(downcast)\n",
    "\n",
    "# raise warning if somewhere there is a hidden 9 as max\n",
    "if (df_clean.describe(include=\"all\").loc[\"max\"]==9).any():\n",
    "    to_check = list(df_clean.loc[:, df_clean.describe(include=\"all\").loc[\"max\"]==9].columns)\n",
    "    warning.warn(\"Please check the folowing columns for meta data:\")\n",
    "    display(to_check)\n",
    "    \n",
    "df_clean.sample(3)"
   ]
  },
  {
   "cell_type": "markdown",
   "metadata": {},
   "source": [
    "### drop revisions and last year of data"
   ]
  },
  {
   "cell_type": "code",
   "execution_count": null,
   "metadata": {},
   "outputs": [],
   "source": [
    "df_eda = df_clean.query(\"t0_revision_flag == 0 & t0_year != '2019/20'\")\\\n",
    "                 .drop(columns=\"t0_revision_flag\")\n",
    "df_eda[\"t0_year\"].unique()"
   ]
  },
  {
   "cell_type": "markdown",
   "metadata": {},
   "source": [
    "## simple descriptives"
   ]
  },
  {
   "cell_type": "code",
   "execution_count": null,
   "metadata": {},
   "outputs": [],
   "source": [
    "df_eda.describe(include=\"all\")"
   ]
  },
  {
   "cell_type": "code",
   "execution_count": null,
   "metadata": {},
   "outputs": [],
   "source": [
    "df_eda.info(verbose=False)"
   ]
  },
  {
   "cell_type": "code",
   "execution_count": null,
   "metadata": {},
   "outputs": [],
   "source": [
    "# It's up to you now!"
   ]
  }
 ],
 "metadata": {
  "hide_input": false,
  "kernelspec": {
   "display_name": "jads",
   "language": "python",
   "name": "jads"
  },
  "language_info": {
   "codemirror_mode": {
    "name": "ipython",
    "version": 3
   },
   "file_extension": ".py",
   "mimetype": "text/x-python",
   "name": "python",
   "nbconvert_exporter": "python",
   "pygments_lexer": "ipython3",
   "version": "3.8.6"
  },
  "toc": {
   "base_numbering": 1,
   "nav_menu": {},
   "number_sections": true,
   "sideBar": true,
   "skip_h1_title": false,
   "title_cell": "Table of Contents",
   "title_sidebar": "Contents",
   "toc_cell": false,
   "toc_position": {},
   "toc_section_display": true,
   "toc_window_display": false
  }
 },
 "nbformat": 4,
 "nbformat_minor": 4
}
